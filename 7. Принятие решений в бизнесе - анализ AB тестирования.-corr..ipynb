{
 "cells": [
  {
   "cell_type": "markdown",
   "metadata": {
    "jp-MarkdownHeadingCollapsed": true
   },
   "source": [
    "### Проектная работа по теме: Принятие решений в бизнесе.\n",
    "\n",
    "#### О проекте:\n",
    "\n",
    "##### Часть 1. Приоритизация гипотез.\n",
    "9 гипотез по увеличению выручки интернет-магазина с указанными параметрами Reach, Impact, Confidence, Effort. \n",
    "Задача:\n",
    "\n",
    "Примените фреймворк ICE для приоритизации гипотез. Отсортируйте их по убыванию приориета.\n",
    "Примените фреймворк RICE для приоритизации гипотез. Отсортируйте их по убыванию приортета.\n",
    "Укажите, как изменилась приоритезация гипотез при применении RICE вместо ICE. Объясните, почему так произошло.\n",
    "\n",
    "##### Часть 2. A/B Анализ.\n",
    "\n",
    "Результаты теста описаны в файлах /datasets/orders.csv и /datasets/visitors.cтирование, проанализировать полученные \n",
    "Проанализируйте A/B-тест:\n",
    "1.\tПостройте график кумулятивной выручки по группам. Сделайте выводы и предположения.\n",
    "2.\tПостройте график кумулятивного среднего чека по группам. Сделайте выводы и предположения.\n",
    "3.\tПостройте график относительного изменения кумулятивного среднего чека группы B к группе A. Сделайте выводы и предположения.\n",
    "4.\tПостройте график кумулятивного среднего количества заказов на посетителя по группам. Сделайте выводы и предположения\n",
    "5.\tПостройте график относительного изменения кумулятивного среднего количества заказов на посетителя группы B к группе A. Сделайте выводы и предположения.\n",
    "6.\tПостройте точечный график количества заказов по пользователям. Сделайте выводы и предположения.\n",
    "7.\tПосчитайте 95-й и 99-й перцентили количества заказов на пользователя. Выберите границу для определения аномальных пользователей.\n",
    "8.\tПостройте точечный график стоимостей заказов. Сделайте выводы и предположения.\n",
    "9.\tПосчитайте 95-й и 99-й перцентили стоимости заказов. Выберите границу для определения аномальных заказов.\n",
    "10.\tПосчитайте статистическую значимость различий в среднем количестве заказов на посетителя между группами по «сырым» данным. Сделайте выводы и предположения.\n",
    "11.\tПосчитайте статистическую значимость различий в среднем чеке заказа между группами по «сырым» данным. Сделайте выводы и предположения.\n",
    "12.\tПосчитайте статистическую значимость различий в среднем количестве заказов на посетителя между группами по «очищенным» данным. Сделайте выводы и предположения.\n",
    "13.\tПосчитайте статистическую значимость различий в среднем чеке заказа между группами по «очищенным» данным. Сделайте выводы и предположения.\n",
    "14.\tПримите решение по результатам теста \n",
    "  \n",
    "Описание данных: файл hypothesis.csv, visitors.csv, orders.csv\n",
    "\n",
    "Данные для первой части\n",
    "\n",
    "Файл hypothesis.csv\n",
    "Hypothesis — краткое описание гипотезы;\\\n",
    "Reach — охват пользователей по 10-балльной шкале;\\\n",
    "Impact — влияние на пользователей по 10-балльной шкале;\\\n",
    "Confidence — уверенность в гипотезе по 10-балльной шкале;\\\n",
    "Efforts — затраты ресурсов на проверку гипотезы по 10-балльной шкале. Чем больше значение Efforts, тем дороже проверка гипотезы.\n",
    "\n",
    "Данные для второй части:\n",
    "\n",
    "Файл /datasets/orders.csv\n",
    "transactionId — идентификатор заказа;\\\n",
    "visitorId — идентификатор пользователя, совершившего заказ;\\\n",
    "date — дата, когда был совершён заказ;\\\n",
    "revenue — выручка заказа;\\\n",
    "group — группа A/B-теста, в которую попал заказ.\n",
    "\n",
    "Файл /datasets/visitors.csv\n",
    "date — дата;\\\n",
    "group — группа A/B-теста;\\\n",
    "visitors — количество пользователей в указанную дату в указанной группе A/B-тестаA/B-теста группе A/B-тестаypothesis.csv,\\\n",
    "visitors.csv, orders.csv"
   ]
  },
  {
   "cell_type": "markdown",
   "metadata": {
    "id": "r-BO88CnWVwe"
   },
   "source": [
    "### Загрузка данных и подготовка их к анализу"
   ]
  },
  {
   "cell_type": "markdown",
   "metadata": {
    "id": "LCZi0P80WVwj"
   },
   "source": [
    "**Пути к файлам:**\n",
    "- гипотезы: /datasets/hypothesis.csv\n",
    "- заказы: /datasets/orders.csv\n",
    "- визиты: /datasets/visits.csv;"
   ]
  },
  {
   "cell_type": "code",
   "execution_count": 4,
   "metadata": {
    "id": "_vsKinGUWVwk"
   },
   "outputs": [],
   "source": [
    "import pandas as pd\n",
    "from datetime import datetime, timedelta\n",
    "from matplotlib import pyplot as plt\n",
    "from scipy import stats as st\n",
    "import numpy as np\n",
    "import math as mth\n",
    "import datetime as dt\n",
    "pd.set_option('display.max_colwidth', 0)"
   ]
  },
  {
   "cell_type": "code",
   "execution_count": 5,
   "metadata": {},
   "outputs": [],
   "source": [
    "#Импортирую данные и вывожу информацию о данных:\n",
    "\n",
    "try:\n",
    "    hypothesis = pd.read_csv(\"C:\\\\Users\\Ahsas\\\\Desktop\\\\task7\\\\hypothesis.csv\")\n",
    "    visitors = pd.read_csv(\"C:\\\\Users\\Ahsas\\\\Desktop\\\\task7\\\\visitors.csv\")\n",
    "    orders = pd.read_csv(\"C:\\\\Users\\Ahsas\\\\Desktop\\\\task7\\\\orders.csv\")\n",
    "    \n",
    "except:\n",
    "    hypothesis = pd.read_csv('/datasets/hypothesis.csv')\n",
    "    visitors = pd.read_csv('/datasets/visitors.csv')\n",
    "    orders = pd.read_csv('/datasets/orders.csv')  "
   ]
  },
  {
   "cell_type": "code",
   "execution_count": 6,
   "metadata": {},
   "outputs": [
    {
     "name": "stdout",
     "output_type": "stream",
     "text": [
      "<class 'pandas.core.frame.DataFrame'>\n",
      "RangeIndex: 9 entries, 0 to 8\n",
      "Data columns (total 5 columns):\n",
      " #   Column      Non-Null Count  Dtype \n",
      "---  ------      --------------  ----- \n",
      " 0   Hypothesis  9 non-null      object\n",
      " 1   Reach       9 non-null      int64 \n",
      " 2   Impact      9 non-null      int64 \n",
      " 3   Confidence  9 non-null      int64 \n",
      " 4   Efforts     9 non-null      int64 \n",
      "dtypes: int64(4), object(1)\n",
      "memory usage: 492.0+ bytes\n"
     ]
    },
    {
     "data": {
      "text/html": [
       "<div>\n",
       "<style scoped>\n",
       "    .dataframe tbody tr th:only-of-type {\n",
       "        vertical-align: middle;\n",
       "    }\n",
       "\n",
       "    .dataframe tbody tr th {\n",
       "        vertical-align: top;\n",
       "    }\n",
       "\n",
       "    .dataframe thead th {\n",
       "        text-align: right;\n",
       "    }\n",
       "</style>\n",
       "<table border=\"1\" class=\"dataframe\">\n",
       "  <thead>\n",
       "    <tr style=\"text-align: right;\">\n",
       "      <th></th>\n",
       "      <th>Hypothesis</th>\n",
       "      <th>Reach</th>\n",
       "      <th>Impact</th>\n",
       "      <th>Confidence</th>\n",
       "      <th>Efforts</th>\n",
       "    </tr>\n",
       "  </thead>\n",
       "  <tbody>\n",
       "    <tr>\n",
       "      <th>0</th>\n",
       "      <td>Добавить два новых канала привлечения трафика, что позволит привлекать на 30% больше пользователей</td>\n",
       "      <td>3</td>\n",
       "      <td>10</td>\n",
       "      <td>8</td>\n",
       "      <td>6</td>\n",
       "    </tr>\n",
       "    <tr>\n",
       "      <th>1</th>\n",
       "      <td>Запустить собственную службу доставки, что сократит срок доставки заказов</td>\n",
       "      <td>2</td>\n",
       "      <td>5</td>\n",
       "      <td>4</td>\n",
       "      <td>10</td>\n",
       "    </tr>\n",
       "    <tr>\n",
       "      <th>2</th>\n",
       "      <td>Добавить блоки рекомендаций товаров на сайт интернет магазина, чтобы повысить конверсию и средний чек заказа</td>\n",
       "      <td>8</td>\n",
       "      <td>3</td>\n",
       "      <td>7</td>\n",
       "      <td>3</td>\n",
       "    </tr>\n",
       "    <tr>\n",
       "      <th>3</th>\n",
       "      <td>Изменить структура категорий, что увеличит конверсию, т.к. пользователи быстрее найдут нужный товар</td>\n",
       "      <td>8</td>\n",
       "      <td>3</td>\n",
       "      <td>3</td>\n",
       "      <td>8</td>\n",
       "    </tr>\n",
       "    <tr>\n",
       "      <th>4</th>\n",
       "      <td>Изменить цвет фона главной страницы, чтобы увеличить вовлеченность пользователей</td>\n",
       "      <td>3</td>\n",
       "      <td>1</td>\n",
       "      <td>1</td>\n",
       "      <td>1</td>\n",
       "    </tr>\n",
       "  </tbody>\n",
       "</table>\n",
       "</div>"
      ],
      "text/plain": [
       "                                                                                                     Hypothesis  \\\n",
       "0  Добавить два новых канала привлечения трафика, что позволит привлекать на 30% больше пользователей             \n",
       "1  Запустить собственную службу доставки, что сократит срок доставки заказов                                      \n",
       "2  Добавить блоки рекомендаций товаров на сайт интернет магазина, чтобы повысить конверсию и средний чек заказа   \n",
       "3  Изменить структура категорий, что увеличит конверсию, т.к. пользователи быстрее найдут нужный товар            \n",
       "4  Изменить цвет фона главной страницы, чтобы увеличить вовлеченность пользователей                               \n",
       "\n",
       "   Reach  Impact  Confidence  Efforts  \n",
       "0  3      10      8           6        \n",
       "1  2      5       4           10       \n",
       "2  8      3       7           3        \n",
       "3  8      3       3           8        \n",
       "4  3      1       1           1        "
      ]
     },
     "execution_count": 6,
     "metadata": {},
     "output_type": "execute_result"
    }
   ],
   "source": [
    "# Гипотезы:\n",
    "hypothesis.info()\n",
    "hypothesis.head()"
   ]
  },
  {
   "cell_type": "code",
   "execution_count": 7,
   "metadata": {},
   "outputs": [
    {
     "name": "stdout",
     "output_type": "stream",
     "text": [
      "<class 'pandas.core.frame.DataFrame'>\n",
      "RangeIndex: 62 entries, 0 to 61\n",
      "Data columns (total 3 columns):\n",
      " #   Column    Non-Null Count  Dtype \n",
      "---  ------    --------------  ----- \n",
      " 0   date      62 non-null     object\n",
      " 1   group     62 non-null     object\n",
      " 2   visitors  62 non-null     int64 \n",
      "dtypes: int64(1), object(2)\n",
      "memory usage: 1.6+ KB\n",
      "\n",
      "Общее число посещений: 37652\n"
     ]
    },
    {
     "data": {
      "text/html": [
       "<div>\n",
       "<style scoped>\n",
       "    .dataframe tbody tr th:only-of-type {\n",
       "        vertical-align: middle;\n",
       "    }\n",
       "\n",
       "    .dataframe tbody tr th {\n",
       "        vertical-align: top;\n",
       "    }\n",
       "\n",
       "    .dataframe thead th {\n",
       "        text-align: right;\n",
       "    }\n",
       "</style>\n",
       "<table border=\"1\" class=\"dataframe\">\n",
       "  <thead>\n",
       "    <tr style=\"text-align: right;\">\n",
       "      <th></th>\n",
       "      <th>date</th>\n",
       "      <th>group</th>\n",
       "      <th>visitors</th>\n",
       "    </tr>\n",
       "  </thead>\n",
       "  <tbody>\n",
       "    <tr>\n",
       "      <th>0</th>\n",
       "      <td>2019-08-01</td>\n",
       "      <td>A</td>\n",
       "      <td>719</td>\n",
       "    </tr>\n",
       "    <tr>\n",
       "      <th>1</th>\n",
       "      <td>2019-08-02</td>\n",
       "      <td>A</td>\n",
       "      <td>619</td>\n",
       "    </tr>\n",
       "    <tr>\n",
       "      <th>2</th>\n",
       "      <td>2019-08-03</td>\n",
       "      <td>A</td>\n",
       "      <td>507</td>\n",
       "    </tr>\n",
       "    <tr>\n",
       "      <th>3</th>\n",
       "      <td>2019-08-04</td>\n",
       "      <td>A</td>\n",
       "      <td>717</td>\n",
       "    </tr>\n",
       "    <tr>\n",
       "      <th>4</th>\n",
       "      <td>2019-08-05</td>\n",
       "      <td>A</td>\n",
       "      <td>756</td>\n",
       "    </tr>\n",
       "  </tbody>\n",
       "</table>\n",
       "</div>"
      ],
      "text/plain": [
       "         date group  visitors\n",
       "0  2019-08-01  A     719     \n",
       "1  2019-08-02  A     619     \n",
       "2  2019-08-03  A     507     \n",
       "3  2019-08-04  A     717     \n",
       "4  2019-08-05  A     756     "
      ]
     },
     "execution_count": 7,
     "metadata": {},
     "output_type": "execute_result"
    }
   ],
   "source": [
    "# Посетители магазина:\n",
    "visitors.info()\n",
    "\n",
    "print()\n",
    "print('Общее число посещений:', visitors['visitors'].sum())\n",
    "visitors.head()"
   ]
  },
  {
   "cell_type": "code",
   "execution_count": 8,
   "metadata": {},
   "outputs": [
    {
     "name": "stdout",
     "output_type": "stream",
     "text": [
      "<class 'pandas.core.frame.DataFrame'>\n",
      "RangeIndex: 1197 entries, 0 to 1196\n",
      "Data columns (total 5 columns):\n",
      " #   Column         Non-Null Count  Dtype \n",
      "---  ------         --------------  ----- \n",
      " 0   transactionId  1197 non-null   int64 \n",
      " 1   visitorId      1197 non-null   int64 \n",
      " 2   date           1197 non-null   object\n",
      " 3   revenue        1197 non-null   int64 \n",
      " 4   group          1197 non-null   object\n",
      "dtypes: int64(3), object(2)\n",
      "memory usage: 46.9+ KB\n",
      "\n",
      "Общее число уникальных покупателей: 1031\n"
     ]
    },
    {
     "data": {
      "text/html": [
       "<div>\n",
       "<style scoped>\n",
       "    .dataframe tbody tr th:only-of-type {\n",
       "        vertical-align: middle;\n",
       "    }\n",
       "\n",
       "    .dataframe tbody tr th {\n",
       "        vertical-align: top;\n",
       "    }\n",
       "\n",
       "    .dataframe thead th {\n",
       "        text-align: right;\n",
       "    }\n",
       "</style>\n",
       "<table border=\"1\" class=\"dataframe\">\n",
       "  <thead>\n",
       "    <tr style=\"text-align: right;\">\n",
       "      <th></th>\n",
       "      <th>transactionId</th>\n",
       "      <th>visitorId</th>\n",
       "      <th>date</th>\n",
       "      <th>revenue</th>\n",
       "      <th>group</th>\n",
       "    </tr>\n",
       "  </thead>\n",
       "  <tbody>\n",
       "    <tr>\n",
       "      <th>0</th>\n",
       "      <td>3667963787</td>\n",
       "      <td>3312258926</td>\n",
       "      <td>2019-08-15</td>\n",
       "      <td>1650</td>\n",
       "      <td>B</td>\n",
       "    </tr>\n",
       "    <tr>\n",
       "      <th>1</th>\n",
       "      <td>2804400009</td>\n",
       "      <td>3642806036</td>\n",
       "      <td>2019-08-15</td>\n",
       "      <td>730</td>\n",
       "      <td>B</td>\n",
       "    </tr>\n",
       "    <tr>\n",
       "      <th>2</th>\n",
       "      <td>2961555356</td>\n",
       "      <td>4069496402</td>\n",
       "      <td>2019-08-15</td>\n",
       "      <td>400</td>\n",
       "      <td>A</td>\n",
       "    </tr>\n",
       "    <tr>\n",
       "      <th>3</th>\n",
       "      <td>3797467345</td>\n",
       "      <td>1196621759</td>\n",
       "      <td>2019-08-15</td>\n",
       "      <td>9759</td>\n",
       "      <td>B</td>\n",
       "    </tr>\n",
       "    <tr>\n",
       "      <th>4</th>\n",
       "      <td>2282983706</td>\n",
       "      <td>2322279887</td>\n",
       "      <td>2019-08-15</td>\n",
       "      <td>2308</td>\n",
       "      <td>B</td>\n",
       "    </tr>\n",
       "  </tbody>\n",
       "</table>\n",
       "</div>"
      ],
      "text/plain": [
       "   transactionId   visitorId        date  revenue group\n",
       "0  3667963787     3312258926  2019-08-15  1650     B   \n",
       "1  2804400009     3642806036  2019-08-15  730      B   \n",
       "2  2961555356     4069496402  2019-08-15  400      A   \n",
       "3  3797467345     1196621759  2019-08-15  9759     B   \n",
       "4  2282983706     2322279887  2019-08-15  2308     B   "
      ]
     },
     "execution_count": 8,
     "metadata": {},
     "output_type": "execute_result"
    }
   ],
   "source": [
    "# Заказы:\n",
    "orders.info()\n",
    "print()\n",
    "print('Общее число уникальных покупателей:', orders['visitorId'].nunique())\n",
    "orders.head()"
   ]
  },
  {
   "cell_type": "markdown",
   "metadata": {},
   "source": [
    "### Предобработка данных:"
   ]
  },
  {
   "cell_type": "markdown",
   "metadata": {},
   "source": [
    "Дубли и пустые ячейки:\n"
   ]
  },
  {
   "cell_type": "code",
   "execution_count": 9,
   "metadata": {},
   "outputs": [
    {
     "name": "stdout",
     "output_type": "stream",
     "text": [
      "Пустые ячейки - visitors: 0\n",
      "Пустые ячейки - orders: 0\n",
      "Пустые ячейки - hypothesis: 0\n",
      "Дубли - visitors: 0\n",
      "Дубли - orders: 0\n",
      "Дубли - hypothesis: 0\n"
     ]
    }
   ],
   "source": [
    "# Проверка на наличие дублей:\n",
    "print('Пустые ячейки - visitors:', visitors.duplicated().sum())\n",
    "print('Пустые ячейки - orders:',orders.duplicated().sum())\n",
    "print('Пустые ячейки - hypothesis:',hypothesis.duplicated().sum())\n",
    "print('Дубли - visitors:', visitors.duplicated().sum())\n",
    "print('Дубли - orders:', orders.duplicated().sum())\n",
    "print('Дубли - hypothesis:', hypothesis.duplicated().sum())"
   ]
  },
  {
   "cell_type": "code",
   "execution_count": 10,
   "metadata": {},
   "outputs": [
    {
     "data": {
      "text/html": [
       "<div>\n",
       "<style scoped>\n",
       "    .dataframe tbody tr th:only-of-type {\n",
       "        vertical-align: middle;\n",
       "    }\n",
       "\n",
       "    .dataframe tbody tr th {\n",
       "        vertical-align: top;\n",
       "    }\n",
       "\n",
       "    .dataframe thead th {\n",
       "        text-align: right;\n",
       "    }\n",
       "</style>\n",
       "<table border=\"1\" class=\"dataframe\">\n",
       "  <thead>\n",
       "    <tr style=\"text-align: right;\">\n",
       "      <th></th>\n",
       "      <th>hypothesis</th>\n",
       "      <th>reach</th>\n",
       "      <th>impact</th>\n",
       "      <th>confidence</th>\n",
       "      <th>efforts</th>\n",
       "    </tr>\n",
       "  </thead>\n",
       "  <tbody>\n",
       "    <tr>\n",
       "      <th>0</th>\n",
       "      <td>Добавить два новых канала привлечения трафика, что позволит привлекать на 30% больше пользователей</td>\n",
       "      <td>3</td>\n",
       "      <td>10</td>\n",
       "      <td>8</td>\n",
       "      <td>6</td>\n",
       "    </tr>\n",
       "  </tbody>\n",
       "</table>\n",
       "</div>"
      ],
      "text/plain": [
       "                                                                                           hypothesis  \\\n",
       "0  Добавить два новых канала привлечения трафика, что позволит привлекать на 30% больше пользователей   \n",
       "\n",
       "   reach  impact  confidence  efforts  \n",
       "0  3      10      8           6        "
      ]
     },
     "execution_count": 10,
     "metadata": {},
     "output_type": "execute_result"
    }
   ],
   "source": [
    "# приведу названия колонок файла к нижнему регистру:\n",
    "hypothesis.columns=hypothesis.columns.str.lower() \n",
    "hypothesis.head(1)"
   ]
  },
  {
   "cell_type": "code",
   "execution_count": 11,
   "metadata": {},
   "outputs": [
    {
     "name": "stdout",
     "output_type": "stream",
     "text": [
      "visitors min date: 2019-08-01\n",
      "visitors max date: 2019-08-31\n",
      "\n",
      "orders min date: 2019-08-01\n",
      "orders max date: 2019-08-31\n"
     ]
    }
   ],
   "source": [
    "# Проверка соответствия периодов для анализа в исходных файлах orders и visitors:\n",
    "min_visitors_date= visitors['date'].min()\n",
    "max_visitors_date= visitors['date'].max()\n",
    "\n",
    "min_orders_date= orders['date'].min()\n",
    "max_orders_date= orders['date'].max()\n",
    "\n",
    "\n",
    "print('visitors min date:', min_visitors_date)\n",
    "print('visitors max date:', max_visitors_date)\n",
    "print()\n",
    "print('orders min date:', min_orders_date)\n",
    "print('orders max date:', max_orders_date)"
   ]
  },
  {
   "cell_type": "markdown",
   "metadata": {},
   "source": [
    "Вывод: выгруженны данные файлов orders и visitors за одинаковый период с 1 по 31 августа 2019 г."
   ]
  },
  {
   "cell_type": "code",
   "execution_count": 12,
   "metadata": {},
   "outputs": [
    {
     "name": "stdout",
     "output_type": "stream",
     "text": [
      "0\n",
      "0\n"
     ]
    }
   ],
   "source": [
    "# Проверю, не допущено ли накладок - пользователи находятся только в группе А или B.\n",
    "visitorsA= orders.loc[orders['group']=='A']\n",
    "visitorsB= orders.loc[orders['group']=='B']\n",
    "visitorsBinA=visitorsA.query('visitorId in @visitorsB.index')\n",
    "visitorsAinB=visitorsB.query('visitorId in @visitorsA.index')\n",
    "print(len(visitorsBinA))\n",
    "print(len(visitorsAinB))"
   ]
  },
  {
   "cell_type": "markdown",
   "metadata": {},
   "source": [
    "Вывод: взаимная сверка между группами на присутствие в более чем 1ой группе пользователей по id не выявила подобных случаев."
   ]
  },
  {
   "cell_type": "code",
   "execution_count": 13,
   "metadata": {},
   "outputs": [
    {
     "name": "stdout",
     "output_type": "stream",
     "text": [
      "       number_unique_users\n",
      "group                     \n",
      "A      503                \n",
      "B      586                \n",
      "Группа B больше группы на: 15%\n"
     ]
    }
   ],
   "source": [
    "# Проверю соразмерность групп А и B:\n",
    "unique_users=orders.pivot_table(index='group',values=['visitorId'], aggfunc='nunique')\n",
    "unique_users.columns=['number_unique_users']\n",
    "\n",
    "print(unique_users)\n",
    "div_groups=(visitorsB['visitorId'].count()-visitorsA['visitorId'].count())/visitorsA['visitorId'].count()\n",
    "print(f'Группа B больше группы на: {div_groups :.0%}') \n"
   ]
  },
  {
   "cell_type": "markdown",
   "metadata": {},
   "source": [
    "#### Вывод по итогу предобработки данных: \n",
    "- Пустых ячеек и дублей в исходных файлах не выявлено. Dummy (не значимых) значений в полях с параметрами не выявлено;\n",
    "- Данные исходных файлов visitors и orders предоставлены за одинаковый интервал времени с 1 авг. по 31 авг. 2019 года;\n",
    "- заголовки файла hypothesis приведены к нижнему регистру для единообразия.\n",
    "- Пересечений на уровня пользователя между группами нет. Попавший в одну из групп посетитель остаётся в этой группе до конца теста.\n",
    "- Количество уникальных пользователей в различных группах различается на 15%, что некорректно для теста."
   ]
  },
  {
   "cell_type": "markdown",
   "metadata": {},
   "source": [
    "### Часть 1. Приоритизация гипотез.\n",
    "9 гипотез по увеличению выручки интернет-магазина с указанными параметрами Reach, Impact, Confidence, Effort. \n",
    "\n",
    "Задача:\n",
    "\n",
    "- Примените фреймворк ICE для приоритизации гипотез. Отсортируйте их по убыванию приоритета.\n",
    "- Примените фреймворк RICE для приоритизации гипотез. Отсортируйте их по убыванию приоритета.\n",
    "- Укажите, как изменилась приоритезация гипотез при применении RICE вместо ICE.\n",
    "Объясните, почему так произошло."
   ]
  },
  {
   "cell_type": "code",
   "execution_count": 14,
   "metadata": {},
   "outputs": [
    {
     "data": {
      "text/html": [
       "<div>\n",
       "<style scoped>\n",
       "    .dataframe tbody tr th:only-of-type {\n",
       "        vertical-align: middle;\n",
       "    }\n",
       "\n",
       "    .dataframe tbody tr th {\n",
       "        vertical-align: top;\n",
       "    }\n",
       "\n",
       "    .dataframe thead th {\n",
       "        text-align: right;\n",
       "    }\n",
       "</style>\n",
       "<table border=\"1\" class=\"dataframe\">\n",
       "  <thead>\n",
       "    <tr style=\"text-align: right;\">\n",
       "      <th></th>\n",
       "      <th>hypothesis</th>\n",
       "      <th>reach</th>\n",
       "      <th>impact</th>\n",
       "      <th>confidence</th>\n",
       "      <th>efforts</th>\n",
       "    </tr>\n",
       "  </thead>\n",
       "  <tbody>\n",
       "    <tr>\n",
       "      <th>0</th>\n",
       "      <td>Добавить два новых канала привлечения трафика, что позволит привлекать на 30% больше пользователей</td>\n",
       "      <td>3</td>\n",
       "      <td>10</td>\n",
       "      <td>8</td>\n",
       "      <td>6</td>\n",
       "    </tr>\n",
       "    <tr>\n",
       "      <th>1</th>\n",
       "      <td>Запустить собственную службу доставки, что сократит срок доставки заказов</td>\n",
       "      <td>2</td>\n",
       "      <td>5</td>\n",
       "      <td>4</td>\n",
       "      <td>10</td>\n",
       "    </tr>\n",
       "    <tr>\n",
       "      <th>2</th>\n",
       "      <td>Добавить блоки рекомендаций товаров на сайт интернет магазина, чтобы повысить конверсию и средний чек заказа</td>\n",
       "      <td>8</td>\n",
       "      <td>3</td>\n",
       "      <td>7</td>\n",
       "      <td>3</td>\n",
       "    </tr>\n",
       "    <tr>\n",
       "      <th>3</th>\n",
       "      <td>Изменить структура категорий, что увеличит конверсию, т.к. пользователи быстрее найдут нужный товар</td>\n",
       "      <td>8</td>\n",
       "      <td>3</td>\n",
       "      <td>3</td>\n",
       "      <td>8</td>\n",
       "    </tr>\n",
       "    <tr>\n",
       "      <th>4</th>\n",
       "      <td>Изменить цвет фона главной страницы, чтобы увеличить вовлеченность пользователей</td>\n",
       "      <td>3</td>\n",
       "      <td>1</td>\n",
       "      <td>1</td>\n",
       "      <td>1</td>\n",
       "    </tr>\n",
       "    <tr>\n",
       "      <th>5</th>\n",
       "      <td>Добавить страницу отзывов клиентов о магазине, что позволит увеличить количество заказов</td>\n",
       "      <td>3</td>\n",
       "      <td>2</td>\n",
       "      <td>2</td>\n",
       "      <td>3</td>\n",
       "    </tr>\n",
       "    <tr>\n",
       "      <th>6</th>\n",
       "      <td>Показать на главной странице баннеры с актуальными акциями и распродажами, чтобы увеличить конверсию</td>\n",
       "      <td>5</td>\n",
       "      <td>3</td>\n",
       "      <td>8</td>\n",
       "      <td>3</td>\n",
       "    </tr>\n",
       "    <tr>\n",
       "      <th>7</th>\n",
       "      <td>Добавить форму подписки на все основные страницы, чтобы собрать базу клиентов для email-рассылок</td>\n",
       "      <td>10</td>\n",
       "      <td>7</td>\n",
       "      <td>8</td>\n",
       "      <td>5</td>\n",
       "    </tr>\n",
       "    <tr>\n",
       "      <th>8</th>\n",
       "      <td>Запустить акцию, дающую скидку на товар в день рождения</td>\n",
       "      <td>1</td>\n",
       "      <td>9</td>\n",
       "      <td>9</td>\n",
       "      <td>5</td>\n",
       "    </tr>\n",
       "  </tbody>\n",
       "</table>\n",
       "</div>"
      ],
      "text/plain": [
       "                                                                                                     hypothesis  \\\n",
       "0  Добавить два новых канала привлечения трафика, что позволит привлекать на 30% больше пользователей             \n",
       "1  Запустить собственную службу доставки, что сократит срок доставки заказов                                      \n",
       "2  Добавить блоки рекомендаций товаров на сайт интернет магазина, чтобы повысить конверсию и средний чек заказа   \n",
       "3  Изменить структура категорий, что увеличит конверсию, т.к. пользователи быстрее найдут нужный товар            \n",
       "4  Изменить цвет фона главной страницы, чтобы увеличить вовлеченность пользователей                               \n",
       "5  Добавить страницу отзывов клиентов о магазине, что позволит увеличить количество заказов                       \n",
       "6  Показать на главной странице баннеры с актуальными акциями и распродажами, чтобы увеличить конверсию           \n",
       "7  Добавить форму подписки на все основные страницы, чтобы собрать базу клиентов для email-рассылок               \n",
       "8  Запустить акцию, дающую скидку на товар в день рождения                                                        \n",
       "\n",
       "   reach  impact  confidence  efforts  \n",
       "0  3      10      8           6        \n",
       "1  2      5       4           10       \n",
       "2  8      3       7           3        \n",
       "3  8      3       3           8        \n",
       "4  3      1       1           1        \n",
       "5  3      2       2           3        \n",
       "6  5      3       8           3        \n",
       "7  10     7       8           5        \n",
       "8  1      9       9           5        "
      ]
     },
     "execution_count": 14,
     "metadata": {},
     "output_type": "execute_result"
    }
   ],
   "source": [
    "hypothesis"
   ]
  },
  {
   "cell_type": "markdown",
   "metadata": {},
   "source": [
    "#### Применю фреймворк ICE для приоритизации гипотез. Отсортирую их по убыванию приоритета."
   ]
  },
  {
   "cell_type": "code",
   "execution_count": 15,
   "metadata": {},
   "outputs": [
    {
     "data": {
      "text/html": [
       "<div>\n",
       "<style scoped>\n",
       "    .dataframe tbody tr th:only-of-type {\n",
       "        vertical-align: middle;\n",
       "    }\n",
       "\n",
       "    .dataframe tbody tr th {\n",
       "        vertical-align: top;\n",
       "    }\n",
       "\n",
       "    .dataframe thead th {\n",
       "        text-align: right;\n",
       "    }\n",
       "</style>\n",
       "<table border=\"1\" class=\"dataframe\">\n",
       "  <thead>\n",
       "    <tr style=\"text-align: right;\">\n",
       "      <th></th>\n",
       "      <th>hypothesis</th>\n",
       "      <th>ICE</th>\n",
       "    </tr>\n",
       "  </thead>\n",
       "  <tbody>\n",
       "    <tr>\n",
       "      <th>8</th>\n",
       "      <td>Запустить акцию, дающую скидку на товар в день рождения</td>\n",
       "      <td>16.20</td>\n",
       "    </tr>\n",
       "    <tr>\n",
       "      <th>0</th>\n",
       "      <td>Добавить два новых канала привлечения трафика, что позволит привлекать на 30% больше пользователей</td>\n",
       "      <td>13.33</td>\n",
       "    </tr>\n",
       "    <tr>\n",
       "      <th>7</th>\n",
       "      <td>Добавить форму подписки на все основные страницы, чтобы собрать базу клиентов для email-рассылок</td>\n",
       "      <td>11.20</td>\n",
       "    </tr>\n",
       "    <tr>\n",
       "      <th>6</th>\n",
       "      <td>Показать на главной странице баннеры с актуальными акциями и распродажами, чтобы увеличить конверсию</td>\n",
       "      <td>8.00</td>\n",
       "    </tr>\n",
       "    <tr>\n",
       "      <th>2</th>\n",
       "      <td>Добавить блоки рекомендаций товаров на сайт интернет магазина, чтобы повысить конверсию и средний чек заказа</td>\n",
       "      <td>7.00</td>\n",
       "    </tr>\n",
       "    <tr>\n",
       "      <th>1</th>\n",
       "      <td>Запустить собственную службу доставки, что сократит срок доставки заказов</td>\n",
       "      <td>2.00</td>\n",
       "    </tr>\n",
       "    <tr>\n",
       "      <th>5</th>\n",
       "      <td>Добавить страницу отзывов клиентов о магазине, что позволит увеличить количество заказов</td>\n",
       "      <td>1.33</td>\n",
       "    </tr>\n",
       "    <tr>\n",
       "      <th>3</th>\n",
       "      <td>Изменить структура категорий, что увеличит конверсию, т.к. пользователи быстрее найдут нужный товар</td>\n",
       "      <td>1.12</td>\n",
       "    </tr>\n",
       "    <tr>\n",
       "      <th>4</th>\n",
       "      <td>Изменить цвет фона главной страницы, чтобы увеличить вовлеченность пользователей</td>\n",
       "      <td>1.00</td>\n",
       "    </tr>\n",
       "  </tbody>\n",
       "</table>\n",
       "</div>"
      ],
      "text/plain": [
       "                                                                                                     hypothesis  \\\n",
       "8  Запустить акцию, дающую скидку на товар в день рождения                                                        \n",
       "0  Добавить два новых канала привлечения трафика, что позволит привлекать на 30% больше пользователей             \n",
       "7  Добавить форму подписки на все основные страницы, чтобы собрать базу клиентов для email-рассылок               \n",
       "6  Показать на главной странице баннеры с актуальными акциями и распродажами, чтобы увеличить конверсию           \n",
       "2  Добавить блоки рекомендаций товаров на сайт интернет магазина, чтобы повысить конверсию и средний чек заказа   \n",
       "1  Запустить собственную службу доставки, что сократит срок доставки заказов                                      \n",
       "5  Добавить страницу отзывов клиентов о магазине, что позволит увеличить количество заказов                       \n",
       "3  Изменить структура категорий, что увеличит конверсию, т.к. пользователи быстрее найдут нужный товар            \n",
       "4  Изменить цвет фона главной страницы, чтобы увеличить вовлеченность пользователей                               \n",
       "\n",
       "     ICE  \n",
       "8  16.20  \n",
       "0  13.33  \n",
       "7  11.20  \n",
       "6  8.00   \n",
       "2  7.00   \n",
       "1  2.00   \n",
       "5  1.33   \n",
       "3  1.12   \n",
       "4  1.00   "
      ]
     },
     "execution_count": 15,
     "metadata": {},
     "output_type": "execute_result"
    }
   ],
   "source": [
    "hypothesis['ICE']=round(hypothesis['impact']*hypothesis['confidence']/hypothesis['efforts'],2)\n",
    "hypothesis[['hypothesis','ICE']].sort_values(by='ICE', ascending=False)"
   ]
  },
  {
   "cell_type": "code",
   "execution_count": 16,
   "metadata": {},
   "outputs": [
    {
     "data": {
      "text/html": [
       "<div>\n",
       "<style scoped>\n",
       "    .dataframe tbody tr th:only-of-type {\n",
       "        vertical-align: middle;\n",
       "    }\n",
       "\n",
       "    .dataframe tbody tr th {\n",
       "        vertical-align: top;\n",
       "    }\n",
       "\n",
       "    .dataframe thead th {\n",
       "        text-align: right;\n",
       "    }\n",
       "</style>\n",
       "<table border=\"1\" class=\"dataframe\">\n",
       "  <thead>\n",
       "    <tr style=\"text-align: right;\">\n",
       "      <th></th>\n",
       "      <th>hypothesis</th>\n",
       "      <th>RICE</th>\n",
       "    </tr>\n",
       "  </thead>\n",
       "  <tbody>\n",
       "    <tr>\n",
       "      <th>7</th>\n",
       "      <td>Добавить форму подписки на все основные страницы, чтобы собрать базу клиентов для email-рассылок</td>\n",
       "      <td>112.0</td>\n",
       "    </tr>\n",
       "    <tr>\n",
       "      <th>2</th>\n",
       "      <td>Добавить блоки рекомендаций товаров на сайт интернет магазина, чтобы повысить конверсию и средний чек заказа</td>\n",
       "      <td>56.0</td>\n",
       "    </tr>\n",
       "    <tr>\n",
       "      <th>0</th>\n",
       "      <td>Добавить два новых канала привлечения трафика, что позволит привлекать на 30% больше пользователей</td>\n",
       "      <td>40.0</td>\n",
       "    </tr>\n",
       "    <tr>\n",
       "      <th>6</th>\n",
       "      <td>Показать на главной странице баннеры с актуальными акциями и распродажами, чтобы увеличить конверсию</td>\n",
       "      <td>40.0</td>\n",
       "    </tr>\n",
       "    <tr>\n",
       "      <th>8</th>\n",
       "      <td>Запустить акцию, дающую скидку на товар в день рождения</td>\n",
       "      <td>16.2</td>\n",
       "    </tr>\n",
       "    <tr>\n",
       "      <th>3</th>\n",
       "      <td>Изменить структура категорий, что увеличит конверсию, т.к. пользователи быстрее найдут нужный товар</td>\n",
       "      <td>9.0</td>\n",
       "    </tr>\n",
       "    <tr>\n",
       "      <th>1</th>\n",
       "      <td>Запустить собственную службу доставки, что сократит срок доставки заказов</td>\n",
       "      <td>4.0</td>\n",
       "    </tr>\n",
       "    <tr>\n",
       "      <th>5</th>\n",
       "      <td>Добавить страницу отзывов клиентов о магазине, что позволит увеличить количество заказов</td>\n",
       "      <td>4.0</td>\n",
       "    </tr>\n",
       "    <tr>\n",
       "      <th>4</th>\n",
       "      <td>Изменить цвет фона главной страницы, чтобы увеличить вовлеченность пользователей</td>\n",
       "      <td>3.0</td>\n",
       "    </tr>\n",
       "  </tbody>\n",
       "</table>\n",
       "</div>"
      ],
      "text/plain": [
       "                                                                                                     hypothesis  \\\n",
       "7  Добавить форму подписки на все основные страницы, чтобы собрать базу клиентов для email-рассылок               \n",
       "2  Добавить блоки рекомендаций товаров на сайт интернет магазина, чтобы повысить конверсию и средний чек заказа   \n",
       "0  Добавить два новых канала привлечения трафика, что позволит привлекать на 30% больше пользователей             \n",
       "6  Показать на главной странице баннеры с актуальными акциями и распродажами, чтобы увеличить конверсию           \n",
       "8  Запустить акцию, дающую скидку на товар в день рождения                                                        \n",
       "3  Изменить структура категорий, что увеличит конверсию, т.к. пользователи быстрее найдут нужный товар            \n",
       "1  Запустить собственную службу доставки, что сократит срок доставки заказов                                      \n",
       "5  Добавить страницу отзывов клиентов о магазине, что позволит увеличить количество заказов                       \n",
       "4  Изменить цвет фона главной страницы, чтобы увеличить вовлеченность пользователей                               \n",
       "\n",
       "    RICE  \n",
       "7  112.0  \n",
       "2  56.0   \n",
       "0  40.0   \n",
       "6  40.0   \n",
       "8  16.2   \n",
       "3  9.0    \n",
       "1  4.0    \n",
       "5  4.0    \n",
       "4  3.0    "
      ]
     },
     "execution_count": 16,
     "metadata": {},
     "output_type": "execute_result"
    }
   ],
   "source": [
    "hypothesis['RICE']=round(hypothesis['impact']*hypothesis['confidence']*hypothesis['reach']/hypothesis['efforts'],2)\n",
    "hypothesis[['hypothesis','RICE']].sort_values(by='RICE', ascending=False)"
   ]
  },
  {
   "cell_type": "markdown",
   "metadata": {},
   "source": [
    "#### Вывод: \n",
    "- Наиболее перспективными по методике ранжирования ICE оказались гипотезы 8, 0, 7, набравшие рейтинг выше 10.\n",
    "- По RICE наиболее перспективными выглядят гипотезы 7, 2, 0.\n",
    "- при RICE выше в рейтиге оказалась гипотеза 2, где показать reach - охват пользователей, которых затронет изменение = 8,\n",
    "  тогда как для гипотезы 8, попавшей по ICE в первую тройку, reach =1, что повлияло на позицию в RICE фреймворке -снижение на пятую строчку рейтинга.\n"
   ]
  },
  {
   "cell_type": "markdown",
   "metadata": {},
   "source": [
    "### Анализ A/B теста. "
   ]
  },
  {
   "cell_type": "code",
   "execution_count": 17,
   "metadata": {},
   "outputs": [
    {
     "data": {
      "text/html": [
       "<div>\n",
       "<style scoped>\n",
       "    .dataframe tbody tr th:only-of-type {\n",
       "        vertical-align: middle;\n",
       "    }\n",
       "\n",
       "    .dataframe tbody tr th {\n",
       "        vertical-align: top;\n",
       "    }\n",
       "\n",
       "    .dataframe thead th {\n",
       "        text-align: right;\n",
       "    }\n",
       "</style>\n",
       "<table border=\"1\" class=\"dataframe\">\n",
       "  <thead>\n",
       "    <tr style=\"text-align: right;\">\n",
       "      <th></th>\n",
       "      <th>date</th>\n",
       "      <th>group</th>\n",
       "      <th>visitors</th>\n",
       "    </tr>\n",
       "  </thead>\n",
       "  <tbody>\n",
       "    <tr>\n",
       "      <th>0</th>\n",
       "      <td>2019-08-01</td>\n",
       "      <td>A</td>\n",
       "      <td>719</td>\n",
       "    </tr>\n",
       "    <tr>\n",
       "      <th>1</th>\n",
       "      <td>2019-08-02</td>\n",
       "      <td>A</td>\n",
       "      <td>619</td>\n",
       "    </tr>\n",
       "    <tr>\n",
       "      <th>2</th>\n",
       "      <td>2019-08-03</td>\n",
       "      <td>A</td>\n",
       "      <td>507</td>\n",
       "    </tr>\n",
       "    <tr>\n",
       "      <th>3</th>\n",
       "      <td>2019-08-04</td>\n",
       "      <td>A</td>\n",
       "      <td>717</td>\n",
       "    </tr>\n",
       "    <tr>\n",
       "      <th>4</th>\n",
       "      <td>2019-08-05</td>\n",
       "      <td>A</td>\n",
       "      <td>756</td>\n",
       "    </tr>\n",
       "  </tbody>\n",
       "</table>\n",
       "</div>"
      ],
      "text/plain": [
       "         date group  visitors\n",
       "0  2019-08-01  A     719     \n",
       "1  2019-08-02  A     619     \n",
       "2  2019-08-03  A     507     \n",
       "3  2019-08-04  A     717     \n",
       "4  2019-08-05  A     756     "
      ]
     },
     "execution_count": 17,
     "metadata": {},
     "output_type": "execute_result"
    }
   ],
   "source": [
    "visitors.head()"
   ]
  },
  {
   "cell_type": "code",
   "execution_count": 18,
   "metadata": {},
   "outputs": [
    {
     "data": {
      "text/html": [
       "<div>\n",
       "<style scoped>\n",
       "    .dataframe tbody tr th:only-of-type {\n",
       "        vertical-align: middle;\n",
       "    }\n",
       "\n",
       "    .dataframe tbody tr th {\n",
       "        vertical-align: top;\n",
       "    }\n",
       "\n",
       "    .dataframe thead th {\n",
       "        text-align: right;\n",
       "    }\n",
       "</style>\n",
       "<table border=\"1\" class=\"dataframe\">\n",
       "  <thead>\n",
       "    <tr style=\"text-align: right;\">\n",
       "      <th></th>\n",
       "      <th>transactionId</th>\n",
       "      <th>visitorId</th>\n",
       "      <th>date</th>\n",
       "      <th>revenue</th>\n",
       "      <th>group</th>\n",
       "    </tr>\n",
       "  </thead>\n",
       "  <tbody>\n",
       "    <tr>\n",
       "      <th>0</th>\n",
       "      <td>3667963787</td>\n",
       "      <td>3312258926</td>\n",
       "      <td>2019-08-15</td>\n",
       "      <td>1650</td>\n",
       "      <td>B</td>\n",
       "    </tr>\n",
       "    <tr>\n",
       "      <th>1</th>\n",
       "      <td>2804400009</td>\n",
       "      <td>3642806036</td>\n",
       "      <td>2019-08-15</td>\n",
       "      <td>730</td>\n",
       "      <td>B</td>\n",
       "    </tr>\n",
       "    <tr>\n",
       "      <th>2</th>\n",
       "      <td>2961555356</td>\n",
       "      <td>4069496402</td>\n",
       "      <td>2019-08-15</td>\n",
       "      <td>400</td>\n",
       "      <td>A</td>\n",
       "    </tr>\n",
       "    <tr>\n",
       "      <th>3</th>\n",
       "      <td>3797467345</td>\n",
       "      <td>1196621759</td>\n",
       "      <td>2019-08-15</td>\n",
       "      <td>9759</td>\n",
       "      <td>B</td>\n",
       "    </tr>\n",
       "    <tr>\n",
       "      <th>4</th>\n",
       "      <td>2282983706</td>\n",
       "      <td>2322279887</td>\n",
       "      <td>2019-08-15</td>\n",
       "      <td>2308</td>\n",
       "      <td>B</td>\n",
       "    </tr>\n",
       "  </tbody>\n",
       "</table>\n",
       "</div>"
      ],
      "text/plain": [
       "   transactionId   visitorId        date  revenue group\n",
       "0  3667963787     3312258926  2019-08-15  1650     B   \n",
       "1  2804400009     3642806036  2019-08-15  730      B   \n",
       "2  2961555356     4069496402  2019-08-15  400      A   \n",
       "3  3797467345     1196621759  2019-08-15  9759     B   \n",
       "4  2282983706     2322279887  2019-08-15  2308     B   "
      ]
     },
     "execution_count": 18,
     "metadata": {},
     "output_type": "execute_result"
    }
   ],
   "source": [
    "orders.head()"
   ]
  },
  {
   "cell_type": "markdown",
   "metadata": {},
   "source": [
    "#### Подготовлю данные и построю графики, согласно заданию."
   ]
  },
  {
   "cell_type": "code",
   "execution_count": 19,
   "metadata": {},
   "outputs": [
    {
     "name": "stdout",
     "output_type": "stream",
     "text": [
      "Кумулятивная выручка группы B:         date  revenue  orders\n",
      "1 2019-08-01  101217   21    \n",
      "3 2019-08-02  266748   45    \n",
      "5 2019-08-03  380996   61    \n",
      "7 2019-08-04  489567   78    \n",
      "9 2019-08-05  581995   101   \n",
      "\n",
      "Кумулятивная выручка группы A:         date  revenue  orders\n",
      "0 2019-08-01  148579   24    \n",
      "2 2019-08-02  242401   44    \n",
      "4 2019-08-03  354874   68    \n",
      "6 2019-08-04  425699   84    \n",
      "8 2019-08-05  549917   109   \n",
      "\n",
      "кумулятивные данные в одной таблице:         date group  orders  buyers  revenue  visitors\n",
      "0 2019-08-01  A     24      20      148579   719     \n",
      "1 2019-08-01  B     21      20      101217   713     \n",
      "2 2019-08-02  A     44      38      242401   1338    \n",
      "3 2019-08-02  B     45      43      266748   1294    \n",
      "4 2019-08-03  A     68      62      354874   1845    \n"
     ]
    }
   ],
   "source": [
    "# Соберу агрегированные кумулятивные данные по дням о заказах в несколько действий.\n",
    "orders['date'] = pd.to_datetime(orders['date'],format='%Y-%m-%d')\n",
    "visitors['date'] =pd.to_datetime(visitors['date'],format='%Y-%m-%d')\n",
    "\n",
    "#Создам массив уникальных пар значений дат и групп теста методом drop_duplicates на основе orders: \n",
    "datesGroups = orders[['date', 'group']].drop_duplicates()\n",
    "\n",
    "ordersAggregated = datesGroups.apply(\n",
    "    lambda x: orders[\n",
    "        np.logical_and(\n",
    "            orders['date'] <= x['date'], orders['group'] == x['group']\n",
    "        )\n",
    "    ].agg(\n",
    "        {\n",
    "            'date': 'max',\n",
    "            'group': 'max',\n",
    "            'transactionId': 'nunique',\n",
    "            'visitorId': 'nunique',\n",
    "            'revenue': 'sum',\n",
    "        }\n",
    "    ),\n",
    "    axis=1,\n",
    ").sort_values(by=['date', 'group'])\n",
    "\n",
    "visitorsAggregated = datesGroups.apply(\n",
    "    lambda x: visitors[\n",
    "        np.logical_and(\n",
    "            visitors['date'] <= x['date'], visitors['group'] == x['group']\n",
    "        )\n",
    "    ].agg({'date': 'max', 'group': 'max', 'visitors': 'sum'}),\n",
    "    axis=1,\n",
    ").sort_values(by=['date', 'group'])\n",
    "\n",
    "cumulativeData = ordersAggregated.merge(\n",
    "    visitorsAggregated, left_on=['date', 'group'], right_on=['date', 'group']\n",
    ")\n",
    "cumulativeData.columns = [\n",
    "    'date',\n",
    "    'group',\n",
    "    'orders',\n",
    "    'buyers',\n",
    "    'revenue',\n",
    "    'visitors',\n",
    "]\n",
    "cumulativeRevenueA = cumulativeData[cumulativeData['group']=='A'][['date','revenue', 'orders']]\n",
    "cumulativeRevenueB = cumulativeData[cumulativeData['group']=='B'][['date','revenue', 'orders']]\n",
    "\n",
    "print('Кумулятивная выручка группы B:',cumulativeRevenueB.head())\n",
    "print()\n",
    "print('Кумулятивная выручка группы A:',cumulativeRevenueA.head())\n",
    "print()\n",
    "print('кумулятивные данные в одной таблице:',cumulativeData.head())"
   ]
  },
  {
   "cell_type": "markdown",
   "metadata": {},
   "source": [
    "##### График кумулятивной выручки по группам"
   ]
  },
  {
   "cell_type": "code",
   "execution_count": 20,
   "metadata": {},
   "outputs": [
    {
     "data": {
      "image/png": "[encoded data removed]",
      "text/plain": [
       "<Figure size 640x480 with 1 Axes>"
      ]
     },
     "metadata": {},
     "output_type": "display_data"
    }
   ],
   "source": [
    "# Построю график выручки группы A\n",
    "plt.plot(cumulativeRevenueA['date'], cumulativeRevenueA['revenue'], label='А')\n",
    "\n",
    "# Построю график выручки группы B\n",
    "plt.plot(cumulativeRevenueB['date'], cumulativeRevenueB['revenue'], label='B')\n",
    "plt.title('График кумулятивной выручки по группам\\n', fontsize=10)\n",
    "plt.ylabel('Выручка')\n",
    "plt.xlabel('Дата')\n",
    "plt.xticks(size=6)\n",
    "plt.yticks(size=8)\n",
    "plt.legend(loc='upper center',bbox_to_anchor=(0.5, -0.1), ncol=5);"
   ]
  },
  {
   "cell_type": "markdown",
   "metadata": {},
   "source": [
    "Вывод:\n",
    "\n",
    "Согласно графика кумулятивной выручки по группам, выручка почти равномерно увеличивается в течение всего теста. \n",
    "В середине мясяца у группы B есть сильный всплеск, что может сигнализировать о колебаниях числа заказов, либо о появлении очень дорогих заказов в выборке. Необходимо проанализировать выбросы.\n"
   ]
  },
  {
   "cell_type": "markdown",
   "metadata": {},
   "source": [
    "##### График кумулятивного среднего чека по группам."
   ]
  },
  {
   "cell_type": "code",
   "execution_count": 21,
   "metadata": {},
   "outputs": [
    {
     "data": {
      "image/png": "[encoded data removed]",
      "text/plain": [
       "<Figure size 640x480 with 1 Axes>"
      ]
     },
     "metadata": {},
     "output_type": "display_data"
    }
   ],
   "source": [
    "\n",
    "plt.plot(cumulativeRevenueA['date'], cumulativeRevenueA['revenue']/cumulativeRevenueA['orders'], label='A')\n",
    "plt.plot(cumulativeRevenueB['date'], cumulativeRevenueB['revenue']/cumulativeRevenueB['orders'], label='B')\n",
    "plt.title('График кумулятивного среднего чека по группам \\n', fontsize=10)\n",
    "plt.ylabel('Средний чек, руб.')\n",
    "plt.xlabel('Дата')\n",
    "plt.xticks(size=6)\n",
    "plt.yticks(size=8)\n",
    "plt.legend(loc='upper center',bbox_to_anchor=(0.5, -0.1), ncol=5);\n"
   ]
  },
  {
   "cell_type": "markdown",
   "metadata": {},
   "source": [
    "Вывод: \n",
    "•\tСредний чек тоже становится более равномерным в третьей декаде месяца: для группы A и продолжает медленно расти для группы B - падать. Возможно, резкий всплеск около 20 авг. вызван аномалиями в данных - заказы на крупные суммы. Вероятно, нужно устранить аномалии или использовать больше данных. "
   ]
  },
  {
   "cell_type": "markdown",
   "metadata": {},
   "source": [
    "##### График относительного изменения кумулятивного среднего чека группы B к группе A."
   ]
  },
  {
   "cell_type": "code",
   "execution_count": 22,
   "metadata": {},
   "outputs": [
    {
     "data": {
      "image/png": "[encoded data removed]",
      "text/plain": [
       "<Figure size 640x480 with 1 Axes>"
      ]
     },
     "metadata": {},
     "output_type": "display_data"
    }
   ],
   "source": [
    "# собираем данные в одном датафрейме\n",
    "mergedCumulativeRevenue = cumulativeRevenueA.merge(cumulativeRevenueB, left_on='date', right_on='date', how='left', suffixes=['A', 'B'])\n",
    "\n",
    "# cтроим отношение средних чеков\n",
    "plt.plot(mergedCumulativeRevenue['date'], (mergedCumulativeRevenue['revenueB']/mergedCumulativeRevenue['ordersB'])/(mergedCumulativeRevenue['revenueA']/mergedCumulativeRevenue['ordersA'])-1)\n",
    "plt.title('График относительного изменения кумулятивного среднего чека группы B к группе A \\n', fontsize=10)\n",
    "plt.ylabel('Относительное изменение\\n среднего чека В к А')\n",
    "plt.xlabel('Дата')\n",
    "plt.xticks(size=6)\n",
    "plt.yticks(size=6)\n",
    "\n",
    "# добавляем ось X\n",
    "plt.axhline(y=0, color='black', linestyle='--');"
   ]
  },
  {
   "cell_type": "markdown",
   "metadata": {},
   "source": [
    "Вывод:\n",
    "График относительного различия для среднего чека групп А и В нескольких точках резко «скачет», что также указывает на присутствие выбросов. Тем не менее, график показывает относительный рост среднего чека группы В."
   ]
  },
  {
   "cell_type": "markdown",
   "metadata": {},
   "source": [
    "##### График кумулятивного среднего количества заказов на посетителя по группам."
   ]
  },
  {
   "cell_type": "code",
   "execution_count": 23,
   "metadata": {},
   "outputs": [
    {
     "data": {
      "image/png": "[encoded data removed]",
      "text/plain": [
       "<Figure size 640x480 with 1 Axes>"
      ]
     },
     "metadata": {},
     "output_type": "display_data"
    }
   ],
   "source": [
    "# считаем среднее количество заказов на посетителя\n",
    "cumulativeData['conversion'] = cumulativeData['orders']/cumulativeData['visitors']\n",
    "\n",
    "# отделяем данные по группе A\n",
    "cumulativeDataA = cumulativeData[cumulativeData['group']=='A']\n",
    "\n",
    "# отделяем данные по группе B\n",
    "cumulativeDataB = cumulativeData[cumulativeData['group']=='B']\n",
    "\n",
    "# строим графики\n",
    "plt.plot(cumulativeDataA['date'], cumulativeDataA['conversion'], label='A')\n",
    "plt.plot(cumulativeDataB['date'], cumulativeDataB['conversion'], label='B')\n",
    "plt.title('\\n График кумулятивного среднего количества заказов \\n на посетителя по группам \\n', fontsize=10)\n",
    "plt.xticks(size=6)\n",
    "plt.yticks(size=6)in\n",
    "plt.ylabel('Кумулятивное среднее\\n количество заказов')\n",
    "plt.xlabel('Дата')\n",
    "plt.legend(loc='upper center',bbox_to_anchor=(0.5, -0.1), ncol=5);\n",
    "\n",
    "\n"
   ]
  },
  {
   "cell_type": "markdown",
   "metadata": {},
   "source": [
    "Вывод:\n",
    "графики конверсии в группах значительно колебались в первую неделю периода, но со второй недели конверсия групп установилась на определенном интервале, причем группа B показала лучший результат до конца месяца. \n"
   ]
  },
  {
   "cell_type": "markdown",
   "metadata": {},
   "source": [
    "##### График относительного изменения кумулятивного среднего количества заказов на посетителя группы B к группе A."
   ]
  },
  {
   "cell_type": "code",
   "execution_count": 24,
   "metadata": {},
   "outputs": [
    {
     "data": {
      "text/html": [
       "<div>\n",
       "<style scoped>\n",
       "    .dataframe tbody tr th:only-of-type {\n",
       "        vertical-align: middle;\n",
       "    }\n",
       "\n",
       "    .dataframe tbody tr th {\n",
       "        vertical-align: top;\n",
       "    }\n",
       "\n",
       "    .dataframe thead th {\n",
       "        text-align: right;\n",
       "    }\n",
       "</style>\n",
       "<table border=\"1\" class=\"dataframe\">\n",
       "  <thead>\n",
       "    <tr style=\"text-align: right;\">\n",
       "      <th></th>\n",
       "      <th>date</th>\n",
       "      <th>conversionA</th>\n",
       "      <th>conversionB</th>\n",
       "    </tr>\n",
       "  </thead>\n",
       "  <tbody>\n",
       "    <tr>\n",
       "      <th>0</th>\n",
       "      <td>2019-08-01</td>\n",
       "      <td>0.033380</td>\n",
       "      <td>0.029453</td>\n",
       "    </tr>\n",
       "    <tr>\n",
       "      <th>1</th>\n",
       "      <td>2019-08-02</td>\n",
       "      <td>0.032885</td>\n",
       "      <td>0.034776</td>\n",
       "    </tr>\n",
       "    <tr>\n",
       "      <th>2</th>\n",
       "      <td>2019-08-03</td>\n",
       "      <td>0.036856</td>\n",
       "      <td>0.033833</td>\n",
       "    </tr>\n",
       "  </tbody>\n",
       "</table>\n",
       "</div>"
      ],
      "text/plain": [
       "        date  conversionA  conversionB\n",
       "0 2019-08-01  0.033380     0.029453   \n",
       "1 2019-08-02  0.032885     0.034776   \n",
       "2 2019-08-03  0.036856     0.033833   "
      ]
     },
     "execution_count": 24,
     "metadata": {},
     "output_type": "execute_result"
    },
    {
     "data": {
      "image/png": "[encoded data removed]",
      "text/plain": [
       "<Figure size 640x480 with 1 Axes>"
      ]
     },
     "metadata": {},
     "output_type": "display_data"
    }
   ],
   "source": [
    "mergedCumulativeConversions = cumulativeDataA[['date','conversion']].merge(cumulativeDataB[['date','conversion']], left_on='date', right_on='date', how='left', suffixes=['A', 'B'])\n",
    "\n",
    "plt.plot(mergedCumulativeConversions['date'], mergedCumulativeConversions['conversionB']/mergedCumulativeConversions['conversionA']-1)\n",
    "plt.xticks(size=6)\n",
    "plt.yticks(size=6)\n",
    "plt.xlabel('Дата')\n",
    "\n",
    "\n",
    "plt.title('\\n Относительный прирост кумулятивного среднего количества заказов \\n на посетителя группы B относительно группы A \\n', fontsize=10);\n",
    "\n",
    "plt.axhline(y=0, color='black', linestyle='--')\n",
    "plt.axhline(y=-0.08, color='grey', linestyle='--');\n",
    "plt.axhline(y=0.11, color='orange', linestyle='--');\n",
    "mergedCumulativeConversions.head(3)"
   ]
  },
  {
   "cell_type": "markdown",
   "metadata": {},
   "source": [
    "Вывод:\n",
    "\n",
    "В начале теста группа B значительно проигрывала группе A, затем на 2й неделе вырвалась вперёд. Потом среднее количество заказов на посетителя для группы B снова уменьшалось, но теперь постепенно растёт.\n",
    "В целом отношение среднего количества заказов на посетителя ещё не установилось, и сейчас делать какие-либо выводы по тесту нельзя.Необходимо проанализировать аномалии, для подтверждения.."
   ]
  },
  {
   "cell_type": "markdown",
   "metadata": {},
   "source": [
    "##### Точечный график количества заказов по пользователям."
   ]
  },
  {
   "cell_type": "code",
   "execution_count": 25,
   "metadata": {
    "scrolled": true
   },
   "outputs": [
    {
     "name": "stdout",
     "output_type": "stream",
     "text": [
      "          userId  orders\n",
      "1023  4256040402  11    \n",
      "591   2458001652  11    \n",
      "569   2378935119  9     \n",
      "487   2038680547  8     \n",
      "44    199603092   5     \n"
     ]
    },
    {
     "data": {
      "text/plain": [
       "count    1031.000000\n",
       "mean     1.161009   \n",
       "std      0.724919   \n",
       "min      1.000000   \n",
       "25%      1.000000   \n",
       "50%      1.000000   \n",
       "75%      1.000000   \n",
       "max      11.000000  \n",
       "Name: orders, dtype: float64"
      ]
     },
     "execution_count": 25,
     "metadata": {},
     "output_type": "execute_result"
    },
    {
     "data": {
      "image/png": "[encoded data removed]",
      "text/plain": [
       "<Figure size 640x480 with 1 Axes>"
      ]
     },
     "metadata": {},
     "output_type": "display_data"
    }
   ],
   "source": [
    "# Подсчитаем количество заказов по пользователям:\n",
    "ordersByUsers = (\n",
    "    orders.groupby('visitorId', as_index=False)\n",
    "    .agg({'transactionId': 'nunique'})\n",
    ")\n",
    "\n",
    "ordersByUsers.columns = ['userId', 'orders']\n",
    "\n",
    "print(ordersByUsers.sort_values(by='orders', ascending=False).head(5)) \n",
    "ordersByUsers['orders'].hist(bins=10)\n",
    "plt.xticks(size=8)\n",
    "plt.yticks(size=8)\n",
    "plt.title('Гистаграмма количества заказов по пользователям', fontsize=10);\n",
    "ordersByUsers['orders'].describe()"
   ]
  },
  {
   "cell_type": "markdown",
   "metadata": {},
   "source": [
    "Гистограмма показывает, что большиинство пользоваелей делают не более 4х заказов."
   ]
  },
  {
   "cell_type": "code",
   "execution_count": 26,
   "metadata": {},
   "outputs": [
    {
     "data": {
      "image/png": "[encoded data removed]",
      "text/plain": [
       "<Figure size 640x480 with 1 Axes>"
      ]
     },
     "metadata": {},
     "output_type": "display_data"
    }
   ],
   "source": [
    "x_values = pd.Series(range(0,len(ordersByUsers)))\n",
    "plt.scatter(x_values, ordersByUsers['orders'],alpha=0.5)\n",
    "plt.ylabel('Стоимость заказов', fontsize=10)\n",
    "plt.title('\\nТочечный график количества заказов по пользователям\\n с выбросами \\n', fontsize=10);"
   ]
  },
  {
   "cell_type": "markdown",
   "metadata": {},
   "source": [
    "На точечном графике количества заказов по пользователям много пользователей с 2-4 заказами. Их точная доля не ясна."
   ]
  },
  {
   "cell_type": "markdown",
   "metadata": {},
   "source": [
    "#####  Посчитаю 95-й и 99-й перцентили количества заказов на пользователя. Выберите границу для определения аномальных пользователей."
   ]
  },
  {
   "cell_type": "code",
   "execution_count": 27,
   "metadata": {},
   "outputs": [
    {
     "name": "stdout",
     "output_type": "stream",
     "text": [
      "Вывод: 95-й и 99-й перцентили количества заказов на пользователя [2. 4.]\n"
     ]
    }
   ],
   "source": [
    "print('Вывод: 95-й и 99-й перцентили количества заказов на пользователя', np.percentile(ordersByUsers['orders'], [95, 99])) "
   ]
  },
  {
   "cell_type": "markdown",
   "metadata": {},
   "source": [
    "##### Построю точечный график стоимостей заказов."
   ]
  },
  {
   "cell_type": "code",
   "execution_count": 28,
   "metadata": {},
   "outputs": [
    {
     "data": {
      "image/png": "[encoded data removed]",
      "text/plain": [
       "<Figure size 640x480 with 1 Axes>"
      ]
     },
     "metadata": {},
     "output_type": "display_data"
    }
   ],
   "source": [
    "x_values = pd.Series(range(0,len(orders['revenue'])))\n",
    "plt.scatter(x_values, orders['revenue'], alpha=0.5);\n",
    "plt.ylabel('Стоимость заказов', fontsize=10)\n",
    "plt.title('\\n Стоимость заказов по выручке \\n с выбросами \\n', fontsize=10);"
   ]
  },
  {
   "cell_type": "markdown",
   "metadata": {},
   "source": [
    "##### Посчитаю 95-й и 99-й перцентили стоимости заказов. Определю границу для определения аномальных заказов."
   ]
  },
  {
   "cell_type": "code",
   "execution_count": 29,
   "metadata": {},
   "outputs": [
    {
     "name": "stdout",
     "output_type": "stream",
     "text": [
      "Вывод: 95 и 99 перцентили среднего чека в выборке [28000.  58233.2]\n"
     ]
    }
   ],
   "source": [
    "print('Вывод: 95 и 99 перцентили среднего чека в выборке', np.percentile(orders['revenue'], [95, 99])) "
   ]
  },
  {
   "cell_type": "markdown",
   "metadata": {},
   "source": [
    "Исходя из результатов выше видно, что в данных, скорее всего, есть выбросы;\n",
    "Гграницу дляудаления выбросов можно установить на уровне 95%, так уровень среднего чека установим - 28000 (95%), а число заказов - 4 (99%).\n",
    "\n",
    "Посчитаю статистическую значимость различий в среднем числе заказов на посетителя и среднем чеке между группами по «сырым» данным — без удаления аномальных пользователей.\n",
    "Сформулирюм гипотезы.\n",
    "-  Нулевая: различий в среднем количестве заказов между группами нет\n",
    "-  Альтернативная: различия в среднем между группами есть.."
   ]
  },
  {
   "cell_type": "markdown",
   "metadata": {},
   "source": [
    "##### Посчитаю статистическую значимость различий в среднем количестве заказов на посетителя между группами по «сырым» данным. Сделайте выводы и предположения.\n"
   ]
  },
  {
   "cell_type": "code",
   "execution_count": 36,
   "metadata": {},
   "outputs": [
    {
     "name": "stdout",
     "output_type": "stream",
     "text": [
      "        date  ordersPerDateA  revenuePerDateA  ordersPerDateB  \\\n",
      "0 2019-08-01  24              148579           21               \n",
      "1 2019-08-02  20              93822            24               \n",
      "2 2019-08-03  24              112473           16               \n",
      "3 2019-08-04  16              70825            17               \n",
      "4 2019-08-05  25              124218           23               \n",
      "\n",
      "   revenuePerDateB  ordersCummulativeA  revenueCummulativeA  \\\n",
      "0  101217           24                  148579                \n",
      "1  165531           44                  242401                \n",
      "2  114248           68                  354874                \n",
      "3  108571           84                  425699                \n",
      "4  92428            109                 549917                \n",
      "\n",
      "   ordersCummulativeB  revenueCummulativeB  visitorsPerDateA  \\\n",
      "0  21                  101217               719                \n",
      "1  45                  266748               619                \n",
      "2  61                  380996               507                \n",
      "3  78                  489567               717                \n",
      "4  101                 581995               756                \n",
      "\n",
      "   visitorsPerDateB  visitorsCummulativeA  visitorsCummulativeB  \n",
      "0  713               719                   713                   \n",
      "1  581               1338                  1294                  \n",
      "2  509               1845                  1803                  \n",
      "3  770               2562                  2573                  \n",
      "4  707               3318                  3280                  \n",
      "\n",
      "p-value для сравнения среднего между группами 0.01679\n",
      "относительное различие в среднем между группами 0.138\n"
     ]
    }
   ],
   "source": [
    "visitorsADaily = visitors[visitors['group'] == 'A'][['date', 'visitors']]\n",
    "visitorsADaily.columns = ['date', 'visitorsPerDateA']\n",
    "\n",
    "visitorsACummulative = visitorsADaily.apply(\n",
    "    lambda x: visitorsADaily[visitorsADaily['date'] <= x['date']].agg(\n",
    "        {'date': 'max', 'visitorsPerDateA': 'sum'}\n",
    "    ),\n",
    "    axis=1,\n",
    ")\n",
    "visitorsACummulative.columns = ['date', 'visitorsCummulativeA']\n",
    "\n",
    "visitorsBDaily = visitors[visitors['group'] == 'B'][['date', 'visitors']]\n",
    "visitorsBDaily.columns = ['date', 'visitorsPerDateB']\n",
    "\n",
    "visitorsBCummulative = visitorsBDaily.apply(\n",
    "    lambda x: visitorsBDaily[visitorsBDaily['date'] <= x['date']].agg(\n",
    "        {'date': 'max', 'visitorsPerDateB': 'sum'}\n",
    "    ),\n",
    "    axis=1,\n",
    ")\n",
    "visitorsBCummulative.columns = ['date', 'visitorsCummulativeB']\n",
    "\n",
    "ordersADaily = (\n",
    "    orders[orders['group'] == 'A'][['date', 'transactionId', 'visitorId', 'revenue']]\n",
    "    .groupby('date', as_index=False)\n",
    "    .agg({'transactionId': pd.Series.nunique, 'revenue': 'sum'})\n",
    ")\n",
    "ordersADaily.columns = ['date', 'ordersPerDateA', 'revenuePerDateA']\n",
    "\n",
    "ordersACummulative = ordersADaily.apply(\n",
    "    lambda x: ordersADaily[ordersADaily['date'] <= x['date']].agg(\n",
    "        {'date': 'max', 'ordersPerDateA': 'sum', 'revenuePerDateA': 'sum'}\n",
    "    ),\n",
    "    axis=1,\n",
    ").sort_values(by=['date'])\n",
    "ordersACummulative.columns = [\n",
    "    'date',\n",
    "    'ordersCummulativeA',\n",
    "    'revenueCummulativeA',\n",
    "]\n",
    "\n",
    "ordersBDaily = (\n",
    "    orders[orders['group'] == 'B'][['date', 'transactionId', 'visitorId', 'revenue']]\n",
    "    .groupby('date', as_index=False)\n",
    "    .agg({'transactionId': pd.Series.nunique, 'revenue': 'sum'})\n",
    ")\n",
    "ordersBDaily.columns = ['date', 'ordersPerDateB', 'revenuePerDateB']\n",
    "\n",
    "ordersBCummulative = ordersBDaily.apply(\n",
    "    lambda x: ordersBDaily[ordersBDaily['date'] <= x['date']].agg(\n",
    "        {'date': 'max', 'ordersPerDateB': 'sum', 'revenuePerDateB': 'sum'}\n",
    "    ),\n",
    "    axis=1,\n",
    ").sort_values(by=['date'])\n",
    "ordersBCummulative.columns = [\n",
    "    'date',\n",
    "    'ordersCummulativeB',\n",
    "    'revenueCummulativeB',\n",
    "]\n",
    "\n",
    "data = (\n",
    "    ordersADaily.merge(\n",
    "        ordersBDaily, left_on='date', right_on='date', how='left'\n",
    "    )\n",
    "    .merge(ordersACummulative, left_on='date', right_on='date', how='left')\n",
    "    .merge(ordersBCummulative, left_on='date', right_on='date', how='left')\n",
    "    .merge(visitorsADaily, left_on='date', right_on='date', how='left')\n",
    "    .merge(visitorsBDaily, left_on='date', right_on='date', how='left')\n",
    "    .merge(visitorsACummulative, left_on='date', right_on='date', how='left')\n",
    "    .merge(visitorsBCummulative, left_on='date', right_on='date', how='left')\n",
    ")\n",
    "print(data.head(5)) \n",
    "print()\n",
    "ordersByUsersA = (\n",
    "    orders[orders['group'] == 'A']\n",
    "    .groupby('visitorId', as_index=False)\n",
    "    .agg({'transactionId': pd.Series.nunique})\n",
    ")\n",
    "ordersByUsersA.columns = ['visitorId', 'orders']\n",
    "\n",
    "ordersByUsersB = (\n",
    "    orders[orders['group'] == 'B']\n",
    "    .groupby('visitorId', as_index=False)\n",
    "    .agg({'transactionId': pd.Series.nunique})\n",
    ")\n",
    "ordersByUsersB.columns = ['visitorId', 'orders'] \n",
    "pd.Series(0, index=np.arange(data['visitorsPerDateA'].sum() - len(ordersByUsersA['orders'])), name='orders')\n",
    "[ordersByUsersA['orders'],pd.Series(0, index=np.arange(data['visitorsPerDateA'].sum() - len(ordersByUsersA['orders'])), name='orders')]\n",
    "sampleA = pd.concat([ordersByUsersA['orders'],pd.Series(0, index=np.arange(data['visitorsPerDateA'].sum() - len(ordersByUsersA['orders'])), name='orders')],axis=0)\n",
    "\n",
    "sampleB = pd.concat([ordersByUsersB['orders'],pd.Series(0, index=np.arange(data['visitorsPerDateB'].sum() - len(ordersByUsersB['orders'])), name='orders')],axis=0)\n",
    "ordersByUsersA = (orders[orders['group'] == 'A']\n",
    "    .groupby('visitorId', as_index=False)\n",
    "    .agg({'transactionId': pd.Series.nunique}))\n",
    "ordersByUsersA.columns = ['visitorId', 'orders']\n",
    "\n",
    "ordersByUsersB = (\n",
    "    orders[orders['group'] == 'B']\n",
    "    .groupby('visitorId', as_index=False)\n",
    "    .agg({'transactionId': pd.Series.nunique})\n",
    ")\n",
    "ordersByUsersB.columns = ['visitorId', 'orders']\n",
    "\n",
    "sampleA = pd.concat(\n",
    "    [\n",
    "        ordersByUsersA['orders'],\n",
    "        pd.Series(\n",
    "            0,\n",
    "            index=np.arange(\n",
    "                data['visitorsPerDateA'].sum() - len(ordersByUsersA['orders'])\n",
    "            ),\n",
    "            name='orders',\n",
    "        ),\n",
    "    ],\n",
    "    axis=0,\n",
    ")\n",
    "\n",
    "sampleB = pd.concat(\n",
    "    [\n",
    "        ordersByUsersB['orders'],\n",
    "        pd.Series(\n",
    "            0,\n",
    "            index=np.arange(\n",
    "                data['visitorsPerDateB'].sum() - len(ordersByUsersB['orders'])\n",
    "            ),\n",
    "            name='orders',\n",
    "        ),\n",
    "    ],\n",
    "    axis=0,\n",
    ")\n",
    "\n",
    "print('p-value для сравнения среднего между группами',\"{0:.5f}\".format(st.mannwhitneyu(sampleA, sampleB)[1]))\n",
    "\n",
    "print('относительное различие в среднем между группами',\"{0:.3f}\".format(sampleB.mean() / sampleA.mean() - 1))"
   ]
  },
  {
   "cell_type": "markdown",
   "metadata": {},
   "source": [
    "Вывод:\n",
    "\n",
    "По «сырым» данным есть различия в среднем числе заказов групп A и B. \n",
    "Число — p-value = 0.01679 меньше 0.05. Значит, нулевую гипотезу о том, что статистически значимых различий в среднем числе заказов между группами нет, отвергаем. \n",
    "Относительное различие в среднем количестве заказов между группами равно 13.8%."
   ]
  },
  {
   "cell_type": "markdown",
   "metadata": {},
   "source": [
    "##### Посчитаю статистическую значимость различий в среднем чеке заказа между группами по «сырым» данным. \n"
   ]
  },
  {
   "cell_type": "code",
   "execution_count": 31,
   "metadata": {},
   "outputs": [
    {
     "name": "stdout",
     "output_type": "stream",
     "text": [
      "P-value: 0.729\n",
      "Относительное различие в среднем чеке: 0.259\n"
     ]
    }
   ],
   "source": [
    "# Для расчета статистической значимости различий в среднем чеке, \n",
    "# передам критерию mannwhitneyu() данные о выручке с заказов. \n",
    "print('P-value: {0:.3f}'.format(st.mannwhitneyu(orders[orders['group']=='A']['revenue'], orders[orders['group']=='B']['revenue'])[1]))\n",
    "print('Относительное различие в среднем чеке: {0:.3f}'.format(orders[orders['group']=='B']['revenue'].mean()/orders[orders['group']=='A']['revenue'].mean()-1)) "
   ]
  },
  {
   "cell_type": "markdown",
   "metadata": {},
   "source": [
    "Вывод:\n",
    "\n",
    "P-value значительно больше 0.05 - 0,729. Значит, причин отвергать нулевую гипотезу и считать, что в среднем чеке есть различия, нет. \n",
    "Относительное различие в среднем чеке между группами равно 25.9%, т.е. средний чек группы B значительно выше, чем у группы А."
   ]
  },
  {
   "cell_type": "markdown",
   "metadata": {},
   "source": [
    "#### Анализ по \"очищенным\" данным:\n",
    "Найденные выше 95-й и 99-й перцентили средних чеков равны 28 000 и 58 233 рублям. А 95-й и 99-й перцентили количества заказов на одного пользователя равны 2 и 4 заказа на пользователя."
   ]
  },
  {
   "cell_type": "markdown",
   "metadata": {},
   "source": [
    "Приму за аномальных пользователей тех, кто совершил от 5 заказов или совершил заказ дороже 28 000 рублей. Таким образом уберу 5% пользователей с наибольшим числом заказов и 5% пользователей с дорогими заказами. "
   ]
  },
  {
   "cell_type": "code",
   "execution_count": 32,
   "metadata": {},
   "outputs": [
    {
     "name": "stdout",
     "output_type": "stream",
     "text": [
      "1099    148427295\n",
      "928     204675465\n",
      "684     358944393\n",
      "648     382846391\n",
      "1189    393266494\n",
      "Name: visitorId, dtype: int64\n",
      "Число аномальных пользователей: 59\n"
     ]
    }
   ],
   "source": [
    "# Сделаю срезы пользователей с числом заказов больше 4 — usersWithManyOrders и пользователей, \n",
    "# совершивших заказы дороже 28 000 — usersWithExpensiveOrders. Объединим их в таблице abnormalUsers. \n",
    "usersWithManyOrders = pd.concat(\n",
    "    [\n",
    "        ordersByUsersA[ordersByUsersA['orders'] > 4]['visitorId'],\n",
    "        ordersByUsersB[ordersByUsersB['orders'] > 4]['visitorId'],\n",
    "    ],\n",
    "    axis=0,\n",
    ")\n",
    "usersWithExpensiveOrders = orders[orders['revenue'] > 28000]['visitorId']\n",
    "abnormalUsers = (\n",
    "    pd.concat([usersWithManyOrders, usersWithExpensiveOrders], axis=0)\n",
    "    .drop_duplicates()\n",
    "    .sort_values()\n",
    ")\n",
    "print(abnormalUsers.head(5));\n",
    "print('Число аномальных пользователей:',abnormalUsers.shape[0]);"
   ]
  },
  {
   "cell_type": "markdown",
   "metadata": {},
   "source": [
    "##### Посчитаю статистическую значимость различий в среднем количестве заказов на посетителя между группами по «очищенным» данным.\n"
   ]
  },
  {
   "cell_type": "code",
   "execution_count": 33,
   "metadata": {},
   "outputs": [
    {
     "name": "stdout",
     "output_type": "stream",
     "text": [
      "p-value - данные без аномальных заказов: 0.018\n",
      "относительное различие в среднем между группами: 0.145\n"
     ]
    }
   ],
   "source": [
    "sampleAFiltered = pd.concat(\n",
    "    [\n",
    "        ordersByUsersA[\n",
    "            np.logical_not(ordersByUsersA['visitorId'].isin(abnormalUsers))\n",
    "        ]['orders'],\n",
    "        pd.Series(\n",
    "            0,\n",
    "            index=np.arange(\n",
    "                data['visitorsPerDateA'].sum() - len(ordersByUsersA['orders'])\n",
    "            ),\n",
    "            name='orders',\n",
    "        ),\n",
    "    ],\n",
    "    axis=0,\n",
    ")\n",
    "\n",
    "sampleBFiltered = pd.concat(\n",
    "    [\n",
    "        ordersByUsersB[\n",
    "            np.logical_not(ordersByUsersB['visitorId'].isin(abnormalUsers))\n",
    "        ]['orders'],\n",
    "        pd.Series(\n",
    "            0,\n",
    "            index=np.arange(\n",
    "                data['visitorsPerDateB'].sum() - len(ordersByUsersB['orders'])\n",
    "            ),\n",
    "            name='orders',\n",
    "        ),\n",
    "    ],\n",
    "    axis=0,\n",
    ") \n",
    "# Применю статистический критерий Манна-Уитни к полученным выборкам:\n",
    "print('p-value - данные без аномальных заказов: ''{0:.3f}'.format(st.mannwhitneyu(sampleAFiltered, sampleBFiltered)[1]))\n",
    "print('относительное различие в среднем между группами: ''{0:.3f}'.format(sampleBFiltered.mean()/sampleAFiltered.mean()-1)) "
   ]
  },
  {
   "cell_type": "markdown",
   "metadata": {},
   "source": [
    "Вывод: \n",
    "\n",
    "Влияние аномальных заказов на результаты незначительно. \n",
    "Как и в случае с \"не очищенными\" данными, между группами есть статистически значимая разница. \n",
    "Число — p-value = 0.018 (было 0.01679) меньше 0.05. Значит, нулевую гипотезу о том, что статистически значимых различий в среднем числе заказов между группами нет, отвергаем. \n",
    "Относительное различие в среднем количестве заказов между группами равно 14.5% (было 13.8%)"
   ]
  },
  {
   "cell_type": "markdown",
   "metadata": {},
   "source": [
    "##### Посчитаю статистическую значимость различий в среднем чеке заказа между группами по «очищенным» данным. \n"
   ]
  },
  {
   "cell_type": "code",
   "execution_count": 34,
   "metadata": {},
   "outputs": [
    {
     "name": "stdout",
     "output_type": "stream",
     "text": [
      "p-value - данные без аномальных заказов - ср.чек:0.961\n",
      "относительное различие:-0.014\n"
     ]
    }
   ],
   "source": [
    "print('p-value - данные без аномальных заказов - ср.чек:'\n",
    "    '{0:.3f}'.format(\n",
    "        st.mannwhitneyu(\n",
    "            orders[\n",
    "                np.logical_and(\n",
    "                    orders['group'] == 'A',\n",
    "                    np.logical_not(orders['visitorId'].isin(abnormalUsers)),\n",
    "                )\n",
    "            ]['revenue'],\n",
    "            orders[\n",
    "                np.logical_and(\n",
    "                    orders['group'] == 'B',\n",
    "                    np.logical_not(orders['visitorId'].isin(abnormalUsers)),\n",
    "                )\n",
    "            ]['revenue'],\n",
    "        )[1]\n",
    "    )\n",
    ")\n",
    "\n",
    "print('относительное различие:'\n",
    "    \"{0:.3f}\".format(\n",
    "        orders[\n",
    "            np.logical_and(\n",
    "                orders['group'] == 'B',\n",
    "                np.logical_not(orders['visitorId'].isin(abnormalUsers)),\n",
    "            )\n",
    "        ]['revenue'].mean()\n",
    "        / orders[\n",
    "            np.logical_and(\n",
    "                orders['group'] == 'A',\n",
    "                np.logical_not(orders['visitorId'].isin(abnormalUsers)),\n",
    "            )\n",
    "        ]['revenue'].mean()\n",
    "        - 1\n",
    "    )\n",
    ")"
   ]
  },
  {
   "cell_type": "markdown",
   "metadata": {},
   "source": [
    "Вывод:\n",
    "Не получилось отвергнуть нулевую гипотезу. P-value увеличился до 96% по сравнению с 73% данных с аномалиями. Значит, причин считать, что в среднем чеке есть различия, нет. Относительный прирост группы В к группе А сократилася с почти 26% до -1.4%.\n",
    "c 6%"
   ]
  },
  {
   "cell_type": "markdown",
   "metadata": {},
   "source": [
    "### Итоговые выводы:\n",
    "\n",
    "Часть 1. Приоритизация гипотез.\n",
    "\n",
    "Анализ 9 гипотез по увеличению выручки интернет-магазина с указанными параметрами Reach, Impact, Confidence, Effort.\n",
    "-\tНаиболее перспективными по методике ранжирования ICE оказались гипотезы 8, 0, 7, набравшие рейтинг выше\n",
    "-\tПо RICE наиболее перспективными выглядят гипотезы 7, , RICE выше в рейтинге оказалась гипотеза 2, где показатель reach - охват пользователей, которых затронет изменение = 8, тогда как для гипотезы 8, попавшей по ICE в первую тройку, reach =1, что повлияло на позицию в RICE фреймворке -снижение на пятую строчку рейтинга.\n",
    "\n",
    "Часть 2. \n",
    "Анализ A/B теста.\n",
    "\n",
    "Вывод по итогу предобработки - данных:\n",
    "- Пустых ячеек и дублей в исходных файлах не выявлено. \n",
    "- Dummy (не значимых) значений в полях с параметрами не выявлено; \n",
    "- Данные исходных файлов visitors и orders предоставлены за одинаковый интервал времени с 1 авг. по 31 авг.- 2019 года; \n",
    "- заголовки файла hypothesis приведены к нижнему регистру для единообразия. \n",
    "- Пересечений на уровне пользователя между группами нет. Попавший в одну из групп посетитель остаётся в этой группе до- конца теста. Количество уникальных пользователей в различных группах различается на 15%, что некорректно для теста.\n",
    "\n",
    "Проведена предварительная подготовка данных для построения графиков для оценки.\n",
    "\n",
    "Результаты тестов на данных с аномалиями:\n",
    "\n",
    "- Согласно графика кумулятивной выручки по группам, выручка почти равномерно увеличивается в течение всего теста. В середине месяца у группы B есть сильный всплеск, что может сигнализировать о колебаниях числа заказов, либо о появлении очень дорог х заказов в выборке. Необходимо проанализировать выбросы.\n",
    "\n",
    "- Средний чек тоже становится более равномерным в третьей декаде месяца: для группы A и продолжает медленно расти для группы B-падать. Возможно, резкий всплеск около 20 авг. вызван аномалиями в данных - заказы на крупные суммы. Вероятно, нужно устранить аномалии или использовать больше данных.\n",
    "\n",
    "- График относительного различия для среднего чека групп А и В нескольких точках резко «скачет», что также указывает на присутствие выбросов. Тем не менее, график показывает относительный рос Г среднего ека группы В.\n",
    "\n",
    "- графики конверсии в группах значительно колебались в первую неделю периода, но со второй недели конверсия групп установилась на определенном интервале, причем группа B показала лучший результат о конца месяца.\n",
    "\n",
    "- В начале теста группа B значительно проигрывала группе A, затем на 2й неделе вырвалась вперёд. Потом среднее количество заказов на посетителя для группы B снова уменьшалось, но теперь постепенно растёт. В целом отношение среднего количества заказов на посетителя ещё не установилось, и сейчас делать какие-либо выводы по тесту нельзя. Необходимо проанализировать аномалии для подтверждения.\n",
    "\n",
    "Анализ данных на выбросы:\n",
    "- На точечном графике количества заказов по пользователям много пользователей с 2-4 заказами. Их точная доля не ясна.\n",
    "- 95-й и 99-й перцентили количества заказов на пользователя - 2 и 4 заказа, соответственно.\n",
    "- 95-й и 99-й перцентили среднего чека в выборке - 28 000 руб. и 58233.2 руб., соответственно.\n",
    "\n",
    "Исходя из результатов выше видно, что в данных, скорее всего, есть выбросы; Границу для удаления выбросов можно установить на уровне 95%, так уровень среднего чека установим - 28000 (95%), а \n",
    "число заказов - 4 (99%).\n",
    "\n",
    "Посчитаю статистическую значимость различий в среднем числе заказов на посетителя и среднем чеке между группами по «сырым» данным — без удаления аномальных пользователей. \n",
    "\n",
    "Сформулирую гипотезы.\n",
    "- Нулевая: различий в среднем  между группами нет.\n",
    "- Альтернативная: различия в среднем между группами есть.\n",
    "\n",
    "Оценка статистической значимости показателей:\n",
    "\n",
    "По «сырым» данным:\n",
    "- есть различия в среднем числе заказов групп A и B. Число — p-value = 0.01679 меньше 0.05. Значит, нулевую гипотезу о том, что статистически значимых различий в среднем числе заказов между группами нет, отвергаем. Относительное различие в среднем количестве заказов между группами равно 13.8%.\n",
    "- P-value значительно больше 0.05 - 0,729. Значит, причин отвергать нулевую гипотезу и считать, что в среднем чеке есть различия, нет. Относительное различие B значительно выше, чем у группы А. т.е. средний чек группы B значительно выше, чем у группы А.\n",
    "\n",
    "По «очищенным» данным: \n",
    "- Оценка статистической значимости различий в среднем количестве заказов посетителя между группами по «очищенным» данным показала, что влияние аномальных заказов на результаты незначительно. Как и в случае с \"не очищенным данными, между группами есть статистически значимая разница. Число — p-value = 0.018 (было 0.01679) меньше 0.05. Значит, нулевую гипотезу о том, что статистически значимых различий в среднем числе заказов между группами нет, отвергаем. Относительное различие в среднем количестве заказов между группами равно 14.5% (было 13.8%).\n",
    "\n",
    "- По результатам оценки статистической значимости различий в среднем чеке заказа между группами не получилось отвергнуть нулевую гипотезу. P-value увеличился до 96% по сравнению с 73% данных с аномалиями. Значит, причин отвергать нулевую гипотезу и считать, что в среднем чеке есть различия, нет. Относительный прирост группы В к группе А сократился с почти 26% до -1.4%."
   ]
  },
  {
   "cell_type": "markdown",
   "metadata": {},
   "source": [
    "#### Примите решение по результатам теста и объясните его. Варианты решений: 1. Остановить тест, зафиксировать победу одной из групп. 2. Остановить тест, зафиксировать отсутствие различий между группами. 3. Продолжить тест.\n",
    "\n",
    "На основании вышесказанного, считаю, что нужно зафиксировать победу группы B и остановить тест:\n",
    "- выявлена статистически значима разница в среднем количестве заказов. Относительное преимущество группы на \"очищенных\" данных - 14.5% (то же показал анализ \"сырых\" данных).\n",
    "- группа В выигрывает по показателю относительного различия среднего чека в сырых данных, но уступает 1.4% после удаления выбросов. Тем не менее, P-value \"очищеннных\" данных увеличился до 96% по сравнению с 73% данных с аномалиями. Значит, причин отвергать нулевую гипотезу и считать, что в среднем чеке есть различия, нет.\n",
    "- графики изменения кумулятивной выручки, среднего чека и количества заказов говорят о преимуществе группы В."
   ]
  }
 ],
 "metadata": {
  "ExecuteTimeLog": [
   {
    "duration": 79,
    "start_time": "2024-04-26T20:19:20.027Z"
   },
   {
    "duration": 1396,
    "start_time": "2024-04-26T20:20:04.904Z"
   },
   {
    "duration": 18,
    "start_time": "2024-04-26T20:20:21.164Z"
   },
   {
    "duration": 2002,
    "start_time": "2024-04-26T20:20:43.645Z"
   },
   {
    "duration": 774,
    "start_time": "2024-04-26T20:20:52.525Z"
   },
   {
    "duration": 93,
    "start_time": "2024-04-26T20:21:09.125Z"
   },
   {
    "duration": 67,
    "start_time": "2024-04-26T20:21:32.284Z"
   },
   {
    "duration": 1236,
    "start_time": "2024-04-26T20:21:40.685Z"
   },
   {
    "duration": 10,
    "start_time": "2024-04-26T20:22:00.726Z"
   },
   {
    "duration": 871,
    "start_time": "2024-04-26T20:22:00.739Z"
   },
   {
    "duration": 96,
    "start_time": "2024-04-26T20:22:01.612Z"
   },
   {
    "duration": 29,
    "start_time": "2024-04-26T20:22:16.317Z"
   },
   {
    "duration": 17,
    "start_time": "2024-04-26T20:22:27.101Z"
   },
   {
    "duration": 31,
    "start_time": "2024-04-26T20:22:46.765Z"
   },
   {
    "duration": 5,
    "start_time": "2024-04-26T20:23:05.881Z"
   },
   {
    "duration": 71,
    "start_time": "2024-04-26T20:23:31.481Z"
   },
   {
    "duration": 267,
    "start_time": "2024-04-26T20:24:08.024Z"
   },
   {
    "duration": 70,
    "start_time": "2024-04-26T20:24:40.512Z"
   },
   {
    "duration": 267,
    "start_time": "2024-04-26T20:24:46.256Z"
   },
   {
    "duration": 277,
    "start_time": "2024-04-26T20:25:05.565Z"
   },
   {
    "duration": 250,
    "start_time": "2024-04-26T20:25:44.898Z"
   },
   {
    "duration": 6,
    "start_time": "2024-04-26T20:26:06.624Z"
   },
   {
    "duration": 505,
    "start_time": "2024-04-26T20:26:09.120Z"
   },
   {
    "duration": 68,
    "start_time": "2024-04-26T20:26:27.600Z"
   },
   {
    "duration": 511,
    "start_time": "2024-04-26T20:26:38.844Z"
   },
   {
    "duration": 508,
    "start_time": "2024-04-26T20:26:53.504Z"
   },
   {
    "duration": 8,
    "start_time": "2024-04-26T20:27:18.276Z"
   },
   {
    "duration": 6,
    "start_time": "2024-04-26T20:27:33.386Z"
   },
   {
    "duration": 148,
    "start_time": "2024-04-26T20:27:55.016Z"
   },
   {
    "duration": 104,
    "start_time": "2024-04-26T20:28:12.457Z"
   },
   {
    "duration": 102,
    "start_time": "2024-04-26T20:28:38.636Z"
   },
   {
    "duration": 101,
    "start_time": "2024-04-26T20:29:01.461Z"
   },
   {
    "duration": 65,
    "start_time": "2024-04-26T20:32:51.596Z"
   },
   {
    "duration": 7,
    "start_time": "2024-04-26T20:36:28.992Z"
   },
   {
    "duration": 6,
    "start_time": "2024-04-26T20:36:34.319Z"
   },
   {
    "duration": 467,
    "start_time": "2024-04-26T20:36:51.435Z"
   },
   {
    "duration": 246,
    "start_time": "2024-04-26T20:39:45.602Z"
   },
   {
    "duration": 222,
    "start_time": "2024-04-26T20:41:06.203Z"
   },
   {
    "duration": 240,
    "start_time": "2024-04-26T20:42:04.418Z"
   },
   {
    "duration": 260,
    "start_time": "2024-04-26T20:46:01.857Z"
   },
   {
    "duration": 96,
    "start_time": "2024-04-26T20:47:00.309Z"
   },
   {
    "duration": 351,
    "start_time": "2024-04-26T20:47:50.315Z"
   },
   {
    "duration": 262,
    "start_time": "2024-04-26T20:48:12.261Z"
   },
   {
    "duration": 265,
    "start_time": "2024-04-26T20:48:38.381Z"
   },
   {
    "duration": 66,
    "start_time": "2024-04-26T20:49:38.084Z"
   },
   {
    "duration": 70,
    "start_time": "2024-04-26T20:49:41.640Z"
   },
   {
    "duration": 241,
    "start_time": "2024-04-26T20:50:06.869Z"
   },
   {
    "duration": 236,
    "start_time": "2024-04-26T20:51:11.681Z"
   },
   {
    "duration": 230,
    "start_time": "2024-04-26T20:51:21.208Z"
   },
   {
    "duration": 259,
    "start_time": "2024-04-26T20:51:23.360Z"
   },
   {
    "duration": 245,
    "start_time": "2024-04-26T20:51:55.161Z"
   },
   {
    "duration": 246,
    "start_time": "2024-04-26T20:52:00.500Z"
   },
   {
    "duration": 236,
    "start_time": "2024-04-26T20:52:30.216Z"
   },
   {
    "duration": 67,
    "start_time": "2024-04-26T20:53:26.650Z"
   },
   {
    "duration": 82,
    "start_time": "2024-04-26T20:53:33.119Z"
   },
   {
    "duration": 318,
    "start_time": "2024-04-26T20:53:40.420Z"
   },
   {
    "duration": 269,
    "start_time": "2024-04-26T20:54:31.559Z"
   },
   {
    "duration": 375,
    "start_time": "2024-04-26T20:54:55.101Z"
   },
   {
    "duration": 73,
    "start_time": "2024-04-26T20:55:37.260Z"
   },
   {
    "duration": 7,
    "start_time": "2024-04-26T20:59:43.380Z"
   },
   {
    "duration": 144,
    "start_time": "2024-04-26T21:00:06.855Z"
   },
   {
    "duration": 147,
    "start_time": "2024-04-26T21:00:13.450Z"
   },
   {
    "duration": 212,
    "start_time": "2024-04-26T21:00:32.482Z"
   },
   {
    "duration": 8,
    "start_time": "2024-04-26T21:00:42.138Z"
   },
   {
    "duration": 9,
    "start_time": "2024-04-26T21:03:22.827Z"
   },
   {
    "duration": 90,
    "start_time": "2024-04-26T21:05:58.305Z"
   },
   {
    "duration": 65,
    "start_time": "2024-04-26T21:06:21.739Z"
   },
   {
    "duration": 8,
    "start_time": "2024-04-26T21:07:29.387Z"
   },
   {
    "duration": 10,
    "start_time": "2024-04-26T21:08:05.685Z"
   },
   {
    "duration": 11,
    "start_time": "2024-04-26T21:08:12.938Z"
   },
   {
    "duration": 9,
    "start_time": "2024-04-26T21:08:56.738Z"
   },
   {
    "duration": 11,
    "start_time": "2024-04-26T21:09:25.439Z"
   },
   {
    "duration": 9,
    "start_time": "2024-04-26T21:09:36.920Z"
   },
   {
    "duration": 736,
    "start_time": "2024-04-26T21:09:36.932Z"
   },
   {
    "duration": 125,
    "start_time": "2024-04-26T21:09:37.681Z"
   },
   {
    "duration": 18,
    "start_time": "2024-04-26T21:09:37.808Z"
   },
   {
    "duration": 30,
    "start_time": "2024-04-26T21:09:37.828Z"
   },
   {
    "duration": 489,
    "start_time": "2024-04-26T21:09:37.860Z"
   },
   {
    "duration": 4,
    "start_time": "2024-04-26T21:09:38.350Z"
   },
   {
    "duration": 17,
    "start_time": "2024-04-26T21:09:38.356Z"
   },
   {
    "duration": 141,
    "start_time": "2024-04-26T21:09:38.374Z"
   },
   {
    "duration": 101,
    "start_time": "2024-04-26T21:09:38.516Z"
   },
   {
    "duration": 75,
    "start_time": "2024-04-26T21:09:38.619Z"
   },
   {
    "duration": 7,
    "start_time": "2024-04-26T21:09:38.696Z"
   },
   {
    "duration": 1713,
    "start_time": "2024-04-26T21:09:38.705Z"
   },
   {
    "duration": 0,
    "start_time": "2024-04-26T21:09:40.420Z"
   },
   {
    "duration": 1183,
    "start_time": "2024-04-26T21:10:18.250Z"
   },
   {
    "duration": 1196,
    "start_time": "2024-04-26T21:10:41.203Z"
   },
   {
    "duration": 830,
    "start_time": "2024-04-26T21:10:42.402Z"
   },
   {
    "duration": 106,
    "start_time": "2024-04-26T21:10:43.235Z"
   },
   {
    "duration": 35,
    "start_time": "2024-04-26T21:10:43.342Z"
   },
   {
    "duration": 17,
    "start_time": "2024-04-26T21:10:43.388Z"
   },
   {
    "duration": 578,
    "start_time": "2024-04-26T21:10:43.407Z"
   },
   {
    "duration": 5,
    "start_time": "2024-04-26T21:10:43.987Z"
   },
   {
    "duration": 19,
    "start_time": "2024-04-26T21:10:43.994Z"
   },
   {
    "duration": 175,
    "start_time": "2024-04-26T21:10:44.014Z"
   },
   {
    "duration": 100,
    "start_time": "2024-04-26T21:10:44.191Z"
   },
   {
    "duration": 89,
    "start_time": "2024-04-26T21:10:44.292Z"
   },
   {
    "duration": 6,
    "start_time": "2024-04-26T21:10:44.388Z"
   },
   {
    "duration": 1314,
    "start_time": "2024-04-26T21:10:44.397Z"
   },
   {
    "duration": 0,
    "start_time": "2024-04-26T21:10:45.714Z"
   },
   {
    "duration": 0,
    "start_time": "2024-04-26T21:10:45.715Z"
   },
   {
    "duration": 0,
    "start_time": "2024-04-26T21:10:45.717Z"
   },
   {
    "duration": 0,
    "start_time": "2024-04-26T21:10:45.718Z"
   },
   {
    "duration": 8,
    "start_time": "2024-04-26T21:10:54.318Z"
   },
   {
    "duration": 759,
    "start_time": "2024-04-26T21:10:55.294Z"
   },
   {
    "duration": 104,
    "start_time": "2024-04-26T21:10:56.055Z"
   },
   {
    "duration": 19,
    "start_time": "2024-04-26T21:10:56.530Z"
   },
   {
    "duration": 23,
    "start_time": "2024-04-26T21:10:57.059Z"
   },
   {
    "duration": 453,
    "start_time": "2024-04-26T21:10:58.780Z"
   },
   {
    "duration": 3,
    "start_time": "2024-04-26T21:10:59.331Z"
   },
   {
    "duration": 9,
    "start_time": "2024-04-26T21:10:59.880Z"
   },
   {
    "duration": 150,
    "start_time": "2024-04-26T21:11:01.538Z"
   },
   {
    "duration": 98,
    "start_time": "2024-04-26T21:11:02.151Z"
   },
   {
    "duration": 71,
    "start_time": "2024-04-26T21:11:02.638Z"
   },
   {
    "duration": 8,
    "start_time": "2024-04-26T21:11:03.907Z"
   },
   {
    "duration": 1344,
    "start_time": "2024-04-26T21:11:05.138Z"
   },
   {
    "duration": 275,
    "start_time": "2024-04-26T21:11:29.727Z"
   },
   {
    "duration": 13,
    "start_time": "2024-04-26T21:11:36.079Z"
   },
   {
    "duration": 18,
    "start_time": "2024-04-26T21:11:36.978Z"
   },
   {
    "duration": 65,
    "start_time": "2024-04-26T21:14:02.958Z"
   },
   {
    "duration": 68,
    "start_time": "2024-04-26T21:14:35.203Z"
   },
   {
    "duration": 14,
    "start_time": "2024-04-26T21:14:41.291Z"
   },
   {
    "duration": 17,
    "start_time": "2024-04-26T21:14:51.046Z"
   },
   {
    "duration": 21,
    "start_time": "2024-04-26T21:15:10.813Z"
   },
   {
    "duration": 27,
    "start_time": "2024-04-26T21:15:33.458Z"
   },
   {
    "duration": 17,
    "start_time": "2024-04-26T21:16:00.147Z"
   },
   {
    "duration": 16,
    "start_time": "2024-04-26T21:16:18.046Z"
   },
   {
    "duration": 15,
    "start_time": "2024-04-26T21:16:22.534Z"
   },
   {
    "duration": 13,
    "start_time": "2024-04-26T21:19:13.818Z"
   },
   {
    "duration": 12,
    "start_time": "2024-04-26T21:19:26.246Z"
   },
   {
    "duration": 18,
    "start_time": "2024-04-26T21:19:41.153Z"
   },
   {
    "duration": 12,
    "start_time": "2024-04-26T21:19:54.325Z"
   },
   {
    "duration": 11,
    "start_time": "2024-04-26T21:19:59.398Z"
   },
   {
    "duration": 14,
    "start_time": "2024-04-26T21:20:12.806Z"
   },
   {
    "duration": 19,
    "start_time": "2024-04-26T21:20:25.098Z"
   },
   {
    "duration": 70,
    "start_time": "2024-04-26T21:20:51.158Z"
   },
   {
    "duration": 21,
    "start_time": "2024-04-26T21:21:22.910Z"
   },
   {
    "duration": 16,
    "start_time": "2024-04-26T21:21:39.605Z"
   },
   {
    "duration": 15,
    "start_time": "2024-04-26T21:21:58.137Z"
   },
   {
    "duration": 16,
    "start_time": "2024-04-26T21:22:02.758Z"
   },
   {
    "duration": 71,
    "start_time": "2024-04-26T21:23:27.773Z"
   },
   {
    "duration": 14,
    "start_time": "2024-04-26T21:23:34.597Z"
   },
   {
    "duration": 254,
    "start_time": "2024-04-26T21:28:04.477Z"
   },
   {
    "duration": 133,
    "start_time": "2024-04-26T21:28:38.996Z"
   },
   {
    "duration": 139,
    "start_time": "2024-04-26T21:28:51.833Z"
   },
   {
    "duration": 141,
    "start_time": "2024-04-26T21:29:08.189Z"
   },
   {
    "duration": 213,
    "start_time": "2024-04-26T21:29:27.669Z"
   },
   {
    "duration": 14,
    "start_time": "2024-04-26T21:29:35.313Z"
   },
   {
    "duration": 13,
    "start_time": "2024-04-26T21:30:05.865Z"
   },
   {
    "duration": 118,
    "start_time": "2024-04-26T21:30:12.278Z"
   },
   {
    "duration": 80,
    "start_time": "2024-04-26T21:30:17.908Z"
   },
   {
    "duration": 14,
    "start_time": "2024-04-26T21:30:22.124Z"
   },
   {
    "duration": 14,
    "start_time": "2024-04-26T21:30:28.236Z"
   },
   {
    "duration": 14,
    "start_time": "2024-04-26T21:30:51.540Z"
   },
   {
    "duration": 13,
    "start_time": "2024-04-26T21:31:03.396Z"
   },
   {
    "duration": 14,
    "start_time": "2024-04-26T21:31:08.296Z"
   },
   {
    "duration": 27,
    "start_time": "2024-04-26T21:34:26.674Z"
   },
   {
    "duration": 82,
    "start_time": "2024-04-26T21:34:51.756Z"
   },
   {
    "duration": 409,
    "start_time": "2024-04-26T21:35:35.488Z"
   },
   {
    "duration": 6,
    "start_time": "2024-04-26T21:37:57.772Z"
   },
   {
    "duration": 6,
    "start_time": "2024-04-26T21:39:51.532Z"
   },
   {
    "duration": 345,
    "start_time": "2024-04-26T21:42:22.674Z"
   },
   {
    "duration": 4,
    "start_time": "2024-04-26T21:43:55.876Z"
   },
   {
    "duration": 6,
    "start_time": "2024-04-26T21:44:45.996Z"
   },
   {
    "duration": 9,
    "start_time": "2024-04-26T22:01:57.369Z"
   },
   {
    "duration": 12,
    "start_time": "2024-04-26T22:02:02.349Z"
   },
   {
    "duration": 13,
    "start_time": "2024-04-26T22:05:35.589Z"
   },
   {
    "duration": 75,
    "start_time": "2024-04-26T22:07:49.614Z"
   },
   {
    "duration": 9,
    "start_time": "2024-04-26T22:08:33.218Z"
   },
   {
    "duration": 9,
    "start_time": "2024-04-26T22:09:25.925Z"
   },
   {
    "duration": 9,
    "start_time": "2024-04-26T22:10:04.588Z"
   },
   {
    "duration": 10,
    "start_time": "2024-04-26T22:10:20.476Z"
   },
   {
    "duration": 9,
    "start_time": "2024-04-26T22:10:48.776Z"
   },
   {
    "duration": 4,
    "start_time": "2024-04-26T22:12:34.079Z"
   },
   {
    "duration": 9,
    "start_time": "2024-04-26T22:16:51.837Z"
   },
   {
    "duration": 5,
    "start_time": "2024-04-26T22:18:18.798Z"
   },
   {
    "duration": 427,
    "start_time": "2024-04-26T22:18:22.093Z"
   },
   {
    "duration": 12,
    "start_time": "2024-04-26T22:20:33.297Z"
   },
   {
    "duration": 8,
    "start_time": "2024-04-26T22:20:41.873Z"
   },
   {
    "duration": 9,
    "start_time": "2024-04-26T22:20:54.345Z"
   },
   {
    "duration": 17,
    "start_time": "2024-04-26T22:21:45.134Z"
   },
   {
    "duration": 7,
    "start_time": "2024-04-26T22:22:17.861Z"
   },
   {
    "duration": 753,
    "start_time": "2024-04-26T22:22:17.870Z"
   },
   {
    "duration": 80,
    "start_time": "2024-04-26T22:22:18.625Z"
   },
   {
    "duration": 16,
    "start_time": "2024-04-26T22:22:18.706Z"
   },
   {
    "duration": 13,
    "start_time": "2024-04-26T22:22:18.725Z"
   },
   {
    "duration": 455,
    "start_time": "2024-04-26T22:22:18.739Z"
   },
   {
    "duration": 4,
    "start_time": "2024-04-26T22:22:19.195Z"
   },
   {
    "duration": 6,
    "start_time": "2024-04-26T22:22:19.200Z"
   },
   {
    "duration": 156,
    "start_time": "2024-04-26T22:22:19.208Z"
   },
   {
    "duration": 83,
    "start_time": "2024-04-26T22:22:19.369Z"
   },
   {
    "duration": 73,
    "start_time": "2024-04-26T22:22:19.453Z"
   },
   {
    "duration": 253,
    "start_time": "2024-04-26T22:22:19.528Z"
   },
   {
    "duration": 13,
    "start_time": "2024-04-26T22:22:19.783Z"
   },
   {
    "duration": 7,
    "start_time": "2024-04-26T22:22:19.798Z"
   },
   {
    "duration": 14,
    "start_time": "2024-04-26T22:22:48.678Z"
   },
   {
    "duration": 10,
    "start_time": "2024-04-26T22:23:06.558Z"
   },
   {
    "duration": 8,
    "start_time": "2024-04-26T22:23:19.710Z"
   },
   {
    "duration": 7,
    "start_time": "2024-04-26T22:23:30.635Z"
   },
   {
    "duration": 13,
    "start_time": "2024-04-26T22:26:25.593Z"
   },
   {
    "duration": 15,
    "start_time": "2024-04-26T22:26:41.303Z"
   },
   {
    "duration": 10,
    "start_time": "2024-04-26T22:26:51.765Z"
   },
   {
    "duration": 10,
    "start_time": "2024-04-26T22:27:01.989Z"
   },
   {
    "duration": 7,
    "start_time": "2024-04-26T22:27:23.707Z"
   },
   {
    "duration": 762,
    "start_time": "2024-04-26T22:27:23.716Z"
   },
   {
    "duration": 76,
    "start_time": "2024-04-26T22:27:24.479Z"
   },
   {
    "duration": 16,
    "start_time": "2024-04-26T22:27:24.570Z"
   },
   {
    "duration": 48,
    "start_time": "2024-04-26T22:27:24.588Z"
   },
   {
    "duration": 447,
    "start_time": "2024-04-26T22:27:24.638Z"
   },
   {
    "duration": 4,
    "start_time": "2024-04-26T22:27:25.087Z"
   },
   {
    "duration": 26,
    "start_time": "2024-04-26T22:27:25.092Z"
   },
   {
    "duration": 170,
    "start_time": "2024-04-26T22:27:25.120Z"
   },
   {
    "duration": 92,
    "start_time": "2024-04-26T22:27:25.292Z"
   },
   {
    "duration": 63,
    "start_time": "2024-04-26T22:27:25.386Z"
   },
   {
    "duration": 261,
    "start_time": "2024-04-26T22:27:25.451Z"
   },
   {
    "duration": 14,
    "start_time": "2024-04-26T22:27:25.713Z"
   },
   {
    "duration": 9,
    "start_time": "2024-04-26T22:27:25.729Z"
   },
   {
    "duration": 9,
    "start_time": "2024-04-26T22:27:29.757Z"
   },
   {
    "duration": 1141,
    "start_time": "2024-04-26T22:27:38.215Z"
   },
   {
    "duration": 800,
    "start_time": "2024-04-26T22:27:39.358Z"
   },
   {
    "duration": 94,
    "start_time": "2024-04-26T22:27:40.160Z"
   },
   {
    "duration": 17,
    "start_time": "2024-04-26T22:27:40.269Z"
   },
   {
    "duration": 14,
    "start_time": "2024-04-26T22:27:40.289Z"
   },
   {
    "duration": 528,
    "start_time": "2024-04-26T22:27:40.305Z"
   },
   {
    "duration": 5,
    "start_time": "2024-04-26T22:27:40.835Z"
   },
   {
    "duration": 9,
    "start_time": "2024-04-26T22:27:40.841Z"
   },
   {
    "duration": 166,
    "start_time": "2024-04-26T22:27:40.851Z"
   },
   {
    "duration": 89,
    "start_time": "2024-04-26T22:27:41.018Z"
   },
   {
    "duration": 73,
    "start_time": "2024-04-26T22:27:41.109Z"
   },
   {
    "duration": 238,
    "start_time": "2024-04-26T22:27:41.184Z"
   },
   {
    "duration": 15,
    "start_time": "2024-04-26T22:27:41.425Z"
   },
   {
    "duration": 27,
    "start_time": "2024-04-26T22:27:41.443Z"
   },
   {
    "duration": 11,
    "start_time": "2024-04-26T22:27:41.472Z"
   },
   {
    "duration": 9,
    "start_time": "2024-04-26T22:27:41.484Z"
   },
   {
    "duration": 557,
    "start_time": "2024-04-26T22:27:41.495Z"
   },
   {
    "duration": 0,
    "start_time": "2024-04-26T22:27:42.054Z"
   },
   {
    "duration": 0,
    "start_time": "2024-04-26T22:27:42.055Z"
   },
   {
    "duration": 0,
    "start_time": "2024-04-26T22:27:42.056Z"
   },
   {
    "duration": 0,
    "start_time": "2024-04-26T22:27:42.057Z"
   },
   {
    "duration": 0,
    "start_time": "2024-04-26T22:27:42.058Z"
   },
   {
    "duration": 0,
    "start_time": "2024-04-26T22:27:42.059Z"
   },
   {
    "duration": 0,
    "start_time": "2024-04-26T22:27:42.069Z"
   },
   {
    "duration": 9,
    "start_time": "2024-04-26T22:28:02.505Z"
   },
   {
    "duration": 15,
    "start_time": "2024-04-26T22:28:03.790Z"
   },
   {
    "duration": 10,
    "start_time": "2024-04-26T22:31:50.829Z"
   },
   {
    "duration": 3,
    "start_time": "2024-04-26T22:35:59.486Z"
   },
   {
    "duration": 722,
    "start_time": "2024-04-26T22:35:59.508Z"
   },
   {
    "duration": 87,
    "start_time": "2024-04-26T22:36:00.233Z"
   },
   {
    "duration": 65,
    "start_time": "2024-04-26T22:36:00.321Z"
   },
   {
    "duration": 90,
    "start_time": "2024-04-26T22:36:00.387Z"
   },
   {
    "duration": 483,
    "start_time": "2024-04-26T22:36:00.480Z"
   },
   {
    "duration": 5,
    "start_time": "2024-04-26T22:36:00.969Z"
   },
   {
    "duration": 39,
    "start_time": "2024-04-26T22:36:00.975Z"
   },
   {
    "duration": 160,
    "start_time": "2024-04-26T22:36:01.016Z"
   },
   {
    "duration": 86,
    "start_time": "2024-04-26T22:36:01.177Z"
   },
   {
    "duration": 65,
    "start_time": "2024-04-26T22:36:01.269Z"
   },
   {
    "duration": 243,
    "start_time": "2024-04-26T22:36:01.336Z"
   },
   {
    "duration": 14,
    "start_time": "2024-04-26T22:36:01.581Z"
   },
   {
    "duration": 63,
    "start_time": "2024-04-26T22:36:01.597Z"
   },
   {
    "duration": 72,
    "start_time": "2024-04-26T22:36:01.663Z"
   },
   {
    "duration": 46,
    "start_time": "2024-04-26T22:36:01.737Z"
   },
   {
    "duration": 490,
    "start_time": "2024-04-26T22:36:01.785Z"
   },
   {
    "duration": 0,
    "start_time": "2024-04-26T22:36:02.277Z"
   },
   {
    "duration": 0,
    "start_time": "2024-04-26T22:36:02.279Z"
   },
   {
    "duration": 0,
    "start_time": "2024-04-26T22:36:02.281Z"
   },
   {
    "duration": 0,
    "start_time": "2024-04-26T22:36:02.282Z"
   },
   {
    "duration": 0,
    "start_time": "2024-04-26T22:36:02.283Z"
   },
   {
    "duration": 0,
    "start_time": "2024-04-26T22:36:02.285Z"
   },
   {
    "duration": 0,
    "start_time": "2024-04-26T22:36:02.286Z"
   },
   {
    "duration": 2,
    "start_time": "2024-04-26T22:36:14.546Z"
   },
   {
    "duration": 744,
    "start_time": "2024-04-26T22:36:15.052Z"
   },
   {
    "duration": 76,
    "start_time": "2024-04-26T22:36:15.934Z"
   },
   {
    "duration": 18,
    "start_time": "2024-04-26T22:36:16.692Z"
   },
   {
    "duration": 16,
    "start_time": "2024-04-26T22:36:17.337Z"
   },
   {
    "duration": 476,
    "start_time": "2024-04-26T22:36:20.161Z"
   },
   {
    "duration": 4,
    "start_time": "2024-04-26T22:36:20.945Z"
   },
   {
    "duration": 4,
    "start_time": "2024-04-26T22:36:21.777Z"
   },
   {
    "duration": 122,
    "start_time": "2024-04-26T22:36:22.637Z"
   },
   {
    "duration": 83,
    "start_time": "2024-04-26T22:36:23.993Z"
   },
   {
    "duration": 66,
    "start_time": "2024-04-26T22:36:24.937Z"
   },
   {
    "duration": 213,
    "start_time": "2024-04-26T22:36:26.484Z"
   },
   {
    "duration": 19,
    "start_time": "2024-04-26T22:36:27.353Z"
   },
   {
    "duration": 10,
    "start_time": "2024-04-26T22:36:29.637Z"
   },
   {
    "duration": 9,
    "start_time": "2024-04-26T22:36:31.177Z"
   },
   {
    "duration": 6,
    "start_time": "2024-04-26T22:36:32.802Z"
   },
   {
    "duration": 10,
    "start_time": "2024-04-26T22:40:08.250Z"
   },
   {
    "duration": 10,
    "start_time": "2024-04-26T22:40:51.898Z"
   },
   {
    "duration": 7,
    "start_time": "2024-04-26T22:40:53.376Z"
   },
   {
    "duration": 11,
    "start_time": "2024-04-26T22:41:02.273Z"
   },
   {
    "duration": 9,
    "start_time": "2024-04-26T22:41:03.760Z"
   },
   {
    "duration": 10,
    "start_time": "2024-04-26T22:41:35.470Z"
   },
   {
    "duration": 10,
    "start_time": "2024-04-26T22:42:40.365Z"
   },
   {
    "duration": 621,
    "start_time": "2024-04-26T22:42:51.296Z"
   },
   {
    "duration": 709,
    "start_time": "2024-04-26T22:42:51.919Z"
   },
   {
    "duration": 85,
    "start_time": "2024-04-26T22:42:52.630Z"
   },
   {
    "duration": 17,
    "start_time": "2024-04-26T22:42:52.717Z"
   },
   {
    "duration": 35,
    "start_time": "2024-04-26T22:42:52.736Z"
   },
   {
    "duration": 508,
    "start_time": "2024-04-26T22:42:52.772Z"
   },
   {
    "duration": 4,
    "start_time": "2024-04-26T22:42:53.282Z"
   },
   {
    "duration": 16,
    "start_time": "2024-04-26T22:42:53.287Z"
   },
   {
    "duration": 149,
    "start_time": "2024-04-26T22:42:53.304Z"
   },
   {
    "duration": 91,
    "start_time": "2024-04-26T22:42:53.455Z"
   },
   {
    "duration": 69,
    "start_time": "2024-04-26T22:42:53.548Z"
   },
   {
    "duration": 253,
    "start_time": "2024-04-26T22:42:53.619Z"
   },
   {
    "duration": 12,
    "start_time": "2024-04-26T22:42:53.874Z"
   },
   {
    "duration": 9,
    "start_time": "2024-04-26T22:42:53.889Z"
   },
   {
    "duration": 10,
    "start_time": "2024-04-26T22:42:53.899Z"
   },
   {
    "duration": 6,
    "start_time": "2024-04-26T22:42:53.911Z"
   },
   {
    "duration": 508,
    "start_time": "2024-04-26T22:42:53.918Z"
   },
   {
    "duration": 0,
    "start_time": "2024-04-26T22:42:54.428Z"
   },
   {
    "duration": 0,
    "start_time": "2024-04-26T22:42:54.429Z"
   },
   {
    "duration": 0,
    "start_time": "2024-04-26T22:42:54.430Z"
   },
   {
    "duration": 0,
    "start_time": "2024-04-26T22:42:54.431Z"
   },
   {
    "duration": 0,
    "start_time": "2024-04-26T22:42:54.432Z"
   },
   {
    "duration": 0,
    "start_time": "2024-04-26T22:42:54.433Z"
   },
   {
    "duration": 0,
    "start_time": "2024-04-26T22:42:54.434Z"
   },
   {
    "duration": 9,
    "start_time": "2024-04-26T22:43:03.434Z"
   },
   {
    "duration": 11,
    "start_time": "2024-04-26T22:43:06.612Z"
   },
   {
    "duration": 6,
    "start_time": "2024-04-26T22:43:20.425Z"
   },
   {
    "duration": 432,
    "start_time": "2024-04-26T22:43:21.033Z"
   },
   {
    "duration": 4,
    "start_time": "2024-04-26T22:43:22.251Z"
   },
   {
    "duration": 10,
    "start_time": "2024-04-26T22:43:22.923Z"
   },
   {
    "duration": 6,
    "start_time": "2024-04-26T22:43:24.137Z"
   },
   {
    "duration": 3,
    "start_time": "2024-04-26T22:43:25.489Z"
   },
   {
    "duration": 5,
    "start_time": "2024-04-26T22:45:33.697Z"
   },
   {
    "duration": 6,
    "start_time": "2024-04-26T22:46:53.033Z"
   },
   {
    "duration": 650,
    "start_time": "2024-04-26T22:47:54.447Z"
   },
   {
    "duration": 710,
    "start_time": "2024-04-26T22:47:55.099Z"
   },
   {
    "duration": 93,
    "start_time": "2024-04-26T22:47:55.811Z"
   },
   {
    "duration": 17,
    "start_time": "2024-04-26T22:47:55.905Z"
   },
   {
    "duration": 15,
    "start_time": "2024-04-26T22:47:55.924Z"
   },
   {
    "duration": 517,
    "start_time": "2024-04-26T22:47:55.940Z"
   },
   {
    "duration": 10,
    "start_time": "2024-04-26T22:47:56.459Z"
   },
   {
    "duration": 23,
    "start_time": "2024-04-26T22:47:56.471Z"
   },
   {
    "duration": 169,
    "start_time": "2024-04-26T22:47:56.495Z"
   },
   {
    "duration": 90,
    "start_time": "2024-04-26T22:47:56.666Z"
   },
   {
    "duration": 71,
    "start_time": "2024-04-26T22:47:56.757Z"
   },
   {
    "duration": 278,
    "start_time": "2024-04-26T22:47:56.829Z"
   },
   {
    "duration": 15,
    "start_time": "2024-04-26T22:47:57.109Z"
   },
   {
    "duration": 9,
    "start_time": "2024-04-26T22:47:57.127Z"
   },
   {
    "duration": 32,
    "start_time": "2024-04-26T22:47:57.138Z"
   },
   {
    "duration": 5,
    "start_time": "2024-04-26T22:47:57.172Z"
   },
   {
    "duration": 498,
    "start_time": "2024-04-26T22:47:57.179Z"
   },
   {
    "duration": 0,
    "start_time": "2024-04-26T22:47:57.679Z"
   },
   {
    "duration": 0,
    "start_time": "2024-04-26T22:47:57.681Z"
   },
   {
    "duration": 0,
    "start_time": "2024-04-26T22:47:57.682Z"
   },
   {
    "duration": 0,
    "start_time": "2024-04-26T22:47:57.683Z"
   },
   {
    "duration": 0,
    "start_time": "2024-04-26T22:47:57.684Z"
   },
   {
    "duration": 0,
    "start_time": "2024-04-26T22:47:57.685Z"
   },
   {
    "duration": 0,
    "start_time": "2024-04-26T22:47:57.686Z"
   },
   {
    "duration": 10,
    "start_time": "2024-04-26T23:05:25.046Z"
   },
   {
    "duration": 8,
    "start_time": "2024-04-26T23:05:28.518Z"
   },
   {
    "duration": 2,
    "start_time": "2024-04-26T23:05:32.918Z"
   },
   {
    "duration": 7,
    "start_time": "2024-04-26T23:05:33.738Z"
   },
   {
    "duration": 8,
    "start_time": "2024-04-26T23:05:34.954Z"
   },
   {
    "duration": 9,
    "start_time": "2024-04-26T23:05:37.934Z"
   },
   {
    "duration": 8,
    "start_time": "2024-04-26T23:05:38.738Z"
   },
   {
    "duration": 8,
    "start_time": "2024-04-26T23:05:39.357Z"
   },
   {
    "duration": 8,
    "start_time": "2024-04-26T23:05:40.078Z"
   },
   {
    "duration": 9,
    "start_time": "2024-04-26T23:08:32.814Z"
   },
   {
    "duration": 10,
    "start_time": "2024-04-26T23:12:02.437Z"
   },
   {
    "duration": 8,
    "start_time": "2024-04-26T23:12:39.838Z"
   },
   {
    "duration": 8,
    "start_time": "2024-04-26T23:26:54.887Z"
   },
   {
    "duration": 10,
    "start_time": "2024-04-26T23:26:55.579Z"
   },
   {
    "duration": 11,
    "start_time": "2024-04-26T23:26:56.442Z"
   },
   {
    "duration": 11,
    "start_time": "2024-04-26T23:26:56.646Z"
   },
   {
    "duration": 8,
    "start_time": "2024-04-26T23:26:56.886Z"
   },
   {
    "duration": 9,
    "start_time": "2024-04-26T23:26:57.086Z"
   },
   {
    "duration": 8,
    "start_time": "2024-04-26T23:26:58.678Z"
   },
   {
    "duration": 92,
    "start_time": "2024-04-26T23:45:58.276Z"
   },
   {
    "duration": 64,
    "start_time": "2024-04-26T23:45:58.990Z"
   },
   {
    "duration": 274,
    "start_time": "2024-04-26T23:46:00.400Z"
   },
   {
    "duration": 16,
    "start_time": "2024-04-26T23:46:01.299Z"
   },
   {
    "duration": 10,
    "start_time": "2024-04-26T23:46:03.692Z"
   },
   {
    "duration": 9,
    "start_time": "2024-04-26T23:46:08.672Z"
   },
   {
    "duration": 10,
    "start_time": "2024-04-26T23:47:05.428Z"
   },
   {
    "duration": 11,
    "start_time": "2024-04-26T23:47:06.179Z"
   },
   {
    "duration": 9,
    "start_time": "2024-04-26T23:47:06.847Z"
   },
   {
    "duration": 9,
    "start_time": "2024-04-27T06:47:34.936Z"
   },
   {
    "duration": 8,
    "start_time": "2024-04-27T06:47:39.860Z"
   },
   {
    "duration": 6,
    "start_time": "2024-04-27T06:47:41.161Z"
   },
   {
    "duration": 3,
    "start_time": "2024-04-27T06:47:42.160Z"
   },
   {
    "duration": 16,
    "start_time": "2024-04-27T06:47:43.317Z"
   },
   {
    "duration": 6,
    "start_time": "2024-04-27T06:47:44.331Z"
   },
   {
    "duration": 9,
    "start_time": "2024-04-27T06:47:45.153Z"
   },
   {
    "duration": 51,
    "start_time": "2024-04-27T06:47:48.881Z"
   },
   {
    "duration": 8,
    "start_time": "2024-04-27T06:48:22.689Z"
   },
   {
    "duration": 11,
    "start_time": "2024-04-27T06:48:24.723Z"
   },
   {
    "duration": 3,
    "start_time": "2024-04-27T06:48:25.532Z"
   },
   {
    "duration": 7,
    "start_time": "2024-04-27T06:48:57.433Z"
   },
   {
    "duration": 6,
    "start_time": "2024-04-27T06:48:58.259Z"
   },
   {
    "duration": 10,
    "start_time": "2024-04-27T06:48:59.348Z"
   },
   {
    "duration": 6,
    "start_time": "2024-04-27T06:49:03.840Z"
   },
   {
    "duration": 6,
    "start_time": "2024-04-27T06:49:17.996Z"
   },
   {
    "duration": 6,
    "start_time": "2024-04-27T06:49:35.160Z"
   },
   {
    "duration": 6,
    "start_time": "2024-04-27T06:51:19.980Z"
   },
   {
    "duration": 7,
    "start_time": "2024-04-27T06:51:38.560Z"
   },
   {
    "duration": 829,
    "start_time": "2024-04-27T06:51:45.740Z"
   },
   {
    "duration": 1525,
    "start_time": "2024-04-27T06:51:46.571Z"
   },
   {
    "duration": 87,
    "start_time": "2024-04-27T06:51:48.097Z"
   },
   {
    "duration": 297,
    "start_time": "2024-04-27T06:51:48.185Z"
   },
   {
    "duration": 121,
    "start_time": "2024-04-27T06:51:48.485Z"
   },
   {
    "duration": 556,
    "start_time": "2024-04-27T06:51:48.608Z"
   },
   {
    "duration": 3,
    "start_time": "2024-04-27T06:51:49.166Z"
   },
   {
    "duration": 8,
    "start_time": "2024-04-27T06:51:49.171Z"
   },
   {
    "duration": 178,
    "start_time": "2024-04-27T06:51:49.181Z"
   },
   {
    "duration": 89,
    "start_time": "2024-04-27T06:51:49.361Z"
   },
   {
    "duration": 86,
    "start_time": "2024-04-27T06:51:49.451Z"
   },
   {
    "duration": 273,
    "start_time": "2024-04-27T06:51:49.539Z"
   },
   {
    "duration": 19,
    "start_time": "2024-04-27T06:51:49.820Z"
   },
   {
    "duration": 11,
    "start_time": "2024-04-27T06:51:49.841Z"
   },
   {
    "duration": 12,
    "start_time": "2024-04-27T06:51:49.853Z"
   },
   {
    "duration": 8,
    "start_time": "2024-04-27T06:51:49.867Z"
   },
   {
    "duration": 15,
    "start_time": "2024-04-27T06:51:49.877Z"
   },
   {
    "duration": 41,
    "start_time": "2024-04-27T06:51:49.894Z"
   },
   {
    "duration": 6,
    "start_time": "2024-04-27T06:51:49.937Z"
   },
   {
    "duration": 12,
    "start_time": "2024-04-27T06:51:49.945Z"
   },
   {
    "duration": 9,
    "start_time": "2024-04-27T06:51:49.958Z"
   },
   {
    "duration": 6,
    "start_time": "2024-04-27T06:51:49.968Z"
   },
   {
    "duration": 36,
    "start_time": "2024-04-27T06:51:49.976Z"
   },
   {
    "duration": 480,
    "start_time": "2024-04-27T06:52:26.767Z"
   },
   {
    "duration": 3,
    "start_time": "2024-04-27T06:52:38.160Z"
   },
   {
    "duration": 7,
    "start_time": "2024-04-27T06:52:41.337Z"
   },
   {
    "duration": 8,
    "start_time": "2024-04-27T06:52:45.268Z"
   },
   {
    "duration": 9,
    "start_time": "2024-04-27T06:52:55.352Z"
   },
   {
    "duration": 9,
    "start_time": "2024-04-27T06:52:56.068Z"
   },
   {
    "duration": 5,
    "start_time": "2024-04-27T06:52:56.708Z"
   },
   {
    "duration": 7,
    "start_time": "2024-04-27T06:52:57.299Z"
   },
   {
    "duration": 6,
    "start_time": "2024-04-27T06:52:57.959Z"
   },
   {
    "duration": 3,
    "start_time": "2024-04-27T06:52:58.551Z"
   },
   {
    "duration": 8,
    "start_time": "2024-04-27T06:52:59.176Z"
   },
   {
    "duration": 6,
    "start_time": "2024-04-27T06:52:59.799Z"
   },
   {
    "duration": 10,
    "start_time": "2024-04-27T06:53:00.439Z"
   },
   {
    "duration": 408,
    "start_time": "2024-04-27T06:53:01.040Z"
   },
   {
    "duration": 3,
    "start_time": "2024-04-27T06:53:08.991Z"
   },
   {
    "duration": 9,
    "start_time": "2024-04-27T06:53:09.620Z"
   },
   {
    "duration": 8,
    "start_time": "2024-04-27T06:53:14.099Z"
   },
   {
    "duration": 7,
    "start_time": "2024-04-27T06:53:14.960Z"
   },
   {
    "duration": 8,
    "start_time": "2024-04-27T06:53:15.756Z"
   },
   {
    "duration": 7,
    "start_time": "2024-04-27T06:53:16.584Z"
   },
   {
    "duration": 7,
    "start_time": "2024-04-27T06:53:19.476Z"
   },
   {
    "duration": 8,
    "start_time": "2024-04-27T06:53:22.835Z"
   },
   {
    "duration": 8,
    "start_time": "2024-04-27T06:53:29.564Z"
   },
   {
    "duration": 125,
    "start_time": "2024-04-27T06:57:59.819Z"
   },
   {
    "duration": 876,
    "start_time": "2024-04-27T06:58:05.275Z"
   },
   {
    "duration": 12,
    "start_time": "2024-04-27T06:58:06.153Z"
   },
   {
    "duration": 650,
    "start_time": "2024-04-27T06:58:58.020Z"
   },
   {
    "duration": 1499,
    "start_time": "2024-04-27T06:58:58.672Z"
   },
   {
    "duration": 91,
    "start_time": "2024-04-27T06:59:00.173Z"
   },
   {
    "duration": 96,
    "start_time": "2024-04-27T06:59:00.266Z"
   },
   {
    "duration": 214,
    "start_time": "2024-04-27T06:59:00.365Z"
   },
   {
    "duration": 698,
    "start_time": "2024-04-27T06:59:00.581Z"
   },
   {
    "duration": 4,
    "start_time": "2024-04-27T06:59:01.281Z"
   },
   {
    "duration": 97,
    "start_time": "2024-04-27T06:59:01.286Z"
   },
   {
    "duration": 236,
    "start_time": "2024-04-27T06:59:01.385Z"
   },
   {
    "duration": 127,
    "start_time": "2024-04-27T06:59:01.623Z"
   },
   {
    "duration": 111,
    "start_time": "2024-04-27T06:59:01.752Z"
   },
   {
    "duration": 282,
    "start_time": "2024-04-27T06:59:01.865Z"
   },
   {
    "duration": 14,
    "start_time": "2024-04-27T06:59:02.148Z"
   },
   {
    "duration": 28,
    "start_time": "2024-04-27T06:59:02.164Z"
   },
   {
    "duration": 11,
    "start_time": "2024-04-27T06:59:04.260Z"
   },
   {
    "duration": 22760,
    "start_time": "2024-04-27T06:59:06.716Z"
   },
   {
    "duration": 11,
    "start_time": "2024-04-27T06:59:46.063Z"
   },
   {
    "duration": 12,
    "start_time": "2024-04-27T07:00:01.035Z"
   },
   {
    "duration": 6,
    "start_time": "2024-04-27T07:00:06.111Z"
   },
   {
    "duration": 4,
    "start_time": "2024-04-27T07:00:12.712Z"
   },
   {
    "duration": 79,
    "start_time": "2024-04-27T07:11:40.776Z"
   },
   {
    "duration": 642,
    "start_time": "2024-04-27T07:12:01.528Z"
   },
   {
    "duration": 8,
    "start_time": "2024-04-27T07:12:13.273Z"
   },
   {
    "duration": 530,
    "start_time": "2024-04-27T07:12:50.166Z"
   },
   {
    "duration": 10,
    "start_time": "2024-04-27T07:12:53.631Z"
   },
   {
    "duration": 542,
    "start_time": "2024-04-27T07:13:21.195Z"
   },
   {
    "duration": 11,
    "start_time": "2024-04-27T07:13:22.945Z"
   },
   {
    "duration": 637,
    "start_time": "2024-04-27T07:13:46.254Z"
   },
   {
    "duration": 12,
    "start_time": "2024-04-27T07:13:48.002Z"
   },
   {
    "duration": 7,
    "start_time": "2024-04-27T07:13:52.266Z"
   },
   {
    "duration": 9,
    "start_time": "2024-04-27T07:14:15.230Z"
   },
   {
    "duration": 14,
    "start_time": "2024-04-27T07:14:28.558Z"
   },
   {
    "duration": 12,
    "start_time": "2024-04-27T07:14:47.947Z"
   },
   {
    "duration": 7,
    "start_time": "2024-04-27T07:23:37.079Z"
   },
   {
    "duration": 10,
    "start_time": "2024-04-27T07:23:47.587Z"
   },
   {
    "duration": 639,
    "start_time": "2024-04-27T07:23:49.795Z"
   },
   {
    "duration": 51,
    "start_time": "2024-04-27T07:23:50.590Z"
   },
   {
    "duration": 4,
    "start_time": "2024-04-27T07:23:51.375Z"
   },
   {
    "duration": 8,
    "start_time": "2024-04-27T07:31:09.353Z"
   },
   {
    "duration": 632,
    "start_time": "2024-04-27T07:31:20.381Z"
   },
   {
    "duration": 7,
    "start_time": "2024-04-27T07:31:21.393Z"
   },
   {
    "duration": 20,
    "start_time": "2024-04-27T07:31:40.217Z"
   },
   {
    "duration": 21,
    "start_time": "2024-04-27T07:31:56.545Z"
   },
   {
    "duration": 23,
    "start_time": "2024-04-27T07:32:04.413Z"
   },
   {
    "duration": 19,
    "start_time": "2024-04-27T07:32:17.173Z"
   },
   {
    "duration": 20,
    "start_time": "2024-04-27T07:32:40.177Z"
   },
   {
    "duration": 23,
    "start_time": "2024-04-27T07:32:56.574Z"
   },
   {
    "duration": 46,
    "start_time": "2024-04-27T07:35:30.921Z"
   },
   {
    "duration": 632,
    "start_time": "2024-04-27T07:36:11.830Z"
   },
   {
    "duration": 18,
    "start_time": "2024-04-27T07:36:39.625Z"
   },
   {
    "duration": 11,
    "start_time": "2024-04-27T07:37:01.306Z"
   },
   {
    "duration": 622,
    "start_time": "2024-04-27T07:39:36.935Z"
   },
   {
    "duration": 614,
    "start_time": "2024-04-27T07:39:57.346Z"
   },
   {
    "duration": 662,
    "start_time": "2024-04-27T07:40:25.382Z"
   },
   {
    "duration": 12,
    "start_time": "2024-04-27T07:40:39.394Z"
   },
   {
    "duration": 597,
    "start_time": "2024-04-27T07:40:44.658Z"
   },
   {
    "duration": 2,
    "start_time": "2024-04-27T07:40:54.779Z"
   },
   {
    "duration": 701,
    "start_time": "2024-04-27T07:40:54.783Z"
   },
   {
    "duration": 91,
    "start_time": "2024-04-27T07:40:55.486Z"
   },
   {
    "duration": 16,
    "start_time": "2024-04-27T07:40:55.578Z"
   },
   {
    "duration": 44,
    "start_time": "2024-04-27T07:40:55.598Z"
   },
   {
    "duration": 445,
    "start_time": "2024-04-27T07:40:55.644Z"
   },
   {
    "duration": 4,
    "start_time": "2024-04-27T07:40:56.091Z"
   },
   {
    "duration": 8,
    "start_time": "2024-04-27T07:40:56.096Z"
   },
   {
    "duration": 162,
    "start_time": "2024-04-27T07:40:56.106Z"
   },
   {
    "duration": 102,
    "start_time": "2024-04-27T07:40:56.270Z"
   },
   {
    "duration": 87,
    "start_time": "2024-04-27T07:40:56.374Z"
   },
   {
    "duration": 251,
    "start_time": "2024-04-27T07:40:56.463Z"
   },
   {
    "duration": 18,
    "start_time": "2024-04-27T07:40:56.722Z"
   },
   {
    "duration": 10,
    "start_time": "2024-04-27T07:40:56.743Z"
   },
   {
    "duration": 22106,
    "start_time": "2024-04-27T07:40:56.755Z"
   },
   {
    "duration": 11,
    "start_time": "2024-04-27T07:41:18.862Z"
   },
   {
    "duration": 5,
    "start_time": "2024-04-27T07:41:18.883Z"
   },
   {
    "duration": 651,
    "start_time": "2024-04-27T07:41:18.889Z"
   },
   {
    "duration": 11,
    "start_time": "2024-04-27T07:41:19.542Z"
   },
   {
    "duration": 12,
    "start_time": "2024-04-27T07:41:39.958Z"
   },
   {
    "duration": 19,
    "start_time": "2024-04-27T07:41:49.874Z"
   },
   {
    "duration": 873,
    "start_time": "2024-04-27T07:42:11.942Z"
   },
   {
    "duration": 867,
    "start_time": "2024-04-27T07:42:40.423Z"
   },
   {
    "duration": 561,
    "start_time": "2024-04-27T07:42:54.974Z"
   },
   {
    "duration": 12,
    "start_time": "2024-04-27T07:43:23.182Z"
   },
   {
    "duration": 16,
    "start_time": "2024-04-27T07:44:31.302Z"
   },
   {
    "duration": 141,
    "start_time": "2024-04-27T07:45:11.002Z"
   },
   {
    "duration": 173,
    "start_time": "2024-04-27T07:45:18.594Z"
   },
   {
    "duration": 14,
    "start_time": "2024-04-27T07:47:12.854Z"
   },
   {
    "duration": 11,
    "start_time": "2024-04-27T07:47:49.586Z"
   },
   {
    "duration": 717,
    "start_time": "2024-04-27T07:49:20.494Z"
   },
   {
    "duration": 712,
    "start_time": "2024-04-27T07:49:27.814Z"
   },
   {
    "duration": 701,
    "start_time": "2024-04-27T07:49:45.834Z"
   },
   {
    "duration": 18,
    "start_time": "2024-04-27T07:50:38.511Z"
   },
   {
    "duration": 3,
    "start_time": "2024-04-27T07:50:47.960Z"
   },
   {
    "duration": 647,
    "start_time": "2024-04-27T07:50:47.965Z"
   },
   {
    "duration": 87,
    "start_time": "2024-04-27T07:50:48.614Z"
   },
   {
    "duration": 42,
    "start_time": "2024-04-27T07:50:48.703Z"
   },
   {
    "duration": 15,
    "start_time": "2024-04-27T07:50:48.749Z"
   },
   {
    "duration": 421,
    "start_time": "2024-04-27T07:50:48.765Z"
   },
   {
    "duration": 4,
    "start_time": "2024-04-27T07:50:49.188Z"
   },
   {
    "duration": 4,
    "start_time": "2024-04-27T07:50:49.194Z"
   },
   {
    "duration": 144,
    "start_time": "2024-04-27T07:50:49.199Z"
   },
   {
    "duration": 108,
    "start_time": "2024-04-27T07:50:49.345Z"
   },
   {
    "duration": 81,
    "start_time": "2024-04-27T07:50:49.455Z"
   },
   {
    "duration": 227,
    "start_time": "2024-04-27T07:50:49.538Z"
   },
   {
    "duration": 13,
    "start_time": "2024-04-27T07:50:49.766Z"
   },
   {
    "duration": 10,
    "start_time": "2024-04-27T07:50:49.781Z"
   },
   {
    "duration": 21614,
    "start_time": "2024-04-27T07:50:49.792Z"
   },
   {
    "duration": 24,
    "start_time": "2024-04-27T07:51:11.408Z"
   },
   {
    "duration": 6,
    "start_time": "2024-04-27T07:51:11.434Z"
   },
   {
    "duration": 10,
    "start_time": "2024-04-27T07:51:12.248Z"
   },
   {
    "duration": 726,
    "start_time": "2024-04-27T07:51:12.260Z"
   },
   {
    "duration": 12,
    "start_time": "2024-04-27T07:51:21.503Z"
   },
   {
    "duration": 13,
    "start_time": "2024-04-27T07:53:01.043Z"
   },
   {
    "duration": 11,
    "start_time": "2024-04-27T07:53:14.055Z"
   },
   {
    "duration": 16,
    "start_time": "2024-04-27T07:53:41.195Z"
   },
   {
    "duration": 22,
    "start_time": "2024-04-27T07:54:14.331Z"
   },
   {
    "duration": 12,
    "start_time": "2024-04-27T07:54:34.164Z"
   },
   {
    "duration": 753,
    "start_time": "2024-04-27T07:54:46.195Z"
   },
   {
    "duration": 37,
    "start_time": "2024-04-27T07:54:58.495Z"
   },
   {
    "duration": 3,
    "start_time": "2024-04-27T07:55:04.185Z"
   },
   {
    "duration": 712,
    "start_time": "2024-04-27T07:55:04.189Z"
   },
   {
    "duration": 86,
    "start_time": "2024-04-27T07:55:04.903Z"
   },
   {
    "duration": 15,
    "start_time": "2024-04-27T07:55:04.990Z"
   },
   {
    "duration": 15,
    "start_time": "2024-04-27T07:55:05.028Z"
   },
   {
    "duration": 456,
    "start_time": "2024-04-27T07:55:05.044Z"
   },
   {
    "duration": 3,
    "start_time": "2024-04-27T07:55:05.502Z"
   },
   {
    "duration": 19,
    "start_time": "2024-04-27T07:55:05.507Z"
   },
   {
    "duration": 140,
    "start_time": "2024-04-27T07:55:05.527Z"
   },
   {
    "duration": 104,
    "start_time": "2024-04-27T07:55:05.669Z"
   },
   {
    "duration": 74,
    "start_time": "2024-04-27T07:55:05.775Z"
   },
   {
    "duration": 232,
    "start_time": "2024-04-27T07:55:05.851Z"
   },
   {
    "duration": 14,
    "start_time": "2024-04-27T07:55:06.084Z"
   },
   {
    "duration": 31,
    "start_time": "2024-04-27T07:55:06.101Z"
   },
   {
    "duration": 21483,
    "start_time": "2024-04-27T07:55:06.133Z"
   },
   {
    "duration": 19,
    "start_time": "2024-04-27T07:55:27.617Z"
   },
   {
    "duration": 7,
    "start_time": "2024-04-27T07:55:27.638Z"
   },
   {
    "duration": 792,
    "start_time": "2024-04-27T07:55:27.647Z"
   },
   {
    "duration": 10,
    "start_time": "2024-04-27T07:55:28.441Z"
   },
   {
    "duration": 20,
    "start_time": "2024-04-27T07:55:28.453Z"
   },
   {
    "duration": 17,
    "start_time": "2024-04-27T07:55:28.474Z"
   },
   {
    "duration": 4,
    "start_time": "2024-04-27T07:55:28.493Z"
   },
   {
    "duration": 17,
    "start_time": "2024-04-27T07:55:28.520Z"
   },
   {
    "duration": 7,
    "start_time": "2024-04-27T07:55:28.538Z"
   },
   {
    "duration": 7,
    "start_time": "2024-04-27T07:55:28.546Z"
   },
   {
    "duration": 8,
    "start_time": "2024-04-27T07:55:28.554Z"
   },
   {
    "duration": 6,
    "start_time": "2024-04-27T07:55:28.563Z"
   },
   {
    "duration": 9,
    "start_time": "2024-04-27T07:55:28.571Z"
   },
   {
    "duration": 603,
    "start_time": "2024-04-27T07:55:28.581Z"
   },
   {
    "duration": 0,
    "start_time": "2024-04-27T07:55:29.185Z"
   },
   {
    "duration": 0,
    "start_time": "2024-04-27T07:55:29.186Z"
   },
   {
    "duration": 1,
    "start_time": "2024-04-27T07:55:29.187Z"
   },
   {
    "duration": 0,
    "start_time": "2024-04-27T07:55:29.189Z"
   },
   {
    "duration": 0,
    "start_time": "2024-04-27T07:55:29.190Z"
   },
   {
    "duration": 0,
    "start_time": "2024-04-27T07:55:29.191Z"
   },
   {
    "duration": 0,
    "start_time": "2024-04-27T07:55:29.192Z"
   },
   {
    "duration": 0,
    "start_time": "2024-04-27T07:55:29.193Z"
   },
   {
    "duration": 0,
    "start_time": "2024-04-27T07:55:29.194Z"
   },
   {
    "duration": 8,
    "start_time": "2024-04-27T07:55:33.391Z"
   },
   {
    "duration": 1466,
    "start_time": "2024-04-27T07:55:52.931Z"
   },
   {
    "duration": 1672,
    "start_time": "2024-04-27T07:56:03.883Z"
   },
   {
    "duration": 1485,
    "start_time": "2024-04-27T07:56:18.739Z"
   },
   {
    "duration": 8,
    "start_time": "2024-04-27T07:56:20.738Z"
   },
   {
    "duration": 722,
    "start_time": "2024-04-27T07:56:27.135Z"
   },
   {
    "duration": 695,
    "start_time": "2024-04-27T07:56:36.063Z"
   },
   {
    "duration": 8,
    "start_time": "2024-04-27T07:56:46.503Z"
   },
   {
    "duration": 28,
    "start_time": "2024-04-27T07:56:47.731Z"
   },
   {
    "duration": 988,
    "start_time": "2024-04-27T07:57:49.663Z"
   },
   {
    "duration": 12,
    "start_time": "2024-04-27T07:57:56.695Z"
   },
   {
    "duration": 7,
    "start_time": "2024-04-27T07:58:04.471Z"
   },
   {
    "duration": 8,
    "start_time": "2024-04-27T07:58:28.571Z"
   },
   {
    "duration": 5,
    "start_time": "2024-04-27T07:58:35.883Z"
   },
   {
    "duration": 4,
    "start_time": "2024-04-27T07:58:53.047Z"
   },
   {
    "duration": 8,
    "start_time": "2024-04-27T08:01:09.335Z"
   },
   {
    "duration": 6,
    "start_time": "2024-04-27T08:02:18.463Z"
   },
   {
    "duration": 3,
    "start_time": "2024-04-27T08:02:30.367Z"
   },
   {
    "duration": 839,
    "start_time": "2024-04-27T08:02:30.372Z"
   },
   {
    "duration": 82,
    "start_time": "2024-04-27T08:02:31.213Z"
   },
   {
    "duration": 206,
    "start_time": "2024-04-27T08:02:31.296Z"
   },
   {
    "duration": 65,
    "start_time": "2024-04-27T08:02:31.503Z"
   },
   {
    "duration": 465,
    "start_time": "2024-04-27T08:02:31.570Z"
   },
   {
    "duration": 3,
    "start_time": "2024-04-27T08:02:32.037Z"
   },
   {
    "duration": 28,
    "start_time": "2024-04-27T08:02:32.042Z"
   },
   {
    "duration": 138,
    "start_time": "2024-04-27T08:02:32.071Z"
   },
   {
    "duration": 90,
    "start_time": "2024-04-27T08:02:32.210Z"
   },
   {
    "duration": 71,
    "start_time": "2024-04-27T08:02:32.302Z"
   },
   {
    "duration": 218,
    "start_time": "2024-04-27T08:02:32.375Z"
   },
   {
    "duration": 13,
    "start_time": "2024-04-27T08:02:32.594Z"
   },
   {
    "duration": 21,
    "start_time": "2024-04-27T08:02:32.609Z"
   },
   {
    "duration": 21372,
    "start_time": "2024-04-27T08:02:32.632Z"
   },
   {
    "duration": 29,
    "start_time": "2024-04-27T08:02:54.006Z"
   },
   {
    "duration": 6,
    "start_time": "2024-04-27T08:02:54.037Z"
   },
   {
    "duration": 863,
    "start_time": "2024-04-27T08:02:54.044Z"
   },
   {
    "duration": 9,
    "start_time": "2024-04-27T08:03:10.751Z"
   },
   {
    "duration": 14,
    "start_time": "2024-04-27T08:03:19.796Z"
   },
   {
    "duration": 11,
    "start_time": "2024-04-27T08:03:36.963Z"
   },
   {
    "duration": 12,
    "start_time": "2024-04-27T08:03:41.524Z"
   },
   {
    "duration": 23,
    "start_time": "2024-04-27T08:07:04.069Z"
   },
   {
    "duration": 968,
    "start_time": "2024-04-27T08:08:41.708Z"
   },
   {
    "duration": 17,
    "start_time": "2024-04-27T08:08:50.656Z"
   },
   {
    "duration": 1378,
    "start_time": "2024-04-27T08:09:01.120Z"
   },
   {
    "duration": 17,
    "start_time": "2024-04-27T08:09:17.816Z"
   },
   {
    "duration": 9,
    "start_time": "2024-04-27T08:09:25.016Z"
   },
   {
    "duration": 2317,
    "start_time": "2024-04-27T08:09:31.952Z"
   },
   {
    "duration": 3,
    "start_time": "2024-04-27T08:09:50.276Z"
   },
   {
    "duration": 659,
    "start_time": "2024-04-27T08:09:50.281Z"
   },
   {
    "duration": 94,
    "start_time": "2024-04-27T08:09:50.941Z"
   },
   {
    "duration": 15,
    "start_time": "2024-04-27T08:09:51.036Z"
   },
   {
    "duration": 18,
    "start_time": "2024-04-27T08:09:51.053Z"
   },
   {
    "duration": 428,
    "start_time": "2024-04-27T08:09:51.073Z"
   },
   {
    "duration": 4,
    "start_time": "2024-04-27T08:09:51.502Z"
   },
   {
    "duration": 19,
    "start_time": "2024-04-27T08:09:51.507Z"
   },
   {
    "duration": 149,
    "start_time": "2024-04-27T08:09:51.527Z"
   },
   {
    "duration": 106,
    "start_time": "2024-04-27T08:09:51.678Z"
   },
   {
    "duration": 84,
    "start_time": "2024-04-27T08:09:51.786Z"
   },
   {
    "duration": 237,
    "start_time": "2024-04-27T08:09:51.871Z"
   },
   {
    "duration": 25,
    "start_time": "2024-04-27T08:09:52.110Z"
   },
   {
    "duration": 8,
    "start_time": "2024-04-27T08:09:52.139Z"
   },
   {
    "duration": 20937,
    "start_time": "2024-04-27T08:09:52.149Z"
   },
   {
    "duration": 11,
    "start_time": "2024-04-27T08:10:13.088Z"
   },
   {
    "duration": 30,
    "start_time": "2024-04-27T08:10:13.100Z"
   },
   {
    "duration": 812,
    "start_time": "2024-04-27T08:10:13.133Z"
   },
   {
    "duration": 14,
    "start_time": "2024-04-27T08:10:13.957Z"
   },
   {
    "duration": 22,
    "start_time": "2024-04-27T08:10:13.973Z"
   },
   {
    "duration": 9,
    "start_time": "2024-04-27T08:10:13.996Z"
   },
   {
    "duration": 0,
    "start_time": "2024-04-27T08:10:14.022Z"
   },
   {
    "duration": 0,
    "start_time": "2024-04-27T08:10:14.022Z"
   },
   {
    "duration": 0,
    "start_time": "2024-04-27T08:10:14.023Z"
   },
   {
    "duration": 0,
    "start_time": "2024-04-27T08:10:14.024Z"
   },
   {
    "duration": 0,
    "start_time": "2024-04-27T08:10:14.024Z"
   },
   {
    "duration": 0,
    "start_time": "2024-04-27T08:10:14.025Z"
   },
   {
    "duration": 0,
    "start_time": "2024-04-27T08:10:14.026Z"
   },
   {
    "duration": 0,
    "start_time": "2024-04-27T08:10:14.027Z"
   },
   {
    "duration": 0,
    "start_time": "2024-04-27T08:10:14.027Z"
   },
   {
    "duration": 0,
    "start_time": "2024-04-27T08:10:14.028Z"
   },
   {
    "duration": 0,
    "start_time": "2024-04-27T08:10:14.031Z"
   },
   {
    "duration": 0,
    "start_time": "2024-04-27T08:10:14.035Z"
   },
   {
    "duration": 0,
    "start_time": "2024-04-27T08:10:14.036Z"
   },
   {
    "duration": 0,
    "start_time": "2024-04-27T08:10:14.037Z"
   },
   {
    "duration": 0,
    "start_time": "2024-04-27T08:10:14.038Z"
   },
   {
    "duration": 0,
    "start_time": "2024-04-27T08:10:14.039Z"
   },
   {
    "duration": 0,
    "start_time": "2024-04-27T08:10:14.040Z"
   },
   {
    "duration": 0,
    "start_time": "2024-04-27T08:10:14.041Z"
   },
   {
    "duration": 0,
    "start_time": "2024-04-27T08:10:14.042Z"
   },
   {
    "duration": 0,
    "start_time": "2024-04-27T08:10:14.043Z"
   },
   {
    "duration": 1740,
    "start_time": "2024-04-27T08:10:27.636Z"
   },
   {
    "duration": 11,
    "start_time": "2024-04-27T08:10:29.435Z"
   },
   {
    "duration": 1551,
    "start_time": "2024-04-27T08:10:43.934Z"
   },
   {
    "duration": 0,
    "start_time": "2024-04-27T08:10:45.486Z"
   },
   {
    "duration": 5,
    "start_time": "2024-04-27T10:25:30.168Z"
   },
   {
    "duration": 13,
    "start_time": "2024-04-27T10:25:30.846Z"
   },
   {
    "duration": 578,
    "start_time": "2024-04-27T10:26:08.247Z"
   },
   {
    "duration": 2,
    "start_time": "2024-04-27T10:26:16.669Z"
   },
   {
    "duration": 710,
    "start_time": "2024-04-27T10:26:16.673Z"
   },
   {
    "duration": 78,
    "start_time": "2024-04-27T10:26:17.384Z"
   },
   {
    "duration": 14,
    "start_time": "2024-04-27T10:26:17.464Z"
   },
   {
    "duration": 21,
    "start_time": "2024-04-27T10:26:17.480Z"
   },
   {
    "duration": 442,
    "start_time": "2024-04-27T10:26:17.503Z"
   },
   {
    "duration": 5,
    "start_time": "2024-04-27T10:26:17.946Z"
   },
   {
    "duration": 18,
    "start_time": "2024-04-27T10:26:17.953Z"
   },
   {
    "duration": 131,
    "start_time": "2024-04-27T10:26:17.972Z"
   },
   {
    "duration": 92,
    "start_time": "2024-04-27T10:26:18.105Z"
   },
   {
    "duration": 69,
    "start_time": "2024-04-27T10:26:18.199Z"
   },
   {
    "duration": 233,
    "start_time": "2024-04-27T10:26:18.270Z"
   },
   {
    "duration": 23,
    "start_time": "2024-04-27T10:26:18.505Z"
   },
   {
    "duration": 9,
    "start_time": "2024-04-27T10:26:18.531Z"
   },
   {
    "duration": 19931,
    "start_time": "2024-04-27T10:26:18.542Z"
   },
   {
    "duration": 12,
    "start_time": "2024-04-27T10:26:38.474Z"
   },
   {
    "duration": 25,
    "start_time": "2024-04-27T10:26:38.488Z"
   },
   {
    "duration": 6,
    "start_time": "2024-04-27T10:26:38.515Z"
   },
   {
    "duration": 7,
    "start_time": "2024-04-27T10:26:38.523Z"
   },
   {
    "duration": 11,
    "start_time": "2024-04-27T10:26:38.532Z"
   },
   {
    "duration": 6,
    "start_time": "2024-04-27T10:26:38.545Z"
   },
   {
    "duration": 8,
    "start_time": "2024-04-27T10:26:38.553Z"
   },
   {
    "duration": 9,
    "start_time": "2024-04-27T10:26:38.562Z"
   },
   {
    "duration": 13,
    "start_time": "2024-04-27T10:26:38.572Z"
   },
   {
    "duration": 651,
    "start_time": "2024-04-27T10:26:54.359Z"
   },
   {
    "duration": 3,
    "start_time": "2024-04-27T10:27:10.346Z"
   },
   {
    "duration": 68,
    "start_time": "2024-04-27T10:27:15.206Z"
   },
   {
    "duration": 64,
    "start_time": "2024-04-27T10:27:47.847Z"
   },
   {
    "duration": 60,
    "start_time": "2024-04-27T10:28:04.587Z"
   },
   {
    "duration": 63,
    "start_time": "2024-04-27T10:28:12.231Z"
   },
   {
    "duration": 67,
    "start_time": "2024-04-27T10:28:34.947Z"
   },
   {
    "duration": 6,
    "start_time": "2024-04-27T10:31:22.931Z"
   },
   {
    "duration": 177,
    "start_time": "2024-04-27T10:32:54.397Z"
   },
   {
    "duration": 9,
    "start_time": "2024-04-27T10:36:01.438Z"
   },
   {
    "duration": 9,
    "start_time": "2024-04-27T10:36:10.166Z"
   },
   {
    "duration": 7,
    "start_time": "2024-04-27T10:36:59.847Z"
   },
   {
    "duration": 49,
    "start_time": "2024-04-27T10:37:32.531Z"
   },
   {
    "duration": 65,
    "start_time": "2024-04-27T10:37:37.231Z"
   },
   {
    "duration": 3,
    "start_time": "2024-04-27T10:37:50.907Z"
   },
   {
    "duration": 629,
    "start_time": "2024-04-27T10:37:50.911Z"
   },
   {
    "duration": 81,
    "start_time": "2024-04-27T10:37:51.542Z"
   },
   {
    "duration": 16,
    "start_time": "2024-04-27T10:37:51.625Z"
   },
   {
    "duration": 19,
    "start_time": "2024-04-27T10:37:51.643Z"
   },
   {
    "duration": 440,
    "start_time": "2024-04-27T10:37:51.663Z"
   },
   {
    "duration": 3,
    "start_time": "2024-04-27T10:37:52.105Z"
   },
   {
    "duration": 10,
    "start_time": "2024-04-27T10:37:52.110Z"
   },
   {
    "duration": 140,
    "start_time": "2024-04-27T10:37:52.122Z"
   },
   {
    "duration": 104,
    "start_time": "2024-04-27T10:37:52.263Z"
   },
   {
    "duration": 68,
    "start_time": "2024-04-27T10:37:52.369Z"
   },
   {
    "duration": 236,
    "start_time": "2024-04-27T10:37:52.438Z"
   },
   {
    "duration": 14,
    "start_time": "2024-04-27T10:37:52.675Z"
   },
   {
    "duration": 14,
    "start_time": "2024-04-27T10:37:52.692Z"
   },
   {
    "duration": 6,
    "start_time": "2024-04-27T10:37:52.720Z"
   },
   {
    "duration": 16,
    "start_time": "2024-04-27T10:37:52.728Z"
   },
   {
    "duration": 90,
    "start_time": "2024-04-27T10:37:52.745Z"
   },
   {
    "duration": 7,
    "start_time": "2024-04-27T10:37:52.837Z"
   },
   {
    "duration": 9,
    "start_time": "2024-04-27T10:37:52.846Z"
   },
   {
    "duration": 29,
    "start_time": "2024-04-27T10:37:52.856Z"
   },
   {
    "duration": 51,
    "start_time": "2024-04-27T10:37:52.887Z"
   },
   {
    "duration": 17,
    "start_time": "2024-04-27T10:37:52.939Z"
   },
   {
    "duration": 19,
    "start_time": "2024-04-27T10:37:52.957Z"
   },
   {
    "duration": 400,
    "start_time": "2024-04-27T10:37:52.978Z"
   },
   {
    "duration": 2,
    "start_time": "2024-04-27T10:37:53.380Z"
   },
   {
    "duration": 404,
    "start_time": "2024-04-27T10:45:12.165Z"
   },
   {
    "duration": 119,
    "start_time": "2024-04-27T10:50:17.336Z"
   },
   {
    "duration": 7,
    "start_time": "2024-04-27T10:50:32.065Z"
   },
   {
    "duration": 369,
    "start_time": "2024-04-27T10:50:32.765Z"
   },
   {
    "duration": 8,
    "start_time": "2024-04-27T10:51:28.257Z"
   },
   {
    "duration": 234,
    "start_time": "2024-04-27T10:51:34.065Z"
   },
   {
    "duration": 15,
    "start_time": "2024-04-27T10:52:11.866Z"
   },
   {
    "duration": 12,
    "start_time": "2024-04-27T10:52:29.966Z"
   },
   {
    "duration": 3,
    "start_time": "2024-04-27T10:52:30.582Z"
   },
   {
    "duration": 14,
    "start_time": "2024-04-27T10:52:54.527Z"
   },
   {
    "duration": 10,
    "start_time": "2024-04-27T10:52:58.331Z"
   },
   {
    "duration": 448,
    "start_time": "2024-04-27T10:53:03.004Z"
   },
   {
    "duration": 3,
    "start_time": "2024-04-27T10:53:11.439Z"
   },
   {
    "duration": 311,
    "start_time": "2024-04-27T10:53:14.966Z"
   },
   {
    "duration": 1599,
    "start_time": "2024-04-27T10:53:18.844Z"
   },
   {
    "duration": 1873,
    "start_time": "2024-04-27T10:53:20.745Z"
   },
   {
    "duration": 2379,
    "start_time": "2024-04-27T10:53:25.769Z"
   },
   {
    "duration": 1845,
    "start_time": "2024-04-27T10:53:31.905Z"
   },
   {
    "duration": 873,
    "start_time": "2024-04-27T10:53:35.645Z"
   },
   {
    "duration": 1507,
    "start_time": "2024-04-27T10:53:38.405Z"
   },
   {
    "duration": 214,
    "start_time": "2024-04-27T10:55:06.357Z"
   },
   {
    "duration": 225,
    "start_time": "2024-04-27T10:55:30.546Z"
   },
   {
    "duration": 221,
    "start_time": "2024-04-27T10:55:53.265Z"
   },
   {
    "duration": 11,
    "start_time": "2024-04-27T10:56:45.866Z"
   },
   {
    "duration": 6,
    "start_time": "2024-04-27T10:56:53.145Z"
   },
   {
    "duration": 14,
    "start_time": "2024-04-27T10:56:53.833Z"
   },
   {
    "duration": 446,
    "start_time": "2024-04-27T10:56:55.093Z"
   },
   {
    "duration": 3,
    "start_time": "2024-04-27T10:56:59.773Z"
   },
   {
    "duration": 307,
    "start_time": "2024-04-27T10:57:02.165Z"
   },
   {
    "duration": 1432,
    "start_time": "2024-04-27T10:57:27.006Z"
   },
   {
    "duration": 22,
    "start_time": "2024-04-27T11:00:30.448Z"
   },
   {
    "duration": 47,
    "start_time": "2024-04-27T11:00:32.926Z"
   },
   {
    "duration": 18,
    "start_time": "2024-04-27T11:04:43.554Z"
   },
   {
    "duration": 45,
    "start_time": "2024-04-27T11:06:26.419Z"
   },
   {
    "duration": 36,
    "start_time": "2024-04-27T11:07:36.700Z"
   },
   {
    "duration": 36,
    "start_time": "2024-04-27T11:07:56.704Z"
   },
   {
    "duration": 35,
    "start_time": "2024-04-27T11:08:14.200Z"
   },
   {
    "duration": 33,
    "start_time": "2024-04-27T11:08:30.751Z"
   },
   {
    "duration": 34,
    "start_time": "2024-04-27T11:09:13.667Z"
   },
   {
    "duration": 41,
    "start_time": "2024-04-27T11:09:17.767Z"
   },
   {
    "duration": 45,
    "start_time": "2024-04-27T11:09:30.245Z"
   },
   {
    "duration": 31,
    "start_time": "2024-04-27T11:10:16.387Z"
   },
   {
    "duration": 117,
    "start_time": "2024-04-27T11:10:53.267Z"
   },
   {
    "duration": 33,
    "start_time": "2024-04-27T11:11:07.064Z"
   },
   {
    "duration": 123,
    "start_time": "2024-04-27T11:12:37.591Z"
   },
   {
    "duration": 133,
    "start_time": "2024-04-27T11:12:44.010Z"
   },
   {
    "duration": 143,
    "start_time": "2024-04-27T11:15:59.796Z"
   },
   {
    "duration": 137,
    "start_time": "2024-04-27T11:18:28.909Z"
   },
   {
    "duration": 675,
    "start_time": "2024-04-27T11:19:00.588Z"
   },
   {
    "duration": 123,
    "start_time": "2024-04-27T11:20:00.069Z"
   },
   {
    "duration": 124,
    "start_time": "2024-04-27T11:20:05.035Z"
   },
   {
    "duration": 217,
    "start_time": "2024-04-27T11:20:36.983Z"
   },
   {
    "duration": 42,
    "start_time": "2024-04-27T11:20:52.279Z"
   },
   {
    "duration": 50,
    "start_time": "2024-04-27T11:20:58.715Z"
   },
   {
    "duration": 60,
    "start_time": "2024-04-27T11:21:14.347Z"
   },
   {
    "duration": 3,
    "start_time": "2024-04-27T11:21:19.578Z"
   },
   {
    "duration": 664,
    "start_time": "2024-04-27T11:21:19.582Z"
   },
   {
    "duration": 93,
    "start_time": "2024-04-27T11:21:20.248Z"
   },
   {
    "duration": 16,
    "start_time": "2024-04-27T11:21:20.342Z"
   },
   {
    "duration": 13,
    "start_time": "2024-04-27T11:21:20.360Z"
   },
   {
    "duration": 467,
    "start_time": "2024-04-27T11:21:20.375Z"
   },
   {
    "duration": 4,
    "start_time": "2024-04-27T11:21:20.844Z"
   },
   {
    "duration": 21,
    "start_time": "2024-04-27T11:21:20.850Z"
   },
   {
    "duration": 159,
    "start_time": "2024-04-27T11:21:20.873Z"
   },
   {
    "duration": 102,
    "start_time": "2024-04-27T11:21:21.036Z"
   },
   {
    "duration": 63,
    "start_time": "2024-04-27T11:21:21.141Z"
   },
   {
    "duration": 248,
    "start_time": "2024-04-27T11:21:21.206Z"
   },
   {
    "duration": 14,
    "start_time": "2024-04-27T11:21:21.456Z"
   },
   {
    "duration": 6,
    "start_time": "2024-04-27T11:21:21.472Z"
   },
   {
    "duration": 8,
    "start_time": "2024-04-27T11:21:21.480Z"
   },
   {
    "duration": 405,
    "start_time": "2024-04-27T11:21:21.490Z"
   },
   {
    "duration": 9,
    "start_time": "2024-04-27T11:21:21.896Z"
   },
   {
    "duration": 249,
    "start_time": "2024-04-27T11:21:21.906Z"
   },
   {
    "duration": 9,
    "start_time": "2024-04-27T11:21:22.157Z"
   },
   {
    "duration": 9,
    "start_time": "2024-04-27T11:21:22.168Z"
   },
   {
    "duration": 8,
    "start_time": "2024-04-27T11:21:22.179Z"
   },
   {
    "duration": 19,
    "start_time": "2024-04-27T11:21:22.188Z"
   },
   {
    "duration": 27,
    "start_time": "2024-04-27T11:21:22.208Z"
   },
   {
    "duration": 438,
    "start_time": "2024-04-27T11:21:22.236Z"
   },
   {
    "duration": 3,
    "start_time": "2024-04-27T11:21:22.676Z"
   },
   {
    "duration": 309,
    "start_time": "2024-04-27T11:21:22.680Z"
   },
   {
    "duration": 1413,
    "start_time": "2024-04-27T11:21:22.991Z"
   },
   {
    "duration": 1880,
    "start_time": "2024-04-27T11:21:24.405Z"
   },
   {
    "duration": 2349,
    "start_time": "2024-04-27T11:21:26.289Z"
   },
   {
    "duration": 1918,
    "start_time": "2024-04-27T11:21:28.640Z"
   },
   {
    "duration": 820,
    "start_time": "2024-04-27T11:21:30.560Z"
   },
   {
    "duration": 1477,
    "start_time": "2024-04-27T11:21:31.381Z"
   },
   {
    "duration": 22,
    "start_time": "2024-04-27T11:21:32.859Z"
   },
   {
    "duration": 60,
    "start_time": "2024-04-27T11:22:39.478Z"
   },
   {
    "duration": 46,
    "start_time": "2024-04-27T11:22:43.056Z"
   },
   {
    "duration": 134,
    "start_time": "2024-04-27T11:22:48.088Z"
   },
   {
    "duration": 42,
    "start_time": "2024-04-27T11:23:21.546Z"
   },
   {
    "duration": 138,
    "start_time": "2024-04-27T11:23:26.773Z"
   },
   {
    "duration": 131,
    "start_time": "2024-04-27T11:24:03.349Z"
   },
   {
    "duration": 116,
    "start_time": "2024-04-27T11:29:04.515Z"
   },
   {
    "duration": 126,
    "start_time": "2024-04-27T11:29:44.243Z"
   },
   {
    "duration": 122,
    "start_time": "2024-04-27T11:30:14.304Z"
   },
   {
    "duration": 137,
    "start_time": "2024-04-27T11:30:42.196Z"
   },
   {
    "duration": 138,
    "start_time": "2024-04-27T11:30:49.715Z"
   },
   {
    "duration": 140,
    "start_time": "2024-04-27T11:30:53.903Z"
   },
   {
    "duration": 140,
    "start_time": "2024-04-27T11:31:28.596Z"
   },
   {
    "duration": 117,
    "start_time": "2024-04-27T11:32:15.398Z"
   },
   {
    "duration": 128,
    "start_time": "2024-04-27T11:32:26.039Z"
   },
   {
    "duration": 151,
    "start_time": "2024-04-27T11:33:02.468Z"
   },
   {
    "duration": 145,
    "start_time": "2024-04-27T11:33:30.536Z"
   },
   {
    "duration": 119,
    "start_time": "2024-04-27T11:33:46.790Z"
   },
   {
    "duration": 747,
    "start_time": "2024-04-28T11:33:07.455Z"
   },
   {
    "duration": 1810,
    "start_time": "2024-04-28T11:33:08.204Z"
   },
   {
    "duration": 82,
    "start_time": "2024-04-28T11:33:10.016Z"
   },
   {
    "duration": 16,
    "start_time": "2024-04-28T11:33:10.400Z"
   },
   {
    "duration": 14,
    "start_time": "2024-04-28T11:33:10.880Z"
   },
   {
    "duration": 482,
    "start_time": "2024-04-28T11:33:12.170Z"
   },
   {
    "duration": 4,
    "start_time": "2024-04-28T11:33:12.713Z"
   },
   {
    "duration": 4,
    "start_time": "2024-04-28T11:33:19.872Z"
   },
   {
    "duration": 152,
    "start_time": "2024-04-28T11:33:20.370Z"
   },
   {
    "duration": 85,
    "start_time": "2024-04-28T11:33:21.405Z"
   },
   {
    "duration": 58,
    "start_time": "2024-04-28T11:33:21.938Z"
   },
   {
    "duration": 233,
    "start_time": "2024-04-28T11:33:23.313Z"
   },
   {
    "duration": 13,
    "start_time": "2024-04-28T11:33:23.861Z"
   },
   {
    "duration": 6,
    "start_time": "2024-04-28T11:33:25.510Z"
   },
   {
    "duration": 7,
    "start_time": "2024-04-28T11:33:26.065Z"
   },
   {
    "duration": 79,
    "start_time": "2024-04-28T11:33:27.022Z"
   },
   {
    "duration": 8,
    "start_time": "2024-04-28T11:33:27.717Z"
   },
   {
    "duration": 7,
    "start_time": "2024-04-28T11:33:28.581Z"
   },
   {
    "duration": 9,
    "start_time": "2024-04-28T11:33:29.403Z"
   },
   {
    "duration": 3,
    "start_time": "2024-04-28T11:33:30.053Z"
   },
   {
    "duration": 9,
    "start_time": "2024-04-28T11:33:30.756Z"
   },
   {
    "duration": 5,
    "start_time": "2024-04-28T11:33:31.298Z"
   },
   {
    "duration": 11,
    "start_time": "2024-04-28T11:33:31.824Z"
   },
   {
    "duration": 457,
    "start_time": "2024-04-28T11:33:32.579Z"
   },
   {
    "duration": 2,
    "start_time": "2024-04-28T11:33:33.286Z"
   },
   {
    "duration": 314,
    "start_time": "2024-04-28T11:33:34.494Z"
   },
   {
    "duration": 1621,
    "start_time": "2024-04-28T11:33:38.311Z"
   },
   {
    "duration": 1701,
    "start_time": "2024-04-28T11:33:39.934Z"
   },
   {
    "duration": 2283,
    "start_time": "2024-04-28T11:33:41.637Z"
   },
   {
    "duration": 1731,
    "start_time": "2024-04-28T11:33:43.921Z"
   },
   {
    "duration": 813,
    "start_time": "2024-04-28T11:33:45.654Z"
   },
   {
    "duration": 1527,
    "start_time": "2024-04-28T11:33:46.468Z"
   },
   {
    "duration": 31,
    "start_time": "2024-04-28T11:33:47.997Z"
   },
   {
    "duration": 48,
    "start_time": "2024-04-28T11:33:48.031Z"
   },
   {
    "duration": 135,
    "start_time": "2024-04-28T11:34:09.654Z"
   },
   {
    "duration": 117,
    "start_time": "2024-04-28T11:34:15.150Z"
   },
   {
    "duration": 97,
    "start_time": "2024-04-28T11:51:15.076Z"
   },
   {
    "duration": 215,
    "start_time": "2024-04-28T11:53:04.914Z"
   },
   {
    "duration": 189,
    "start_time": "2024-04-28T11:53:19.139Z"
   },
   {
    "duration": 374,
    "start_time": "2024-04-28T11:53:31.613Z"
   },
   {
    "duration": 365,
    "start_time": "2024-04-28T11:54:02.536Z"
   },
   {
    "duration": 359,
    "start_time": "2024-04-28T11:54:23.055Z"
   },
   {
    "duration": 355,
    "start_time": "2024-04-28T11:54:33.651Z"
   },
   {
    "duration": 443,
    "start_time": "2024-04-28T11:54:42.609Z"
   },
   {
    "duration": 368,
    "start_time": "2024-04-28T11:54:55.088Z"
   },
   {
    "duration": 205,
    "start_time": "2024-04-28T11:55:17.824Z"
   },
   {
    "duration": 205,
    "start_time": "2024-04-28T11:55:27.506Z"
   },
   {
    "duration": 8,
    "start_time": "2024-04-28T11:58:19.097Z"
   },
   {
    "duration": 226,
    "start_time": "2024-04-28T11:58:44.582Z"
   },
   {
    "duration": 7,
    "start_time": "2024-04-28T11:58:58.430Z"
   },
   {
    "duration": 6,
    "start_time": "2024-04-28T11:59:22.845Z"
   },
   {
    "duration": 10,
    "start_time": "2024-04-28T12:00:53.211Z"
   },
   {
    "duration": 9,
    "start_time": "2024-04-28T12:02:31.975Z"
   },
   {
    "duration": 10,
    "start_time": "2024-04-28T12:03:50.612Z"
   },
   {
    "duration": 10,
    "start_time": "2024-04-28T12:05:02.109Z"
   },
   {
    "duration": 14,
    "start_time": "2024-04-28T12:05:12.225Z"
   },
   {
    "duration": 185,
    "start_time": "2024-04-28T12:06:49.494Z"
   },
   {
    "duration": 156,
    "start_time": "2024-04-28T12:07:40.551Z"
   },
   {
    "duration": 155,
    "start_time": "2024-04-28T12:07:53.489Z"
   },
   {
    "duration": 173,
    "start_time": "2024-04-28T12:08:03.548Z"
   },
   {
    "duration": 179,
    "start_time": "2024-04-28T12:08:23.468Z"
   },
   {
    "duration": 180,
    "start_time": "2024-04-28T12:10:59.969Z"
   },
   {
    "duration": 93,
    "start_time": "2024-04-28T12:11:29.971Z"
   },
   {
    "duration": 167,
    "start_time": "2024-04-28T12:11:35.063Z"
   },
   {
    "duration": 238,
    "start_time": "2024-04-28T12:11:39.557Z"
   },
   {
    "duration": 164,
    "start_time": "2024-04-28T12:11:46.651Z"
   },
   {
    "duration": 164,
    "start_time": "2024-04-28T12:12:02.046Z"
   },
   {
    "duration": 6,
    "start_time": "2024-04-28T12:13:45.503Z"
   },
   {
    "duration": 3,
    "start_time": "2024-04-28T12:14:51.438Z"
   },
   {
    "duration": 703,
    "start_time": "2024-04-28T12:14:51.443Z"
   },
   {
    "duration": 77,
    "start_time": "2024-04-28T12:14:52.148Z"
   },
   {
    "duration": 15,
    "start_time": "2024-04-28T12:14:52.227Z"
   },
   {
    "duration": 20,
    "start_time": "2024-04-28T12:14:52.243Z"
   },
   {
    "duration": 424,
    "start_time": "2024-04-28T12:14:52.265Z"
   },
   {
    "duration": 4,
    "start_time": "2024-04-28T12:14:52.691Z"
   },
   {
    "duration": 19,
    "start_time": "2024-04-28T12:14:52.696Z"
   },
   {
    "duration": 153,
    "start_time": "2024-04-28T12:14:52.717Z"
   },
   {
    "duration": 86,
    "start_time": "2024-04-28T12:14:52.872Z"
   },
   {
    "duration": 69,
    "start_time": "2024-04-28T12:14:52.960Z"
   },
   {
    "duration": 230,
    "start_time": "2024-04-28T12:14:53.030Z"
   },
   {
    "duration": 13,
    "start_time": "2024-04-28T12:14:53.262Z"
   },
   {
    "duration": 28,
    "start_time": "2024-04-28T12:14:53.277Z"
   },
   {
    "duration": 31,
    "start_time": "2024-04-28T12:14:53.306Z"
   },
   {
    "duration": 364,
    "start_time": "2024-04-28T12:14:53.338Z"
   },
   {
    "duration": 8,
    "start_time": "2024-04-28T12:14:53.703Z"
   },
   {
    "duration": 235,
    "start_time": "2024-04-28T12:14:53.715Z"
   },
   {
    "duration": 10,
    "start_time": "2024-04-28T12:14:53.951Z"
   },
   {
    "duration": 22,
    "start_time": "2024-04-28T12:14:53.962Z"
   },
   {
    "duration": 19,
    "start_time": "2024-04-28T12:14:53.986Z"
   },
   {
    "duration": 33,
    "start_time": "2024-04-28T12:14:54.007Z"
   },
   {
    "duration": 24,
    "start_time": "2024-04-28T12:14:54.042Z"
   },
   {
    "duration": 434,
    "start_time": "2024-04-28T12:14:54.069Z"
   },
   {
    "duration": 9,
    "start_time": "2024-04-28T12:14:54.505Z"
   },
   {
    "duration": 316,
    "start_time": "2024-04-28T12:14:54.516Z"
   },
   {
    "duration": 1324,
    "start_time": "2024-04-28T12:14:54.834Z"
   },
   {
    "duration": 1839,
    "start_time": "2024-04-28T12:14:56.160Z"
   },
   {
    "duration": 2201,
    "start_time": "2024-04-28T12:14:58.001Z"
   },
   {
    "duration": 1807,
    "start_time": "2024-04-28T12:15:00.204Z"
   },
   {
    "duration": 771,
    "start_time": "2024-04-28T12:15:02.014Z"
   },
   {
    "duration": 1443,
    "start_time": "2024-04-28T12:15:02.787Z"
   },
   {
    "duration": 22,
    "start_time": "2024-04-28T12:15:04.231Z"
   },
   {
    "duration": 148,
    "start_time": "2024-04-28T12:15:04.254Z"
   },
   {
    "duration": 219,
    "start_time": "2024-04-28T12:15:04.404Z"
   },
   {
    "duration": 200,
    "start_time": "2024-04-28T12:15:04.625Z"
   },
   {
    "duration": 232,
    "start_time": "2024-04-28T12:15:04.826Z"
   },
   {
    "duration": 7,
    "start_time": "2024-04-28T12:19:06.329Z"
   },
   {
    "duration": 7,
    "start_time": "2024-04-28T12:20:28.014Z"
   },
   {
    "duration": 18,
    "start_time": "2024-04-28T12:22:01.997Z"
   },
   {
    "duration": 20,
    "start_time": "2024-04-28T12:22:19.080Z"
   },
   {
    "duration": 54,
    "start_time": "2024-04-30T20:06:35.306Z"
   },
   {
    "duration": 830,
    "start_time": "2024-04-30T20:06:49.482Z"
   },
   {
    "duration": 1516,
    "start_time": "2024-04-30T20:06:50.315Z"
   },
   {
    "duration": 103,
    "start_time": "2024-04-30T20:06:51.834Z"
   },
   {
    "duration": 27,
    "start_time": "2024-04-30T20:06:51.939Z"
   },
   {
    "duration": 22,
    "start_time": "2024-04-30T20:06:51.973Z"
   },
   {
    "duration": 577,
    "start_time": "2024-04-30T20:06:51.997Z"
   },
   {
    "duration": 5,
    "start_time": "2024-04-30T20:06:52.576Z"
   },
   {
    "duration": 10,
    "start_time": "2024-04-30T20:06:52.582Z"
   },
   {
    "duration": 167,
    "start_time": "2024-04-30T20:06:52.594Z"
   },
   {
    "duration": 95,
    "start_time": "2024-04-30T20:06:52.762Z"
   },
   {
    "duration": 74,
    "start_time": "2024-04-30T20:06:52.858Z"
   },
   {
    "duration": 274,
    "start_time": "2024-04-30T20:07:05.266Z"
   },
   {
    "duration": 20,
    "start_time": "2024-04-30T20:07:17.743Z"
   },
   {
    "duration": 7,
    "start_time": "2024-04-30T20:07:26.750Z"
   },
   {
    "duration": 6,
    "start_time": "2024-04-30T20:07:27.439Z"
   },
   {
    "duration": 38,
    "start_time": "2024-04-30T20:07:28.229Z"
   },
   {
    "duration": 8,
    "start_time": "2024-04-30T20:07:28.862Z"
   },
   {
    "duration": 9,
    "start_time": "2024-04-30T20:07:29.501Z"
   },
   {
    "duration": 10,
    "start_time": "2024-04-30T20:07:30.092Z"
   },
   {
    "duration": 5,
    "start_time": "2024-04-30T20:07:30.685Z"
   },
   {
    "duration": 11,
    "start_time": "2024-04-30T20:07:35.602Z"
   },
   {
    "duration": 5,
    "start_time": "2024-04-30T20:07:36.341Z"
   },
   {
    "duration": 11,
    "start_time": "2024-04-30T20:07:36.925Z"
   },
   {
    "duration": 475,
    "start_time": "2024-04-30T20:07:37.832Z"
   },
   {
    "duration": 3,
    "start_time": "2024-04-30T20:07:40.579Z"
   },
   {
    "duration": 338,
    "start_time": "2024-04-30T20:07:42.072Z"
   },
   {
    "duration": 1759,
    "start_time": "2024-04-30T20:07:43.185Z"
   },
   {
    "duration": 1888,
    "start_time": "2024-04-30T20:07:44.946Z"
   },
   {
    "duration": 2564,
    "start_time": "2024-04-30T20:07:46.836Z"
   },
   {
    "duration": 2059,
    "start_time": "2024-04-30T20:07:49.402Z"
   },
   {
    "duration": 850,
    "start_time": "2024-04-30T20:07:51.462Z"
   },
   {
    "duration": 28,
    "start_time": "2024-04-30T20:07:52.313Z"
   },
   {
    "duration": 1717,
    "start_time": "2024-04-30T20:07:52.343Z"
   },
   {
    "duration": 23,
    "start_time": "2024-04-30T20:07:54.062Z"
   },
   {
    "duration": 166,
    "start_time": "2024-04-30T20:07:54.087Z"
   },
   {
    "duration": 133,
    "start_time": "2024-04-30T20:07:58.822Z"
   },
   {
    "duration": 251,
    "start_time": "2024-04-30T20:08:03.584Z"
   },
   {
    "duration": 227,
    "start_time": "2024-04-30T20:12:06.253Z"
   },
   {
    "duration": 11,
    "start_time": "2024-04-30T20:12:23.022Z"
   },
   {
    "duration": 17,
    "start_time": "2024-04-30T20:13:15.927Z"
   },
   {
    "duration": 22,
    "start_time": "2024-04-30T20:13:20.866Z"
   },
   {
    "duration": 24,
    "start_time": "2024-04-30T20:15:17.343Z"
   },
   {
    "duration": 14,
    "start_time": "2024-04-30T20:15:51.793Z"
   },
   {
    "duration": 15,
    "start_time": "2024-04-30T20:16:05.195Z"
   },
   {
    "duration": 16,
    "start_time": "2024-04-30T20:16:17.221Z"
   },
   {
    "duration": 13,
    "start_time": "2024-04-30T20:20:27.606Z"
   },
   {
    "duration": 10,
    "start_time": "2024-04-30T20:24:46.661Z"
   },
   {
    "duration": 8,
    "start_time": "2024-04-30T20:26:26.065Z"
   },
   {
    "duration": 3,
    "start_time": "2024-04-30T20:28:09.041Z"
   },
   {
    "duration": 10,
    "start_time": "2024-04-30T20:30:16.452Z"
   },
   {
    "duration": 9,
    "start_time": "2024-04-30T20:30:26.312Z"
   },
   {
    "duration": 8,
    "start_time": "2024-04-30T20:30:49.830Z"
   },
   {
    "duration": 27,
    "start_time": "2024-04-30T20:30:57.434Z"
   },
   {
    "duration": 18,
    "start_time": "2024-04-30T20:31:11.387Z"
   },
   {
    "duration": 27,
    "start_time": "2024-04-30T20:33:26.451Z"
   },
   {
    "duration": 40,
    "start_time": "2024-04-30T20:35:33.123Z"
   },
   {
    "duration": 45,
    "start_time": "2024-04-30T20:35:41.087Z"
   },
   {
    "duration": 424,
    "start_time": "2024-04-30T20:35:58.142Z"
   },
   {
    "duration": 208,
    "start_time": "2024-04-30T20:36:11.107Z"
   },
   {
    "duration": 234,
    "start_time": "2024-04-30T20:36:37.844Z"
   },
   {
    "duration": 180,
    "start_time": "2024-04-30T20:37:05.152Z"
   },
   {
    "duration": 291,
    "start_time": "2024-04-30T20:37:41.696Z"
   },
   {
    "duration": 281,
    "start_time": "2024-04-30T20:37:53.396Z"
   },
   {
    "duration": 53,
    "start_time": "2024-04-30T20:43:43.890Z"
   },
   {
    "duration": 53,
    "start_time": "2024-04-30T20:43:52.374Z"
   },
   {
    "duration": 49,
    "start_time": "2024-04-30T20:44:12.205Z"
   },
   {
    "duration": 18,
    "start_time": "2024-04-30T20:45:05.342Z"
   },
   {
    "duration": 7,
    "start_time": "2024-04-30T20:45:40.397Z"
   },
   {
    "duration": 13,
    "start_time": "2024-04-30T20:46:10.194Z"
   },
   {
    "duration": 453,
    "start_time": "2024-04-30T20:48:18.730Z"
   },
   {
    "duration": 16,
    "start_time": "2024-04-30T20:48:24.055Z"
   },
   {
    "duration": 511,
    "start_time": "2024-04-30T20:48:41.719Z"
   },
   {
    "duration": 461,
    "start_time": "2024-04-30T20:49:04.006Z"
   },
   {
    "duration": 593,
    "start_time": "2024-04-30T20:49:29.786Z"
   },
   {
    "duration": 521,
    "start_time": "2024-04-30T20:49:41.987Z"
   },
   {
    "duration": 457,
    "start_time": "2024-04-30T20:49:57.037Z"
   },
   {
    "duration": 441,
    "start_time": "2024-04-30T20:50:26.337Z"
   },
   {
    "duration": 428,
    "start_time": "2024-04-30T20:50:31.567Z"
   },
   {
    "duration": 639,
    "start_time": "2024-04-30T20:50:50.638Z"
   },
   {
    "duration": 408,
    "start_time": "2024-04-30T20:51:16.500Z"
   },
   {
    "duration": 478,
    "start_time": "2024-04-30T20:51:54.619Z"
   },
   {
    "duration": 422,
    "start_time": "2024-04-30T20:52:03.639Z"
   },
   {
    "duration": 426,
    "start_time": "2024-04-30T20:52:08.962Z"
   },
   {
    "duration": 435,
    "start_time": "2024-04-30T20:52:46.188Z"
   },
   {
    "duration": 14,
    "start_time": "2024-04-30T20:53:07.834Z"
   },
   {
    "duration": 48,
    "start_time": "2024-04-30T20:54:48.181Z"
   },
   {
    "duration": 4,
    "start_time": "2024-04-30T20:55:52.985Z"
   },
   {
    "duration": 723,
    "start_time": "2024-04-30T20:55:52.991Z"
   },
   {
    "duration": 81,
    "start_time": "2024-04-30T20:55:53.716Z"
   },
   {
    "duration": 31,
    "start_time": "2024-04-30T20:55:53.799Z"
   },
   {
    "duration": 17,
    "start_time": "2024-04-30T20:55:53.831Z"
   },
   {
    "duration": 459,
    "start_time": "2024-04-30T20:55:53.849Z"
   },
   {
    "duration": 4,
    "start_time": "2024-04-30T20:55:54.310Z"
   },
   {
    "duration": 27,
    "start_time": "2024-04-30T20:55:54.329Z"
   },
   {
    "duration": 158,
    "start_time": "2024-04-30T20:55:54.359Z"
   },
   {
    "duration": 93,
    "start_time": "2024-04-30T20:55:54.519Z"
   },
   {
    "duration": 90,
    "start_time": "2024-04-30T20:55:54.614Z"
   },
   {
    "duration": 278,
    "start_time": "2024-04-30T20:55:54.705Z"
   },
   {
    "duration": 15,
    "start_time": "2024-04-30T20:55:54.985Z"
   },
   {
    "duration": 152,
    "start_time": "2024-04-30T20:55:55.002Z"
   },
   {
    "duration": 30,
    "start_time": "2024-04-30T20:55:55.156Z"
   },
   {
    "duration": 440,
    "start_time": "2024-04-30T20:56:00.649Z"
   },
   {
    "duration": 241,
    "start_time": "2024-04-30T20:56:21.951Z"
   },
   {
    "duration": 10,
    "start_time": "2024-04-30T20:56:46.929Z"
   },
   {
    "duration": 9,
    "start_time": "2024-04-30T21:08:53.362Z"
   },
   {
    "duration": 410,
    "start_time": "2024-04-30T21:09:00.025Z"
   },
   {
    "duration": 454,
    "start_time": "2024-04-30T21:09:07.020Z"
   },
   {
    "duration": 416,
    "start_time": "2024-04-30T21:09:21.711Z"
   },
   {
    "duration": 2612,
    "start_time": "2024-04-30T21:12:22.912Z"
   },
   {
    "duration": 2715,
    "start_time": "2024-04-30T21:15:44.334Z"
   },
   {
    "duration": 42,
    "start_time": "2024-04-30T21:20:27.346Z"
   },
   {
    "duration": 2741,
    "start_time": "2024-04-30T21:24:49.328Z"
   },
   {
    "duration": 2652,
    "start_time": "2024-04-30T21:26:15.617Z"
   },
   {
    "duration": 819,
    "start_time": "2024-04-30T21:26:39.183Z"
   },
   {
    "duration": 2127,
    "start_time": "2024-04-30T21:29:45.372Z"
   },
   {
    "duration": 2047,
    "start_time": "2024-04-30T21:30:05.795Z"
   },
   {
    "duration": 99,
    "start_time": "2024-04-30T21:31:51.845Z"
   },
   {
    "duration": 1096,
    "start_time": "2024-04-30T21:31:56.372Z"
   },
   {
    "duration": 1077,
    "start_time": "2024-04-30T21:32:26.990Z"
   },
   {
    "duration": 1046,
    "start_time": "2024-04-30T21:33:01.903Z"
   },
   {
    "duration": 861,
    "start_time": "2024-04-30T21:33:12.426Z"
   },
   {
    "duration": 2656,
    "start_time": "2024-04-30T21:34:27.105Z"
   },
   {
    "duration": 2656,
    "start_time": "2024-04-30T21:34:46.727Z"
   },
   {
    "duration": 2739,
    "start_time": "2024-04-30T21:35:11.943Z"
   },
   {
    "duration": 2682,
    "start_time": "2024-04-30T21:35:28.309Z"
   },
   {
    "duration": 1910,
    "start_time": "2024-04-30T21:35:41.256Z"
   },
   {
    "duration": 1849,
    "start_time": "2024-04-30T21:35:51.170Z"
   },
   {
    "duration": 9,
    "start_time": "2024-04-30T21:42:03.105Z"
   },
   {
    "duration": 31,
    "start_time": "2024-04-30T21:42:45.078Z"
   },
   {
    "duration": 32,
    "start_time": "2024-04-30T21:43:01.945Z"
   },
   {
    "duration": 4,
    "start_time": "2024-04-30T21:43:11.132Z"
   },
   {
    "duration": 807,
    "start_time": "2024-04-30T21:43:11.138Z"
   },
   {
    "duration": 107,
    "start_time": "2024-04-30T21:43:11.947Z"
   },
   {
    "duration": 21,
    "start_time": "2024-04-30T21:43:12.057Z"
   },
   {
    "duration": 29,
    "start_time": "2024-04-30T21:43:12.080Z"
   },
   {
    "duration": 510,
    "start_time": "2024-04-30T21:43:12.111Z"
   },
   {
    "duration": 11,
    "start_time": "2024-04-30T21:43:12.622Z"
   },
   {
    "duration": 14,
    "start_time": "2024-04-30T21:43:12.636Z"
   },
   {
    "duration": 154,
    "start_time": "2024-04-30T21:43:12.654Z"
   },
   {
    "duration": 93,
    "start_time": "2024-04-30T21:43:12.810Z"
   },
   {
    "duration": 75,
    "start_time": "2024-04-30T21:43:12.905Z"
   },
   {
    "duration": 266,
    "start_time": "2024-04-30T21:43:12.981Z"
   },
   {
    "duration": 15,
    "start_time": "2024-04-30T21:43:13.250Z"
   },
   {
    "duration": 15,
    "start_time": "2024-04-30T21:43:13.266Z"
   },
   {
    "duration": 22,
    "start_time": "2024-04-30T21:43:13.283Z"
   },
   {
    "duration": 414,
    "start_time": "2024-04-30T21:43:13.307Z"
   },
   {
    "duration": 12,
    "start_time": "2024-04-30T21:43:13.723Z"
   },
   {
    "duration": 272,
    "start_time": "2024-04-30T21:43:13.737Z"
   },
   {
    "duration": 10,
    "start_time": "2024-04-30T21:43:14.010Z"
   },
   {
    "duration": 31,
    "start_time": "2024-04-30T21:43:14.021Z"
   },
   {
    "duration": 33,
    "start_time": "2024-04-30T21:43:14.054Z"
   },
   {
    "duration": 9,
    "start_time": "2024-04-30T21:43:14.088Z"
   },
   {
    "duration": 27,
    "start_time": "2024-04-30T21:43:14.099Z"
   },
   {
    "duration": 477,
    "start_time": "2024-04-30T21:43:14.130Z"
   },
   {
    "duration": 3,
    "start_time": "2024-04-30T21:43:14.609Z"
   },
   {
    "duration": 423,
    "start_time": "2024-04-30T21:43:14.614Z"
   },
   {
    "duration": 1833,
    "start_time": "2024-04-30T21:43:15.040Z"
   },
   {
    "duration": 1998,
    "start_time": "2024-04-30T21:43:16.874Z"
   },
   {
    "duration": 2689,
    "start_time": "2024-04-30T21:43:18.874Z"
   },
   {
    "duration": 2022,
    "start_time": "2024-04-30T21:43:21.572Z"
   },
   {
    "duration": 915,
    "start_time": "2024-04-30T21:43:23.597Z"
   },
   {
    "duration": 42,
    "start_time": "2024-04-30T21:43:24.513Z"
   },
   {
    "duration": 1659,
    "start_time": "2024-04-30T21:43:24.557Z"
   },
   {
    "duration": 38,
    "start_time": "2024-04-30T21:43:26.218Z"
   },
   {
    "duration": 216,
    "start_time": "2024-04-30T21:43:26.258Z"
   },
   {
    "duration": 140,
    "start_time": "2024-04-30T21:43:26.477Z"
   },
   {
    "duration": 230,
    "start_time": "2024-04-30T21:43:26.629Z"
   },
   {
    "duration": 202,
    "start_time": "2024-04-30T21:43:26.861Z"
   },
   {
    "duration": 707,
    "start_time": "2024-04-30T21:43:27.065Z"
   },
   {
    "duration": 2830,
    "start_time": "2024-04-30T21:43:27.775Z"
   },
   {
    "duration": 944,
    "start_time": "2024-04-30T21:43:30.607Z"
   },
   {
    "duration": 1346,
    "start_time": "2024-04-30T21:43:31.556Z"
   },
   {
    "duration": 957,
    "start_time": "2024-04-30T21:43:32.904Z"
   },
   {
    "duration": 1960,
    "start_time": "2024-04-30T21:43:33.862Z"
   },
   {
    "duration": 4,
    "start_time": "2024-04-30T21:55:10.386Z"
   },
   {
    "duration": 295,
    "start_time": "2024-04-30T21:55:12.885Z"
   },
   {
    "duration": 1474,
    "start_time": "2024-04-30T21:55:13.801Z"
   },
   {
    "duration": 1999,
    "start_time": "2024-04-30T21:55:31.297Z"
   },
   {
    "duration": 2462,
    "start_time": "2024-04-30T21:55:33.298Z"
   },
   {
    "duration": 2037,
    "start_time": "2024-04-30T21:55:35.762Z"
   },
   {
    "duration": 812,
    "start_time": "2024-04-30T21:55:37.801Z"
   },
   {
    "duration": 29,
    "start_time": "2024-04-30T21:55:38.616Z"
   },
   {
    "duration": 1491,
    "start_time": "2024-04-30T21:55:44.605Z"
   },
   {
    "duration": 32,
    "start_time": "2024-04-30T21:57:31.395Z"
   },
   {
    "duration": 247,
    "start_time": "2024-04-30T21:59:18.252Z"
   },
   {
    "duration": 56,
    "start_time": "2024-04-30T22:02:19.708Z"
   },
   {
    "duration": 11,
    "start_time": "2024-04-30T22:02:39.250Z"
   },
   {
    "duration": 20,
    "start_time": "2024-04-30T22:02:44.344Z"
   },
   {
    "duration": 1080,
    "start_time": "2024-04-30T22:02:53.908Z"
   },
   {
    "duration": 28,
    "start_time": "2024-04-30T22:03:01.969Z"
   },
   {
    "duration": 15,
    "start_time": "2024-04-30T22:03:20.487Z"
   },
   {
    "duration": 19,
    "start_time": "2024-04-30T22:03:45.269Z"
   },
   {
    "duration": 20,
    "start_time": "2024-04-30T22:04:07.659Z"
   },
   {
    "duration": 193,
    "start_time": "2024-04-30T22:04:53.031Z"
   },
   {
    "duration": 17,
    "start_time": "2024-04-30T22:05:13.878Z"
   },
   {
    "duration": 11,
    "start_time": "2024-04-30T22:05:31.496Z"
   },
   {
    "duration": 15,
    "start_time": "2024-04-30T22:05:54.654Z"
   },
   {
    "duration": 16,
    "start_time": "2024-04-30T22:07:50.947Z"
   },
   {
    "duration": 16,
    "start_time": "2024-04-30T22:08:05.220Z"
   },
   {
    "duration": 14,
    "start_time": "2024-04-30T22:08:23.036Z"
   },
   {
    "duration": 57,
    "start_time": "2024-04-30T22:08:35.742Z"
   },
   {
    "duration": 15,
    "start_time": "2024-04-30T22:08:45.892Z"
   },
   {
    "duration": 15,
    "start_time": "2024-04-30T22:08:54.469Z"
   },
   {
    "duration": 386,
    "start_time": "2024-04-30T22:10:12.468Z"
   },
   {
    "duration": 225,
    "start_time": "2024-04-30T22:10:21.344Z"
   },
   {
    "duration": 222,
    "start_time": "2024-04-30T22:10:32.555Z"
   },
   {
    "duration": 136,
    "start_time": "2024-04-30T22:11:00.798Z"
   },
   {
    "duration": 229,
    "start_time": "2024-04-30T22:11:05.221Z"
   },
   {
    "duration": 231,
    "start_time": "2024-04-30T22:11:26.643Z"
   },
   {
    "duration": 233,
    "start_time": "2024-04-30T22:11:53.089Z"
   },
   {
    "duration": 251,
    "start_time": "2024-04-30T22:12:35.541Z"
   },
   {
    "duration": 235,
    "start_time": "2024-04-30T22:12:46.249Z"
   },
   {
    "duration": 243,
    "start_time": "2024-04-30T22:13:11.303Z"
   },
   {
    "duration": 292,
    "start_time": "2024-04-30T22:14:17.552Z"
   },
   {
    "duration": 425,
    "start_time": "2024-04-30T22:15:38.574Z"
   },
   {
    "duration": 132,
    "start_time": "2024-04-30T22:16:42.527Z"
   },
   {
    "duration": 101,
    "start_time": "2024-04-30T22:17:06.638Z"
   },
   {
    "duration": 73,
    "start_time": "2024-04-30T22:18:37.957Z"
   },
   {
    "duration": 61,
    "start_time": "2024-04-30T22:19:19.322Z"
   },
   {
    "duration": 81,
    "start_time": "2024-04-30T22:19:33.320Z"
   },
   {
    "duration": 80,
    "start_time": "2024-04-30T22:20:09.631Z"
   },
   {
    "duration": 40,
    "start_time": "2024-04-30T22:20:28.525Z"
   },
   {
    "duration": 42,
    "start_time": "2024-04-30T22:20:46.381Z"
   },
   {
    "duration": 42,
    "start_time": "2024-04-30T22:21:27.875Z"
   },
   {
    "duration": 53,
    "start_time": "2024-04-30T22:21:42.535Z"
   },
   {
    "duration": 47,
    "start_time": "2024-04-30T22:21:59.478Z"
   },
   {
    "duration": 59,
    "start_time": "2024-04-30T22:22:03.003Z"
   },
   {
    "duration": 45,
    "start_time": "2024-04-30T22:22:17.085Z"
   },
   {
    "duration": 48,
    "start_time": "2024-04-30T22:22:20.634Z"
   },
   {
    "duration": 44,
    "start_time": "2024-04-30T22:22:55.309Z"
   },
   {
    "duration": 36,
    "start_time": "2024-04-30T22:23:03.902Z"
   },
   {
    "duration": 42,
    "start_time": "2024-04-30T22:23:43.096Z"
   },
   {
    "duration": 256,
    "start_time": "2024-04-30T22:24:46.156Z"
   },
   {
    "duration": 244,
    "start_time": "2024-04-30T22:24:56.207Z"
   },
   {
    "duration": 226,
    "start_time": "2024-04-30T22:25:09.803Z"
   },
   {
    "duration": 234,
    "start_time": "2024-04-30T22:25:24.619Z"
   },
   {
    "duration": 54,
    "start_time": "2024-04-30T22:25:57.101Z"
   },
   {
    "duration": 224,
    "start_time": "2024-04-30T22:26:00.474Z"
   },
   {
    "duration": 244,
    "start_time": "2024-04-30T22:26:08.704Z"
   },
   {
    "duration": 248,
    "start_time": "2024-04-30T22:26:15.037Z"
   },
   {
    "duration": 45,
    "start_time": "2024-04-30T22:28:07.172Z"
   },
   {
    "duration": 482,
    "start_time": "2024-04-30T22:28:40.108Z"
   },
   {
    "duration": 372,
    "start_time": "2024-04-30T22:29:10.249Z"
   },
   {
    "duration": 189,
    "start_time": "2024-04-30T22:29:30.447Z"
   },
   {
    "duration": 188,
    "start_time": "2024-04-30T22:29:36.733Z"
   },
   {
    "duration": 44,
    "start_time": "2024-04-30T22:30:08.711Z"
   },
   {
    "duration": 54,
    "start_time": "2024-04-30T22:32:14.216Z"
   },
   {
    "duration": 46,
    "start_time": "2024-04-30T22:32:23.858Z"
   },
   {
    "duration": 6,
    "start_time": "2024-04-30T22:34:34.880Z"
   },
   {
    "duration": 7,
    "start_time": "2024-04-30T22:34:35.350Z"
   },
   {
    "duration": 363,
    "start_time": "2024-04-30T22:34:35.593Z"
   },
   {
    "duration": 8,
    "start_time": "2024-04-30T22:34:36.332Z"
   },
   {
    "duration": 230,
    "start_time": "2024-04-30T22:34:36.840Z"
   },
   {
    "duration": 16,
    "start_time": "2024-04-30T22:34:37.377Z"
   },
   {
    "duration": 4,
    "start_time": "2024-04-30T22:34:37.877Z"
   },
   {
    "duration": 9,
    "start_time": "2024-04-30T22:34:44.048Z"
   },
   {
    "duration": 9,
    "start_time": "2024-04-30T22:34:44.586Z"
   },
   {
    "duration": 12,
    "start_time": "2024-04-30T22:34:45.166Z"
   },
   {
    "duration": 451,
    "start_time": "2024-04-30T22:34:49.398Z"
   },
   {
    "duration": 3,
    "start_time": "2024-04-30T22:35:13.442Z"
   },
   {
    "duration": 733,
    "start_time": "2024-04-30T22:35:13.446Z"
   },
   {
    "duration": 92,
    "start_time": "2024-04-30T22:35:14.181Z"
   },
   {
    "duration": 18,
    "start_time": "2024-04-30T22:35:14.275Z"
   },
   {
    "duration": 38,
    "start_time": "2024-04-30T22:35:14.296Z"
   },
   {
    "duration": 453,
    "start_time": "2024-04-30T22:35:14.336Z"
   },
   {
    "duration": 4,
    "start_time": "2024-04-30T22:35:14.791Z"
   },
   {
    "duration": 19,
    "start_time": "2024-04-30T22:35:14.797Z"
   },
   {
    "duration": 196,
    "start_time": "2024-04-30T22:35:14.818Z"
   },
   {
    "duration": 96,
    "start_time": "2024-04-30T22:35:15.016Z"
   },
   {
    "duration": 77,
    "start_time": "2024-04-30T22:35:15.115Z"
   },
   {
    "duration": 286,
    "start_time": "2024-04-30T22:35:15.194Z"
   },
   {
    "duration": 65,
    "start_time": "2024-04-30T22:35:15.482Z"
   },
   {
    "duration": 15,
    "start_time": "2024-04-30T22:35:15.549Z"
   },
   {
    "duration": 23,
    "start_time": "2024-04-30T22:35:15.565Z"
   },
   {
    "duration": 26,
    "start_time": "2024-04-30T22:35:15.590Z"
   },
   {
    "duration": 389,
    "start_time": "2024-04-30T22:35:15.618Z"
   },
   {
    "duration": 8,
    "start_time": "2024-04-30T22:35:16.009Z"
   },
   {
    "duration": 274,
    "start_time": "2024-04-30T22:35:16.019Z"
   },
   {
    "duration": 10,
    "start_time": "2024-04-30T22:35:16.295Z"
   },
   {
    "duration": 18,
    "start_time": "2024-04-30T22:35:16.306Z"
   },
   {
    "duration": 18,
    "start_time": "2024-04-30T22:35:16.326Z"
   },
   {
    "duration": 40,
    "start_time": "2024-04-30T22:35:16.346Z"
   },
   {
    "duration": 26,
    "start_time": "2024-04-30T22:35:16.388Z"
   },
   {
    "duration": 491,
    "start_time": "2024-04-30T22:35:30.049Z"
   },
   {
    "duration": 4,
    "start_time": "2024-04-30T22:35:37.746Z"
   },
   {
    "duration": 304,
    "start_time": "2024-04-30T22:35:38.516Z"
   },
   {
    "duration": 19,
    "start_time": "2024-04-30T22:35:39.881Z"
   },
   {
    "duration": 8,
    "start_time": "2024-04-30T22:46:39.163Z"
   },
   {
    "duration": 23,
    "start_time": "2024-04-30T22:48:17.031Z"
   },
   {
    "duration": 147,
    "start_time": "2024-04-30T22:49:39.277Z"
   },
   {
    "duration": 145,
    "start_time": "2024-04-30T22:50:18.075Z"
   },
   {
    "duration": 152,
    "start_time": "2024-04-30T22:50:24.879Z"
   },
   {
    "duration": 9,
    "start_time": "2024-04-30T22:56:31.201Z"
   },
   {
    "duration": 14,
    "start_time": "2024-04-30T22:56:36.717Z"
   },
   {
    "duration": 167,
    "start_time": "2024-04-30T22:57:20.786Z"
   },
   {
    "duration": 166,
    "start_time": "2024-04-30T22:57:44.431Z"
   },
   {
    "duration": 146,
    "start_time": "2024-04-30T22:58:02.039Z"
   },
   {
    "duration": 150,
    "start_time": "2024-04-30T22:58:10.941Z"
   },
   {
    "duration": 159,
    "start_time": "2024-04-30T22:58:31.596Z"
   },
   {
    "duration": 158,
    "start_time": "2024-04-30T22:58:42.414Z"
   },
   {
    "duration": 165,
    "start_time": "2024-04-30T22:59:07.332Z"
   },
   {
    "duration": 152,
    "start_time": "2024-04-30T22:59:36.422Z"
   },
   {
    "duration": 152,
    "start_time": "2024-04-30T23:00:01.962Z"
   },
   {
    "duration": 147,
    "start_time": "2024-04-30T23:00:33.189Z"
   },
   {
    "duration": 154,
    "start_time": "2024-04-30T23:00:38.499Z"
   },
   {
    "duration": 160,
    "start_time": "2024-04-30T23:00:40.633Z"
   },
   {
    "duration": 217,
    "start_time": "2024-04-30T23:00:43.217Z"
   },
   {
    "duration": 160,
    "start_time": "2024-04-30T23:01:01.704Z"
   },
   {
    "duration": 160,
    "start_time": "2024-04-30T23:01:08.390Z"
   },
   {
    "duration": 368,
    "start_time": "2024-04-30T23:01:11.445Z"
   },
   {
    "duration": 156,
    "start_time": "2024-04-30T23:01:29.907Z"
   },
   {
    "duration": 150,
    "start_time": "2024-04-30T23:01:43.917Z"
   },
   {
    "duration": 164,
    "start_time": "2024-04-30T23:02:06.756Z"
   },
   {
    "duration": 147,
    "start_time": "2024-04-30T23:02:10.905Z"
   },
   {
    "duration": 206,
    "start_time": "2024-04-30T23:02:15.889Z"
   },
   {
    "duration": 248,
    "start_time": "2024-04-30T23:02:16.348Z"
   },
   {
    "duration": 46,
    "start_time": "2024-04-30T23:02:17.383Z"
   },
   {
    "duration": 146,
    "start_time": "2024-04-30T23:03:02.092Z"
   },
   {
    "duration": 143,
    "start_time": "2024-04-30T23:03:06.168Z"
   },
   {
    "duration": 214,
    "start_time": "2024-04-30T23:03:07.787Z"
   },
   {
    "duration": 160,
    "start_time": "2024-04-30T23:03:41.418Z"
   },
   {
    "duration": 145,
    "start_time": "2024-04-30T23:03:44.223Z"
   },
   {
    "duration": 213,
    "start_time": "2024-04-30T23:03:46.800Z"
   },
   {
    "duration": 37,
    "start_time": "2024-04-30T23:07:03.251Z"
   },
   {
    "duration": 37,
    "start_time": "2024-04-30T23:08:08.708Z"
   },
   {
    "duration": 7,
    "start_time": "2024-04-30T23:08:22.934Z"
   },
   {
    "duration": 10,
    "start_time": "2024-04-30T23:08:43.348Z"
   },
   {
    "duration": 265,
    "start_time": "2024-04-30T23:09:06.355Z"
   },
   {
    "duration": 233,
    "start_time": "2024-04-30T23:19:39.501Z"
   },
   {
    "duration": 15,
    "start_time": "2024-04-30T23:20:03.121Z"
   },
   {
    "duration": 447,
    "start_time": "2024-04-30T23:24:03.817Z"
   },
   {
    "duration": 444,
    "start_time": "2024-04-30T23:24:14.971Z"
   },
   {
    "duration": 636,
    "start_time": "2024-04-30T23:25:50.226Z"
   },
   {
    "duration": 418,
    "start_time": "2024-04-30T23:26:49.280Z"
   },
   {
    "duration": 435,
    "start_time": "2024-04-30T23:26:54.357Z"
   },
   {
    "duration": 420,
    "start_time": "2024-04-30T23:28:12.379Z"
   },
   {
    "duration": 456,
    "start_time": "2024-04-30T23:29:25.462Z"
   },
   {
    "duration": 471,
    "start_time": "2024-04-30T23:29:34.391Z"
   },
   {
    "duration": 462,
    "start_time": "2024-04-30T23:29:50.664Z"
   },
   {
    "duration": 406,
    "start_time": "2024-04-30T23:29:58.749Z"
   },
   {
    "duration": 433,
    "start_time": "2024-04-30T23:30:14.222Z"
   },
   {
    "duration": 668,
    "start_time": "2024-04-30T23:30:29.599Z"
   },
   {
    "duration": 73,
    "start_time": "2024-04-30T23:30:36.340Z"
   },
   {
    "duration": 437,
    "start_time": "2024-04-30T23:30:44.040Z"
   },
   {
    "duration": 467,
    "start_time": "2024-04-30T23:30:54.700Z"
   },
   {
    "duration": 23,
    "start_time": "2024-04-30T23:34:07.063Z"
   },
   {
    "duration": 17,
    "start_time": "2024-04-30T23:35:18.552Z"
   },
   {
    "duration": 138,
    "start_time": "2024-04-30T23:36:07.338Z"
   },
   {
    "duration": 40,
    "start_time": "2024-04-30T23:38:33.042Z"
   },
   {
    "duration": 45,
    "start_time": "2024-04-30T23:38:41.462Z"
   },
   {
    "duration": 28,
    "start_time": "2024-04-30T23:39:36.854Z"
   },
   {
    "duration": 25,
    "start_time": "2024-04-30T23:39:57.431Z"
   },
   {
    "duration": 489,
    "start_time": "2024-04-30T23:41:14.603Z"
   },
   {
    "duration": 427,
    "start_time": "2024-04-30T23:41:21.634Z"
   },
   {
    "duration": 61,
    "start_time": "2024-04-30T23:41:37.835Z"
   },
   {
    "duration": 46,
    "start_time": "2024-04-30T23:41:45.710Z"
   },
   {
    "duration": 43,
    "start_time": "2024-04-30T23:42:39.846Z"
   },
   {
    "duration": 54,
    "start_time": "2024-04-30T23:42:47.460Z"
   },
   {
    "duration": 55,
    "start_time": "2024-04-30T23:43:33.486Z"
   },
   {
    "duration": 58,
    "start_time": "2024-04-30T23:43:47.985Z"
   },
   {
    "duration": 44,
    "start_time": "2024-04-30T23:44:41.800Z"
   },
   {
    "duration": 17,
    "start_time": "2024-04-30T23:48:22.584Z"
   },
   {
    "duration": 49,
    "start_time": "2024-04-30T23:50:15.518Z"
   },
   {
    "duration": 37,
    "start_time": "2024-04-30T23:51:00.417Z"
   },
   {
    "duration": 36,
    "start_time": "2024-04-30T23:51:34.732Z"
   },
   {
    "duration": 37,
    "start_time": "2024-04-30T23:53:11.065Z"
   },
   {
    "duration": 41,
    "start_time": "2024-04-30T23:57:10.127Z"
   },
   {
    "duration": 39,
    "start_time": "2024-04-30T23:57:25.129Z"
   },
   {
    "duration": 196,
    "start_time": "2024-05-01T00:02:54.920Z"
   },
   {
    "duration": 35,
    "start_time": "2024-05-01T00:03:42.731Z"
   },
   {
    "duration": 36,
    "start_time": "2024-05-01T00:04:04.985Z"
   },
   {
    "duration": 37,
    "start_time": "2024-05-01T00:04:08.600Z"
   },
   {
    "duration": 42,
    "start_time": "2024-05-01T00:04:18.530Z"
   },
   {
    "duration": 235,
    "start_time": "2024-05-01T00:04:50.654Z"
   },
   {
    "duration": 210,
    "start_time": "2024-05-01T00:05:13.666Z"
   },
   {
    "duration": 216,
    "start_time": "2024-05-01T00:05:35.096Z"
   },
   {
    "duration": 222,
    "start_time": "2024-05-01T00:06:00.822Z"
   },
   {
    "duration": 208,
    "start_time": "2024-05-01T00:06:20.374Z"
   },
   {
    "duration": 206,
    "start_time": "2024-05-01T00:06:31.051Z"
   },
   {
    "duration": 420,
    "start_time": "2024-05-01T00:06:39.229Z"
   },
   {
    "duration": 229,
    "start_time": "2024-05-01T00:06:56.620Z"
   },
   {
    "duration": 396,
    "start_time": "2024-05-01T00:07:38.180Z"
   },
   {
    "duration": 162,
    "start_time": "2024-05-01T00:07:50.046Z"
   },
   {
    "duration": 401,
    "start_time": "2024-05-01T00:07:58.931Z"
   },
   {
    "duration": 386,
    "start_time": "2024-05-01T00:08:11.060Z"
   },
   {
    "duration": 386,
    "start_time": "2024-05-01T00:09:25.244Z"
   },
   {
    "duration": 364,
    "start_time": "2024-05-01T00:10:05.299Z"
   },
   {
    "duration": 191,
    "start_time": "2024-05-01T00:10:36.229Z"
   },
   {
    "duration": 221,
    "start_time": "2024-05-01T00:12:12.900Z"
   },
   {
    "duration": 1366,
    "start_time": "2024-05-01T00:13:07.972Z"
   },
   {
    "duration": 1757,
    "start_time": "2024-05-01T00:14:18.973Z"
   },
   {
    "duration": 1261,
    "start_time": "2024-05-01T00:14:35.981Z"
   },
   {
    "duration": 1649,
    "start_time": "2024-05-01T00:17:02.214Z"
   },
   {
    "duration": 200,
    "start_time": "2024-05-01T00:19:19.113Z"
   },
   {
    "duration": 109,
    "start_time": "2024-05-01T00:19:39.728Z"
   },
   {
    "duration": 103,
    "start_time": "2024-05-01T00:19:55.849Z"
   },
   {
    "duration": 176,
    "start_time": "2024-05-01T00:20:32.938Z"
   },
   {
    "duration": 158,
    "start_time": "2024-05-01T00:20:55.665Z"
   },
   {
    "duration": 1102,
    "start_time": "2024-05-01T00:22:38.012Z"
   },
   {
    "duration": 1145,
    "start_time": "2024-05-01T00:22:55.700Z"
   },
   {
    "duration": 1296,
    "start_time": "2024-05-01T00:23:00.585Z"
   },
   {
    "duration": 9,
    "start_time": "2024-05-01T00:23:32.857Z"
   },
   {
    "duration": 367,
    "start_time": "2024-05-01T00:24:17.480Z"
   },
   {
    "duration": 413,
    "start_time": "2024-05-01T00:24:37.328Z"
   },
   {
    "duration": 511,
    "start_time": "2024-05-01T00:24:53.526Z"
   },
   {
    "duration": 320,
    "start_time": "2024-05-01T00:25:35.309Z"
   },
   {
    "duration": 283,
    "start_time": "2024-05-01T00:25:55.924Z"
   },
   {
    "duration": 280,
    "start_time": "2024-05-01T00:26:07.911Z"
   },
   {
    "duration": 273,
    "start_time": "2024-05-01T00:26:17.898Z"
   },
   {
    "duration": 290,
    "start_time": "2024-05-01T00:26:45.046Z"
   },
   {
    "duration": 273,
    "start_time": "2024-05-01T00:28:33.118Z"
   },
   {
    "duration": 1023,
    "start_time": "2024-05-01T00:29:11.527Z"
   },
   {
    "duration": 300,
    "start_time": "2024-05-01T00:29:19.754Z"
   },
   {
    "duration": 269,
    "start_time": "2024-05-01T00:30:13.914Z"
   },
   {
    "duration": 433,
    "start_time": "2024-05-01T00:33:55.930Z"
   },
   {
    "duration": 292,
    "start_time": "2024-05-01T00:35:04.890Z"
   },
   {
    "duration": 279,
    "start_time": "2024-05-01T00:35:31.840Z"
   },
   {
    "duration": 302,
    "start_time": "2024-05-01T00:36:01.507Z"
   },
   {
    "duration": 261,
    "start_time": "2024-05-01T00:36:07.831Z"
   },
   {
    "duration": 1421,
    "start_time": "2024-05-01T00:38:02.423Z"
   },
   {
    "duration": 1345,
    "start_time": "2024-05-01T00:38:27.610Z"
   },
   {
    "duration": 281,
    "start_time": "2024-05-01T00:39:02.141Z"
   },
   {
    "duration": 285,
    "start_time": "2024-05-01T00:39:51.208Z"
   },
   {
    "duration": 444,
    "start_time": "2024-05-01T00:40:22.427Z"
   },
   {
    "duration": 450,
    "start_time": "2024-05-01T00:48:31.306Z"
   },
   {
    "duration": 451,
    "start_time": "2024-05-01T00:49:44.705Z"
   },
   {
    "duration": 431,
    "start_time": "2024-05-01T00:50:11.012Z"
   },
   {
    "duration": 409,
    "start_time": "2024-05-01T00:50:18.265Z"
   },
   {
    "duration": 467,
    "start_time": "2024-05-01T00:51:14.562Z"
   },
   {
    "duration": 641,
    "start_time": "2024-05-01T00:52:54.542Z"
   },
   {
    "duration": 496,
    "start_time": "2024-05-01T00:53:33.053Z"
   },
   {
    "duration": 447,
    "start_time": "2024-05-01T00:54:40.679Z"
   },
   {
    "duration": 441,
    "start_time": "2024-05-01T00:54:55.328Z"
   },
   {
    "duration": 796,
    "start_time": "2024-05-01T18:51:18.516Z"
   },
   {
    "duration": 1793,
    "start_time": "2024-05-01T18:51:19.314Z"
   },
   {
    "duration": 83,
    "start_time": "2024-05-01T18:51:21.108Z"
   },
   {
    "duration": 20,
    "start_time": "2024-05-01T18:51:21.193Z"
   },
   {
    "duration": 14,
    "start_time": "2024-05-01T18:51:21.215Z"
   },
   {
    "duration": 508,
    "start_time": "2024-05-01T18:51:21.230Z"
   },
   {
    "duration": 4,
    "start_time": "2024-05-01T18:51:21.740Z"
   },
   {
    "duration": 8,
    "start_time": "2024-05-01T18:51:21.745Z"
   },
   {
    "duration": 166,
    "start_time": "2024-05-01T18:51:21.755Z"
   },
   {
    "duration": 92,
    "start_time": "2024-05-01T18:51:21.924Z"
   },
   {
    "duration": 61,
    "start_time": "2024-05-01T18:51:22.017Z"
   },
   {
    "duration": 6,
    "start_time": "2024-05-01T18:51:22.093Z"
   },
   {
    "duration": 29,
    "start_time": "2024-05-01T18:51:22.101Z"
   },
   {
    "duration": 100,
    "start_time": "2024-05-01T18:51:22.132Z"
   },
   {
    "duration": 0,
    "start_time": "2024-05-01T18:51:22.235Z"
   },
   {
    "duration": 0,
    "start_time": "2024-05-01T18:51:22.236Z"
   },
   {
    "duration": 0,
    "start_time": "2024-05-01T18:51:22.238Z"
   },
   {
    "duration": 0,
    "start_time": "2024-05-01T18:51:22.240Z"
   },
   {
    "duration": 0,
    "start_time": "2024-05-01T18:51:22.241Z"
   },
   {
    "duration": 0,
    "start_time": "2024-05-01T18:51:22.243Z"
   },
   {
    "duration": 0,
    "start_time": "2024-05-01T18:51:22.245Z"
   },
   {
    "duration": 0,
    "start_time": "2024-05-01T18:51:22.246Z"
   },
   {
    "duration": 0,
    "start_time": "2024-05-01T18:51:22.247Z"
   },
   {
    "duration": 0,
    "start_time": "2024-05-01T18:51:22.249Z"
   },
   {
    "duration": 0,
    "start_time": "2024-05-01T18:51:22.250Z"
   },
   {
    "duration": 0,
    "start_time": "2024-05-01T18:51:22.252Z"
   },
   {
    "duration": 0,
    "start_time": "2024-05-01T18:51:22.253Z"
   },
   {
    "duration": 0,
    "start_time": "2024-05-01T18:51:22.255Z"
   },
   {
    "duration": 0,
    "start_time": "2024-05-01T18:51:22.256Z"
   },
   {
    "duration": 0,
    "start_time": "2024-05-01T18:51:22.258Z"
   },
   {
    "duration": 0,
    "start_time": "2024-05-01T18:51:22.260Z"
   },
   {
    "duration": 0,
    "start_time": "2024-05-01T18:51:22.261Z"
   },
   {
    "duration": 0,
    "start_time": "2024-05-01T18:51:22.294Z"
   },
   {
    "duration": 0,
    "start_time": "2024-05-01T18:51:22.295Z"
   },
   {
    "duration": 0,
    "start_time": "2024-05-01T18:51:22.297Z"
   },
   {
    "duration": 0,
    "start_time": "2024-05-01T18:51:22.298Z"
   },
   {
    "duration": 1,
    "start_time": "2024-05-01T18:51:22.299Z"
   },
   {
    "duration": 0,
    "start_time": "2024-05-01T18:51:22.301Z"
   },
   {
    "duration": 0,
    "start_time": "2024-05-01T18:51:22.302Z"
   },
   {
    "duration": 0,
    "start_time": "2024-05-01T18:51:22.303Z"
   },
   {
    "duration": 0,
    "start_time": "2024-05-01T18:51:22.304Z"
   },
   {
    "duration": 0,
    "start_time": "2024-05-01T18:51:22.305Z"
   },
   {
    "duration": 0,
    "start_time": "2024-05-01T18:51:22.306Z"
   },
   {
    "duration": 0,
    "start_time": "2024-05-01T18:51:22.307Z"
   },
   {
    "duration": 0,
    "start_time": "2024-05-01T18:51:22.308Z"
   },
   {
    "duration": 0,
    "start_time": "2024-05-01T18:51:22.309Z"
   },
   {
    "duration": 0,
    "start_time": "2024-05-01T18:51:22.310Z"
   },
   {
    "duration": 0,
    "start_time": "2024-05-01T18:51:22.310Z"
   },
   {
    "duration": 699,
    "start_time": "2024-05-01T18:51:34.090Z"
   },
   {
    "duration": 79,
    "start_time": "2024-05-01T18:51:34.791Z"
   },
   {
    "duration": 18,
    "start_time": "2024-05-01T18:51:36.954Z"
   },
   {
    "duration": 15,
    "start_time": "2024-05-01T18:51:37.598Z"
   },
   {
    "duration": 455,
    "start_time": "2024-05-01T18:51:38.862Z"
   },
   {
    "duration": 4,
    "start_time": "2024-05-01T18:51:39.318Z"
   },
   {
    "duration": 4,
    "start_time": "2024-05-01T18:51:39.698Z"
   },
   {
    "duration": 130,
    "start_time": "2024-05-01T18:51:40.060Z"
   },
   {
    "duration": 87,
    "start_time": "2024-05-01T18:51:40.423Z"
   },
   {
    "duration": 63,
    "start_time": "2024-05-01T18:51:40.850Z"
   },
   {
    "duration": 8,
    "start_time": "2024-05-01T18:51:42.233Z"
   },
   {
    "duration": 7,
    "start_time": "2024-05-01T18:51:42.673Z"
   },
   {
    "duration": 7,
    "start_time": "2024-05-01T18:51:43.071Z"
   },
   {
    "duration": 6,
    "start_time": "2024-05-01T18:51:54.498Z"
   },
   {
    "duration": 7,
    "start_time": "2024-05-01T18:52:06.017Z"
   },
   {
    "duration": 7,
    "start_time": "2024-05-01T18:52:10.390Z"
   },
   {
    "duration": 3,
    "start_time": "2024-05-01T18:52:16.813Z"
   },
   {
    "duration": 771,
    "start_time": "2024-05-01T18:52:16.817Z"
   },
   {
    "duration": 78,
    "start_time": "2024-05-01T18:52:17.590Z"
   },
   {
    "duration": 89,
    "start_time": "2024-05-01T18:52:17.669Z"
   },
   {
    "duration": 14,
    "start_time": "2024-05-01T18:52:17.760Z"
   },
   {
    "duration": 449,
    "start_time": "2024-05-01T18:52:17.775Z"
   },
   {
    "duration": 4,
    "start_time": "2024-05-01T18:52:18.225Z"
   },
   {
    "duration": 25,
    "start_time": "2024-05-01T18:52:18.230Z"
   },
   {
    "duration": 141,
    "start_time": "2024-05-01T18:52:18.257Z"
   },
   {
    "duration": 86,
    "start_time": "2024-05-01T18:52:18.401Z"
   },
   {
    "duration": 64,
    "start_time": "2024-05-01T18:52:18.489Z"
   },
   {
    "duration": 7,
    "start_time": "2024-05-01T18:52:18.554Z"
   },
   {
    "duration": 31,
    "start_time": "2024-05-01T18:52:18.563Z"
   },
   {
    "duration": 472,
    "start_time": "2024-05-01T18:53:00.843Z"
   },
   {
    "duration": 6,
    "start_time": "2024-05-01T18:53:06.394Z"
   },
   {
    "duration": 8,
    "start_time": "2024-05-01T18:53:07.143Z"
   },
   {
    "duration": 395,
    "start_time": "2024-05-01T18:54:10.230Z"
   },
   {
    "duration": 6,
    "start_time": "2024-05-01T18:54:17.868Z"
   },
   {
    "duration": 352,
    "start_time": "2024-05-01T18:54:18.420Z"
   },
   {
    "duration": 9,
    "start_time": "2024-05-01T18:54:18.997Z"
   },
   {
    "duration": 226,
    "start_time": "2024-05-01T18:54:19.729Z"
   },
   {
    "duration": 10,
    "start_time": "2024-05-01T18:54:20.541Z"
   },
   {
    "duration": 3,
    "start_time": "2024-05-01T18:54:21.179Z"
   },
   {
    "duration": 9,
    "start_time": "2024-05-01T18:54:21.945Z"
   },
   {
    "duration": 5,
    "start_time": "2024-05-01T18:54:22.535Z"
   },
   {
    "duration": 10,
    "start_time": "2024-05-01T18:54:23.129Z"
   },
   {
    "duration": 3,
    "start_time": "2024-05-01T18:54:28.145Z"
   },
   {
    "duration": 330,
    "start_time": "2024-05-01T18:54:28.793Z"
   },
   {
    "duration": 8,
    "start_time": "2024-05-01T18:54:30.539Z"
   },
   {
    "duration": 2,
    "start_time": "2024-05-01T18:55:55.025Z"
   },
   {
    "duration": 708,
    "start_time": "2024-05-01T18:55:55.029Z"
   },
   {
    "duration": 76,
    "start_time": "2024-05-01T18:55:55.739Z"
   },
   {
    "duration": 16,
    "start_time": "2024-05-01T18:55:55.817Z"
   },
   {
    "duration": 22,
    "start_time": "2024-05-01T18:55:55.834Z"
   },
   {
    "duration": 456,
    "start_time": "2024-05-01T18:55:55.858Z"
   },
   {
    "duration": 5,
    "start_time": "2024-05-01T18:55:56.315Z"
   },
   {
    "duration": 17,
    "start_time": "2024-05-01T18:55:56.321Z"
   },
   {
    "duration": 144,
    "start_time": "2024-05-01T18:55:56.340Z"
   },
   {
    "duration": 86,
    "start_time": "2024-05-01T18:55:56.486Z"
   },
   {
    "duration": 68,
    "start_time": "2024-05-01T18:55:56.573Z"
   },
   {
    "duration": 7,
    "start_time": "2024-05-01T18:55:56.643Z"
   },
   {
    "duration": 452,
    "start_time": "2024-05-01T18:55:56.651Z"
   },
   {
    "duration": 6,
    "start_time": "2024-05-01T18:55:57.105Z"
   },
   {
    "duration": 406,
    "start_time": "2024-05-01T18:55:57.113Z"
   },
   {
    "duration": 8,
    "start_time": "2024-05-01T18:55:57.521Z"
   },
   {
    "duration": 234,
    "start_time": "2024-05-01T18:55:57.530Z"
   },
   {
    "duration": 9,
    "start_time": "2024-05-01T18:55:57.766Z"
   },
   {
    "duration": 49,
    "start_time": "2024-05-01T18:55:57.776Z"
   },
   {
    "duration": 12,
    "start_time": "2024-05-01T18:55:57.826Z"
   },
   {
    "duration": 28,
    "start_time": "2024-05-01T18:55:57.839Z"
   },
   {
    "duration": 21,
    "start_time": "2024-05-01T18:55:57.868Z"
   },
   {
    "duration": 11,
    "start_time": "2024-05-01T18:55:57.890Z"
   },
   {
    "duration": 294,
    "start_time": "2024-05-01T18:55:57.904Z"
   },
   {
    "duration": 21,
    "start_time": "2024-05-01T18:55:58.199Z"
   },
   {
    "duration": 163,
    "start_time": "2024-05-01T18:55:58.222Z"
   },
   {
    "duration": 148,
    "start_time": "2024-05-01T18:55:58.387Z"
   },
   {
    "duration": 222,
    "start_time": "2024-05-01T18:55:58.537Z"
   },
   {
    "duration": 323,
    "start_time": "2024-05-01T18:55:58.761Z"
   },
   {
    "duration": 55,
    "start_time": "2024-05-01T18:55:59.086Z"
   },
   {
    "duration": 0,
    "start_time": "2024-05-01T18:55:59.143Z"
   },
   {
    "duration": 51,
    "start_time": "2024-05-01T18:57:08.767Z"
   },
   {
    "duration": 55,
    "start_time": "2024-05-01T18:57:43.240Z"
   },
   {
    "duration": 3,
    "start_time": "2024-05-01T18:58:02.811Z"
   },
   {
    "duration": 711,
    "start_time": "2024-05-01T18:58:02.815Z"
   },
   {
    "duration": 92,
    "start_time": "2024-05-01T18:58:03.531Z"
   },
   {
    "duration": 68,
    "start_time": "2024-05-01T18:58:03.625Z"
   },
   {
    "duration": 66,
    "start_time": "2024-05-01T18:58:03.696Z"
   },
   {
    "duration": 456,
    "start_time": "2024-05-01T18:58:03.764Z"
   },
   {
    "duration": 4,
    "start_time": "2024-05-01T18:58:04.222Z"
   },
   {
    "duration": 31,
    "start_time": "2024-05-01T18:58:04.227Z"
   },
   {
    "duration": 148,
    "start_time": "2024-05-01T18:58:04.259Z"
   },
   {
    "duration": 88,
    "start_time": "2024-05-01T18:58:04.409Z"
   },
   {
    "duration": 61,
    "start_time": "2024-05-01T18:58:04.501Z"
   },
   {
    "duration": 6,
    "start_time": "2024-05-01T18:58:04.564Z"
   },
   {
    "duration": 485,
    "start_time": "2024-05-01T18:58:04.571Z"
   },
   {
    "duration": 7,
    "start_time": "2024-05-01T18:58:05.058Z"
   },
   {
    "duration": 418,
    "start_time": "2024-05-01T18:58:05.067Z"
   },
   {
    "duration": 9,
    "start_time": "2024-05-01T18:58:05.487Z"
   },
   {
    "duration": 251,
    "start_time": "2024-05-01T18:58:05.498Z"
   },
   {
    "duration": 11,
    "start_time": "2024-05-01T18:58:05.751Z"
   },
   {
    "duration": 108,
    "start_time": "2024-05-01T18:58:05.764Z"
   },
   {
    "duration": 83,
    "start_time": "2024-05-01T18:58:05.874Z"
   },
   {
    "duration": 53,
    "start_time": "2024-05-01T18:58:05.959Z"
   },
   {
    "duration": 50,
    "start_time": "2024-05-01T18:58:06.014Z"
   },
   {
    "duration": 68,
    "start_time": "2024-05-01T18:58:06.066Z"
   },
   {
    "duration": 354,
    "start_time": "2024-05-01T18:58:06.136Z"
   },
   {
    "duration": 22,
    "start_time": "2024-05-01T18:58:06.492Z"
   },
   {
    "duration": 219,
    "start_time": "2024-05-01T18:58:06.516Z"
   },
   {
    "duration": 143,
    "start_time": "2024-05-01T18:58:06.737Z"
   },
   {
    "duration": 215,
    "start_time": "2024-05-01T18:58:06.881Z"
   },
   {
    "duration": 230,
    "start_time": "2024-05-01T18:58:07.100Z"
   },
   {
    "duration": 54,
    "start_time": "2024-05-01T18:58:30.404Z"
   },
   {
    "duration": 14,
    "start_time": "2024-05-01T18:58:34.402Z"
   },
   {
    "duration": 7,
    "start_time": "2024-05-01T18:58:35.999Z"
   },
   {
    "duration": 2,
    "start_time": "2024-05-01T18:59:11.922Z"
   },
   {
    "duration": 709,
    "start_time": "2024-05-01T18:59:11.926Z"
   },
   {
    "duration": 80,
    "start_time": "2024-05-01T18:59:12.637Z"
   },
   {
    "duration": 26,
    "start_time": "2024-05-01T18:59:12.719Z"
   },
   {
    "duration": 22,
    "start_time": "2024-05-01T18:59:12.747Z"
   },
   {
    "duration": 448,
    "start_time": "2024-05-01T18:59:12.771Z"
   },
   {
    "duration": 4,
    "start_time": "2024-05-01T18:59:13.221Z"
   },
   {
    "duration": 44,
    "start_time": "2024-05-01T18:59:13.226Z"
   },
   {
    "duration": 163,
    "start_time": "2024-05-01T18:59:13.272Z"
   },
   {
    "duration": 97,
    "start_time": "2024-05-01T18:59:13.437Z"
   },
   {
    "duration": 70,
    "start_time": "2024-05-01T18:59:13.537Z"
   },
   {
    "duration": 7,
    "start_time": "2024-05-01T18:59:13.608Z"
   },
   {
    "duration": 474,
    "start_time": "2024-05-01T18:59:13.616Z"
   },
   {
    "duration": 7,
    "start_time": "2024-05-01T18:59:14.091Z"
   },
   {
    "duration": 397,
    "start_time": "2024-05-01T18:59:14.100Z"
   },
   {
    "duration": 8,
    "start_time": "2024-05-01T18:59:14.499Z"
   },
   {
    "duration": 217,
    "start_time": "2024-05-01T18:59:14.508Z"
   },
   {
    "duration": 9,
    "start_time": "2024-05-01T18:59:14.727Z"
   },
   {
    "duration": 17,
    "start_time": "2024-05-01T18:59:14.737Z"
   },
   {
    "duration": 27,
    "start_time": "2024-05-01T18:59:14.756Z"
   },
   {
    "duration": 13,
    "start_time": "2024-05-01T18:59:14.784Z"
   },
   {
    "duration": 10,
    "start_time": "2024-05-01T18:59:14.799Z"
   },
   {
    "duration": 14,
    "start_time": "2024-05-01T18:59:14.811Z"
   },
   {
    "duration": 317,
    "start_time": "2024-05-01T18:59:14.827Z"
   },
   {
    "duration": 24,
    "start_time": "2024-05-01T18:59:15.146Z"
   },
   {
    "duration": 211,
    "start_time": "2024-05-01T18:59:15.171Z"
   },
   {
    "duration": 164,
    "start_time": "2024-05-01T18:59:15.384Z"
   },
   {
    "duration": 220,
    "start_time": "2024-05-01T18:59:15.550Z"
   },
   {
    "duration": 228,
    "start_time": "2024-05-01T18:59:15.773Z"
   },
   {
    "duration": 51,
    "start_time": "2024-05-01T18:59:16.002Z"
   },
   {
    "duration": 27,
    "start_time": "2024-05-01T18:59:16.055Z"
   },
   {
    "duration": 279,
    "start_time": "2024-05-01T18:59:16.083Z"
   },
   {
    "duration": 543,
    "start_time": "2024-05-01T18:59:16.363Z"
   },
   {
    "duration": 8,
    "start_time": "2024-05-01T18:59:16.908Z"
   },
   {
    "duration": 0,
    "start_time": "2024-05-01T18:59:16.917Z"
   },
   {
    "duration": 4,
    "start_time": "2024-05-01T19:02:00.046Z"
   },
   {
    "duration": 979,
    "start_time": "2024-05-01T19:02:00.052Z"
   },
   {
    "duration": 91,
    "start_time": "2024-05-01T19:02:01.033Z"
   },
   {
    "duration": 102,
    "start_time": "2024-05-01T19:02:01.126Z"
   },
   {
    "duration": 306,
    "start_time": "2024-05-01T19:02:01.230Z"
   },
   {
    "duration": 520,
    "start_time": "2024-05-01T19:02:01.537Z"
   },
   {
    "duration": 4,
    "start_time": "2024-05-01T19:02:02.058Z"
   },
   {
    "duration": 47,
    "start_time": "2024-05-01T19:02:02.063Z"
   },
   {
    "duration": 409,
    "start_time": "2024-05-01T19:02:02.112Z"
   },
   {
    "duration": 369,
    "start_time": "2024-05-01T19:02:02.523Z"
   },
   {
    "duration": 68,
    "start_time": "2024-05-01T19:02:02.894Z"
   },
   {
    "duration": 155,
    "start_time": "2024-05-01T19:02:02.963Z"
   },
   {
    "duration": 569,
    "start_time": "2024-05-01T19:02:03.120Z"
   },
   {
    "duration": 12,
    "start_time": "2024-05-01T19:02:03.691Z"
   },
   {
    "duration": 468,
    "start_time": "2024-05-01T19:02:03.705Z"
   },
   {
    "duration": 8,
    "start_time": "2024-05-01T19:02:04.175Z"
   },
   {
    "duration": 275,
    "start_time": "2024-05-01T19:02:04.185Z"
   },
   {
    "duration": 9,
    "start_time": "2024-05-01T19:02:04.462Z"
   },
   {
    "duration": 29,
    "start_time": "2024-05-01T19:02:04.473Z"
   },
   {
    "duration": 13,
    "start_time": "2024-05-01T19:02:04.505Z"
   },
   {
    "duration": 20,
    "start_time": "2024-05-01T19:02:04.519Z"
   },
   {
    "duration": 32,
    "start_time": "2024-05-01T19:02:04.541Z"
   },
   {
    "duration": 41,
    "start_time": "2024-05-01T19:02:04.574Z"
   },
   {
    "duration": 360,
    "start_time": "2024-05-01T19:02:04.616Z"
   },
   {
    "duration": 36,
    "start_time": "2024-05-01T19:02:04.978Z"
   },
   {
    "duration": 267,
    "start_time": "2024-05-01T19:02:05.016Z"
   },
   {
    "duration": 156,
    "start_time": "2024-05-01T19:02:05.284Z"
   },
   {
    "duration": 248,
    "start_time": "2024-05-01T19:02:05.443Z"
   },
   {
    "duration": 251,
    "start_time": "2024-05-01T19:02:05.692Z"
   },
   {
    "duration": 382,
    "start_time": "2024-05-01T19:02:05.944Z"
   },
   {
    "duration": 291,
    "start_time": "2024-05-01T19:02:06.328Z"
   },
   {
    "duration": 294,
    "start_time": "2024-05-01T19:02:06.621Z"
   },
   {
    "duration": 440,
    "start_time": "2024-05-01T19:02:06.917Z"
   },
   {
    "duration": 172,
    "start_time": "2024-05-01T19:02:44.916Z"
   },
   {
    "duration": 173,
    "start_time": "2024-05-01T19:02:53.896Z"
   },
   {
    "duration": 236,
    "start_time": "2024-05-01T19:03:03.702Z"
   },
   {
    "duration": 144,
    "start_time": "2024-05-01T19:03:09.750Z"
   },
   {
    "duration": 1306,
    "start_time": "2024-05-01T19:04:19.211Z"
   },
   {
    "duration": 1260,
    "start_time": "2024-05-01T19:04:35.908Z"
   },
   {
    "duration": 370,
    "start_time": "2024-05-01T19:05:02.904Z"
   },
   {
    "duration": 226,
    "start_time": "2024-05-01T19:05:19.388Z"
   },
   {
    "duration": 316,
    "start_time": "2024-05-01T19:05:55.361Z"
   },
   {
    "duration": 255,
    "start_time": "2024-05-01T19:06:35.024Z"
   },
   {
    "duration": 241,
    "start_time": "2024-05-01T19:07:29.975Z"
   },
   {
    "duration": 268,
    "start_time": "2024-05-01T19:11:05.161Z"
   },
   {
    "duration": 294,
    "start_time": "2024-05-01T19:20:34.906Z"
   },
   {
    "duration": 284,
    "start_time": "2024-05-01T19:20:50.681Z"
   },
   {
    "duration": 316,
    "start_time": "2024-05-01T19:22:01.329Z"
   },
   {
    "duration": 281,
    "start_time": "2024-05-01T19:22:48.900Z"
   },
   {
    "duration": 23,
    "start_time": "2024-05-01T19:22:54.915Z"
   },
   {
    "duration": 164,
    "start_time": "2024-05-01T19:22:57.296Z"
   },
   {
    "duration": 152,
    "start_time": "2024-05-01T19:23:13.695Z"
   },
   {
    "duration": 257,
    "start_time": "2024-05-01T19:23:28.209Z"
   },
   {
    "duration": 65,
    "start_time": "2024-05-01T19:28:06.858Z"
   },
   {
    "duration": 276,
    "start_time": "2024-05-01T19:29:17.179Z"
   },
   {
    "duration": 68,
    "start_time": "2024-05-01T19:32:03.992Z"
   },
   {
    "duration": 80,
    "start_time": "2024-05-01T19:32:08.903Z"
   },
   {
    "duration": 355,
    "start_time": "2024-05-01T19:32:11.894Z"
   },
   {
    "duration": 67,
    "start_time": "2024-05-01T19:32:27.626Z"
   },
   {
    "duration": 279,
    "start_time": "2024-05-01T19:32:33.998Z"
   },
   {
    "duration": 272,
    "start_time": "2024-05-01T19:32:57.459Z"
   },
   {
    "duration": 8,
    "start_time": "2024-05-01T19:33:12.435Z"
   },
   {
    "duration": 7,
    "start_time": "2024-05-01T19:33:44.670Z"
   },
   {
    "duration": 282,
    "start_time": "2024-05-01T19:34:00.952Z"
   },
   {
    "duration": 289,
    "start_time": "2024-05-01T19:34:25.973Z"
   },
   {
    "duration": 8,
    "start_time": "2024-05-01T19:36:20.226Z"
   },
   {
    "duration": 793,
    "start_time": "2024-05-01T19:36:43.494Z"
   },
   {
    "duration": 2399,
    "start_time": "2024-05-01T19:37:09.854Z"
   },
   {
    "duration": 14,
    "start_time": "2024-05-01T19:37:26.292Z"
   },
   {
    "duration": 1449,
    "start_time": "2024-05-01T19:37:36.226Z"
   },
   {
    "duration": 1859,
    "start_time": "2024-05-01T19:38:36.783Z"
   },
   {
    "duration": 71,
    "start_time": "2024-05-01T19:40:33.330Z"
   },
   {
    "duration": 690,
    "start_time": "2024-05-01T19:41:22.711Z"
   },
   {
    "duration": 1029,
    "start_time": "2024-05-01T19:42:11.896Z"
   },
   {
    "duration": 797,
    "start_time": "2024-05-01T19:42:29.152Z"
   },
   {
    "duration": 1135,
    "start_time": "2024-05-01T19:43:22.026Z"
   },
   {
    "duration": 1887,
    "start_time": "2024-05-01T19:43:51.782Z"
   },
   {
    "duration": 1365,
    "start_time": "2024-05-01T19:43:57.059Z"
   },
   {
    "duration": 1504,
    "start_time": "2024-05-01T19:44:49.683Z"
   },
   {
    "duration": 1129,
    "start_time": "2024-05-01T19:45:27.554Z"
   },
   {
    "duration": 108,
    "start_time": "2024-05-01T19:45:47.234Z"
   },
   {
    "duration": 115,
    "start_time": "2024-05-01T19:45:50.113Z"
   },
   {
    "duration": 1791,
    "start_time": "2024-05-01T19:45:53.184Z"
   },
   {
    "duration": 1863,
    "start_time": "2024-05-01T19:46:27.976Z"
   },
   {
    "duration": 1385,
    "start_time": "2024-05-01T19:46:38.859Z"
   },
   {
    "duration": 1775,
    "start_time": "2024-05-01T19:47:47.149Z"
   },
   {
    "duration": 1805,
    "start_time": "2024-05-01T19:48:22.174Z"
   },
   {
    "duration": 1757,
    "start_time": "2024-05-01T19:49:35.735Z"
   },
   {
    "duration": 767,
    "start_time": "2024-05-01T19:49:51.490Z"
   },
   {
    "duration": 1726,
    "start_time": "2024-05-01T19:52:28.065Z"
   },
   {
    "duration": 260,
    "start_time": "2024-05-01T19:56:58.965Z"
   },
   {
    "duration": 379,
    "start_time": "2024-05-01T19:57:08.488Z"
   },
   {
    "duration": 16,
    "start_time": "2024-05-01T21:01:33.783Z"
   },
   {
    "duration": 15,
    "start_time": "2024-05-01T21:01:44.176Z"
   },
   {
    "duration": 2291,
    "start_time": "2024-05-01T21:01:55.865Z"
   },
   {
    "duration": 17,
    "start_time": "2024-05-01T21:01:58.158Z"
   },
   {
    "duration": 7,
    "start_time": "2024-05-01T21:02:53.537Z"
   },
   {
    "duration": 7,
    "start_time": "2024-05-01T21:03:03.148Z"
   },
   {
    "duration": 19,
    "start_time": "2024-05-01T21:03:22.179Z"
   },
   {
    "duration": 18,
    "start_time": "2024-05-01T21:03:44.195Z"
   },
   {
    "duration": 24,
    "start_time": "2024-05-01T21:28:04.148Z"
   },
   {
    "duration": 19,
    "start_time": "2024-05-01T21:37:37.015Z"
   },
   {
    "duration": 24,
    "start_time": "2024-05-01T21:47:44.179Z"
   },
   {
    "duration": 13,
    "start_time": "2024-05-01T21:49:33.846Z"
   },
   {
    "duration": 25,
    "start_time": "2024-05-01T21:49:45.631Z"
   },
   {
    "duration": 23,
    "start_time": "2024-05-01T21:49:57.992Z"
   },
   {
    "duration": 21,
    "start_time": "2024-05-01T21:50:03.238Z"
   },
   {
    "duration": 13,
    "start_time": "2024-05-01T21:50:57.215Z"
   },
   {
    "duration": 13,
    "start_time": "2024-05-01T21:51:16.285Z"
   },
   {
    "duration": 21,
    "start_time": "2024-05-01T21:51:19.942Z"
   },
   {
    "duration": 22,
    "start_time": "2024-05-01T21:52:15.125Z"
   },
   {
    "duration": 15,
    "start_time": "2024-05-01T21:54:32.525Z"
   },
   {
    "duration": 12,
    "start_time": "2024-05-01T21:54:42.047Z"
   },
   {
    "duration": 12,
    "start_time": "2024-05-01T21:55:21.903Z"
   },
   {
    "duration": 12,
    "start_time": "2024-05-01T22:04:35.798Z"
   },
   {
    "duration": 14,
    "start_time": "2024-05-01T22:28:59.817Z"
   },
   {
    "duration": 14,
    "start_time": "2024-05-01T22:29:22.341Z"
   },
   {
    "duration": 1085,
    "start_time": "2024-05-01T22:29:35.534Z"
   },
   {
    "duration": 19,
    "start_time": "2024-05-01T22:29:36.621Z"
   },
   {
    "duration": 3,
    "start_time": "2024-05-01T22:29:58.277Z"
   },
   {
    "duration": 5,
    "start_time": "2024-05-01T22:30:06.985Z"
   },
   {
    "duration": 166,
    "start_time": "2024-05-01T22:51:00.439Z"
   },
   {
    "duration": 17,
    "start_time": "2024-05-01T22:54:20.071Z"
   },
   {
    "duration": 1743,
    "start_time": "2024-05-01T22:54:26.596Z"
   },
   {
    "duration": 22,
    "start_time": "2024-05-01T22:54:28.340Z"
   },
   {
    "duration": 7,
    "start_time": "2024-05-01T22:55:15.887Z"
   },
   {
    "duration": 77,
    "start_time": "2024-05-01T22:56:13.428Z"
   },
   {
    "duration": 79,
    "start_time": "2024-05-01T23:30:45.541Z"
   },
   {
    "duration": 4,
    "start_time": "2024-05-02T00:45:13.375Z"
   },
   {
    "duration": 832,
    "start_time": "2024-05-02T00:45:14.109Z"
   },
   {
    "duration": 117,
    "start_time": "2024-05-02T00:45:14.943Z"
   },
   {
    "duration": 17,
    "start_time": "2024-05-02T00:45:16.679Z"
   },
   {
    "duration": 17,
    "start_time": "2024-05-02T00:45:17.718Z"
   },
   {
    "duration": 407,
    "start_time": "2024-05-02T00:45:20.427Z"
   },
   {
    "duration": 5,
    "start_time": "2024-05-02T00:45:21.231Z"
   },
   {
    "duration": 4,
    "start_time": "2024-05-02T00:45:22.383Z"
   },
   {
    "duration": 127,
    "start_time": "2024-05-02T00:45:23.144Z"
   },
   {
    "duration": 32,
    "start_time": "2024-05-02T00:45:29.411Z"
   },
   {
    "duration": 88,
    "start_time": "2024-05-02T00:45:30.671Z"
   },
   {
    "duration": 61,
    "start_time": "2024-05-02T00:45:31.731Z"
   },
   {
    "duration": 6,
    "start_time": "2024-05-02T00:45:34.389Z"
   },
   {
    "duration": 421,
    "start_time": "2024-05-02T00:45:36.211Z"
   },
   {
    "duration": 7,
    "start_time": "2024-05-02T00:45:38.268Z"
   },
   {
    "duration": 332,
    "start_time": "2024-05-02T00:46:11.064Z"
   },
   {
    "duration": 335,
    "start_time": "2024-05-02T00:46:18.924Z"
   },
   {
    "duration": 7,
    "start_time": "2024-05-02T00:46:52.278Z"
   },
   {
    "duration": 214,
    "start_time": "2024-05-02T00:46:53.150Z"
   },
   {
    "duration": 9,
    "start_time": "2024-05-02T00:46:54.673Z"
   },
   {
    "duration": 4,
    "start_time": "2024-05-02T00:46:55.423Z"
   },
   {
    "duration": 8,
    "start_time": "2024-05-02T00:46:56.120Z"
   },
   {
    "duration": 5,
    "start_time": "2024-05-02T00:46:56.751Z"
   },
   {
    "duration": 89,
    "start_time": "2024-05-02T00:46:57.374Z"
   },
   {
    "duration": 2,
    "start_time": "2024-05-02T00:46:58.223Z"
   },
   {
    "duration": 287,
    "start_time": "2024-05-02T00:46:58.834Z"
   },
   {
    "duration": 23,
    "start_time": "2024-05-02T00:47:01.201Z"
   },
   {
    "duration": 147,
    "start_time": "2024-05-02T00:47:11.665Z"
   },
   {
    "duration": 142,
    "start_time": "2024-05-02T00:47:14.043Z"
   },
   {
    "duration": 259,
    "start_time": "2024-05-02T00:47:17.082Z"
   },
   {
    "duration": 228,
    "start_time": "2024-05-02T00:47:18.766Z"
   },
   {
    "duration": 50,
    "start_time": "2024-05-02T00:47:19.675Z"
   },
   {
    "duration": 13,
    "start_time": "2024-05-02T00:47:20.698Z"
   },
   {
    "duration": 261,
    "start_time": "2024-05-02T00:47:23.063Z"
   },
   {
    "duration": 430,
    "start_time": "2024-05-02T00:47:25.352Z"
   },
   {
    "duration": 1477,
    "start_time": "2024-05-02T00:47:30.464Z"
   },
   {
    "duration": 1790,
    "start_time": "2024-05-02T00:47:33.094Z"
   },
   {
    "duration": 2397,
    "start_time": "2024-05-02T00:47:35.428Z"
   },
   {
    "duration": 11,
    "start_time": "2024-05-02T00:47:41.058Z"
   },
   {
    "duration": 1692,
    "start_time": "2024-05-02T00:47:42.744Z"
   },
   {
    "duration": 686,
    "start_time": "2024-05-02T00:47:48.610Z"
   },
   {
    "duration": 777,
    "start_time": "2024-05-02T00:47:50.308Z"
   },
   {
    "duration": 1068,
    "start_time": "2024-05-02T00:47:52.109Z"
   },
   {
    "duration": 14,
    "start_time": "2024-05-02T00:47:53.179Z"
   },
   {
    "duration": 775,
    "start_time": "2024-05-02T00:47:55.129Z"
   },
   {
    "duration": 1223,
    "start_time": "2024-05-02T00:47:58.154Z"
   },
   {
    "duration": 1425,
    "start_time": "2024-05-02T00:47:59.797Z"
   },
   {
    "duration": 1872,
    "start_time": "2024-05-02T00:48:01.402Z"
   },
   {
    "duration": 7,
    "start_time": "2024-05-02T00:48:03.730Z"
   },
   {
    "duration": 1374,
    "start_time": "2024-05-02T00:48:05.464Z"
   },
   {
    "duration": 52,
    "start_time": "2024-05-02T00:50:52.692Z"
   },
   {
    "duration": 53,
    "start_time": "2024-05-02T00:51:30.500Z"
   },
   {
    "duration": 679,
    "start_time": "2024-05-02T00:57:01.763Z"
   },
   {
    "duration": 77,
    "start_time": "2024-05-02T00:57:02.983Z"
   },
   {
    "duration": 16,
    "start_time": "2024-05-02T00:57:04.427Z"
   },
   {
    "duration": 15,
    "start_time": "2024-05-02T00:57:04.603Z"
   },
   {
    "duration": 400,
    "start_time": "2024-05-02T00:57:05.185Z"
   },
   {
    "duration": 8,
    "start_time": "2024-05-02T00:57:05.587Z"
   },
   {
    "duration": 8,
    "start_time": "2024-05-02T00:57:05.596Z"
   },
   {
    "duration": 134,
    "start_time": "2024-05-02T00:57:05.709Z"
   },
   {
    "duration": 83,
    "start_time": "2024-05-02T00:57:05.919Z"
   },
   {
    "duration": 60,
    "start_time": "2024-05-02T00:57:06.105Z"
   },
   {
    "duration": 6,
    "start_time": "2024-05-02T00:57:07.177Z"
   },
   {
    "duration": 420,
    "start_time": "2024-05-02T00:57:07.504Z"
   },
   {
    "duration": 6,
    "start_time": "2024-05-02T00:57:07.926Z"
   },
   {
    "duration": 341,
    "start_time": "2024-05-02T00:57:08.024Z"
   },
   {
    "duration": 8,
    "start_time": "2024-05-02T00:57:08.367Z"
   },
   {
    "duration": 221,
    "start_time": "2024-05-02T00:57:08.509Z"
   },
   {
    "duration": 10,
    "start_time": "2024-05-02T00:57:08.732Z"
   },
   {
    "duration": 4,
    "start_time": "2024-05-02T00:57:09.033Z"
   },
   {
    "duration": 9,
    "start_time": "2024-05-02T00:57:09.357Z"
   },
   {
    "duration": 5,
    "start_time": "2024-05-02T00:57:09.596Z"
   },
   {
    "duration": 10,
    "start_time": "2024-05-02T00:57:10.416Z"
   },
   {
    "duration": 9,
    "start_time": "2024-05-02T00:57:10.429Z"
   },
   {
    "duration": 301,
    "start_time": "2024-05-02T00:57:10.440Z"
   },
   {
    "duration": 23,
    "start_time": "2024-05-02T00:57:11.319Z"
   },
   {
    "duration": 150,
    "start_time": "2024-05-02T00:57:12.053Z"
   },
   {
    "duration": 144,
    "start_time": "2024-05-02T00:57:13.342Z"
   },
   {
    "duration": 355,
    "start_time": "2024-05-02T00:57:14.157Z"
   },
   {
    "duration": 238,
    "start_time": "2024-05-02T00:57:14.751Z"
   },
   {
    "duration": 63,
    "start_time": "2024-05-02T00:57:15.024Z"
   },
   {
    "duration": 15,
    "start_time": "2024-05-02T00:57:15.317Z"
   },
   {
    "duration": 276,
    "start_time": "2024-05-02T00:57:16.179Z"
   },
   {
    "duration": 423,
    "start_time": "2024-05-02T00:57:16.688Z"
   },
   {
    "duration": 243,
    "start_time": "2024-05-02T00:57:40.672Z"
   },
   {
    "duration": 59,
    "start_time": "2024-05-02T00:57:45.764Z"
   },
   {
    "duration": 14,
    "start_time": "2024-05-02T00:57:45.941Z"
   },
   {
    "duration": 299,
    "start_time": "2024-05-02T00:57:46.737Z"
   },
   {
    "duration": 469,
    "start_time": "2024-05-02T00:57:47.328Z"
   },
   {
    "duration": 1582,
    "start_time": "2024-05-02T00:57:48.446Z"
   },
   {
    "duration": 1830,
    "start_time": "2024-05-02T00:57:50.030Z"
   },
   {
    "duration": 2517,
    "start_time": "2024-05-02T00:57:51.863Z"
   },
   {
    "duration": 27,
    "start_time": "2024-05-02T00:57:54.382Z"
   },
   {
    "duration": 1860,
    "start_time": "2024-05-02T00:57:54.411Z"
   },
   {
    "duration": 661,
    "start_time": "2024-05-02T00:57:56.273Z"
   },
   {
    "duration": 835,
    "start_time": "2024-05-02T00:57:56.936Z"
   },
   {
    "duration": 1140,
    "start_time": "2024-05-02T00:57:57.773Z"
   },
   {
    "duration": 8,
    "start_time": "2024-05-02T00:57:58.914Z"
   },
   {
    "duration": 871,
    "start_time": "2024-05-02T00:57:58.924Z"
   },
   {
    "duration": 1339,
    "start_time": "2024-05-02T00:57:59.810Z"
   },
   {
    "duration": 1645,
    "start_time": "2024-05-02T00:58:01.151Z"
   },
   {
    "duration": 1860,
    "start_time": "2024-05-02T00:58:02.799Z"
   },
   {
    "duration": 9,
    "start_time": "2024-05-02T00:58:04.661Z"
   },
   {
    "duration": 1504,
    "start_time": "2024-05-02T00:58:04.672Z"
   },
   {
    "duration": 863,
    "start_time": "2024-05-02T05:18:22.833Z"
   },
   {
    "duration": 1804,
    "start_time": "2024-05-02T05:18:23.698Z"
   },
   {
    "duration": 92,
    "start_time": "2024-05-02T05:18:25.504Z"
   },
   {
    "duration": 18,
    "start_time": "2024-05-02T05:18:25.597Z"
   },
   {
    "duration": 51,
    "start_time": "2024-05-02T05:18:25.617Z"
   },
   {
    "duration": 530,
    "start_time": "2024-05-02T05:18:25.669Z"
   },
   {
    "duration": 4,
    "start_time": "2024-05-02T05:18:26.201Z"
   },
   {
    "duration": 7,
    "start_time": "2024-05-02T05:18:26.207Z"
   },
   {
    "duration": 169,
    "start_time": "2024-05-02T05:18:26.215Z"
   },
   {
    "duration": 102,
    "start_time": "2024-05-02T05:18:26.386Z"
   },
   {
    "duration": 66,
    "start_time": "2024-05-02T05:18:26.490Z"
   },
   {
    "duration": 18,
    "start_time": "2024-05-02T05:18:26.558Z"
   },
   {
    "duration": 545,
    "start_time": "2024-05-02T05:18:26.577Z"
   },
   {
    "duration": 8,
    "start_time": "2024-05-02T05:18:27.125Z"
   },
   {
    "duration": 419,
    "start_time": "2024-05-02T05:18:27.134Z"
   },
   {
    "duration": 8,
    "start_time": "2024-05-02T05:18:27.555Z"
   },
   {
    "duration": 269,
    "start_time": "2024-05-02T05:18:27.565Z"
   },
   {
    "duration": 11,
    "start_time": "2024-05-02T05:18:27.836Z"
   },
   {
    "duration": 25,
    "start_time": "2024-05-02T05:18:27.849Z"
   },
   {
    "duration": 24,
    "start_time": "2024-05-02T05:18:27.876Z"
   },
   {
    "duration": 15,
    "start_time": "2024-05-02T05:18:27.902Z"
   },
   {
    "duration": 21,
    "start_time": "2024-05-02T05:18:27.919Z"
   },
   {
    "duration": 17,
    "start_time": "2024-05-02T05:18:27.941Z"
   },
   {
    "duration": 349,
    "start_time": "2024-05-02T05:18:27.960Z"
   },
   {
    "duration": 24,
    "start_time": "2024-05-02T05:18:28.310Z"
   },
   {
    "duration": 199,
    "start_time": "2024-05-02T05:18:28.336Z"
   },
   {
    "duration": 170,
    "start_time": "2024-05-02T05:18:28.537Z"
   },
   {
    "duration": 286,
    "start_time": "2024-05-02T05:18:28.709Z"
   },
   {
    "duration": 312,
    "start_time": "2024-05-02T05:18:28.997Z"
   },
   {
    "duration": 64,
    "start_time": "2024-05-02T05:18:29.311Z"
   },
   {
    "duration": 15,
    "start_time": "2024-05-02T05:18:29.377Z"
   },
   {
    "duration": 317,
    "start_time": "2024-05-02T05:18:29.394Z"
   },
   {
    "duration": 496,
    "start_time": "2024-05-02T05:18:29.713Z"
   },
   {
    "duration": 1699,
    "start_time": "2024-05-02T05:18:30.211Z"
   },
   {
    "duration": 1933,
    "start_time": "2024-05-02T05:18:31.912Z"
   },
   {
    "duration": 2586,
    "start_time": "2024-05-02T05:18:33.847Z"
   },
   {
    "duration": 11,
    "start_time": "2024-05-02T05:18:36.435Z"
   },
   {
    "duration": 2055,
    "start_time": "2024-05-02T05:18:36.447Z"
   },
   {
    "duration": 706,
    "start_time": "2024-05-02T05:18:38.503Z"
   },
   {
    "duration": 865,
    "start_time": "2024-05-02T05:18:39.210Z"
   },
   {
    "duration": 1056,
    "start_time": "2024-05-02T05:18:40.079Z"
   },
   {
    "duration": 6,
    "start_time": "2024-05-02T05:18:41.137Z"
   },
   {
    "duration": 974,
    "start_time": "2024-05-02T05:18:41.145Z"
   },
   {
    "duration": 1337,
    "start_time": "2024-05-02T05:18:42.120Z"
   },
   {
    "duration": 1554,
    "start_time": "2024-05-02T05:18:43.458Z"
   },
   {
    "duration": 2027,
    "start_time": "2024-05-02T05:18:45.013Z"
   },
   {
    "duration": 8,
    "start_time": "2024-05-02T05:18:47.041Z"
   },
   {
    "duration": 1571,
    "start_time": "2024-05-02T05:18:47.051Z"
   },
   {
    "duration": 104,
    "start_time": "2024-05-02T05:44:28.621Z"
   },
   {
    "duration": 68,
    "start_time": "2024-05-02T05:59:21.050Z"
   },
   {
    "duration": 58,
    "start_time": "2024-05-02T10:20:22.401Z"
   },
   {
    "duration": 938,
    "start_time": "2024-05-02T10:20:28.148Z"
   },
   {
    "duration": 1909,
    "start_time": "2024-05-02T10:20:29.088Z"
   },
   {
    "duration": 106,
    "start_time": "2024-05-02T10:20:30.998Z"
   },
   {
    "duration": 180,
    "start_time": "2024-05-02T10:20:31.106Z"
   },
   {
    "duration": 116,
    "start_time": "2024-05-02T10:20:31.288Z"
   },
   {
    "duration": 655,
    "start_time": "2024-05-02T10:20:31.406Z"
   },
   {
    "duration": 5,
    "start_time": "2024-05-02T10:20:32.062Z"
   },
   {
    "duration": 27,
    "start_time": "2024-05-02T10:20:32.080Z"
   },
   {
    "duration": 277,
    "start_time": "2024-05-02T10:20:32.109Z"
   },
   {
    "duration": 112,
    "start_time": "2024-05-02T10:20:32.389Z"
   },
   {
    "duration": 82,
    "start_time": "2024-05-02T10:20:32.503Z"
   },
   {
    "duration": 16,
    "start_time": "2024-05-02T10:20:34.534Z"
   },
   {
    "duration": 39,
    "start_time": "2024-05-02T10:21:59.177Z"
   },
   {
    "duration": 2,
    "start_time": "2024-05-02T10:22:08.149Z"
   },
   {
    "duration": 865,
    "start_time": "2024-05-02T10:22:08.153Z"
   },
   {
    "duration": 89,
    "start_time": "2024-05-02T10:22:09.019Z"
   },
   {
    "duration": 17,
    "start_time": "2024-05-02T10:22:09.110Z"
   },
   {
    "duration": 17,
    "start_time": "2024-05-02T10:22:09.129Z"
   },
   {
    "duration": 510,
    "start_time": "2024-05-02T10:22:09.147Z"
   },
   {
    "duration": 4,
    "start_time": "2024-05-02T10:22:09.659Z"
   },
   {
    "duration": 6,
    "start_time": "2024-05-02T10:22:09.664Z"
   },
   {
    "duration": 156,
    "start_time": "2024-05-02T10:22:09.682Z"
   },
   {
    "duration": 97,
    "start_time": "2024-05-02T10:22:09.840Z"
   },
   {
    "duration": 74,
    "start_time": "2024-05-02T10:22:09.939Z"
   },
   {
    "duration": 15,
    "start_time": "2024-05-02T10:22:10.015Z"
   },
   {
    "duration": 26,
    "start_time": "2024-05-02T10:22:10.031Z"
   },
   {
    "duration": 564,
    "start_time": "2024-05-02T10:22:10.058Z"
   },
   {
    "duration": 11,
    "start_time": "2024-05-02T10:22:10.624Z"
   },
   {
    "duration": 454,
    "start_time": "2024-05-02T10:22:10.637Z"
   },
   {
    "duration": 9,
    "start_time": "2024-05-02T10:22:11.093Z"
   },
   {
    "duration": 277,
    "start_time": "2024-05-02T10:22:11.104Z"
   },
   {
    "duration": 11,
    "start_time": "2024-05-02T10:22:11.383Z"
   },
   {
    "duration": 13,
    "start_time": "2024-05-02T10:22:11.396Z"
   },
   {
    "duration": 10,
    "start_time": "2024-05-02T10:22:11.411Z"
   },
   {
    "duration": 12,
    "start_time": "2024-05-02T10:22:11.423Z"
   },
   {
    "duration": 14,
    "start_time": "2024-05-02T10:22:11.437Z"
   },
   {
    "duration": 25,
    "start_time": "2024-05-02T10:22:11.455Z"
   },
   {
    "duration": 350,
    "start_time": "2024-05-02T10:22:11.482Z"
   },
   {
    "duration": 24,
    "start_time": "2024-05-02T10:22:23.597Z"
   },
   {
    "duration": 28,
    "start_time": "2024-05-02T10:26:08.887Z"
   },
   {
    "duration": 25,
    "start_time": "2024-05-02T10:26:22.140Z"
   },
   {
    "duration": 26,
    "start_time": "2024-05-02T10:26:49.584Z"
   },
   {
    "duration": 28,
    "start_time": "2024-05-02T10:27:01.850Z"
   },
   {
    "duration": 27,
    "start_time": "2024-05-02T10:28:51.871Z"
   },
   {
    "duration": 28,
    "start_time": "2024-05-02T10:28:57.104Z"
   },
   {
    "duration": 28,
    "start_time": "2024-05-02T10:29:05.836Z"
   },
   {
    "duration": 28,
    "start_time": "2024-05-02T10:29:27.035Z"
   },
   {
    "duration": 34,
    "start_time": "2024-05-02T10:30:47.656Z"
   },
   {
    "duration": 29,
    "start_time": "2024-05-02T10:30:55.755Z"
   },
   {
    "duration": 31,
    "start_time": "2024-05-02T10:31:55.883Z"
   },
   {
    "duration": 24,
    "start_time": "2024-05-02T10:36:23.435Z"
   },
   {
    "duration": 29,
    "start_time": "2024-05-02T10:36:35.917Z"
   },
   {
    "duration": 1199,
    "start_time": "2024-05-02T10:36:44.162Z"
   },
   {
    "duration": 29,
    "start_time": "2024-05-02T10:36:53.248Z"
   },
   {
    "duration": 23,
    "start_time": "2024-05-02T10:38:30.990Z"
   },
   {
    "duration": 23,
    "start_time": "2024-05-02T10:38:44.537Z"
   },
   {
    "duration": 28,
    "start_time": "2024-05-02T10:39:06.095Z"
   },
   {
    "duration": 27,
    "start_time": "2024-05-02T10:39:19.390Z"
   },
   {
    "duration": 118,
    "start_time": "2024-05-02T10:39:31.146Z"
   },
   {
    "duration": 27,
    "start_time": "2024-05-02T10:39:34.006Z"
   },
   {
    "duration": 22,
    "start_time": "2024-05-02T10:39:51.591Z"
   },
   {
    "duration": 31,
    "start_time": "2024-05-02T10:40:55.370Z"
   },
   {
    "duration": 29,
    "start_time": "2024-05-02T10:41:17.066Z"
   },
   {
    "duration": 24,
    "start_time": "2024-05-02T10:41:30.148Z"
   },
   {
    "duration": 22,
    "start_time": "2024-05-02T10:42:42.691Z"
   },
   {
    "duration": 3,
    "start_time": "2024-05-02T10:45:56.052Z"
   },
   {
    "duration": 848,
    "start_time": "2024-05-02T10:45:56.057Z"
   },
   {
    "duration": 90,
    "start_time": "2024-05-02T10:45:56.907Z"
   },
   {
    "duration": 18,
    "start_time": "2024-05-02T10:45:57.000Z"
   },
   {
    "duration": 16,
    "start_time": "2024-05-02T10:45:57.020Z"
   },
   {
    "duration": 544,
    "start_time": "2024-05-02T10:45:57.038Z"
   },
   {
    "duration": 4,
    "start_time": "2024-05-02T10:45:57.584Z"
   },
   {
    "duration": 16,
    "start_time": "2024-05-02T10:45:57.590Z"
   },
   {
    "duration": 159,
    "start_time": "2024-05-02T10:45:57.608Z"
   },
   {
    "duration": 117,
    "start_time": "2024-05-02T10:45:57.768Z"
   },
   {
    "duration": 77,
    "start_time": "2024-05-02T10:45:57.888Z"
   },
   {
    "duration": 31,
    "start_time": "2024-05-02T10:45:57.980Z"
   },
   {
    "duration": 24,
    "start_time": "2024-05-02T10:45:58.013Z"
   },
   {
    "duration": 7,
    "start_time": "2024-05-02T10:45:58.039Z"
   },
   {
    "duration": 597,
    "start_time": "2024-05-02T10:45:58.049Z"
   },
   {
    "duration": 9,
    "start_time": "2024-05-02T10:45:58.647Z"
   },
   {
    "duration": 3,
    "start_time": "2024-05-02T10:46:06.312Z"
   },
   {
    "duration": 10,
    "start_time": "2024-05-02T10:46:10.404Z"
   },
   {
    "duration": 320,
    "start_time": "2024-05-02T10:46:23.094Z"
   },
   {
    "duration": 10,
    "start_time": "2024-05-02T10:46:24.336Z"
   },
   {
    "duration": 3,
    "start_time": "2024-05-02T10:46:24.959Z"
   },
   {
    "duration": 9,
    "start_time": "2024-05-02T10:46:25.691Z"
   },
   {
    "duration": 9,
    "start_time": "2024-05-02T10:46:26.290Z"
   },
   {
    "duration": 11,
    "start_time": "2024-05-02T10:46:26.905Z"
   },
   {
    "duration": 3,
    "start_time": "2024-05-02T10:46:27.694Z"
   },
   {
    "duration": 352,
    "start_time": "2024-05-02T10:46:28.358Z"
   },
   {
    "duration": 24,
    "start_time": "2024-05-02T10:46:30.343Z"
   },
   {
    "duration": 186,
    "start_time": "2024-05-02T10:46:33.012Z"
   },
   {
    "duration": 157,
    "start_time": "2024-05-02T10:46:35.302Z"
   },
   {
    "duration": 283,
    "start_time": "2024-05-02T10:46:37.682Z"
   },
   {
    "duration": 311,
    "start_time": "2024-05-02T10:46:40.893Z"
   },
   {
    "duration": 58,
    "start_time": "2024-05-02T10:46:41.547Z"
   },
   {
    "duration": 16,
    "start_time": "2024-05-02T10:46:42.202Z"
   },
   {
    "duration": 295,
    "start_time": "2024-05-02T10:46:45.785Z"
   },
   {
    "duration": 545,
    "start_time": "2024-05-02T10:46:49.281Z"
   },
   {
    "duration": 1682,
    "start_time": "2024-05-02T10:46:55.130Z"
   },
   {
    "duration": 2047,
    "start_time": "2024-05-02T10:47:01.638Z"
   },
   {
    "duration": 2623,
    "start_time": "2024-05-02T10:47:04.862Z"
   },
   {
    "duration": 16,
    "start_time": "2024-05-02T10:47:07.487Z"
   },
   {
    "duration": 2241,
    "start_time": "2024-05-02T10:47:09.983Z"
   },
   {
    "duration": 703,
    "start_time": "2024-05-02T10:47:16.430Z"
   },
   {
    "duration": 836,
    "start_time": "2024-05-02T10:47:17.790Z"
   },
   {
    "duration": 1107,
    "start_time": "2024-05-02T10:47:19.357Z"
   },
   {
    "duration": 16,
    "start_time": "2024-05-02T10:47:20.466Z"
   },
   {
    "duration": 1037,
    "start_time": "2024-05-02T10:47:22.032Z"
   },
   {
    "duration": 1476,
    "start_time": "2024-05-02T10:47:24.898Z"
   },
   {
    "duration": 1653,
    "start_time": "2024-05-02T10:47:26.379Z"
   },
   {
    "duration": 2135,
    "start_time": "2024-05-02T10:47:28.034Z"
   },
   {
    "duration": 9,
    "start_time": "2024-05-02T10:47:31.051Z"
   },
   {
    "duration": 1620,
    "start_time": "2024-05-02T10:47:32.291Z"
   },
   {
    "duration": 9,
    "start_time": "2024-05-02T10:48:06.213Z"
   },
   {
    "duration": 10,
    "start_time": "2024-05-02T10:48:10.880Z"
   },
   {
    "duration": 28,
    "start_time": "2024-05-02T10:48:10.893Z"
   },
   {
    "duration": 6,
    "start_time": "2024-05-02T10:48:10.923Z"
   },
   {
    "duration": 11,
    "start_time": "2024-05-02T10:48:10.931Z"
   },
   {
    "duration": 15,
    "start_time": "2024-05-02T10:48:10.943Z"
   },
   {
    "duration": 12,
    "start_time": "2024-05-02T10:48:10.980Z"
   },
   {
    "duration": 7,
    "start_time": "2024-05-02T10:48:10.994Z"
   },
   {
    "duration": 322,
    "start_time": "2024-05-02T10:48:11.002Z"
   },
   {
    "duration": 24,
    "start_time": "2024-05-02T10:48:11.326Z"
   },
   {
    "duration": 179,
    "start_time": "2024-05-02T10:48:11.353Z"
   },
   {
    "duration": 177,
    "start_time": "2024-05-02T10:48:11.534Z"
   },
   {
    "duration": 297,
    "start_time": "2024-05-02T10:48:11.714Z"
   },
   {
    "duration": 368,
    "start_time": "2024-05-02T10:48:12.013Z"
   },
   {
    "duration": 59,
    "start_time": "2024-05-02T10:48:12.383Z"
   },
   {
    "duration": 39,
    "start_time": "2024-05-02T10:48:12.443Z"
   },
   {
    "duration": 327,
    "start_time": "2024-05-02T10:48:12.484Z"
   },
   {
    "duration": 458,
    "start_time": "2024-05-02T10:48:12.813Z"
   },
   {
    "duration": 1581,
    "start_time": "2024-05-02T10:48:13.273Z"
   },
   {
    "duration": 1989,
    "start_time": "2024-05-02T10:48:14.856Z"
   },
   {
    "duration": 2650,
    "start_time": "2024-05-02T10:48:16.846Z"
   },
   {
    "duration": 13,
    "start_time": "2024-05-02T10:48:19.497Z"
   },
   {
    "duration": 1999,
    "start_time": "2024-05-02T10:48:19.511Z"
   },
   {
    "duration": 708,
    "start_time": "2024-05-02T10:48:21.512Z"
   },
   {
    "duration": 862,
    "start_time": "2024-05-02T10:48:22.222Z"
   },
   {
    "duration": 1071,
    "start_time": "2024-05-02T10:48:23.086Z"
   },
   {
    "duration": 6,
    "start_time": "2024-05-02T10:48:24.159Z"
   },
   {
    "duration": 899,
    "start_time": "2024-05-02T10:48:24.181Z"
   },
   {
    "duration": 1411,
    "start_time": "2024-05-02T10:48:25.083Z"
   },
   {
    "duration": 1559,
    "start_time": "2024-05-02T10:48:26.496Z"
   },
   {
    "duration": 2084,
    "start_time": "2024-05-02T10:48:28.057Z"
   },
   {
    "duration": 7,
    "start_time": "2024-05-02T10:48:30.143Z"
   },
   {
    "duration": 1641,
    "start_time": "2024-05-02T10:48:30.152Z"
   },
   {
    "duration": 529,
    "start_time": "2024-05-02T10:56:53.260Z"
   },
   {
    "duration": 501,
    "start_time": "2024-05-02T10:57:20.121Z"
   },
   {
    "duration": 633,
    "start_time": "2024-05-02T10:57:58.825Z"
   },
   {
    "duration": 157,
    "start_time": "2024-05-02T10:58:49.673Z"
   },
   {
    "duration": 16,
    "start_time": "2024-05-02T10:59:15.390Z"
   },
   {
    "duration": 27,
    "start_time": "2024-05-02T11:00:09.715Z"
   },
   {
    "duration": 5,
    "start_time": "2024-05-02T11:00:38.855Z"
   },
   {
    "duration": 140,
    "start_time": "2024-05-02T11:00:51.394Z"
   },
   {
    "duration": 5,
    "start_time": "2024-05-02T11:00:53.902Z"
   },
   {
    "duration": 141,
    "start_time": "2024-05-02T11:01:40.014Z"
   },
   {
    "duration": 235,
    "start_time": "2024-05-02T11:02:14.862Z"
   },
   {
    "duration": 554,
    "start_time": "2024-05-02T11:03:39.656Z"
   },
   {
    "duration": 452,
    "start_time": "2024-05-02T11:04:03.290Z"
   },
   {
    "duration": 454,
    "start_time": "2024-05-02T11:04:16.271Z"
   },
   {
    "duration": 564,
    "start_time": "2024-05-02T11:04:31.696Z"
   },
   {
    "duration": 499,
    "start_time": "2024-05-02T11:04:40.556Z"
   },
   {
    "duration": 482,
    "start_time": "2024-05-02T11:04:57.260Z"
   },
   {
    "duration": 550,
    "start_time": "2024-05-02T11:05:26.297Z"
   },
   {
    "duration": 533,
    "start_time": "2024-05-02T11:05:52.084Z"
   },
   {
    "duration": 564,
    "start_time": "2024-05-02T11:06:25.637Z"
   },
   {
    "duration": 547,
    "start_time": "2024-05-02T11:07:00.936Z"
   },
   {
    "duration": 512,
    "start_time": "2024-05-02T11:07:12.123Z"
   },
   {
    "duration": 525,
    "start_time": "2024-05-02T11:07:25.093Z"
   },
   {
    "duration": 572,
    "start_time": "2024-05-02T11:07:34.328Z"
   },
   {
    "duration": 522,
    "start_time": "2024-05-02T11:07:38.133Z"
   },
   {
    "duration": 634,
    "start_time": "2024-05-02T11:07:46.546Z"
   },
   {
    "duration": 524,
    "start_time": "2024-05-02T11:09:14.861Z"
   },
   {
    "duration": 561,
    "start_time": "2024-05-02T11:09:28.629Z"
   },
   {
    "duration": 522,
    "start_time": "2024-05-02T11:09:47.686Z"
   },
   {
    "duration": 553,
    "start_time": "2024-05-02T11:10:05.100Z"
   },
   {
    "duration": 7,
    "start_time": "2024-05-02T11:10:33.361Z"
   },
   {
    "duration": 640,
    "start_time": "2024-05-02T11:10:39.257Z"
   },
   {
    "duration": 509,
    "start_time": "2024-05-02T11:11:01.657Z"
   },
   {
    "duration": 528,
    "start_time": "2024-05-02T11:11:29.559Z"
   },
   {
    "duration": 552,
    "start_time": "2024-05-02T11:12:32.331Z"
   },
   {
    "duration": 546,
    "start_time": "2024-05-02T11:12:49.012Z"
   },
   {
    "duration": 540,
    "start_time": "2024-05-02T11:13:03.222Z"
   },
   {
    "duration": 896,
    "start_time": "2024-05-02T11:22:07.813Z"
   },
   {
    "duration": 571,
    "start_time": "2024-05-02T11:22:33.495Z"
   },
   {
    "duration": 10,
    "start_time": "2024-05-02T11:23:00.418Z"
   },
   {
    "duration": 27,
    "start_time": "2024-05-02T11:23:51.078Z"
   },
   {
    "duration": 10,
    "start_time": "2024-05-02T11:24:06.689Z"
   },
   {
    "duration": 28,
    "start_time": "2024-05-02T11:24:36.858Z"
   },
   {
    "duration": 11,
    "start_time": "2024-05-02T11:25:51.764Z"
   },
   {
    "duration": 287,
    "start_time": "2024-05-02T11:26:21.350Z"
   },
   {
    "duration": 1839,
    "start_time": "2024-05-02T11:26:44.991Z"
   },
   {
    "duration": 9,
    "start_time": "2024-05-02T11:27:07.606Z"
   },
   {
    "duration": 610,
    "start_time": "2024-05-02T11:28:59.018Z"
   },
   {
    "duration": 576,
    "start_time": "2024-05-02T11:30:34.969Z"
   },
   {
    "duration": 681,
    "start_time": "2024-05-02T11:30:56.340Z"
   },
   {
    "duration": 569,
    "start_time": "2024-05-02T11:33:49.209Z"
   },
   {
    "duration": 10,
    "start_time": "2024-05-02T11:33:58.761Z"
   },
   {
    "duration": 279,
    "start_time": "2024-05-02T11:34:46.819Z"
   },
   {
    "duration": 271,
    "start_time": "2024-05-02T11:35:29.828Z"
   },
   {
    "duration": 283,
    "start_time": "2024-05-02T11:36:17.062Z"
   },
   {
    "duration": 44,
    "start_time": "2024-05-02T11:59:04.302Z"
   },
   {
    "duration": 54,
    "start_time": "2024-05-02T13:08:07.787Z"
   },
   {
    "duration": 833,
    "start_time": "2024-05-02T13:08:16.138Z"
   },
   {
    "duration": 1887,
    "start_time": "2024-05-02T13:08:16.973Z"
   },
   {
    "duration": 92,
    "start_time": "2024-05-02T13:08:18.861Z"
   },
   {
    "duration": 27,
    "start_time": "2024-05-02T13:08:18.955Z"
   },
   {
    "duration": 17,
    "start_time": "2024-05-02T13:08:18.983Z"
   },
   {
    "duration": 557,
    "start_time": "2024-05-02T13:08:19.001Z"
   },
   {
    "duration": 4,
    "start_time": "2024-05-02T13:08:19.560Z"
   },
   {
    "duration": 5,
    "start_time": "2024-05-02T13:08:19.573Z"
   },
   {
    "duration": 177,
    "start_time": "2024-05-02T13:08:19.580Z"
   },
   {
    "duration": 93,
    "start_time": "2024-05-02T13:08:19.760Z"
   },
   {
    "duration": 84,
    "start_time": "2024-05-02T13:08:19.855Z"
   },
   {
    "duration": 53,
    "start_time": "2024-05-02T13:08:19.940Z"
   },
   {
    "duration": 0,
    "start_time": "2024-05-02T13:08:19.995Z"
   },
   {
    "duration": 0,
    "start_time": "2024-05-02T13:08:19.996Z"
   },
   {
    "duration": 0,
    "start_time": "2024-05-02T13:08:19.998Z"
   },
   {
    "duration": 0,
    "start_time": "2024-05-02T13:08:19.999Z"
   },
   {
    "duration": 0,
    "start_time": "2024-05-02T13:08:20.000Z"
   },
   {
    "duration": 0,
    "start_time": "2024-05-02T13:08:20.001Z"
   },
   {
    "duration": 0,
    "start_time": "2024-05-02T13:08:20.003Z"
   },
   {
    "duration": 0,
    "start_time": "2024-05-02T13:08:20.004Z"
   },
   {
    "duration": 0,
    "start_time": "2024-05-02T13:08:20.005Z"
   },
   {
    "duration": 0,
    "start_time": "2024-05-02T13:08:20.006Z"
   },
   {
    "duration": 0,
    "start_time": "2024-05-02T13:08:20.008Z"
   },
   {
    "duration": 0,
    "start_time": "2024-05-02T13:08:20.009Z"
   },
   {
    "duration": 0,
    "start_time": "2024-05-02T13:08:20.010Z"
   },
   {
    "duration": 0,
    "start_time": "2024-05-02T13:08:20.011Z"
   },
   {
    "duration": 0,
    "start_time": "2024-05-02T13:08:20.012Z"
   },
   {
    "duration": 0,
    "start_time": "2024-05-02T13:08:20.013Z"
   },
   {
    "duration": 0,
    "start_time": "2024-05-02T13:08:20.014Z"
   },
   {
    "duration": 0,
    "start_time": "2024-05-02T13:08:20.016Z"
   },
   {
    "duration": 0,
    "start_time": "2024-05-02T13:08:20.017Z"
   },
   {
    "duration": 0,
    "start_time": "2024-05-02T13:08:20.018Z"
   },
   {
    "duration": 0,
    "start_time": "2024-05-02T13:08:20.019Z"
   },
   {
    "duration": 603,
    "start_time": "2024-05-02T13:08:39.286Z"
   },
   {
    "duration": 705,
    "start_time": "2024-05-02T13:08:53.823Z"
   },
   {
    "duration": 627,
    "start_time": "2024-05-02T13:09:09.921Z"
   },
   {
    "duration": 591,
    "start_time": "2024-05-02T13:09:37.084Z"
   },
   {
    "duration": 587,
    "start_time": "2024-05-02T13:10:11.581Z"
   },
   {
    "duration": 610,
    "start_time": "2024-05-02T13:10:42.663Z"
   },
   {
    "duration": 99,
    "start_time": "2024-05-02T13:11:22.262Z"
   },
   {
    "duration": 558,
    "start_time": "2024-05-02T13:11:25.092Z"
   },
   {
    "duration": 640,
    "start_time": "2024-05-02T13:12:01.021Z"
   },
   {
    "duration": 16,
    "start_time": "2024-05-02T13:13:27.207Z"
   },
   {
    "duration": 564,
    "start_time": "2024-05-02T13:13:29.945Z"
   },
   {
    "duration": 544,
    "start_time": "2024-05-02T13:13:38.001Z"
   },
   {
    "duration": 19,
    "start_time": "2024-05-02T13:14:26.630Z"
   },
   {
    "duration": 816,
    "start_time": "2024-05-04T18:26:52.832Z"
   },
   {
    "duration": 1914,
    "start_time": "2024-05-04T18:26:53.650Z"
   },
   {
    "duration": 87,
    "start_time": "2024-05-04T18:26:55.566Z"
   },
   {
    "duration": 17,
    "start_time": "2024-05-04T18:26:55.655Z"
   },
   {
    "duration": 26,
    "start_time": "2024-05-04T18:26:55.674Z"
   },
   {
    "duration": 588,
    "start_time": "2024-05-04T18:26:55.701Z"
   },
   {
    "duration": 5,
    "start_time": "2024-05-04T18:26:56.291Z"
   },
   {
    "duration": 12,
    "start_time": "2024-05-04T18:26:56.298Z"
   },
   {
    "duration": 194,
    "start_time": "2024-05-04T18:26:56.312Z"
   },
   {
    "duration": 149,
    "start_time": "2024-05-04T18:26:56.509Z"
   },
   {
    "duration": 117,
    "start_time": "2024-05-04T18:26:56.660Z"
   },
   {
    "duration": 73,
    "start_time": "2024-05-04T18:27:43.171Z"
   },
   {
    "duration": 3,
    "start_time": "2024-05-04T18:27:46.406Z"
   },
   {
    "duration": 770,
    "start_time": "2024-05-04T18:27:46.412Z"
   },
   {
    "duration": 80,
    "start_time": "2024-05-04T18:27:47.184Z"
   },
   {
    "duration": 32,
    "start_time": "2024-05-04T18:27:47.265Z"
   },
   {
    "duration": 17,
    "start_time": "2024-05-04T18:27:47.299Z"
   },
   {
    "duration": 507,
    "start_time": "2024-05-04T18:27:47.318Z"
   },
   {
    "duration": 4,
    "start_time": "2024-05-04T18:27:47.827Z"
   },
   {
    "duration": 35,
    "start_time": "2024-05-04T18:27:47.832Z"
   },
   {
    "duration": 163,
    "start_time": "2024-05-04T18:27:47.869Z"
   },
   {
    "duration": 104,
    "start_time": "2024-05-04T18:27:48.034Z"
   },
   {
    "duration": 82,
    "start_time": "2024-05-04T18:27:48.141Z"
   },
   {
    "duration": 8,
    "start_time": "2024-05-04T18:27:48.225Z"
   },
   {
    "duration": 50,
    "start_time": "2024-05-04T18:27:48.234Z"
   },
   {
    "duration": 13,
    "start_time": "2024-05-04T18:27:48.286Z"
   },
   {
    "duration": 8,
    "start_time": "2024-05-04T18:27:53.072Z"
   },
   {
    "duration": 561,
    "start_time": "2024-05-04T18:28:12.526Z"
   },
   {
    "duration": 21,
    "start_time": "2024-05-04T18:28:14.911Z"
   },
   {
    "duration": 22,
    "start_time": "2024-05-04T18:28:35.052Z"
   },
   {
    "duration": 40,
    "start_time": "2024-05-04T18:29:35.171Z"
   },
   {
    "duration": 9,
    "start_time": "2024-05-04T18:29:43.147Z"
   },
   {
    "duration": 23,
    "start_time": "2024-05-04T18:29:43.762Z"
   },
   {
    "duration": 6,
    "start_time": "2024-05-04T18:29:53.715Z"
   },
   {
    "duration": 536,
    "start_time": "2024-05-04T18:29:54.797Z"
   },
   {
    "duration": 23,
    "start_time": "2024-05-04T18:30:00.201Z"
   },
   {
    "duration": 7,
    "start_time": "2024-05-04T18:30:01.415Z"
   },
   {
    "duration": 7,
    "start_time": "2024-05-04T18:30:09.288Z"
   },
   {
    "duration": 2,
    "start_time": "2024-05-04T18:30:09.783Z"
   },
   {
    "duration": 8,
    "start_time": "2024-05-04T18:30:10.411Z"
   },
   {
    "duration": 9,
    "start_time": "2024-05-04T18:30:10.956Z"
   },
   {
    "duration": 3,
    "start_time": "2024-05-04T18:30:11.449Z"
   },
   {
    "duration": 8,
    "start_time": "2024-05-04T18:30:12.067Z"
   },
   {
    "duration": 7,
    "start_time": "2024-05-04T18:30:12.535Z"
   },
   {
    "duration": 16,
    "start_time": "2024-05-04T18:30:12.846Z"
   },
   {
    "duration": 2,
    "start_time": "2024-05-04T18:30:13.195Z"
   },
   {
    "duration": 322,
    "start_time": "2024-05-04T18:30:14.051Z"
   },
   {
    "duration": 25,
    "start_time": "2024-05-04T18:30:29.734Z"
   },
   {
    "duration": 161,
    "start_time": "2024-05-04T18:30:43.369Z"
   },
   {
    "duration": 142,
    "start_time": "2024-05-04T18:30:46.152Z"
   },
   {
    "duration": 279,
    "start_time": "2024-05-04T18:30:50.494Z"
   },
   {
    "duration": 232,
    "start_time": "2024-05-04T18:33:16.140Z"
   },
   {
    "duration": 54,
    "start_time": "2024-05-04T18:33:17.448Z"
   },
   {
    "duration": 16,
    "start_time": "2024-05-04T18:33:18.215Z"
   },
   {
    "duration": 324,
    "start_time": "2024-05-04T18:33:35.426Z"
   },
   {
    "duration": 259,
    "start_time": "2024-05-04T18:34:06.827Z"
   },
   {
    "duration": 564,
    "start_time": "2024-05-04T18:35:14.664Z"
   },
   {
    "duration": 65,
    "start_time": "2024-05-29T10:40:48.878Z"
   },
   {
    "duration": 1328,
    "start_time": "2024-05-29T10:41:01.698Z"
   },
   {
    "duration": 239,
    "start_time": "2024-05-29T10:41:03.029Z"
   },
   {
    "duration": 22,
    "start_time": "2024-05-29T10:41:03.270Z"
   },
   {
    "duration": 22,
    "start_time": "2024-05-29T10:41:03.294Z"
   },
   {
    "duration": 23,
    "start_time": "2024-05-29T10:41:03.318Z"
   },
   {
    "duration": 31,
    "start_time": "2024-05-29T10:41:03.344Z"
   },
   {
    "duration": 10,
    "start_time": "2024-05-29T10:41:03.378Z"
   },
   {
    "duration": 7,
    "start_time": "2024-05-29T10:41:03.390Z"
   },
   {
    "duration": 25,
    "start_time": "2024-05-29T10:41:03.398Z"
   },
   {
    "duration": 35,
    "start_time": "2024-05-29T10:41:03.426Z"
   },
   {
    "duration": 8,
    "start_time": "2024-05-29T10:41:03.463Z"
   },
   {
    "duration": 9,
    "start_time": "2024-05-29T10:41:07.346Z"
   },
   {
    "duration": 12,
    "start_time": "2024-05-29T10:41:28.637Z"
   },
   {
    "duration": 11,
    "start_time": "2024-05-29T10:41:37.590Z"
   },
   {
    "duration": 81,
    "start_time": "2024-05-29T10:42:04.559Z"
   },
   {
    "duration": 9,
    "start_time": "2024-05-29T10:42:22.002Z"
   },
   {
    "duration": 10,
    "start_time": "2024-05-29T10:43:00.201Z"
   },
   {
    "duration": 10,
    "start_time": "2024-05-29T10:43:20.229Z"
   },
   {
    "duration": 13,
    "start_time": "2024-05-29T10:47:09.615Z"
   },
   {
    "duration": 4,
    "start_time": "2024-05-29T10:47:15.724Z"
   },
   {
    "duration": 116,
    "start_time": "2024-05-29T10:47:15.730Z"
   },
   {
    "duration": 17,
    "start_time": "2024-05-29T10:47:15.847Z"
   },
   {
    "duration": 51,
    "start_time": "2024-05-29T10:47:15.865Z"
   },
   {
    "duration": 44,
    "start_time": "2024-05-29T10:47:15.919Z"
   },
   {
    "duration": 17,
    "start_time": "2024-05-29T10:47:15.965Z"
   },
   {
    "duration": 14,
    "start_time": "2024-05-29T10:47:15.984Z"
   },
   {
    "duration": 17,
    "start_time": "2024-05-29T10:47:16.000Z"
   },
   {
    "duration": 22,
    "start_time": "2024-05-29T10:47:16.018Z"
   },
   {
    "duration": 56,
    "start_time": "2024-05-29T10:47:16.042Z"
   },
   {
    "duration": 9,
    "start_time": "2024-05-29T10:47:16.100Z"
   },
   {
    "duration": 15,
    "start_time": "2024-05-29T10:47:16.110Z"
   },
   {
    "duration": 20,
    "start_time": "2024-05-29T10:47:16.127Z"
   },
   {
    "duration": 33,
    "start_time": "2024-05-29T10:47:16.151Z"
   },
   {
    "duration": 11,
    "start_time": "2024-05-29T10:47:16.187Z"
   },
   {
    "duration": 322,
    "start_time": "2024-05-29T10:47:16.200Z"
   },
   {
    "duration": 324,
    "start_time": "2024-05-29T10:47:16.524Z"
   },
   {
    "duration": 261,
    "start_time": "2024-05-29T10:47:16.850Z"
   },
   {
    "duration": 391,
    "start_time": "2024-05-29T10:47:17.113Z"
   },
   {
    "duration": 248,
    "start_time": "2024-05-29T10:47:22.935Z"
   },
   {
    "duration": 219,
    "start_time": "2024-05-29T10:47:33.376Z"
   },
   {
    "duration": 4,
    "start_time": "2024-05-29T10:47:50.805Z"
   },
   {
    "duration": 101,
    "start_time": "2024-05-29T10:47:50.841Z"
   },
   {
    "duration": 21,
    "start_time": "2024-05-29T10:47:50.944Z"
   },
   {
    "duration": 20,
    "start_time": "2024-05-29T10:47:50.966Z"
   },
   {
    "duration": 26,
    "start_time": "2024-05-29T10:47:50.989Z"
   },
   {
    "duration": 23,
    "start_time": "2024-05-29T10:47:51.018Z"
   },
   {
    "duration": 8,
    "start_time": "2024-05-29T10:47:51.055Z"
   },
   {
    "duration": 14,
    "start_time": "2024-05-29T10:47:51.065Z"
   },
   {
    "duration": 20,
    "start_time": "2024-05-29T10:47:51.081Z"
   },
   {
    "duration": 14,
    "start_time": "2024-05-29T10:47:51.104Z"
   },
   {
    "duration": 42,
    "start_time": "2024-05-29T10:47:51.120Z"
   },
   {
    "duration": 15,
    "start_time": "2024-05-29T10:47:51.164Z"
   },
   {
    "duration": 11,
    "start_time": "2024-05-29T10:47:51.181Z"
   },
   {
    "duration": 21,
    "start_time": "2024-05-29T10:47:51.193Z"
   },
   {
    "duration": 10,
    "start_time": "2024-05-29T10:47:51.217Z"
   },
   {
    "duration": 342,
    "start_time": "2024-05-29T10:47:51.255Z"
   },
   {
    "duration": 237,
    "start_time": "2024-05-29T10:47:51.599Z"
   },
   {
    "duration": 250,
    "start_time": "2024-05-29T10:47:51.837Z"
   },
   {
    "duration": 380,
    "start_time": "2024-05-29T10:47:52.089Z"
   },
   {
    "duration": 248,
    "start_time": "2024-05-29T10:47:52.471Z"
   },
   {
    "duration": 325,
    "start_time": "2024-05-29T10:47:52.721Z"
   },
   {
    "duration": 159,
    "start_time": "2024-05-29T10:47:53.054Z"
   },
   {
    "duration": 143,
    "start_time": "2024-05-29T10:47:53.214Z"
   },
   {
    "duration": 5,
    "start_time": "2024-05-29T10:47:53.358Z"
   },
   {
    "duration": 222,
    "start_time": "2024-05-29T10:47:53.364Z"
   },
   {
    "duration": 5,
    "start_time": "2024-05-29T10:47:53.588Z"
   },
   {
    "duration": 601,
    "start_time": "2024-05-29T10:47:53.595Z"
   },
   {
    "duration": 10,
    "start_time": "2024-05-29T10:47:54.198Z"
   },
   {
    "duration": 16,
    "start_time": "2024-05-29T10:47:54.210Z"
   },
   {
    "duration": 63,
    "start_time": "2024-05-29T10:47:54.228Z"
   },
   {
    "duration": 16,
    "start_time": "2024-05-29T10:47:54.293Z"
   },
   {
    "duration": 9,
    "start_time": "2024-05-29T10:50:10.710Z"
   },
   {
    "duration": 9,
    "start_time": "2024-05-29T10:52:51.000Z"
   },
   {
    "duration": 8,
    "start_time": "2024-05-29T10:53:23.642Z"
   },
   {
    "duration": 12,
    "start_time": "2024-05-29T10:53:35.566Z"
   },
   {
    "duration": 12,
    "start_time": "2024-05-29T10:53:40.652Z"
   },
   {
    "duration": 12,
    "start_time": "2024-05-29T10:53:46.681Z"
   },
   {
    "duration": 10,
    "start_time": "2024-05-29T10:53:51.313Z"
   },
   {
    "duration": 10,
    "start_time": "2024-05-29T10:53:55.401Z"
   },
   {
    "duration": 8,
    "start_time": "2024-05-29T10:54:01.549Z"
   },
   {
    "duration": 13,
    "start_time": "2024-05-29T10:54:08.641Z"
   },
   {
    "duration": 10,
    "start_time": "2024-05-29T10:56:23.602Z"
   },
   {
    "duration": 7,
    "start_time": "2024-05-29T10:57:55.843Z"
   },
   {
    "duration": 4,
    "start_time": "2024-05-29T10:58:20.212Z"
   },
   {
    "duration": 100,
    "start_time": "2024-05-29T10:58:20.218Z"
   },
   {
    "duration": 17,
    "start_time": "2024-05-29T10:58:20.319Z"
   },
   {
    "duration": 18,
    "start_time": "2024-05-29T10:58:20.337Z"
   },
   {
    "duration": 17,
    "start_time": "2024-05-29T10:58:20.357Z"
   },
   {
    "duration": 20,
    "start_time": "2024-05-29T10:58:20.376Z"
   },
   {
    "duration": 18,
    "start_time": "2024-05-29T10:58:20.398Z"
   },
   {
    "duration": 21,
    "start_time": "2024-05-29T10:58:20.417Z"
   },
   {
    "duration": 24,
    "start_time": "2024-05-29T10:58:20.440Z"
   },
   {
    "duration": 12,
    "start_time": "2024-05-29T10:58:20.465Z"
   },
   {
    "duration": 8,
    "start_time": "2024-05-29T10:58:20.479Z"
   },
   {
    "duration": 9,
    "start_time": "2024-05-29T10:58:29.959Z"
   },
   {
    "duration": 8,
    "start_time": "2024-05-29T10:58:41.864Z"
   },
   {
    "duration": 8,
    "start_time": "2024-05-29T10:58:47.544Z"
   },
   {
    "duration": 9,
    "start_time": "2024-05-29T10:58:52.391Z"
   },
   {
    "duration": 9,
    "start_time": "2024-05-29T10:59:02.232Z"
   },
   {
    "duration": 11,
    "start_time": "2024-05-29T10:59:07.712Z"
   },
   {
    "duration": 8,
    "start_time": "2024-05-29T10:59:14.347Z"
   },
   {
    "duration": 8,
    "start_time": "2024-05-29T10:59:16.452Z"
   },
   {
    "duration": 8,
    "start_time": "2024-05-29T10:59:24.051Z"
   },
   {
    "duration": 58,
    "start_time": "2024-05-29T10:59:27.520Z"
   },
   {
    "duration": 8,
    "start_time": "2024-05-29T10:59:33.784Z"
   },
   {
    "duration": 9,
    "start_time": "2024-05-29T10:59:39.911Z"
   },
   {
    "duration": 9,
    "start_time": "2024-05-29T10:59:45.491Z"
   },
   {
    "duration": 9,
    "start_time": "2024-05-29T10:59:49.571Z"
   },
   {
    "duration": 8,
    "start_time": "2024-05-29T10:59:55.052Z"
   },
   {
    "duration": 10,
    "start_time": "2024-05-29T10:59:58.968Z"
   },
   {
    "duration": 8,
    "start_time": "2024-05-29T11:00:02.692Z"
   },
   {
    "duration": 9,
    "start_time": "2024-05-29T11:00:07.064Z"
   },
   {
    "duration": 8,
    "start_time": "2024-05-29T11:00:11.532Z"
   },
   {
    "duration": 8,
    "start_time": "2024-05-29T11:00:15.852Z"
   },
   {
    "duration": 8,
    "start_time": "2024-05-29T11:00:21.932Z"
   },
   {
    "duration": 8,
    "start_time": "2024-05-29T11:00:25.212Z"
   },
   {
    "duration": 3,
    "start_time": "2024-05-29T11:00:30.715Z"
   },
   {
    "duration": 178,
    "start_time": "2024-05-29T11:00:30.721Z"
   },
   {
    "duration": 60,
    "start_time": "2024-05-29T11:00:30.901Z"
   },
   {
    "duration": 159,
    "start_time": "2024-05-29T11:00:30.963Z"
   },
   {
    "duration": 161,
    "start_time": "2024-05-29T11:00:31.125Z"
   },
   {
    "duration": 223,
    "start_time": "2024-05-29T11:00:31.288Z"
   },
   {
    "duration": 92,
    "start_time": "2024-05-29T11:00:31.513Z"
   },
   {
    "duration": 135,
    "start_time": "2024-05-29T11:00:31.607Z"
   },
   {
    "duration": 62,
    "start_time": "2024-05-29T11:00:31.743Z"
   },
   {
    "duration": 51,
    "start_time": "2024-05-29T11:00:31.807Z"
   },
   {
    "duration": 34,
    "start_time": "2024-05-29T11:00:31.860Z"
   },
   {
    "duration": 9,
    "start_time": "2024-05-29T11:00:39.124Z"
   },
   {
    "duration": 8,
    "start_time": "2024-05-29T11:00:42.832Z"
   },
   {
    "duration": 17,
    "start_time": "2024-05-29T11:00:56.292Z"
   },
   {
    "duration": 9,
    "start_time": "2024-05-29T11:01:04.193Z"
   },
   {
    "duration": 9,
    "start_time": "2024-05-29T11:01:06.773Z"
   },
   {
    "duration": 4,
    "start_time": "2024-05-29T11:01:12.402Z"
   },
   {
    "duration": 121,
    "start_time": "2024-05-29T11:01:12.408Z"
   },
   {
    "duration": 15,
    "start_time": "2024-05-29T11:01:12.531Z"
   },
   {
    "duration": 38,
    "start_time": "2024-05-29T11:01:12.548Z"
   },
   {
    "duration": 16,
    "start_time": "2024-05-29T11:01:12.588Z"
   },
   {
    "duration": 12,
    "start_time": "2024-05-29T11:01:12.606Z"
   },
   {
    "duration": 15,
    "start_time": "2024-05-29T11:01:12.620Z"
   },
   {
    "duration": 28,
    "start_time": "2024-05-29T11:01:12.636Z"
   },
   {
    "duration": 21,
    "start_time": "2024-05-29T11:01:12.666Z"
   },
   {
    "duration": 17,
    "start_time": "2024-05-29T11:01:12.689Z"
   },
   {
    "duration": 7,
    "start_time": "2024-05-29T11:01:12.708Z"
   },
   {
    "duration": 9,
    "start_time": "2024-05-29T11:01:12.717Z"
   },
   {
    "duration": 9,
    "start_time": "2024-05-29T11:01:16.446Z"
   },
   {
    "duration": 9,
    "start_time": "2024-05-29T11:01:20.532Z"
   },
   {
    "duration": 8,
    "start_time": "2024-05-29T11:01:28.113Z"
   },
   {
    "duration": 8,
    "start_time": "2024-05-29T11:01:35.536Z"
   },
   {
    "duration": 308,
    "start_time": "2024-05-29T11:02:16.553Z"
   },
   {
    "duration": 216,
    "start_time": "2024-05-29T11:03:10.834Z"
   },
   {
    "duration": 218,
    "start_time": "2024-05-29T11:03:20.266Z"
   },
   {
    "duration": 291,
    "start_time": "2024-05-29T11:03:27.473Z"
   },
   {
    "duration": 10,
    "start_time": "2024-05-29T11:05:17.753Z"
   },
   {
    "duration": 10,
    "start_time": "2024-05-29T11:05:22.846Z"
   },
   {
    "duration": 8,
    "start_time": "2024-05-29T11:05:28.754Z"
   },
   {
    "duration": 10,
    "start_time": "2024-05-29T11:06:11.214Z"
   },
   {
    "duration": 8,
    "start_time": "2024-05-29T11:06:24.694Z"
   },
   {
    "duration": 10,
    "start_time": "2024-05-29T11:09:42.176Z"
   },
   {
    "duration": 10,
    "start_time": "2024-05-29T11:09:48.867Z"
   },
   {
    "duration": 10,
    "start_time": "2024-05-29T11:09:54.975Z"
   },
   {
    "duration": 9,
    "start_time": "2024-05-29T11:09:58.808Z"
   },
   {
    "duration": 87,
    "start_time": "2024-05-29T11:10:41.355Z"
   },
   {
    "duration": 10,
    "start_time": "2024-05-29T11:10:44.808Z"
   },
   {
    "duration": 13,
    "start_time": "2024-05-29T11:10:52.556Z"
   },
   {
    "duration": 72,
    "start_time": "2024-05-29T11:11:08.636Z"
   },
   {
    "duration": 6,
    "start_time": "2024-05-29T11:11:11.247Z"
   },
   {
    "duration": 5,
    "start_time": "2024-05-29T11:11:15.095Z"
   },
   {
    "duration": 3,
    "start_time": "2024-05-29T11:11:22.518Z"
   },
   {
    "duration": 212,
    "start_time": "2024-05-29T11:11:22.523Z"
   },
   {
    "duration": 15,
    "start_time": "2024-05-29T11:11:22.737Z"
   },
   {
    "duration": 33,
    "start_time": "2024-05-29T11:11:22.754Z"
   },
   {
    "duration": 142,
    "start_time": "2024-05-29T11:11:22.790Z"
   },
   {
    "duration": 34,
    "start_time": "2024-05-29T11:11:22.934Z"
   },
   {
    "duration": 11,
    "start_time": "2024-05-29T11:11:22.970Z"
   },
   {
    "duration": 18,
    "start_time": "2024-05-29T11:11:22.983Z"
   },
   {
    "duration": 68,
    "start_time": "2024-05-29T11:11:23.002Z"
   },
   {
    "duration": 19,
    "start_time": "2024-05-29T11:11:23.072Z"
   },
   {
    "duration": 31,
    "start_time": "2024-05-29T11:11:23.093Z"
   },
   {
    "duration": 33,
    "start_time": "2024-05-29T11:11:23.126Z"
   },
   {
    "duration": 25,
    "start_time": "2024-05-29T11:11:23.160Z"
   },
   {
    "duration": 36,
    "start_time": "2024-05-29T11:11:23.188Z"
   },
   {
    "duration": 16,
    "start_time": "2024-05-29T11:11:23.226Z"
   },
   {
    "duration": 303,
    "start_time": "2024-05-29T11:11:23.244Z"
   },
   {
    "duration": 198,
    "start_time": "2024-05-29T11:11:23.549Z"
   },
   {
    "duration": 208,
    "start_time": "2024-05-29T11:11:23.749Z"
   },
   {
    "duration": 307,
    "start_time": "2024-05-29T11:11:23.959Z"
   },
   {
    "duration": 248,
    "start_time": "2024-05-29T11:11:24.267Z"
   },
   {
    "duration": 331,
    "start_time": "2024-05-29T11:11:24.517Z"
   },
   {
    "duration": 149,
    "start_time": "2024-05-29T11:11:24.850Z"
   },
   {
    "duration": 143,
    "start_time": "2024-05-29T11:11:25.001Z"
   },
   {
    "duration": 5,
    "start_time": "2024-05-29T11:11:25.146Z"
   },
   {
    "duration": 159,
    "start_time": "2024-05-29T11:11:25.156Z"
   },
   {
    "duration": 5,
    "start_time": "2024-05-29T11:11:25.317Z"
   },
   {
    "duration": 558,
    "start_time": "2024-05-29T11:11:25.324Z"
   },
   {
    "duration": 12,
    "start_time": "2024-05-29T11:11:25.883Z"
   },
   {
    "duration": 11,
    "start_time": "2024-05-29T11:11:25.896Z"
   },
   {
    "duration": 72,
    "start_time": "2024-05-29T11:11:25.908Z"
   },
   {
    "duration": 16,
    "start_time": "2024-05-29T11:11:25.982Z"
   },
   {
    "duration": 8,
    "start_time": "2024-05-29T11:11:55.229Z"
   },
   {
    "duration": 4,
    "start_time": "2024-05-29T11:12:17.988Z"
   },
   {
    "duration": 3,
    "start_time": "2024-05-29T11:12:26.737Z"
   },
   {
    "duration": 170,
    "start_time": "2024-05-29T11:12:26.742Z"
   },
   {
    "duration": 22,
    "start_time": "2024-05-29T11:12:28.728Z"
   },
   {
    "duration": 4,
    "start_time": "2024-05-29T11:12:37.596Z"
   },
   {
    "duration": 14,
    "start_time": "2024-05-29T11:12:41.636Z"
   },
   {
    "duration": 4,
    "start_time": "2024-05-29T11:12:53.516Z"
   },
   {
    "duration": 113,
    "start_time": "2024-05-29T11:12:55.996Z"
   },
   {
    "duration": 4,
    "start_time": "2024-05-29T11:13:11.636Z"
   },
   {
    "duration": 699,
    "start_time": "2024-05-29T11:13:12.077Z"
   },
   {
    "duration": 15,
    "start_time": "2024-05-29T11:13:13.348Z"
   },
   {
    "duration": 74,
    "start_time": "2024-05-29T11:14:31.085Z"
   },
   {
    "duration": 69,
    "start_time": "2024-05-29T11:14:37.148Z"
   },
   {
    "duration": 65,
    "start_time": "2024-05-29T11:14:42.916Z"
   },
   {
    "duration": 4,
    "start_time": "2024-05-29T11:14:48.828Z"
   },
   {
    "duration": 3,
    "start_time": "2024-05-29T11:14:51.949Z"
   },
   {
    "duration": 4,
    "start_time": "2024-05-29T11:15:04.269Z"
   },
   {
    "duration": 1575,
    "start_time": "2024-05-29T11:15:16.256Z"
   },
   {
    "duration": 4,
    "start_time": "2024-05-29T11:15:29.309Z"
   },
   {
    "duration": 130,
    "start_time": "2024-05-29T11:15:29.319Z"
   },
   {
    "duration": 15,
    "start_time": "2024-05-29T11:15:29.451Z"
   },
   {
    "duration": 32,
    "start_time": "2024-05-29T11:15:29.467Z"
   },
   {
    "duration": 59,
    "start_time": "2024-05-29T11:15:29.501Z"
   },
   {
    "duration": 31,
    "start_time": "2024-05-29T11:15:29.563Z"
   },
   {
    "duration": 25,
    "start_time": "2024-05-29T11:15:29.595Z"
   },
   {
    "duration": 34,
    "start_time": "2024-05-29T11:15:29.622Z"
   },
   {
    "duration": 32,
    "start_time": "2024-05-29T11:15:29.657Z"
   },
   {
    "duration": 54,
    "start_time": "2024-05-29T11:15:29.691Z"
   },
   {
    "duration": 26,
    "start_time": "2024-05-29T11:15:29.747Z"
   },
   {
    "duration": 14,
    "start_time": "2024-05-29T11:15:43.765Z"
   },
   {
    "duration": 11,
    "start_time": "2024-05-29T11:16:32.516Z"
   },
   {
    "duration": 13,
    "start_time": "2024-05-29T11:17:26.186Z"
   },
   {
    "duration": 11,
    "start_time": "2024-05-29T11:18:23.025Z"
   },
   {
    "duration": 12,
    "start_time": "2024-05-29T11:18:36.265Z"
   },
   {
    "duration": 11,
    "start_time": "2024-05-29T11:18:42.472Z"
   },
   {
    "duration": 12,
    "start_time": "2024-05-29T11:19:02.791Z"
   },
   {
    "duration": 329,
    "start_time": "2024-05-29T11:21:10.609Z"
   },
   {
    "duration": 53,
    "start_time": "2024-05-30T08:52:31.557Z"
   },
   {
    "duration": 1370,
    "start_time": "2024-05-30T08:52:37.867Z"
   },
   {
    "duration": 232,
    "start_time": "2024-05-30T08:52:39.240Z"
   },
   {
    "duration": 22,
    "start_time": "2024-05-30T08:52:39.474Z"
   },
   {
    "duration": 17,
    "start_time": "2024-05-30T08:52:39.497Z"
   },
   {
    "duration": 36,
    "start_time": "2024-05-30T08:52:39.516Z"
   },
   {
    "duration": 15,
    "start_time": "2024-05-30T08:52:39.554Z"
   },
   {
    "duration": 33,
    "start_time": "2024-05-30T08:52:39.571Z"
   },
   {
    "duration": 34,
    "start_time": "2024-05-30T08:52:39.605Z"
   },
   {
    "duration": 25,
    "start_time": "2024-05-30T08:52:39.641Z"
   },
   {
    "duration": 19,
    "start_time": "2024-05-30T08:52:39.669Z"
   },
   {
    "duration": 19,
    "start_time": "2024-05-30T08:52:39.690Z"
   },
   {
    "duration": 22,
    "start_time": "2024-05-30T08:52:39.711Z"
   },
   {
    "duration": 43,
    "start_time": "2024-05-30T08:52:39.735Z"
   },
   {
    "duration": 30,
    "start_time": "2024-05-30T08:52:39.780Z"
   },
   {
    "duration": 19,
    "start_time": "2024-05-30T08:52:39.811Z"
   },
   {
    "duration": 330,
    "start_time": "2024-05-30T08:52:39.831Z"
   },
   {
    "duration": 318,
    "start_time": "2024-05-30T08:52:40.163Z"
   },
   {
    "duration": 217,
    "start_time": "2024-05-30T08:52:40.483Z"
   },
   {
    "duration": 372,
    "start_time": "2024-05-30T08:52:40.701Z"
   },
   {
    "duration": 261,
    "start_time": "2024-05-30T08:52:41.075Z"
   },
   {
    "duration": 335,
    "start_time": "2024-05-30T08:52:41.338Z"
   },
   {
    "duration": 156,
    "start_time": "2024-05-30T08:52:41.675Z"
   },
   {
    "duration": 144,
    "start_time": "2024-05-30T08:52:41.833Z"
   },
   {
    "duration": 13,
    "start_time": "2024-05-30T08:52:41.978Z"
   },
   {
    "duration": 165,
    "start_time": "2024-05-30T08:52:41.993Z"
   },
   {
    "duration": 5,
    "start_time": "2024-05-30T08:52:42.160Z"
   },
   {
    "duration": 629,
    "start_time": "2024-05-30T08:52:42.167Z"
   },
   {
    "duration": 11,
    "start_time": "2024-05-30T08:52:42.800Z"
   },
   {
    "duration": 24,
    "start_time": "2024-05-30T08:52:42.813Z"
   },
   {
    "duration": 37,
    "start_time": "2024-05-30T08:52:42.839Z"
   },
   {
    "duration": 24,
    "start_time": "2024-05-30T08:52:42.878Z"
   }
  ],
  "colab": {
   "provenance": []
  },
  "kernelspec": {
   "display_name": "Python 3 (ipykernel)",
   "language": "python",
   "name": "python3"
  },
  "language_info": {
   "codemirror_mode": {
    "name": "ipython",
    "version": 3
   },
   "file_extension": ".py",
   "mimetype": "text/x-python",
   "name": "python",
   "nbconvert_exporter": "python",
   "pygments_lexer": "ipython3",
   "version": "3.11.7"
  },
  "toc": {
   "base_numbering": 1,
   "nav_menu": {},
   "number_sections": true,
   "sideBar": true,
   "skip_h1_title": true,
   "title_cell": "Table of Contents",
   "title_sidebar": "Contents",
   "toc_cell": false,
   "toc_position": {
    "height": "calc(100% - 180px)",
    "left": "10px",
    "top": "150px",
    "width": "309.446px"
   },
   "toc_section_display": true,
   "toc_window_display": false
  }
 },
 "nbformat": 4,
 "nbformat_minor": 4
}
