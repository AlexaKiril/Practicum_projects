{
 "cells": [
  {
   "cell_type": "markdown",
   "id": "23220528",
   "metadata": {},
   "source": [
    "### Статистический анализ.\n",
    "\n",
    "#### Исследование данных о поездках пользователей сервиса GoFast.\n",
    "\n",
    "###### Имеются данные о некоторых пользователях из нескольких городов, а также об их поездках. \n",
    "###### Цель: проанализировать данные и проверить некоторые гипотезы, которые могут помочь бизнесу вырасти.\n",
    "Чтобы совершать поездки по городу, пользователи сервиса GoFast пользуются мобильным приложением. \n",
    "###### Условия пользования сервисом:\n",
    "- без подписки:\\\n",
    "    абонентская плата отсутствует;\\\n",
    "    стоимость одной минуты поездки — 8 рублей;\\\n",
    "    стоимость старта (начала поездки) — 50 рублей;\n",
    "\n",
    "- с подпиской Ultra\\\n",
    "    абонентская плата — 199 рублей в месяц;\\\n",
    "    стоимость одной минуты поездки — 6 рублей;\\\n",
    "    стоимость старта — бесплатно"
   ]
  },
  {
   "cell_type": "code",
   "execution_count": 1,
   "id": "5d14e4c2",
   "metadata": {},
   "outputs": [],
   "source": [
    "#Импортирую данные и вывожу информацию о данных:\n",
    "import matplotlib.pyplot as plt\n",
    "import seaborn\n",
    "import pandas as pd\n",
    "import numpy as np\n",
    "from scipy import stats as st\n"
   ]
  },
  {
   "cell_type": "markdown",
   "id": "c42cbe00",
   "metadata": {},
   "source": [
    "#### Шаг 1. Загрузка данных"
   ]
  },
  {
   "cell_type": "code",
   "execution_count": 2,
   "id": "5ef7dcef",
   "metadata": {},
   "outputs": [],
   "source": [
    "#Импортирую данные и вывожу информацию о данных:\n",
    "\n",
    "try:\n",
    "    users = pd.read_csv('/datasets/users_go.csv')\n",
    "except:\n",
    "    users = pd.read_csv(r\"C:\\Users\\Ahsas\\Desktop\\task4\\users_go.csv\")\n",
    "try:\n",
    "    riders = pd.read_csv('/datasets/rides_go.csv')\n",
    "except:\n",
    "    riders = pd.read_csv(r\"C:\\Users\\Ahsas\\Desktop\\task4\\rides_go.csv\")    \n",
    "\n",
    "try:\n",
    "    subscr = pd.read_csv('/datasets/subscriptions_go.csv')\n",
    "except:\n",
    "    subscr = pd.read_csv(r\"C:\\Users\\Ahsas\\Desktop\\task4\\subscriptions_go.csv\")    \n"
   ]
  },
  {
   "cell_type": "markdown",
   "id": "7ca7b680",
   "metadata": {},
   "source": [
    "##### Описание данных:\n",
    "users:\n",
    "- user_id\tуникальный идентификатор пользователя\n",
    "- name\tимя пользователя/\n",
    "- age\tвозраст/\n",
    "- city\tгород/\n",
    "- subscription_type\tтип подписки (free, ultra)\n",
    "\n",
    "riders:\n",
    "- user_id\tуникальный идентификатор пользователя\n",
    "- distance\tрасстояние, которое пользователь проехал в текущей сессии (в метрах)\n",
    "- duration\tпродолжительность сессии (в минутах) — время с того момента, как пользователь нажал - кнопку «Начать поездку» до момента, как он нажал кнопку «Завершить поездку»\n",
    "- date\tдата совершения поездки\n",
    "\n",
    "subscr:\n",
    "- subscription_type\tтип подписки\n",
    "- minute_price\tстоимость одной минуты поездки по данной подписке\n",
    "- start_ride_price\tстоимость начала поездки\n",
    "- subscription_fee\tстоимость ежемесячного платежа"
   ]
  },
  {
   "cell_type": "code",
   "execution_count": 3,
   "id": "f420fd76",
   "metadata": {},
   "outputs": [
    {
     "name": "stdout",
     "output_type": "stream",
     "text": [
      "<class 'pandas.core.frame.DataFrame'>\n",
      "RangeIndex: 1565 entries, 0 to 1564\n",
      "Data columns (total 5 columns):\n",
      " #   Column             Non-Null Count  Dtype \n",
      "---  ------             --------------  ----- \n",
      " 0   user_id            1565 non-null   int64 \n",
      " 1   name               1565 non-null   object\n",
      " 2   age                1565 non-null   int64 \n",
      " 3   city               1565 non-null   object\n",
      " 4   subscription_type  1565 non-null   object\n",
      "dtypes: int64(2), object(3)\n",
      "memory usage: 61.3+ KB\n",
      "None\n",
      "\n"
     ]
    },
    {
     "data": {
      "text/html": [
       "<div>\n",
       "<style scoped>\n",
       "    .dataframe tbody tr th:only-of-type {\n",
       "        vertical-align: middle;\n",
       "    }\n",
       "\n",
       "    .dataframe tbody tr th {\n",
       "        vertical-align: top;\n",
       "    }\n",
       "\n",
       "    .dataframe thead th {\n",
       "        text-align: right;\n",
       "    }\n",
       "</style>\n",
       "<table border=\"1\" class=\"dataframe\">\n",
       "  <thead>\n",
       "    <tr style=\"text-align: right;\">\n",
       "      <th></th>\n",
       "      <th>user_id</th>\n",
       "      <th>name</th>\n",
       "      <th>age</th>\n",
       "      <th>city</th>\n",
       "      <th>subscription_type</th>\n",
       "    </tr>\n",
       "  </thead>\n",
       "  <tbody>\n",
       "    <tr>\n",
       "      <th>0</th>\n",
       "      <td>1</td>\n",
       "      <td>Кира</td>\n",
       "      <td>22</td>\n",
       "      <td>Тюмень</td>\n",
       "      <td>ultra</td>\n",
       "    </tr>\n",
       "    <tr>\n",
       "      <th>1</th>\n",
       "      <td>2</td>\n",
       "      <td>Станислав</td>\n",
       "      <td>31</td>\n",
       "      <td>Омск</td>\n",
       "      <td>ultra</td>\n",
       "    </tr>\n",
       "    <tr>\n",
       "      <th>2</th>\n",
       "      <td>3</td>\n",
       "      <td>Алексей</td>\n",
       "      <td>20</td>\n",
       "      <td>Москва</td>\n",
       "      <td>ultra</td>\n",
       "    </tr>\n",
       "    <tr>\n",
       "      <th>3</th>\n",
       "      <td>4</td>\n",
       "      <td>Константин</td>\n",
       "      <td>26</td>\n",
       "      <td>Ростов-на-Дону</td>\n",
       "      <td>ultra</td>\n",
       "    </tr>\n",
       "    <tr>\n",
       "      <th>4</th>\n",
       "      <td>5</td>\n",
       "      <td>Адель</td>\n",
       "      <td>28</td>\n",
       "      <td>Омск</td>\n",
       "      <td>ultra</td>\n",
       "    </tr>\n",
       "  </tbody>\n",
       "</table>\n",
       "</div>"
      ],
      "text/plain": [
       "   user_id        name  age            city subscription_type\n",
       "0        1        Кира   22          Тюмень             ultra\n",
       "1        2   Станислав   31            Омск             ultra\n",
       "2        3     Алексей   20          Москва             ultra\n",
       "3        4  Константин   26  Ростов-на-Дону             ultra\n",
       "4        5       Адель   28            Омск             ultra"
      ]
     },
     "execution_count": 3,
     "metadata": {},
     "output_type": "execute_result"
    }
   ],
   "source": [
    "print(users.info())\n",
    "print()\n",
    "users.head()"
   ]
  },
  {
   "cell_type": "code",
   "execution_count": 4,
   "id": "321f8950",
   "metadata": {},
   "outputs": [
    {
     "name": "stdout",
     "output_type": "stream",
     "text": [
      "<class 'pandas.core.frame.DataFrame'>\n",
      "RangeIndex: 18068 entries, 0 to 18067\n",
      "Data columns (total 4 columns):\n",
      " #   Column    Non-Null Count  Dtype  \n",
      "---  ------    --------------  -----  \n",
      " 0   user_id   18068 non-null  int64  \n",
      " 1   distance  18068 non-null  float64\n",
      " 2   duration  18068 non-null  float64\n",
      " 3   date      18068 non-null  object \n",
      "dtypes: float64(2), int64(1), object(1)\n",
      "memory usage: 564.8+ KB\n",
      "None\n",
      "\n"
     ]
    },
    {
     "data": {
      "text/html": [
       "<div>\n",
       "<style scoped>\n",
       "    .dataframe tbody tr th:only-of-type {\n",
       "        vertical-align: middle;\n",
       "    }\n",
       "\n",
       "    .dataframe tbody tr th {\n",
       "        vertical-align: top;\n",
       "    }\n",
       "\n",
       "    .dataframe thead th {\n",
       "        text-align: right;\n",
       "    }\n",
       "</style>\n",
       "<table border=\"1\" class=\"dataframe\">\n",
       "  <thead>\n",
       "    <tr style=\"text-align: right;\">\n",
       "      <th></th>\n",
       "      <th>user_id</th>\n",
       "      <th>distance</th>\n",
       "      <th>duration</th>\n",
       "      <th>date</th>\n",
       "    </tr>\n",
       "  </thead>\n",
       "  <tbody>\n",
       "    <tr>\n",
       "      <th>0</th>\n",
       "      <td>1</td>\n",
       "      <td>4409.919140</td>\n",
       "      <td>25.599769</td>\n",
       "      <td>2021-01-01</td>\n",
       "    </tr>\n",
       "    <tr>\n",
       "      <th>1</th>\n",
       "      <td>1</td>\n",
       "      <td>2617.592153</td>\n",
       "      <td>15.816871</td>\n",
       "      <td>2021-01-18</td>\n",
       "    </tr>\n",
       "    <tr>\n",
       "      <th>2</th>\n",
       "      <td>1</td>\n",
       "      <td>754.159807</td>\n",
       "      <td>6.232113</td>\n",
       "      <td>2021-04-20</td>\n",
       "    </tr>\n",
       "    <tr>\n",
       "      <th>3</th>\n",
       "      <td>1</td>\n",
       "      <td>2694.783254</td>\n",
       "      <td>18.511000</td>\n",
       "      <td>2021-08-11</td>\n",
       "    </tr>\n",
       "    <tr>\n",
       "      <th>4</th>\n",
       "      <td>1</td>\n",
       "      <td>4028.687306</td>\n",
       "      <td>26.265803</td>\n",
       "      <td>2021-08-28</td>\n",
       "    </tr>\n",
       "  </tbody>\n",
       "</table>\n",
       "</div>"
      ],
      "text/plain": [
       "   user_id     distance   duration        date\n",
       "0        1  4409.919140  25.599769  2021-01-01\n",
       "1        1  2617.592153  15.816871  2021-01-18\n",
       "2        1   754.159807   6.232113  2021-04-20\n",
       "3        1  2694.783254  18.511000  2021-08-11\n",
       "4        1  4028.687306  26.265803  2021-08-28"
      ]
     },
     "execution_count": 4,
     "metadata": {},
     "output_type": "execute_result"
    }
   ],
   "source": [
    "print(riders.info())\n",
    "print()\n",
    "riders.head()"
   ]
  },
  {
   "cell_type": "code",
   "execution_count": 5,
   "id": "b7cd6a94",
   "metadata": {},
   "outputs": [
    {
     "name": "stdout",
     "output_type": "stream",
     "text": [
      "<class 'pandas.core.frame.DataFrame'>\n",
      "RangeIndex: 2 entries, 0 to 1\n",
      "Data columns (total 4 columns):\n",
      " #   Column             Non-Null Count  Dtype \n",
      "---  ------             --------------  ----- \n",
      " 0   subscription_type  2 non-null      object\n",
      " 1   minute_price       2 non-null      int64 \n",
      " 2   start_ride_price   2 non-null      int64 \n",
      " 3   subscription_fee   2 non-null      int64 \n",
      "dtypes: int64(3), object(1)\n",
      "memory usage: 196.0+ bytes\n",
      "None\n",
      "\n"
     ]
    },
    {
     "data": {
      "text/html": [
       "<div>\n",
       "<style scoped>\n",
       "    .dataframe tbody tr th:only-of-type {\n",
       "        vertical-align: middle;\n",
       "    }\n",
       "\n",
       "    .dataframe tbody tr th {\n",
       "        vertical-align: top;\n",
       "    }\n",
       "\n",
       "    .dataframe thead th {\n",
       "        text-align: right;\n",
       "    }\n",
       "</style>\n",
       "<table border=\"1\" class=\"dataframe\">\n",
       "  <thead>\n",
       "    <tr style=\"text-align: right;\">\n",
       "      <th></th>\n",
       "      <th>subscription_type</th>\n",
       "      <th>minute_price</th>\n",
       "      <th>start_ride_price</th>\n",
       "      <th>subscription_fee</th>\n",
       "    </tr>\n",
       "  </thead>\n",
       "  <tbody>\n",
       "    <tr>\n",
       "      <th>0</th>\n",
       "      <td>free</td>\n",
       "      <td>8</td>\n",
       "      <td>50</td>\n",
       "      <td>0</td>\n",
       "    </tr>\n",
       "    <tr>\n",
       "      <th>1</th>\n",
       "      <td>ultra</td>\n",
       "      <td>6</td>\n",
       "      <td>0</td>\n",
       "      <td>199</td>\n",
       "    </tr>\n",
       "  </tbody>\n",
       "</table>\n",
       "</div>"
      ],
      "text/plain": [
       "  subscription_type  minute_price  start_ride_price  subscription_fee\n",
       "0              free             8                50                 0\n",
       "1             ultra             6                 0               199"
      ]
     },
     "execution_count": 5,
     "metadata": {},
     "output_type": "execute_result"
    }
   ],
   "source": [
    "print(subscr.info())\n",
    "print()\n",
    "subscr.head()\n"
   ]
  },
  {
   "cell_type": "markdown",
   "id": "59093606",
   "metadata": {},
   "source": [
    "#### Выводы:\n",
    "- users_go - сохранен в переменную users - содержит 1565 записей. Пустых значений нет. Изменения типа данных не требуется.\n",
    "- rides_go - сохранен в переменную riders -содержит 18068 записей. Пустых значений нет. Изменение типа требуется для колонки date методом to_datetime(). Поле - duration по заданию будет округлено меетодом np.ceil.\n",
    "- users и rides имеют общий ключ - user_id\n",
    "- subscriptions_go - сохранен в переменную subscr - содержит 2 записи с данными о тарифах для двух типов подписки. Пустых значений нет. Изменения типа данных не требуется. Имеет общий ключ с users_go - subscription_type, для восстановления информации о стоимости поездок в объединенном файле.\n"
   ]
  },
  {
   "cell_type": "markdown",
   "id": "e95ebca7",
   "metadata": {},
   "source": [
    "#### Шаг 2. Предобработка данных"
   ]
  },
  {
   "cell_type": "code",
   "execution_count": 6,
   "id": "0da42c38",
   "metadata": {},
   "outputs": [
    {
     "name": "stdout",
     "output_type": "stream",
     "text": [
      "user_id              0\n",
      "name                 0\n",
      "age                  0\n",
      "city                 0\n",
      "subscription_type    0\n",
      "dtype: int64\n",
      "\n",
      "user_id     0\n",
      "distance    0\n",
      "duration    0\n",
      "date        0\n",
      "dtype: int64\n",
      "\n",
      "subscription_type    0\n",
      "minute_price         0\n",
      "start_ride_price     0\n",
      "subscription_fee     0\n",
      "dtype: int64\n"
     ]
    }
   ],
   "source": [
    "# Проверю наличие пропущенных значений:\n",
    "print(users.isna().sum())\n",
    "print()\n",
    "print(riders.isna().sum())\n",
    "print()\n",
    "print(subscr.isna().sum())"
   ]
  },
  {
   "cell_type": "code",
   "execution_count": 7,
   "id": "f4747a56",
   "metadata": {},
   "outputs": [
    {
     "name": "stdout",
     "output_type": "stream",
     "text": [
      "Число явных дублей в данных users: 31\n",
      "Число явных дублей в данных riders: 0\n",
      "Число явных дублей в данных subscr: 0\n"
     ]
    }
   ],
   "source": [
    "# Проверю наличие явных дублей:\n",
    "print('Число явных дублей в данных users:',users.duplicated().sum())\n",
    "print('Число явных дублей в данных riders:', riders.duplicated().sum())\n",
    "print('Число явных дублей в данных subscr:', subscr.duplicated().sum())\n",
    "# Обнаружено 31 дублей в файле users. "
   ]
  },
  {
   "cell_type": "code",
   "execution_count": 8,
   "id": "8eeb0623",
   "metadata": {},
   "outputs": [
    {
     "name": "stdout",
     "output_type": "stream",
     "text": [
      "0       False\n",
      "1       False\n",
      "2       False\n",
      "3       False\n",
      "4       False\n",
      "        ...  \n",
      "1560     True\n",
      "1561     True\n",
      "1562     True\n",
      "1563     True\n",
      "1564     True\n",
      "Length: 1565, dtype: bool\n"
     ]
    }
   ],
   "source": [
    "# Выведу индексы дублирующихся строк:\n",
    "print(users.duplicated())     "
   ]
  },
  {
   "cell_type": "code",
   "execution_count": 9,
   "id": "1200512a",
   "metadata": {},
   "outputs": [
    {
     "name": "stdout",
     "output_type": "stream",
     "text": [
      "Число явных дублей в данных users: 0\n"
     ]
    }
   ],
   "source": [
    "# Удалю дубли в файле users и запишу в ту же переменную:\n",
    "users=users.drop_duplicates().reset_index(drop=True)\n",
    "\n",
    "#Проверка: \n",
    "print('Число явных дублей в данных users:',users.duplicated().sum())"
   ]
  },
  {
   "cell_type": "code",
   "execution_count": 10,
   "id": "002f0bc0",
   "metadata": {},
   "outputs": [
    {
     "data": {
      "text/plain": [
       "user_id              int64\n",
       "distance           float64\n",
       "duration           float64\n",
       "date        datetime64[ns]\n",
       "dtype: object"
      ]
     },
     "execution_count": 10,
     "metadata": {},
     "output_type": "execute_result"
    }
   ],
   "source": [
    "# Преобразую данные столбца date в дату:\n",
    "riders['date']=pd.to_datetime(riders['date'], format='%Y-%m-%d')\n",
    "# Проверка:\n",
    "riders.dtypes"
   ]
  },
  {
   "cell_type": "code",
   "execution_count": 11,
   "id": "11c67583",
   "metadata": {},
   "outputs": [
    {
     "name": "stdout",
     "output_type": "stream",
     "text": [
      "   user_id     distance   duration       date  month\n",
      "0        1  4409.919140  25.599769 2021-01-01      1\n",
      "1        1  2617.592153  15.816871 2021-01-18      1\n",
      "2        1   754.159807   6.232113 2021-04-20      4\n",
      "\n",
      "Всего строк в файле: 18068\n"
     ]
    }
   ],
   "source": [
    "# Создам новый столбец с номером месяца на основе date:\n",
    "riders['month']=riders['date'].dt.month\n",
    "print(riders.head(3))\n",
    "print()\n",
    "print('Всего строк в файле:', len(riders))"
   ]
  },
  {
   "cell_type": "markdown",
   "id": "f4bccecd",
   "metadata": {},
   "source": [
    "Предобработка, выводы:\n",
    "  - данные \"чистые\";\n",
    "  - удалены 31 дублирующие строки в файле users;\n",
    "  - пустых значений не выявлено."
   ]
  },
  {
   "cell_type": "markdown",
   "id": "212593c7",
   "metadata": {},
   "source": [
    "#### Шаг 3. Исследовательский анализ данных"
   ]
  },
  {
   "cell_type": "markdown",
   "id": "3b3fd981",
   "metadata": {},
   "source": [
    "##### 3. 1. Частота встречаемости городов:"
   ]
  },
  {
   "cell_type": "code",
   "execution_count": 12,
   "id": "f47985ae",
   "metadata": {},
   "outputs": [
    {
     "data": {
      "image/png": "[encoded data removed]",
      "text/plain": [
       "<Figure size 640x480 with 1 Axes>"
      ]
     },
     "metadata": {},
     "output_type": "display_data"
    },
    {
     "data": {
      "text/html": [
       "<div>\n",
       "<style scoped>\n",
       "    .dataframe tbody tr th:only-of-type {\n",
       "        vertical-align: middle;\n",
       "    }\n",
       "\n",
       "    .dataframe tbody tr th {\n",
       "        vertical-align: top;\n",
       "    }\n",
       "\n",
       "    .dataframe thead th {\n",
       "        text-align: right;\n",
       "    }\n",
       "</style>\n",
       "<table border=\"1\" class=\"dataframe\">\n",
       "  <thead>\n",
       "    <tr style=\"text-align: right;\">\n",
       "      <th></th>\n",
       "      <th>count_city</th>\n",
       "    </tr>\n",
       "  </thead>\n",
       "  <tbody>\n",
       "    <tr>\n",
       "      <th>count</th>\n",
       "      <td>8.000000</td>\n",
       "    </tr>\n",
       "    <tr>\n",
       "      <th>mean</th>\n",
       "      <td>191.750000</td>\n",
       "    </tr>\n",
       "    <tr>\n",
       "      <th>std</th>\n",
       "      <td>15.672998</td>\n",
       "    </tr>\n",
       "    <tr>\n",
       "      <th>min</th>\n",
       "      <td>168.000000</td>\n",
       "    </tr>\n",
       "    <tr>\n",
       "      <th>25%</th>\n",
       "      <td>182.250000</td>\n",
       "    </tr>\n",
       "    <tr>\n",
       "      <th>50%</th>\n",
       "      <td>191.000000</td>\n",
       "    </tr>\n",
       "    <tr>\n",
       "      <th>75%</th>\n",
       "      <td>199.500000</td>\n",
       "    </tr>\n",
       "    <tr>\n",
       "      <th>max</th>\n",
       "      <td>219.000000</td>\n",
       "    </tr>\n",
       "  </tbody>\n",
       "</table>\n",
       "</div>"
      ],
      "text/plain": [
       "       count_city\n",
       "count    8.000000\n",
       "mean   191.750000\n",
       "std     15.672998\n",
       "min    168.000000\n",
       "25%    182.250000\n",
       "50%    191.000000\n",
       "75%    199.500000\n",
       "max    219.000000"
      ]
     },
     "execution_count": 12,
     "metadata": {},
     "output_type": "execute_result"
    }
   ],
   "source": [
    "user_by_city=users.pivot_table(index='city', values='user_id', aggfunc='count')\n",
    "user_by_city.columns=['count_city']\n",
    "ax= user_by_city.sort_values('count_city', ascending=True).plot(y='count_city', grid=True, kind='bar', color='orange',legend=None)\n",
    "\n",
    "    \n",
    "plt.title('Количество пользователей в городах')\n",
    "plt.ylabel('Число пользователей')\n",
    "plt.xlabel('Города выборки')\n",
    "\n",
    "for i in ax.containers:\n",
    "   ax.bar_label(i)\n",
    "plt.show()\n",
    "\n",
    "user_by_city.describe()\n"
   ]
  },
  {
   "cell_type": "markdown",
   "id": "3fbc530e",
   "metadata": {},
   "source": [
    "#### Вывод 3.1:\n",
    "В выборке представлены 8 городов. Максимальное число пользователей - 219 - из Пятигорска. Далее с небольшим шагом следуют Екатеринбург и Ростов-на-Дону. Минимальное число пользователей из Москвы -168.\n"
   ]
  },
  {
   "cell_type": "markdown",
   "id": "38d53d3b",
   "metadata": {},
   "source": [
    "##### 3.2 Соотношение  пользователей с подпиской и без подписки;"
   ]
  },
  {
   "cell_type": "code",
   "execution_count": 55,
   "id": "e06381ca",
   "metadata": {},
   "outputs": [
    {
     "data": {
      "image/png": "[encoded data removed]",
      "text/plain": [
       "<Figure size 640x480 with 1 Axes>"
      ]
     },
     "metadata": {},
     "output_type": "display_data"
    },
    {
     "name": "stdout",
     "output_type": "stream",
     "text": [
      "subscription_type\n",
      "free     835\n",
      "ultra    699\n",
      "Name: No_subscr, dtype: int64\n"
     ]
    }
   ],
   "source": [
    "user_by_subsr=users.pivot_table(index='subscription_type', values='user_id', aggfunc='count')\n",
    "user_by_subsr.columns=['No_subscr']\n",
    "user_by_subsr.sort_values('No_subscr', ascending=True).plot(y='No_subscr',autopct='%1.1f%%',pctdistance=-0.5,grid=True,legend=False, kind='pie')\n",
    "plt.title('Доли пользователей с различным типом подписки')\n",
    "plt.ylabel(None)\n",
    "plt.show()\n",
    "print(user_by_subsr['No_subscr'])\n"
   ]
  },
  {
   "cell_type": "markdown",
   "id": "ac21d6b4",
   "metadata": {},
   "source": [
    "#### Вывод 3.2:\n",
    "Большая доля пользователей в выборке не имеет подписки на сервис 54.4% (836)."
   ]
  },
  {
   "cell_type": "markdown",
   "id": "c3374752",
   "metadata": {},
   "source": [
    "##### 3.3 Возраст пользователей:"
   ]
  },
  {
   "cell_type": "code",
   "execution_count": 38,
   "id": "6b2dd5ed",
   "metadata": {},
   "outputs": [
    {
     "data": {
      "image/png": "[encoded data removed]",
      "text/plain": [
       "<Figure size 640x480 with 1 Axes>"
      ]
     },
     "metadata": {},
     "output_type": "display_data"
    },
    {
     "data": {
      "text/plain": [
       "count    1534.000000\n",
       "mean       24.903520\n",
       "std         4.572367\n",
       "min        12.000000\n",
       "25%        22.000000\n",
       "50%        25.000000\n",
       "75%        28.000000\n",
       "max        43.000000\n",
       "Name: age, dtype: float64"
      ]
     },
     "execution_count": 38,
     "metadata": {},
     "output_type": "execute_result"
    }
   ],
   "source": [
    "users.hist('age', bins=30, color='grey',ec='white', legend=True);\n",
    "plt.ylabel('Число пользователей')\n",
    "plt.xlabel('Возраст')\n",
    "plt.title('')\n",
    "plt.show()\n",
    "users['age'].describe()"
   ]
  },
  {
   "cell_type": "markdown",
   "id": "1b8b6049",
   "metadata": {},
   "source": [
    "#### Вывод 3.3:\n",
    "Доминирующий возраст пользователя - 25 лет.\n",
    "Пользователи до 15 лет и после 35 - крайне редки. \n",
    "Подавляющее число пользователей - люди в возрасте от 22 до 28 лет."
   ]
  },
  {
   "cell_type": "markdown",
   "id": "e61035f6",
   "metadata": {},
   "source": [
    "##### 3.4 Расстояние, которое пользователь преодолел за одну поездку;"
   ]
  },
  {
   "cell_type": "code",
   "execution_count": 37,
   "id": "eff9f206",
   "metadata": {},
   "outputs": [
    {
     "data": {
      "image/png": "[encoded data removed]",
      "text/plain": [
       "<Figure size 640x480 with 1 Axes>"
      ]
     },
     "metadata": {},
     "output_type": "display_data"
    },
    {
     "name": "stdout",
     "output_type": "stream",
     "text": [
      "count    18068.000000\n",
      "mean      3070.659976\n",
      "std       1116.831209\n",
      "min          0.855683\n",
      "25%       2543.226360\n",
      "50%       3133.609994\n",
      "75%       3776.222735\n",
      "max       7211.007745\n",
      "Name: distance, dtype: float64\n"
     ]
    }
   ],
   "source": [
    "riders.hist('distance', bins=30, color='tomato',ec='white', legend=True);\n",
    "plt.ylabel('Число поездок')\n",
    "plt.xlabel('Расстояние, м')\n",
    "plt.title('')\n",
    "plt.show()\n",
    "print(riders['distance'].describe())\n"
   ]
  },
  {
   "cell_type": "code",
   "execution_count": 16,
   "id": "f2ab2e1d",
   "metadata": {},
   "outputs": [
    {
     "data": {
      "image/png": "[encoded data removed]",
      "text/plain": [
       "<Figure size 800x600 with 1 Axes>"
      ]
     },
     "metadata": {},
     "output_type": "display_data"
    }
   ],
   "source": [
    "# Диаграмма размаха - дистанция поездки:\n",
    "riders.boxplot(column='distance', figsize=(8, 6));"
   ]
  },
  {
   "cell_type": "markdown",
   "id": "3108b174",
   "metadata": {},
   "source": [
    "#### Вывод 3.4:\n",
    "Преобладают поездки на дистанцию 2.8-3.8 км. \n",
    "На гистограмме также видимы короткие поездки по всплеску с дистанцией до, приблизительно, 1.5 кв.\n",
    "Среднее и медианное значения - около 3.1 км.\n",
    "Значения до, примерно 700 м и от 5.7 км выглядят выбросами на диаграмме размаха."
   ]
  },
  {
   "cell_type": "markdown",
   "id": "29d1b126",
   "metadata": {},
   "source": [
    "##### 3.5 Продолжительность поездок."
   ]
  },
  {
   "cell_type": "code",
   "execution_count": 52,
   "id": "af6d202c",
   "metadata": {},
   "outputs": [
    {
     "data": {
      "text/plain": [
       "count    18068.000000\n",
       "mean        17.805011\n",
       "std          6.091051\n",
       "min          0.500000\n",
       "25%         13.597563\n",
       "50%         17.678395\n",
       "75%         21.724800\n",
       "max         40.823963\n",
       "Name: duration, dtype: float64"
      ]
     },
     "execution_count": 52,
     "metadata": {},
     "output_type": "execute_result"
    },
    {
     "data": {
      "image/png": "[encoded data removed]",
      "text/plain": [
       "<Figure size 640x480 with 1 Axes>"
      ]
     },
     "metadata": {},
     "output_type": "display_data"
    }
   ],
   "source": [
    "riders.hist('duration', bins=40, color='tomato',ec='white', legend=True);\n",
    "plt.xlabel('Продолжительность поездок, мин.')\n",
    "plt.ylabel('Частота')\n",
    "riders['duration'].describe()"
   ]
  },
  {
   "cell_type": "markdown",
   "id": "2b48767a",
   "metadata": {},
   "source": [
    "#### Вывод 3.5:\n",
    "Продолжительность поездки колеблется в интервале от 0.5 до 41 мин. Виден незначительный всплеск супер-коротких поездок. Среднее и медианное значения - около 18 мин."
   ]
  },
  {
   "cell_type": "markdown",
   "id": "4ef51331",
   "metadata": {},
   "source": [
    "#### Шаг 4. Объединение данных"
   ]
  },
  {
   "cell_type": "code",
   "execution_count": 18,
   "id": "6bf288b5",
   "metadata": {
    "scrolled": true
   },
   "outputs": [
    {
     "name": "stdout",
     "output_type": "stream",
     "text": [
      "<class 'pandas.core.frame.DataFrame'>\n",
      "RangeIndex: 18068 entries, 0 to 18067\n",
      "Data columns (total 12 columns):\n",
      " #   Column             Non-Null Count  Dtype         \n",
      "---  ------             --------------  -----         \n",
      " 0   user_id            18068 non-null  int64         \n",
      " 1   distance           18068 non-null  float64       \n",
      " 2   duration           18068 non-null  float64       \n",
      " 3   date               18068 non-null  datetime64[ns]\n",
      " 4   month              18068 non-null  int32         \n",
      " 5   name               18068 non-null  object        \n",
      " 6   age                18068 non-null  int64         \n",
      " 7   city               18068 non-null  object        \n",
      " 8   subscription_type  18068 non-null  object        \n",
      " 9   minute_price       18068 non-null  int64         \n",
      " 10  start_ride_price   18068 non-null  int64         \n",
      " 11  subscription_fee   18068 non-null  int64         \n",
      "dtypes: datetime64[ns](1), float64(2), int32(1), int64(5), object(3)\n",
      "memory usage: 1.6+ MB\n"
     ]
    }
   ],
   "source": [
    "# Объединю все три файла и сохраню в переменную merged_r_u_s.\n",
    "# Основой куда вливаю данные будет riders:\n",
    "merged_riders=riders.merge(users, on='user_id', how='left')\n",
    "merged_r_u_s=merged_riders.merge(subscr, on='subscription_type', how='left')\n",
    "# округлю duration:\n",
    "merged_r_u_s['duration']= np.ceil(merged_r_u_s['duration'])\n",
    "\n",
    "merged_r_u_s.pivot_table(index='subscription_type', values='name', aggfunc='count')\n",
    "merged_r_u_s.info()"
   ]
  },
  {
   "cell_type": "markdown",
   "id": "258ef8c2",
   "metadata": {},
   "source": [
    "Вывод после объединения:\n",
    "- Объединение файла в переменную merged_r_u_s прошло корректно. \n",
    "- Общее число записей осталось прежним - 18068 (rides_go содержит 18068 записей.) \n",
    "- Пропуски отсутствуют. Проведено округление duration. \n",
    "- Изменен тип данных для date из исходного riders."
   ]
  },
  {
   "cell_type": "code",
   "execution_count": 19,
   "id": "6d4a3dd4",
   "metadata": {},
   "outputs": [
    {
     "data": {
      "text/html": [
       "<div>\n",
       "<style scoped>\n",
       "    .dataframe tbody tr th:only-of-type {\n",
       "        vertical-align: middle;\n",
       "    }\n",
       "\n",
       "    .dataframe tbody tr th {\n",
       "        vertical-align: top;\n",
       "    }\n",
       "\n",
       "    .dataframe thead th {\n",
       "        text-align: right;\n",
       "    }\n",
       "</style>\n",
       "<table border=\"1\" class=\"dataframe\">\n",
       "  <thead>\n",
       "    <tr style=\"text-align: right;\">\n",
       "      <th></th>\n",
       "      <th></th>\n",
       "      <th>rides_num</th>\n",
       "      <th>duration_mean</th>\n",
       "    </tr>\n",
       "    <tr>\n",
       "      <th>city</th>\n",
       "      <th>subscription_type</th>\n",
       "      <th></th>\n",
       "      <th></th>\n",
       "    </tr>\n",
       "  </thead>\n",
       "  <tbody>\n",
       "    <tr>\n",
       "      <th rowspan=\"2\" valign=\"top\">Екатеринбург</th>\n",
       "      <th>ultra</th>\n",
       "      <td>0.876</td>\n",
       "      <td>18.917808</td>\n",
       "    </tr>\n",
       "    <tr>\n",
       "      <th>free</th>\n",
       "      <td>1.585</td>\n",
       "      <td>17.991167</td>\n",
       "    </tr>\n",
       "    <tr>\n",
       "      <th rowspan=\"2\" valign=\"top\">Краснодар</th>\n",
       "      <th>ultra</th>\n",
       "      <td>0.780</td>\n",
       "      <td>18.857692</td>\n",
       "    </tr>\n",
       "    <tr>\n",
       "      <th>free</th>\n",
       "      <td>1.521</td>\n",
       "      <td>17.905983</td>\n",
       "    </tr>\n",
       "    <tr>\n",
       "      <th rowspan=\"2\" valign=\"top\">Москва</th>\n",
       "      <th>ultra</th>\n",
       "      <td>0.700</td>\n",
       "      <td>19.381429</td>\n",
       "    </tr>\n",
       "    <tr>\n",
       "      <th>free</th>\n",
       "      <td>1.175</td>\n",
       "      <td>18.010213</td>\n",
       "    </tr>\n",
       "    <tr>\n",
       "      <th rowspan=\"2\" valign=\"top\">Омск</th>\n",
       "      <th>ultra</th>\n",
       "      <td>0.827</td>\n",
       "      <td>18.984281</td>\n",
       "    </tr>\n",
       "    <tr>\n",
       "      <th>free</th>\n",
       "      <td>1.250</td>\n",
       "      <td>17.729600</td>\n",
       "    </tr>\n",
       "    <tr>\n",
       "      <th rowspan=\"2\" valign=\"top\">Пятигорск</th>\n",
       "      <th>ultra</th>\n",
       "      <td>0.852</td>\n",
       "      <td>19.061033</td>\n",
       "    </tr>\n",
       "    <tr>\n",
       "      <th>free</th>\n",
       "      <td>1.672</td>\n",
       "      <td>18.051435</td>\n",
       "    </tr>\n",
       "    <tr>\n",
       "      <th rowspan=\"2\" valign=\"top\">Ростов-на-Дону</th>\n",
       "      <th>ultra</th>\n",
       "      <td>0.885</td>\n",
       "      <td>18.822599</td>\n",
       "    </tr>\n",
       "    <tr>\n",
       "      <th>free</th>\n",
       "      <td>1.565</td>\n",
       "      <td>17.694569</td>\n",
       "    </tr>\n",
       "    <tr>\n",
       "      <th rowspan=\"2\" valign=\"top\">Сочи</th>\n",
       "      <th>ultra</th>\n",
       "      <td>0.813</td>\n",
       "      <td>19.049200</td>\n",
       "    </tr>\n",
       "    <tr>\n",
       "      <th>free</th>\n",
       "      <td>1.446</td>\n",
       "      <td>17.744813</td>\n",
       "    </tr>\n",
       "    <tr>\n",
       "      <th rowspan=\"2\" valign=\"top\">Тюмень</th>\n",
       "      <th>ultra</th>\n",
       "      <td>0.767</td>\n",
       "      <td>19.311604</td>\n",
       "    </tr>\n",
       "    <tr>\n",
       "      <th>free</th>\n",
       "      <td>1.354</td>\n",
       "      <td>17.987445</td>\n",
       "    </tr>\n",
       "  </tbody>\n",
       "</table>\n",
       "</div>"
      ],
      "text/plain": [
       "                                  rides_num  duration_mean\n",
       "city           subscription_type                          \n",
       "Екатеринбург   ultra                  0.876      18.917808\n",
       "               free                   1.585      17.991167\n",
       "Краснодар      ultra                  0.780      18.857692\n",
       "               free                   1.521      17.905983\n",
       "Москва         ultra                  0.700      19.381429\n",
       "               free                   1.175      18.010213\n",
       "Омск           ultra                  0.827      18.984281\n",
       "               free                   1.250      17.729600\n",
       "Пятигорск      ultra                  0.852      19.061033\n",
       "               free                   1.672      18.051435\n",
       "Ростов-на-Дону ultra                  0.885      18.822599\n",
       "               free                   1.565      17.694569\n",
       "Сочи           ultra                  0.813      19.049200\n",
       "               free                   1.446      17.744813\n",
       "Тюмень         ultra                  0.767      19.311604\n",
       "               free                   1.354      17.987445"
      ]
     },
     "execution_count": 19,
     "metadata": {},
     "output_type": "execute_result"
    }
   ],
   "source": [
    "# Проанализирую поездки по городам для пользователей с подпиской (и без)\n",
    "# и их средниюю продолжительность:\n",
    "pivot_rus=merged_r_u_s.pivot_table(index=('city','subscription_type'), values='duration', aggfunc=['count', 'mean'])\n",
    "\n",
    "pivot_rus.columns=['rides_num', 'duration_mean']\n",
    "pivot_rus['rides_num']=pivot_rus['rides_num']/1000\n",
    "pivot_rus=pivot_rus.sort_values(['city','rides_num'])\n",
    "pivot_rus"
   ]
  },
  {
   "cell_type": "code",
   "execution_count": 62,
   "id": "d47ba5d3",
   "metadata": {},
   "outputs": [
    {
     "data": {
      "image/png": "[encoded data removed]",
      "text/plain": [
       "<Figure size 640x480 with 2 Axes>"
      ]
     },
     "metadata": {},
     "output_type": "display_data"
    }
   ],
   "source": [
    "pivot_rus.plot(kind='bar', y=['rides_num','duration_mean'],subplots=True , xlabel='Город, тип подписки',\\\n",
    "               legend=False,title=['Число поездок, тыс.', 'Срудняя продолжительность, мин'],fontsize=8,grid=True, color=['tomato','grey'])\n",
    "plt.xticks(size=8)\n",
    "plt.yticks(size=8)\n",
    "plt.show()\n"
   ]
  },
  {
   "cell_type": "markdown",
   "id": "3e521046",
   "metadata": {},
   "source": [
    "#### Вывод 4.\n",
    "На диаграмме выше видно, что во всех городах число поездок, совершаемых пользователями без подписки превышает число подписанных ~ в 2 раза.\n",
    "Средняя продолжительность поездки, напротив, меньше примерно на 1 мин у тех, кто пользуется без подписки.\n"
   ]
  },
  {
   "cell_type": "markdown",
   "id": "3b6deec7",
   "metadata": {},
   "source": [
    "Разделю полученный полный файл merged_r_u_s на 2 датафрейма:\n",
    " - пользователи с подпиской - rider_subscred\n",
    " - пользователи без подписки - rider_unsubscred\n",
    " \n",
    "Проанализирую информацию о расстоянии и времени для каждой группы. "
   ]
  },
  {
   "cell_type": "code",
   "execution_count": 21,
   "id": "a5648705",
   "metadata": {},
   "outputs": [
    {
     "name": "stdout",
     "output_type": "stream",
     "text": [
      "Число поездок пользователей с подпиской: 6500\n"
     ]
    }
   ],
   "source": [
    "rider_subscred=merged_r_u_s.loc[merged_r_u_s['subscription_type']=='ultra']\n",
    "print('Число поездок пользователей с подпиской:', len(rider_subscred))"
   ]
  },
  {
   "cell_type": "code",
   "execution_count": 66,
   "id": "19865238",
   "metadata": {},
   "outputs": [
    {
     "data": {
      "text/plain": [
       "count    6500.000000\n",
       "mean     3115.445388\n",
       "std       836.895330\n",
       "min       244.210438\n",
       "25%      2785.444017\n",
       "50%      3148.637229\n",
       "75%      3560.574425\n",
       "max      5699.769662\n",
       "Name: distance, dtype: float64"
      ]
     },
     "execution_count": 66,
     "metadata": {},
     "output_type": "execute_result"
    },
    {
     "data": {
      "image/png": "[encoded data removed]",
      "text/plain": [
       "<Figure size 640x480 with 1 Axes>"
      ]
     },
     "metadata": {},
     "output_type": "display_data"
    }
   ],
   "source": [
    "# Пользователи с подпиской:\n",
    "rider_subscred.plot(y='distance',kind='hist', color='orange',ec='white', bins=30,grid=True)\n",
    "plt.ylabel('Частота')\n",
    "plt.xlabel('Дистанция')\n",
    "rider_subscred['distance'].describe()"
   ]
  },
  {
   "cell_type": "markdown",
   "id": "6639a51f",
   "metadata": {},
   "source": [
    "#### Вывод 4.1:\n",
    "Наиболее частое значение дистанции находится на уровне 3 148 м. Подавляющее число поездок  совершаются на расстояние 2600 -3600 м. Виден также отдельный всплеск на уровне до 2000 м., со средним значение около 1000 м. Как упоминалось ранее, предположительно, это пользователи с регулярной потребностью в коротких поездках.\\\n",
    "Медианное значение дистанции - 3.1 км.\\\n",
    "Максимальное значение 5.7 км."
   ]
  },
  {
   "cell_type": "code",
   "execution_count": 67,
   "id": "289403b0",
   "metadata": {},
   "outputs": [
    {
     "data": {
      "text/plain": [
       "count    6500.000000\n",
       "mean       19.037692\n",
       "std         5.577439\n",
       "min         4.000000\n",
       "25%        15.000000\n",
       "50%        19.000000\n",
       "75%        22.000000\n",
       "max        41.000000\n",
       "Name: duration, dtype: float64"
      ]
     },
     "execution_count": 67,
     "metadata": {},
     "output_type": "execute_result"
    },
    {
     "data": {
      "image/png": "[encoded data removed]",
      "text/plain": [
       "<Figure size 640x480 with 1 Axes>"
      ]
     },
     "metadata": {},
     "output_type": "display_data"
    }
   ],
   "source": [
    "rider_subscred.plot(y='duration',kind='hist', color='grey',ec='white', bins=30, grid=True)\n",
    "plt.ylabel('Частота')\n",
    "plt.xlabel('Продолжительность поездки')\n",
    "rider_subscred['duration'].describe()"
   ]
  },
  {
   "cell_type": "markdown",
   "id": "61651741",
   "metadata": {},
   "source": [
    "#### Вывод 4.2:\n",
    "Наиболее частые значения продолжительности поездки для пользователей с подпиской - 15 и 18 мин.\\\n",
    "-среднее значение продолжительности - 19 мин;\\\n",
    "-максимальное значение продолжительности - около 41 мин; \\\n",
    "-минимальное - до 4 мин."
   ]
  },
  {
   "cell_type": "code",
   "execution_count": 24,
   "id": "71153529",
   "metadata": {},
   "outputs": [
    {
     "name": "stdout",
     "output_type": "stream",
     "text": [
      "Число поездок пользователей с подпиской: 11568\n"
     ]
    }
   ],
   "source": [
    "# Пользователи без одписки:\n",
    "rider_unsubscred=merged_r_u_s.loc[merged_r_u_s['subscription_type']=='free']\n",
    "print('Число поездок пользователей с подпиской:', len(rider_unsubscred))\n"
   ]
  },
  {
   "cell_type": "code",
   "execution_count": 68,
   "id": "5489f030",
   "metadata": {},
   "outputs": [
    {
     "data": {
      "text/plain": [
       "count    11568.000000\n",
       "mean      3045.495282\n",
       "std       1246.173806\n",
       "min          0.855683\n",
       "25%       2366.562689\n",
       "50%       3114.648465\n",
       "75%       3905.697894\n",
       "max       7211.007745\n",
       "Name: distance, dtype: float64"
      ]
     },
     "execution_count": 68,
     "metadata": {},
     "output_type": "execute_result"
    },
    {
     "data": {
      "image/png": "[encoded data removed]",
      "text/plain": [
       "<Figure size 640x480 with 1 Axes>"
      ]
     },
     "metadata": {},
     "output_type": "display_data"
    }
   ],
   "source": [
    "rider_unsubscred.plot(y='distance',kind='hist', color='orange',ec='white', bins=30,grid=True)\n",
    "plt.ylabel('Частота')\n",
    "plt.xlabel('Дистанция')\n",
    "rider_unsubscred['distance'].describe()"
   ]
  },
  {
   "cell_type": "markdown",
   "id": "9fb0a63c",
   "metadata": {},
   "source": [
    "#### Вывод 4.3:\n",
    "Наиболее частое значение дистанции находится на уровне 2500 м (3 148 м для пользователей с подпиской). \\\n",
    "Подавляющее число поездок совершаются на расстояние 2200-4000 м (2600 -3600 м. для пользователей с подпиской). Виден также отдельный всплеск на уровне до 1500 м., со средним значение около 800 м. Как упоминалось ранее, предположительно, это пользователи с регулярной потребностью в коротких поездках.\\\n",
    "Медианное значение дистанции - 3.1 км.\\\n",
    "Максимальное значение 7.2 км."
   ]
  },
  {
   "cell_type": "code",
   "execution_count": 69,
   "id": "d78295e0",
   "metadata": {},
   "outputs": [
    {
     "data": {
      "text/plain": [
       "count    11568.000000\n",
       "mean        17.890992\n",
       "std          6.330250\n",
       "min          1.000000\n",
       "25%         13.000000\n",
       "50%         18.000000\n",
       "75%         22.000000\n",
       "max         35.000000\n",
       "Name: duration, dtype: float64"
      ]
     },
     "execution_count": 69,
     "metadata": {},
     "output_type": "execute_result"
    },
    {
     "data": {
      "image/png": "[encoded data removed]",
      "text/plain": [
       "<Figure size 640x480 with 1 Axes>"
      ]
     },
     "metadata": {},
     "output_type": "display_data"
    }
   ],
   "source": [
    "rider_unsubscred.plot(y='duration',kind='hist', color='grey',ec='white', bins=30, grid=True)\n",
    "plt.ylabel('Частота')\n",
    "plt.xlabel('Продолжительность поездки')\n",
    "rider_unsubscred['duration'].describe()"
   ]
  },
  {
   "cell_type": "markdown",
   "id": "f5b35281",
   "metadata": {},
   "source": [
    "### Вывод 4.4:\n",
    "Наиболее частые значения продолжительности поездки тарифа Free находится в диапазоне 13-22 мин. Пик на значении 18 мин.\\\n",
    "-среднее значение продолжительности - 18 мин;\\\n",
    "-максимальное значение продолжительности - 35 мин; \\\n",
    "-минимальное - до 1 мин."
   ]
  },
  {
   "cell_type": "markdown",
   "id": "402d620f",
   "metadata": {},
   "source": [
    "#### Шаг 5. Подсчёт выручки"
   ]
  },
  {
   "cell_type": "code",
   "execution_count": 27,
   "id": "9233e6e9",
   "metadata": {
    "scrolled": true
   },
   "outputs": [
    {
     "name": "stderr",
     "output_type": "stream",
     "text": [
      "C:\\Users\\Ahsas\\AppData\\Local\\Temp\\ipykernel_17948\\3778901658.py:6: FutureWarning: The provided callable <built-in function sum> is currently using SeriesGroupBy.sum. In a future version of pandas, the provided callable will be used directly. To keep current behavior pass the string \"sum\" instead.\n",
      "  riders_pivot=riders_pivot.groupby('userid_month').agg({'distance':sum,'name':len ,'duration': sum, 'subscription_type':max, 'user_id': max, 'month': max})\n",
      "C:\\Users\\Ahsas\\AppData\\Local\\Temp\\ipykernel_17948\\3778901658.py:6: FutureWarning: The provided callable <built-in function sum> is currently using SeriesGroupBy.sum. In a future version of pandas, the provided callable will be used directly. To keep current behavior pass the string \"sum\" instead.\n",
      "  riders_pivot=riders_pivot.groupby('userid_month').agg({'distance':sum,'name':len ,'duration': sum, 'subscription_type':max, 'user_id': max, 'month': max})\n",
      "C:\\Users\\Ahsas\\AppData\\Local\\Temp\\ipykernel_17948\\3778901658.py:6: FutureWarning: The provided callable <built-in function max> is currently using SeriesGroupBy.max. In a future version of pandas, the provided callable will be used directly. To keep current behavior pass the string \"max\" instead.\n",
      "  riders_pivot=riders_pivot.groupby('userid_month').agg({'distance':sum,'name':len ,'duration': sum, 'subscription_type':max, 'user_id': max, 'month': max})\n"
     ]
    }
   ],
   "source": [
    "# Общий файл после объединения данных 3х таблиц сохраню в другую переменную riders_pivot, где расчитаю выручку в мес.:\n",
    "riders_pivot=merged_r_u_s\n",
    "# Объединю содержание колонок month и user_id, для создания \"ключа\", чтобы после групппировки не оставалось признаков сводной таблицы:\n",
    "riders_pivot['userid_month']=(riders_pivot['user_id'].astype ( str ) +['_'] + riders_pivot['month'].astype ( str ))\n",
    "# Сруппирую данные, как указано в условии:\n",
    "riders_pivot=riders_pivot.groupby('userid_month').agg({'distance':sum,'name':len ,'duration': sum, 'subscription_type':max, 'user_id': max, 'month': max})\n",
    "# Переименую колонки:\n",
    "riders_pivot.columns=[ 'total_monthly_distance','rides_number_monthly','total_monthly_duration', 'subscription_type', 'user_id', 'month']\n",
    "\n",
    "riders_pivot.loc[riders_pivot['user_id']==1];"
   ]
  },
  {
   "cell_type": "code",
   "execution_count": 28,
   "id": "53049e0a",
   "metadata": {
    "scrolled": true
   },
   "outputs": [
    {
     "name": "stderr",
     "output_type": "stream",
     "text": [
      "C:\\Users\\Ahsas\\AppData\\Local\\Temp\\ipykernel_17948\\612741899.py:6: FutureWarning: The provided callable <built-in function sum> is currently using SeriesGroupBy.sum. In a future version of pandas, the provided callable will be used directly. To keep current behavior pass the string \"sum\" instead.\n",
      "  merged_r_u_s_income=merged_r_u_s.groupby( 'userid_month').agg({'income': sum, 'subscription_type': max})\n",
      "C:\\Users\\Ahsas\\AppData\\Local\\Temp\\ipykernel_17948\\612741899.py:6: FutureWarning: The provided callable <built-in function max> is currently using SeriesGroupBy.max. In a future version of pandas, the provided callable will be used directly. To keep current behavior pass the string \"max\" instead.\n",
      "  merged_r_u_s_income=merged_r_u_s.groupby( 'userid_month').agg({'income': sum, 'subscription_type': max})\n"
     ]
    },
    {
     "data": {
      "text/html": [
       "<div>\n",
       "<style scoped>\n",
       "    .dataframe tbody tr th:only-of-type {\n",
       "        vertical-align: middle;\n",
       "    }\n",
       "\n",
       "    .dataframe tbody tr th {\n",
       "        vertical-align: top;\n",
       "    }\n",
       "\n",
       "    .dataframe thead th {\n",
       "        text-align: right;\n",
       "    }\n",
       "</style>\n",
       "<table border=\"1\" class=\"dataframe\">\n",
       "  <thead>\n",
       "    <tr style=\"text-align: right;\">\n",
       "      <th></th>\n",
       "      <th>monthly_income</th>\n",
       "      <th>subscription_type</th>\n",
       "    </tr>\n",
       "    <tr>\n",
       "      <th>userid_month</th>\n",
       "      <th></th>\n",
       "      <th></th>\n",
       "    </tr>\n",
       "  </thead>\n",
       "  <tbody>\n",
       "    <tr>\n",
       "      <th>1000_1</th>\n",
       "      <td>564.0</td>\n",
       "      <td>free</td>\n",
       "    </tr>\n",
       "    <tr>\n",
       "      <th>1000_10</th>\n",
       "      <td>356.0</td>\n",
       "      <td>free</td>\n",
       "    </tr>\n",
       "    <tr>\n",
       "      <th>1000_11</th>\n",
       "      <td>316.0</td>\n",
       "      <td>free</td>\n",
       "    </tr>\n",
       "    <tr>\n",
       "      <th>1000_2</th>\n",
       "      <td>524.0</td>\n",
       "      <td>free</td>\n",
       "    </tr>\n",
       "    <tr>\n",
       "      <th>1000_3</th>\n",
       "      <td>558.0</td>\n",
       "      <td>free</td>\n",
       "    </tr>\n",
       "    <tr>\n",
       "      <th>...</th>\n",
       "      <td>...</td>\n",
       "      <td>...</td>\n",
       "    </tr>\n",
       "    <tr>\n",
       "      <th>9_3</th>\n",
       "      <td>234.0</td>\n",
       "      <td>ultra</td>\n",
       "    </tr>\n",
       "    <tr>\n",
       "      <th>9_4</th>\n",
       "      <td>102.0</td>\n",
       "      <td>ultra</td>\n",
       "    </tr>\n",
       "    <tr>\n",
       "      <th>9_6</th>\n",
       "      <td>102.0</td>\n",
       "      <td>ultra</td>\n",
       "    </tr>\n",
       "    <tr>\n",
       "      <th>9_8</th>\n",
       "      <td>66.0</td>\n",
       "      <td>ultra</td>\n",
       "    </tr>\n",
       "    <tr>\n",
       "      <th>9_9</th>\n",
       "      <td>84.0</td>\n",
       "      <td>ultra</td>\n",
       "    </tr>\n",
       "  </tbody>\n",
       "</table>\n",
       "<p>11331 rows × 2 columns</p>\n",
       "</div>"
      ],
      "text/plain": [
       "              monthly_income subscription_type\n",
       "userid_month                                  \n",
       "1000_1                 564.0              free\n",
       "1000_10                356.0              free\n",
       "1000_11                316.0              free\n",
       "1000_2                 524.0              free\n",
       "1000_3                 558.0              free\n",
       "...                      ...               ...\n",
       "9_3                    234.0             ultra\n",
       "9_4                    102.0             ultra\n",
       "9_6                    102.0             ultra\n",
       "9_8                     66.0             ultra\n",
       "9_9                     84.0             ultra\n",
       "\n",
       "[11331 rows x 2 columns]"
      ]
     },
     "execution_count": 28,
     "metadata": {},
     "output_type": "execute_result"
    }
   ],
   "source": [
    "# Рассчитаю выручку для каждого клиента в месяце:\n",
    "merged_r_u_s['income']=merged_r_u_s['start_ride_price']+merged_r_u_s['minute_price']*merged_r_u_s['duration']\n",
    "# Объединю содержание колонок month и user_id, чтобы после групппировки не оставалось признаков сводной таблицы:\n",
    "merged_r_u_s['userid_month']=(merged_r_u_s['user_id'].astype ( str ) +['_'] + merged_r_u_s['month'].astype ( str ))\n",
    "\n",
    "merged_r_u_s_income=merged_r_u_s.groupby( 'userid_month').agg({'income': sum, 'subscription_type': max})\n",
    "merged_r_u_s_income.columns=['monthly_income', 'subscription_type']\n",
    "merged_r_u_s_income"
   ]
  },
  {
   "cell_type": "code",
   "execution_count": 29,
   "id": "3122a7fe",
   "metadata": {},
   "outputs": [
    {
     "data": {
      "text/html": [
       "<div>\n",
       "<style scoped>\n",
       "    .dataframe tbody tr th:only-of-type {\n",
       "        vertical-align: middle;\n",
       "    }\n",
       "\n",
       "    .dataframe tbody tr th {\n",
       "        vertical-align: top;\n",
       "    }\n",
       "\n",
       "    .dataframe thead th {\n",
       "        text-align: right;\n",
       "    }\n",
       "</style>\n",
       "<table border=\"1\" class=\"dataframe\">\n",
       "  <thead>\n",
       "    <tr style=\"text-align: right;\">\n",
       "      <th></th>\n",
       "      <th>monthly_income</th>\n",
       "      <th>subscription_type</th>\n",
       "    </tr>\n",
       "    <tr>\n",
       "      <th>userid_month</th>\n",
       "      <th></th>\n",
       "      <th></th>\n",
       "    </tr>\n",
       "  </thead>\n",
       "  <tbody>\n",
       "    <tr>\n",
       "      <th>1000_1</th>\n",
       "      <td>564.0</td>\n",
       "      <td>free</td>\n",
       "    </tr>\n",
       "    <tr>\n",
       "      <th>1000_10</th>\n",
       "      <td>356.0</td>\n",
       "      <td>free</td>\n",
       "    </tr>\n",
       "    <tr>\n",
       "      <th>1000_11</th>\n",
       "      <td>316.0</td>\n",
       "      <td>free</td>\n",
       "    </tr>\n",
       "    <tr>\n",
       "      <th>1000_2</th>\n",
       "      <td>524.0</td>\n",
       "      <td>free</td>\n",
       "    </tr>\n",
       "    <tr>\n",
       "      <th>1000_3</th>\n",
       "      <td>558.0</td>\n",
       "      <td>free</td>\n",
       "    </tr>\n",
       "    <tr>\n",
       "      <th>...</th>\n",
       "      <td>...</td>\n",
       "      <td>...</td>\n",
       "    </tr>\n",
       "    <tr>\n",
       "      <th>9_3</th>\n",
       "      <td>433.0</td>\n",
       "      <td>ultra</td>\n",
       "    </tr>\n",
       "    <tr>\n",
       "      <th>9_4</th>\n",
       "      <td>301.0</td>\n",
       "      <td>ultra</td>\n",
       "    </tr>\n",
       "    <tr>\n",
       "      <th>9_6</th>\n",
       "      <td>301.0</td>\n",
       "      <td>ultra</td>\n",
       "    </tr>\n",
       "    <tr>\n",
       "      <th>9_8</th>\n",
       "      <td>265.0</td>\n",
       "      <td>ultra</td>\n",
       "    </tr>\n",
       "    <tr>\n",
       "      <th>9_9</th>\n",
       "      <td>283.0</td>\n",
       "      <td>ultra</td>\n",
       "    </tr>\n",
       "  </tbody>\n",
       "</table>\n",
       "<p>11331 rows × 2 columns</p>\n",
       "</div>"
      ],
      "text/plain": [
       "              monthly_income subscription_type\n",
       "userid_month                                  \n",
       "1000_1                 564.0              free\n",
       "1000_10                356.0              free\n",
       "1000_11                316.0              free\n",
       "1000_2                 524.0              free\n",
       "1000_3                 558.0              free\n",
       "...                      ...               ...\n",
       "9_3                    433.0             ultra\n",
       "9_4                    301.0             ultra\n",
       "9_6                    301.0             ultra\n",
       "9_8                    265.0             ultra\n",
       "9_9                    283.0             ultra\n",
       "\n",
       "[11331 rows x 2 columns]"
      ]
     },
     "execution_count": 29,
     "metadata": {},
     "output_type": "execute_result"
    }
   ],
   "source": [
    "# Скорректирую месячную выручку для подписных клиентов,добавив к сумме стоимость ежемесячной подписки, для типа ultra:\n",
    "def income(row):\n",
    "    if row['subscription_type']=='ultra':\n",
    "        return row['monthly_income']+199\n",
    "    else:\n",
    "        return row['monthly_income']+0\n",
    "merged_r_u_s_income['monthly_income']=merged_r_u_s_income.apply(income, axis=1)\n",
    "\n",
    "#merged_r_u_s_income.query('userid_month==[1000_2, 9_4]')\n",
    "merged_r_u_s_income"
   ]
  },
  {
   "cell_type": "code",
   "execution_count": 30,
   "id": "dd804e62",
   "metadata": {},
   "outputs": [
    {
     "name": "stdout",
     "output_type": "stream",
     "text": [
      "subscription_type\n",
      "free     328.641365\n",
      "ultra    362.792191\n",
      "Name: monthly_income, dtype: float64\n"
     ]
    },
    {
     "data": {
      "text/html": [
       "<div>\n",
       "<style scoped>\n",
       "    .dataframe tbody tr th:only-of-type {\n",
       "        vertical-align: middle;\n",
       "    }\n",
       "\n",
       "    .dataframe tbody tr th {\n",
       "        vertical-align: top;\n",
       "    }\n",
       "\n",
       "    .dataframe thead th {\n",
       "        text-align: right;\n",
       "    }\n",
       "</style>\n",
       "<table border=\"1\" class=\"dataframe\">\n",
       "  <thead>\n",
       "    <tr style=\"text-align: right;\">\n",
       "      <th></th>\n",
       "      <th>total_monthly_distance</th>\n",
       "      <th>rides_number_monthly</th>\n",
       "      <th>total_monthly_duration</th>\n",
       "      <th>subscription_type</th>\n",
       "      <th>user_id</th>\n",
       "      <th>month</th>\n",
       "      <th>monthly_income</th>\n",
       "    </tr>\n",
       "    <tr>\n",
       "      <th>userid_month</th>\n",
       "      <th></th>\n",
       "      <th></th>\n",
       "      <th></th>\n",
       "      <th></th>\n",
       "      <th></th>\n",
       "      <th></th>\n",
       "      <th></th>\n",
       "    </tr>\n",
       "  </thead>\n",
       "  <tbody>\n",
       "    <tr>\n",
       "      <th>1000_1</th>\n",
       "      <td>8896.242665</td>\n",
       "      <td>2</td>\n",
       "      <td>58.0</td>\n",
       "      <td>free</td>\n",
       "      <td>1000</td>\n",
       "      <td>1</td>\n",
       "      <td>564.0</td>\n",
       "    </tr>\n",
       "    <tr>\n",
       "      <th>1000_10</th>\n",
       "      <td>4887.494194</td>\n",
       "      <td>2</td>\n",
       "      <td>32.0</td>\n",
       "      <td>free</td>\n",
       "      <td>1000</td>\n",
       "      <td>10</td>\n",
       "      <td>356.0</td>\n",
       "    </tr>\n",
       "    <tr>\n",
       "      <th>1000_11</th>\n",
       "      <td>5387.122991</td>\n",
       "      <td>2</td>\n",
       "      <td>27.0</td>\n",
       "      <td>free</td>\n",
       "      <td>1000</td>\n",
       "      <td>11</td>\n",
       "      <td>316.0</td>\n",
       "    </tr>\n",
       "    <tr>\n",
       "      <th>1000_2</th>\n",
       "      <td>8563.372738</td>\n",
       "      <td>2</td>\n",
       "      <td>53.0</td>\n",
       "      <td>free</td>\n",
       "      <td>1000</td>\n",
       "      <td>2</td>\n",
       "      <td>524.0</td>\n",
       "    </tr>\n",
       "    <tr>\n",
       "      <th>1000_3</th>\n",
       "      <td>8125.115681</td>\n",
       "      <td>3</td>\n",
       "      <td>51.0</td>\n",
       "      <td>free</td>\n",
       "      <td>1000</td>\n",
       "      <td>3</td>\n",
       "      <td>558.0</td>\n",
       "    </tr>\n",
       "  </tbody>\n",
       "</table>\n",
       "</div>"
      ],
      "text/plain": [
       "              total_monthly_distance  rides_number_monthly  \\\n",
       "userid_month                                                 \n",
       "1000_1                   8896.242665                     2   \n",
       "1000_10                  4887.494194                     2   \n",
       "1000_11                  5387.122991                     2   \n",
       "1000_2                   8563.372738                     2   \n",
       "1000_3                   8125.115681                     3   \n",
       "\n",
       "              total_monthly_duration subscription_type  user_id  month  \\\n",
       "userid_month                                                             \n",
       "1000_1                          58.0              free     1000      1   \n",
       "1000_10                         32.0              free     1000     10   \n",
       "1000_11                         27.0              free     1000     11   \n",
       "1000_2                          53.0              free     1000      2   \n",
       "1000_3                          51.0              free     1000      3   \n",
       "\n",
       "              monthly_income  \n",
       "userid_month                  \n",
       "1000_1                 564.0  \n",
       "1000_10                356.0  \n",
       "1000_11                316.0  \n",
       "1000_2                 524.0  \n",
       "1000_3                 558.0  "
      ]
     },
     "execution_count": 30,
     "metadata": {},
     "output_type": "execute_result"
    }
   ],
   "source": [
    "# Дополню общую таблицу riders_pivot данными об общей выручке из рассчета выше:\n",
    "riders_pivot_final=riders_pivot.merge(merged_r_u_s_income['monthly_income'], on='userid_month', how='left')\n",
    "\n",
    "# Рассчитаю средний помесячный чек для двух групп пользователей:\n",
    "print(riders_pivot_final.groupby('subscription_type') ['monthly_income'].mean())\n",
    "\n",
    "riders_pivot_final.head() # Итоговый файл после всех расчетов и преобразований"
   ]
  },
  {
   "cell_type": "markdown",
   "id": "fc7dc17f",
   "metadata": {},
   "source": [
    "#### Вывод: \n",
    "Расчет среднего помесячного чека для групп ultra и free показывает, чтоб пользователи с подпиской ultra выгоднее для сервиса, прирост около 10%."
   ]
  },
  {
   "cell_type": "markdown",
   "id": "41545ac0",
   "metadata": {},
   "source": [
    "#### Шаг 6. Проверка гипотез"
   ]
  },
  {
   "cell_type": "markdown",
   "id": "83fa1ee9",
   "metadata": {},
   "source": [
    "#### Задача 6.1: \n",
    "Тратят ли пользователи с подпиской больше времени на поездки?\n",
    "( Проверить гипотезу, используя исходные данные о продолжительности каждой сессии — отдельно для подписчиков и тех, у кого нет подписки.)\n",
    "\n",
    "H0 - пользователи ultra тртят столько же времени на поездки, сколько пользователи free.\\\n",
    "H1 - время пользователей ultra больше времени пользователей free."
   ]
  },
  {
   "cell_type": "code",
   "execution_count": 31,
   "id": "23ea867b",
   "metadata": {},
   "outputs": [
    {
     "name": "stdout",
     "output_type": "stream",
     "text": [
      "p-значение: 2.4959453720736625e-34\n",
      "Отвергаем нулевую гипотезу: время пользователей ultra равно время пользователей free\n"
     ]
    }
   ],
   "source": [
    "#Использую метод для проверки гипотезы о равенстве среднего двух генеральных \n",
    "#совокупностей по взятым из них выборкам: \n",
    "#scipy.stats.ttest_ind(array1, array2, equal_var, alternative)\n",
    "rider_unsubscred_ser=rider_unsubscred['duration']\n",
    "rider_subscred_ser=rider_subscred['duration']\n",
    "\n",
    "results = st.ttest_ind(rider_subscred_ser,rider_unsubscred_ser, alternative='greater')\n",
    "\n",
    "alpha = 0.05\n",
    "# уровень статистической значимости\n",
    "# если p-value окажется меньше него, отвергнем гипотезу\n",
    "\n",
    "print('p-значение:', results.pvalue)\n",
    "\n",
    "if results.pvalue < alpha:\n",
    "    print('Отвергаем нулевую гипотезу: время пользователей ultra равно время пользователей free')\n",
    "else:\n",
    "    print('Не удалось отвергнуть нулевую гипотезу')\n"
   ]
  },
  {
   "cell_type": "markdown",
   "id": "7a81336e",
   "metadata": {},
   "source": [
    "#### Вывод 6.1:\n",
    "Нулевая гипотеза о равенстве времени поездок пользователей с подпиской и без нее отвергнута. Есть основания полагать, что пользователи с подпиской ultra пользуются сервисом больше."
   ]
  },
  {
   "cell_type": "markdown",
   "id": "aafcb1cb",
   "metadata": {},
   "source": [
    "#### Задача 6.2:\n",
    "Расстояние одной поездки в 3130 метров — оптимальное с точки зрения износа самоката. Можно ли сказать, что среднее расстояние, которое проезжают пользователи с подпиской за одну поездку, не превышает 3130 метров? Проверьте гипотезу и сделайте выводы.\n",
    "\n",
    "H0= среднее расстояние, которое проезжают пользователи с подпиской за одну поездку = 3130 метров.\n",
    "\n",
    "H1= Односторонняя гипотеза вправо - среднее расстояние, которое проезжают пользователи с подпиской за одну поездку > 3130 метров."
   ]
  },
  {
   "cell_type": "code",
   "execution_count": 32,
   "id": "fcdd34d0",
   "metadata": {},
   "outputs": [
    {
     "name": "stdout",
     "output_type": "stream",
     "text": [
      "p-значение: 0.9195368847849785\n",
      "Не опровергаем нулевую гипотезу\n"
     ]
    }
   ],
   "source": [
    "#проведу односторонний тест альтернативной гипотезы -scipy.stats.ttest_1samp(). \n",
    "#Теперь в качестве аргумента укажу alternative='greater'.\n",
    "\n",
    "rider_subscred_ser=rider_subscred['distance']\n",
    "\n",
    "threshold_value=3130\n",
    "\n",
    "results = st.ttest_1samp(rider_subscred_ser, threshold_value, alternative='greater')\n",
    "\n",
    "alpha = 0.05 \n",
    "# уровень статистической значимости\n",
    "# если p-value окажется меньше него, отвергнем гипотезу\n",
    "\n",
    "print('p-значение:', results.pvalue)\n",
    "\n",
    "if results.pvalue < alpha:\n",
    "    print('Опровергаем нулевую гипотезу')\n",
    "else:\n",
    "    print('Не опровергаем нулевую гипотезу')\n"
   ]
  },
  {
   "cell_type": "markdown",
   "id": "71d35812",
   "metadata": {},
   "source": [
    "####  Вывод 6.2: \n",
    "- Не опровергаем нулевую гипотезу о равенстве среднего расстояния, которое проезжают пользователи с подпиской за одну поездку 3130 метров.\n",
    "- Есть основания полагать, что среднее расстояние, которое проезжают пользователи с подпиской за одну поездку равно или меньше 3130 метров."
   ]
  },
  {
   "cell_type": "markdown",
   "id": "b6f1bc71",
   "metadata": {},
   "source": [
    "####  Задача 6.3: \n",
    "Проверьте гипотезу о том, будет ли помесячная выручка от пользователей с подпиской по месяцам выше, чем выручка от пользователей без подписки. Сделайте вывод."
   ]
  },
  {
   "cell_type": "code",
   "execution_count": 33,
   "id": "55cda33a",
   "metadata": {},
   "outputs": [
    {
     "name": "stdout",
     "output_type": "stream",
     "text": [
      "Пользователи Ultra\n",
      "count    4533.000000\n",
      "mean      362.792191\n",
      "std        88.262737\n",
      "min       223.000000\n",
      "25%       301.000000\n",
      "50%       337.000000\n",
      "75%       409.000000\n",
      "max       955.000000\n",
      "Name: monthly_income, dtype: float64\n",
      "\n",
      "Пользователи Free\n",
      "count    6798.000000\n",
      "mean      328.641365\n",
      "std       183.868330\n",
      "min        58.000000\n",
      "25%       194.000000\n",
      "50%       274.000000\n",
      "75%       428.000000\n",
      "max      1444.000000\n",
      "Name: monthly_income, dtype: float64\n"
     ]
    }
   ],
   "source": [
    "# Создам отдельные датафреймы из основного riders_pivot_final:\n",
    "riders_pivot_final_ultra=riders_pivot_final.loc[riders_pivot_final['subscription_type']=='ultra']['monthly_income']\n",
    "riders_pivot_final_free=riders_pivot_final.loc[riders_pivot_final['subscription_type']=='free']['monthly_income']\n",
    "print('Пользователи Ultra')\n",
    "print(riders_pivot_final_ultra.describe())\n",
    "print()\n",
    "print('Пользователи Free')\n",
    "print(riders_pivot_final_free.describe())"
   ]
  },
  {
   "cell_type": "code",
   "execution_count": 34,
   "id": "071fcdf9",
   "metadata": {},
   "outputs": [
    {
     "data": {
      "text/plain": [
       "userid_month\n",
       "100_1    301.0\n",
       "100_2    403.0\n",
       "100_3    367.0\n",
       "100_4    463.0\n",
       "100_6    637.0\n",
       "         ...  \n",
       "9_3      433.0\n",
       "9_4      301.0\n",
       "9_6      301.0\n",
       "9_8      265.0\n",
       "9_9      283.0\n",
       "Name: monthly_income, Length: 4533, dtype: float64"
      ]
     },
     "execution_count": 34,
     "metadata": {},
     "output_type": "execute_result"
    }
   ],
   "source": [
    "riders_pivot_final_ultra"
   ]
  },
  {
   "cell_type": "markdown",
   "id": "80c07d50-2368-40c6-aa5c-e14ba6f3a964",
   "metadata": {},
   "source": [
    "H0 = Нулевая гипотеза: средние значения трат пользователей из двух групп равны.\n",
    "\n",
    "H1 = Альтернативная гипотеза: среднее значение трат пользователей с подпиской больше, чем среднее значение трат пользователей без подписки"
   ]
  },
  {
   "cell_type": "code",
   "execution_count": null,
   "id": "f073b0b3",
   "metadata": {},
   "outputs": [],
   "source": [
    "#Использую метод для проверки гипотезы о равенстве среднего двух генеральных совокупностей: \n",
    "#scipy.stats.ttest_ind(array1, array2, equal_var, alternative)\n",
    "\n",
    "alpha = 0.05 \n",
    "# уровень статистической значимости\n",
    "# если p-value окажется меньше него, отвергнем гипотезу\n",
    "\n",
    "results = st.ttest_ind( riders_pivot_final_ultra, riders_pivot_final_free, alternative='greater')\n",
    "\n",
    "print('p-значение:', results.pvalue)\n",
    "\n",
    "if results.pvalue < alpha:\n",
    "    print('Отвергаем нулевую гипотезу')\n",
    "else:\n",
    "    print('Не получилось отвергнуть нулевую гипотезу') \n"
   ]
  },
  {
   "cell_type": "markdown",
   "id": "129ae73d",
   "metadata": {},
   "source": [
    "####  Вывод 6.3: \n",
    "Полученное p-value меньше заданного уровня. Есть основания говорить, что помесячная выручка от пользователей Ultra выше, чем выручка от пользователей без подписки."
   ]
  },
  {
   "cell_type": "markdown",
   "id": "b0c09354",
   "metadata": {},
   "source": [
    "####  Задача 6.4: \n",
    "Представьте такую ситуацию: техническая команда сервиса обновила сервера, с которыми взаимодействует мобильное приложение. Она надеется, что из-за этого количество обращений в техподдержку значимо снизилось. Некоторый файл содержит для каждого пользователя данные о количестве обращений до обновления и после него. Какой тест вам понадобился бы для проверки этой гипотезы?\n",
    "\n",
    "#### Ответ:\n",
    "- в эксперименте на установление количества обращений для одной и той же совокупности пользователей используем метод st.ttest_rel(before, after), двусторонний тест для проверки изменения среднего.\\\n",
    "H0 - количество обращений в техподдержку не изменилось, равно.\\\n",
    "H1 - cреднее двух совокупностей увеличилось или уменьшилось. \\\n",
    "Для проверки в какую  сторону - посчитаю средние .mean()."
   ]
  },
  {
   "cell_type": "markdown",
   "id": "61213c5e",
   "metadata": {},
   "source": [
    "#### Шаг 7. Распределения"
   ]
  },
  {
   "cell_type": "markdown",
   "id": "5349da95",
   "metadata": {},
   "source": [
    "### Основные выводы:"
   ]
  },
  {
   "cell_type": "markdown",
   "id": "fe72f53b",
   "metadata": {},
   "source": [
    "#### Проведено исследование данных о поездках пользователей сервиса GoFast на основе некоторых данных о пользователях из нескольких городов, а также об их поездках.\n",
    "\n",
    "#### Шаг 1 – Изучение данных:\n",
    "users_go - сохранен в переменную users - содержит 1565 записей. Пустых значений нет. Изменения типа данных не требуется.\n",
    "rides_go - сохранен в переменную riders -содержит 18068 записей. Пустых значений нет. Изменение типа требуется для колонки date методом to_datetime(). Поле - duration по заданию будет округлено меетодом np.ceil.\n",
    "users и rides имеют общий ключ - user_id\n",
    "subscriptions_go - сохранен в переменную subscr - содержит 2 записи с данными о тарифах для двух типов подписки. Пустых значений нет. Изменения типа данных не требуется. Имеет общий ключ с users_go - subscription_type, для восстановления информации о стоимости поездок в объединенном файле.\n",
    "\n",
    "#### Цель: проанализировать данные и проверить некоторые гипотезы, которые могут помочь бизнесу вырасти.\n",
    "\n",
    "Чтобы совершать поездки по городу, пользователи сервиса GoFast пользуются мобильным приложением.\n",
    "Данные состоят из трех зависимых файлов, впоследствии объединенных и дополненных для целей анализа.\n",
    "\n",
    "#### Шаг 2 – Предобработка:\n",
    "- удалены 31 записи, являющиеся дублями;\n",
    "- пустых значений не выявлено;\n",
    "- других значимых дефектов в данных не обнаружено.\n",
    "- округлены значения параметра duration методом np.ceil()\n",
    "- добавлена техническая колонка – month  - месяц поездки.\n",
    "\n",
    "#### Шаг 3. Исследовательский анализ данных:\n",
    "\n",
    "3.1. Частота встречаемости городов:\n",
    "В выборке представлены 8 городов. Максимальное число пользователей - 219 - из Пятигорска. Далее с небольшим шагом следуют Екатеринбург и Ростов-на-Дону. Минимальное число пользователей из Москвы -168.\n",
    "\n",
    "3.2. Соотношение пользователей с подпиской и без подписки\n",
    "Большая доля пользователей в выборке не имеет подписки на сервис 54.4% (836).\n",
    "\n",
    "3.3. Возраст пользователей\n",
    "Доминирующий возраст пользователя - 25 лет. Пользователи до 15 лет и после 35 - крайне редки. Подавляющее число пользователей - люди в возрасте от 22 до 28 лет.\n",
    "\n",
    "3.4. Расстояние, которое пользователь преодолел за одну поездку;\n",
    "Преобладают поездки на дистанцию 2.8-3.8 км. На гистограмме также видимы короткие поездки по всплеску с дистанцией до, приблизительно, 1.5 кв. Среднее и медианное значения - около 3.1 км. Значения до, примерно 700 м и от 5.7 км выглядят выбросами на диаграмме размаха.\n",
    "\n",
    "3.5. Продолжительность поездок.\n",
    "Продолжительность поездок колеблется в интервале от 0.5 до 41 мин. Виден незначительный всплеск суперкоротких поездок. Среднее и медианное значения - около 18 мин.\n",
    "\n",
    "#### Шаг 4. Объединение данных\n",
    "\n",
    "Данные трех файлов объединены методом merger и сохранены в переменную merged_r_u_s. Основой куда вливаю данные будет файл riders.\n",
    "Количество записей в выборке по типу подписки:\n",
    "\n",
    "- Subscription_type\tNo of rows\t\n",
    "- free\t11568\t\n",
    "- ultra\t6500\t\n",
    "\n",
    "Вывод после объединения: Объединение файла в переменную merged_r_u_s прошло корректно. Общее число записей осталось прежним - 18068 (rides_go содержит 18068 записей.) Пропуски отсутствуют. Проведено округление duration. Изменен тип данных для date из исходного riders.\n",
    "\n",
    "Данные общего датафрейма merged_r_u_s разделены по типу подписки в разные переменные:\n",
    "•\tпользователи с подпиской - rider_subscred\n",
    "•\tпользователи без подписки - rider_unsubscred\n",
    "Проанализирую информацию о расстоянии и времени для каждой группы.\n",
    "\n",
    "##### Вывод 4. (дополнительно):\n",
    "На диаграмме на основе Сводной таблицы по городам и типу подписки выше видно, что в анализируемой совокупности, во всех городах число поездок, совершаемых пользователями без подписки превышает число подписанных ~ в 2 раза. Средняя продолжительность поездки, напротив, меньше примерно на 1 мин у тех, кто пользуется без подписки.\n",
    "\n",
    "#### Пользователи Free:\n",
    "\n",
    "##### Вывод 4.1:\n",
    "Наиболее частое значение дистанции находится на уровне 3 148 м. Подавляющее число поездок совершаются на расстояние 2600 -3600 м. Виден также отдельный всплеск на уровне до 2000 м., со средним значение около 1000 м. Как упоминалось ранее, предположительно, это пользователи с регулярной потребностью в коротких поездках.\n",
    "Медианное значение дистанции - 3.1 км.\n",
    "Максимальное значение 5.7 км.\n",
    "\n",
    "##### Вывод 4.2:\n",
    "Наиболее частые значения продолжительности поездки для пользователей с подпиской - 15 и 18 мин.\n",
    "- среднее значение продолжительности - 19 мин;\n",
    "- максимальное значение продолжительности - около 41 мин;\n",
    "- минимальное - до 4 мин.\n",
    "\n",
    "#### Пользователи Free:\n",
    "\n",
    "##### Вывод 4.3:\n",
    "Наиболее частое значение дистанции находится на уровне 2500 м (3 148 м для пользователей с подпиской).\n",
    "Подавляющее число поездок совершаются на расстояние 2200-4000 м (2600 -3600 м. для пользователей с подпиской). Виден также отдельный всплеск на уровне до 1500 м., со средним значение около 800 м. Как упоминалось ранее, предположительно, это пользователи с регулярной потребностью в коротких поездках.\n",
    "Медианное значение дистанции - 3.1 км.\n",
    "Максимальное значение 7.2 км.\n",
    "\n",
    "##### Вывод 4.4:\n",
    "Наиболее частые значения продолжительности поездки тарифа Free находится в диапазоне 13-22 мин. Пик на значении 18 мин.\\\n",
    "-среднее значение продолжительности - 18 мин;\\\n",
    "-максимальное значение продолжительности - 35 мин; \\\n",
    "-минимальное - до 1 мин.\n",
    "\n",
    "#### Шаг 5. Подсчёт выручки\n",
    "Рассчитана помесячная выручка с учетом тарифного плана.\n",
    "(userid_month – техническая колонка для группирования данных)\n",
    "Расчет среднего помесячного чека для групп ultra и free показывает, чтоб пользователи с подпиской ultra выгоднее для сервиса, прирост около 10%.\\\n",
    "    subscription type average monthly income\\\n",
    "    free     328.641365\\\n",
    "    ultra    362.792191\n",
    "\n",
    "#### Шаг 6. Проверка гипотез\n",
    "\n",
    "##### Задача 6.1:\n",
    "Тратят ли пользователи с подпиской больше времени на поездки? ( Проверить гипотезу, используя исходные данные о продолжительности каждой сессии — отдельно для подписчиков и тех, у кого нет подписки.) Нулевая гипотеза.\n",
    "\n",
    "Получено:\n",
    "p-значение: 2.4959453720736625e-34\n",
    "Отвергаем нулевую гипотезу: время пользователей ultra = время пользователей free\n",
    "Вывод 6.1:\n",
    "Нулевая гипотеза о равенстве времени поездок пользователей с подпиской и без нее отвергнута. Есть основания полагать, что пользователи с подпиской ultra пользуются сервисом больше.\n",
    "\n",
    "##### Задача 6.2:\n",
    "Расстояние одной поездки в 3130 метров — оптимальное с точки зрения износа самоката. Можно ли сказать, что среднее расстояние, которое проезжают пользователи с подпиской за одну поездку, не превышает 3130 метров? Проверьте гипотезу и сделайте выводы.\n",
    "\n",
    "Получено:\n",
    "p-значение: 0.9195368847849785\n",
    "Не опровергаем нулевую гипотезу\n",
    "Вывод 6.2: \n",
    "- Не опровергаем нулевую гипотезу о равенстве среднего расстояния, которое проезжают пользователи с подпиской за одну поездку 3130 метрам.\n",
    "- Есть основания полагать, что среднее расстояние, которое проезжают пользователи с подпиской за одну поездку равно или меньше 3130 метров.\n",
    "\n",
    "##### Задача 6.3:\n",
    "Проверьте гипотезу о том, будет ли помесячная выручка от пользователей с подпиской по месяцам выше, чем выручка от пользователей без подписки. Сделайте вывод.\n",
    "\n",
    "Получено:\n",
    "p-значение: 1.8850394384715216e-31\n",
    "Отвергаем нулевую гипотезу\n",
    "Вывод 6.3:\n",
    "Полученное p-value меньше заданного уровня. Есть основания говорить, что помесячная выручка от пользователей Ultra выше, чем выручка от пользователей без подписки.\n",
    "\n",
    "##### Задача 6.4:\n",
    "Представьте такую ситуацию: техническая команда сервиса обновила сервера, с которыми взаимодействует мобильное приложение. Она надеется, что из-за этого количество обращений в техподдержку значимо снизилось. Некоторый файл содержит для каждого пользователя данные о количестве обращений до обновления и после него. Какой тест вам понадобился бы для проверки этой гипотезы?\n",
    "\n",
    "Ответ:\n",
    "- в эксперименте на установление количества обращений для одной и той же совокупности пользователей используем метод st.ttest_rel(before, after), двусторонний тест для проверки изменения среднего.\\\n",
    "H0 - количество обращений в техподдержку не изменилось, равно.\\\n",
    "H1 - cреднее двух совокупностей увеличилось или уменьшилось. \\\n",
    "Для проверки в какую  сторону - посчитаю средние .mean().\n"
   ]
  }
 ],
 "metadata": {
  "ExecuteTimeLog": [
   {
    "duration": 1449,
    "start_time": "2024-03-12T11:05:54.006Z"
   },
   {
    "duration": 201,
    "start_time": "2024-03-12T11:05:55.457Z"
   },
   {
    "duration": 21,
    "start_time": "2024-03-12T11:05:55.659Z"
   },
   {
    "duration": 18,
    "start_time": "2024-03-12T11:05:55.682Z"
   },
   {
    "duration": 14,
    "start_time": "2024-03-12T11:05:55.701Z"
   },
   {
    "duration": 13,
    "start_time": "2024-03-12T11:05:55.717Z"
   },
   {
    "duration": 15,
    "start_time": "2024-03-12T11:05:55.732Z"
   },
   {
    "duration": 15,
    "start_time": "2024-03-12T11:05:55.748Z"
   },
   {
    "duration": 8,
    "start_time": "2024-03-12T11:05:55.765Z"
   },
   {
    "duration": 9,
    "start_time": "2024-03-12T11:05:55.776Z"
   },
   {
    "duration": 9,
    "start_time": "2024-03-12T11:05:55.787Z"
   },
   {
    "duration": 246,
    "start_time": "2024-03-12T11:05:55.822Z"
   },
   {
    "duration": 111,
    "start_time": "2024-03-12T11:05:56.071Z"
   },
   {
    "duration": 283,
    "start_time": "2024-03-12T11:05:56.184Z"
   },
   {
    "duration": 254,
    "start_time": "2024-03-12T11:05:56.469Z"
   },
   {
    "duration": 158,
    "start_time": "2024-03-12T11:05:56.725Z"
   },
   {
    "duration": 256,
    "start_time": "2024-03-12T11:05:56.885Z"
   },
   {
    "duration": 32,
    "start_time": "2024-03-12T11:05:57.143Z"
   },
   {
    "duration": 49,
    "start_time": "2024-03-12T11:05:57.177Z"
   },
   {
    "duration": 310,
    "start_time": "2024-03-12T11:05:57.227Z"
   },
   {
    "duration": 16,
    "start_time": "2024-03-12T11:05:57.544Z"
   },
   {
    "duration": 246,
    "start_time": "2024-03-12T11:05:57.562Z"
   },
   {
    "duration": 285,
    "start_time": "2024-03-12T11:05:57.810Z"
   },
   {
    "duration": 7,
    "start_time": "2024-03-12T11:05:58.097Z"
   },
   {
    "duration": 253,
    "start_time": "2024-03-12T11:05:58.106Z"
   },
   {
    "duration": 239,
    "start_time": "2024-03-12T11:05:58.361Z"
   },
   {
    "duration": 1111,
    "start_time": "2024-03-12T11:05:58.601Z"
   },
   {
    "duration": 969,
    "start_time": "2024-03-12T11:05:59.715Z"
   },
   {
    "duration": 172,
    "start_time": "2024-03-12T11:06:00.687Z"
   },
   {
    "duration": 30,
    "start_time": "2024-03-12T11:06:00.860Z"
   },
   {
    "duration": 23,
    "start_time": "2024-03-12T11:06:00.892Z"
   },
   {
    "duration": 41,
    "start_time": "2024-03-12T11:06:00.916Z"
   },
   {
    "duration": 91,
    "start_time": "2024-03-12T11:06:00.959Z"
   },
   {
    "duration": 18,
    "start_time": "2024-03-12T11:06:01.051Z"
   },
   {
    "duration": 1221,
    "start_time": "2024-03-12T13:44:10.209Z"
   },
   {
    "duration": 77,
    "start_time": "2024-03-12T13:44:11.432Z"
   },
   {
    "duration": 33,
    "start_time": "2024-03-12T13:44:11.511Z"
   },
   {
    "duration": 25,
    "start_time": "2024-03-12T13:44:11.546Z"
   },
   {
    "duration": 19,
    "start_time": "2024-03-12T13:44:11.573Z"
   },
   {
    "duration": 36,
    "start_time": "2024-03-12T13:44:11.594Z"
   },
   {
    "duration": 16,
    "start_time": "2024-03-12T13:44:11.633Z"
   },
   {
    "duration": 9,
    "start_time": "2024-03-12T13:44:11.651Z"
   },
   {
    "duration": 12,
    "start_time": "2024-03-12T13:44:11.661Z"
   },
   {
    "duration": 48,
    "start_time": "2024-03-12T13:44:11.675Z"
   },
   {
    "duration": 20,
    "start_time": "2024-03-12T13:44:11.725Z"
   },
   {
    "duration": 246,
    "start_time": "2024-03-12T13:44:11.747Z"
   },
   {
    "duration": 103,
    "start_time": "2024-03-12T13:44:11.995Z"
   },
   {
    "duration": 248,
    "start_time": "2024-03-12T13:44:12.102Z"
   },
   {
    "duration": 242,
    "start_time": "2024-03-12T13:44:12.352Z"
   },
   {
    "duration": 144,
    "start_time": "2024-03-12T13:44:12.596Z"
   },
   {
    "duration": 260,
    "start_time": "2024-03-12T13:44:12.741Z"
   },
   {
    "duration": 44,
    "start_time": "2024-03-12T13:44:13.003Z"
   },
   {
    "duration": 37,
    "start_time": "2024-03-12T13:44:13.050Z"
   },
   {
    "duration": 334,
    "start_time": "2024-03-12T13:44:13.089Z"
   },
   {
    "duration": 7,
    "start_time": "2024-03-12T13:44:13.425Z"
   },
   {
    "duration": 234,
    "start_time": "2024-03-12T13:44:13.433Z"
   },
   {
    "duration": 316,
    "start_time": "2024-03-12T13:44:13.669Z"
   },
   {
    "duration": 7,
    "start_time": "2024-03-12T13:44:13.986Z"
   },
   {
    "duration": 217,
    "start_time": "2024-03-12T13:44:13.995Z"
   },
   {
    "duration": 255,
    "start_time": "2024-03-12T13:44:14.223Z"
   },
   {
    "duration": 1098,
    "start_time": "2024-03-12T13:44:14.480Z"
   },
   {
    "duration": 935,
    "start_time": "2024-03-12T13:44:15.579Z"
   },
   {
    "duration": 128,
    "start_time": "2024-03-12T13:44:16.516Z"
   },
   {
    "duration": 35,
    "start_time": "2024-03-12T13:44:16.646Z"
   },
   {
    "duration": 8,
    "start_time": "2024-03-12T13:44:16.683Z"
   },
   {
    "duration": 11,
    "start_time": "2024-03-12T13:44:16.692Z"
   },
   {
    "duration": 19,
    "start_time": "2024-03-12T13:44:16.724Z"
   },
   {
    "duration": 6,
    "start_time": "2024-03-12T13:44:16.745Z"
   },
   {
    "duration": 302,
    "start_time": "2024-03-12T13:47:02.671Z"
   },
   {
    "duration": 11,
    "start_time": "2024-03-12T13:48:22.164Z"
   },
   {
    "duration": 1263,
    "start_time": "2024-03-12T13:54:00.405Z"
   },
   {
    "duration": 71,
    "start_time": "2024-03-12T13:54:01.670Z"
   },
   {
    "duration": 67,
    "start_time": "2024-03-12T13:54:01.743Z"
   },
   {
    "duration": 93,
    "start_time": "2024-03-12T13:54:01.813Z"
   },
   {
    "duration": 66,
    "start_time": "2024-03-12T13:54:01.909Z"
   },
   {
    "duration": 64,
    "start_time": "2024-03-12T13:54:01.977Z"
   },
   {
    "duration": 151,
    "start_time": "2024-03-12T13:54:02.043Z"
   },
   {
    "duration": 43,
    "start_time": "2024-03-12T13:54:02.195Z"
   },
   {
    "duration": 59,
    "start_time": "2024-03-12T13:54:02.240Z"
   },
   {
    "duration": 51,
    "start_time": "2024-03-12T13:54:02.302Z"
   },
   {
    "duration": 56,
    "start_time": "2024-03-12T13:54:02.355Z"
   },
   {
    "duration": 233,
    "start_time": "2024-03-12T13:54:02.413Z"
   },
   {
    "duration": 87,
    "start_time": "2024-03-12T13:54:02.648Z"
   },
   {
    "duration": 268,
    "start_time": "2024-03-12T13:54:02.736Z"
   },
   {
    "duration": 221,
    "start_time": "2024-03-12T13:54:03.006Z"
   },
   {
    "duration": 136,
    "start_time": "2024-03-12T13:54:03.229Z"
   },
   {
    "duration": 356,
    "start_time": "2024-03-12T13:54:03.366Z"
   },
   {
    "duration": 31,
    "start_time": "2024-03-12T13:54:03.724Z"
   },
   {
    "duration": 29,
    "start_time": "2024-03-12T13:54:03.756Z"
   },
   {
    "duration": 283,
    "start_time": "2024-03-12T13:54:03.786Z"
   },
   {
    "duration": 6,
    "start_time": "2024-03-12T13:54:04.071Z"
   },
   {
    "duration": 208,
    "start_time": "2024-03-12T13:54:04.078Z"
   },
   {
    "duration": 285,
    "start_time": "2024-03-12T13:54:04.288Z"
   },
   {
    "duration": 7,
    "start_time": "2024-03-12T13:54:04.574Z"
   },
   {
    "duration": 239,
    "start_time": "2024-03-12T13:54:04.584Z"
   },
   {
    "duration": 242,
    "start_time": "2024-03-12T13:54:04.825Z"
   },
   {
    "duration": 986,
    "start_time": "2024-03-12T13:54:05.069Z"
   },
   {
    "duration": 883,
    "start_time": "2024-03-12T13:54:06.059Z"
   },
   {
    "duration": 121,
    "start_time": "2024-03-12T13:54:06.943Z"
   },
   {
    "duration": 40,
    "start_time": "2024-03-12T13:54:07.066Z"
   },
   {
    "duration": 16,
    "start_time": "2024-03-12T13:54:07.108Z"
   },
   {
    "duration": 5,
    "start_time": "2024-03-12T13:54:07.126Z"
   },
   {
    "duration": 18,
    "start_time": "2024-03-12T13:54:07.133Z"
   },
   {
    "duration": 5,
    "start_time": "2024-03-12T13:54:07.153Z"
   },
   {
    "duration": 1246,
    "start_time": "2024-03-12T13:59:54.310Z"
   },
   {
    "duration": 74,
    "start_time": "2024-03-12T13:59:55.558Z"
   },
   {
    "duration": 21,
    "start_time": "2024-03-12T13:59:55.634Z"
   },
   {
    "duration": 18,
    "start_time": "2024-03-12T13:59:55.657Z"
   },
   {
    "duration": 15,
    "start_time": "2024-03-12T13:59:55.678Z"
   },
   {
    "duration": 34,
    "start_time": "2024-03-12T13:59:55.695Z"
   },
   {
    "duration": 15,
    "start_time": "2024-03-12T13:59:55.731Z"
   },
   {
    "duration": 7,
    "start_time": "2024-03-12T13:59:55.748Z"
   },
   {
    "duration": 8,
    "start_time": "2024-03-12T13:59:55.757Z"
   },
   {
    "duration": 10,
    "start_time": "2024-03-12T13:59:55.767Z"
   },
   {
    "duration": 48,
    "start_time": "2024-03-12T13:59:55.779Z"
   },
   {
    "duration": 221,
    "start_time": "2024-03-12T13:59:55.829Z"
   },
   {
    "duration": 115,
    "start_time": "2024-03-12T13:59:56.052Z"
   },
   {
    "duration": 238,
    "start_time": "2024-03-12T13:59:56.171Z"
   },
   {
    "duration": 244,
    "start_time": "2024-03-12T13:59:56.411Z"
   },
   {
    "duration": 155,
    "start_time": "2024-03-12T13:59:56.657Z"
   },
   {
    "duration": 269,
    "start_time": "2024-03-12T13:59:56.814Z"
   },
   {
    "duration": 42,
    "start_time": "2024-03-12T13:59:57.084Z"
   },
   {
    "duration": 30,
    "start_time": "2024-03-12T13:59:57.128Z"
   },
   {
    "duration": 312,
    "start_time": "2024-03-12T13:59:57.159Z"
   },
   {
    "duration": 9,
    "start_time": "2024-03-12T13:59:57.473Z"
   },
   {
    "duration": 236,
    "start_time": "2024-03-12T13:59:57.484Z"
   },
   {
    "duration": 283,
    "start_time": "2024-03-12T13:59:57.722Z"
   },
   {
    "duration": 17,
    "start_time": "2024-03-12T13:59:58.008Z"
   },
   {
    "duration": 232,
    "start_time": "2024-03-12T13:59:58.027Z"
   },
   {
    "duration": 227,
    "start_time": "2024-03-12T13:59:58.261Z"
   },
   {
    "duration": 985,
    "start_time": "2024-03-12T13:59:58.490Z"
   },
   {
    "duration": 913,
    "start_time": "2024-03-12T13:59:59.477Z"
   },
   {
    "duration": 120,
    "start_time": "2024-03-12T14:00:00.392Z"
   },
   {
    "duration": 86,
    "start_time": "2024-03-12T14:00:00.522Z"
   },
   {
    "duration": 34,
    "start_time": "2024-03-12T14:00:00.610Z"
   },
   {
    "duration": 38,
    "start_time": "2024-03-12T14:00:00.646Z"
   },
   {
    "duration": 223,
    "start_time": "2024-03-12T14:00:00.686Z"
   },
   {
    "duration": 38,
    "start_time": "2024-03-12T14:00:00.912Z"
   },
   {
    "duration": 1228,
    "start_time": "2024-03-12T14:01:58.821Z"
   },
   {
    "duration": 69,
    "start_time": "2024-03-12T14:02:00.051Z"
   },
   {
    "duration": 21,
    "start_time": "2024-03-12T14:02:00.122Z"
   },
   {
    "duration": 59,
    "start_time": "2024-03-12T14:02:00.145Z"
   },
   {
    "duration": 44,
    "start_time": "2024-03-12T14:02:00.207Z"
   },
   {
    "duration": 52,
    "start_time": "2024-03-12T14:02:00.253Z"
   },
   {
    "duration": 67,
    "start_time": "2024-03-12T14:02:00.307Z"
   },
   {
    "duration": 81,
    "start_time": "2024-03-12T14:02:00.376Z"
   },
   {
    "duration": 102,
    "start_time": "2024-03-12T14:02:00.458Z"
   },
   {
    "duration": 80,
    "start_time": "2024-03-12T14:02:00.562Z"
   },
   {
    "duration": 65,
    "start_time": "2024-03-12T14:02:00.644Z"
   },
   {
    "duration": 228,
    "start_time": "2024-03-12T14:02:00.711Z"
   },
   {
    "duration": 97,
    "start_time": "2024-03-12T14:02:00.942Z"
   },
   {
    "duration": 223,
    "start_time": "2024-03-12T14:02:01.043Z"
   },
   {
    "duration": 231,
    "start_time": "2024-03-12T14:02:01.268Z"
   },
   {
    "duration": 157,
    "start_time": "2024-03-12T14:02:01.502Z"
   },
   {
    "duration": 237,
    "start_time": "2024-03-12T14:02:01.661Z"
   },
   {
    "duration": 36,
    "start_time": "2024-03-12T14:02:01.900Z"
   },
   {
    "duration": 64,
    "start_time": "2024-03-12T14:02:01.937Z"
   },
   {
    "duration": 566,
    "start_time": "2024-03-12T14:02:02.002Z"
   },
   {
    "duration": 8,
    "start_time": "2024-03-12T14:02:02.570Z"
   },
   {
    "duration": 218,
    "start_time": "2024-03-12T14:02:02.580Z"
   },
   {
    "duration": 277,
    "start_time": "2024-03-12T14:02:02.799Z"
   },
   {
    "duration": 6,
    "start_time": "2024-03-12T14:02:03.078Z"
   },
   {
    "duration": 214,
    "start_time": "2024-03-12T14:02:03.086Z"
   },
   {
    "duration": 226,
    "start_time": "2024-03-12T14:02:03.302Z"
   },
   {
    "duration": 971,
    "start_time": "2024-03-12T14:02:03.530Z"
   },
   {
    "duration": 934,
    "start_time": "2024-03-12T14:02:04.503Z"
   },
   {
    "duration": 148,
    "start_time": "2024-03-12T14:02:05.439Z"
   },
   {
    "duration": 39,
    "start_time": "2024-03-12T14:02:05.589Z"
   },
   {
    "duration": 6,
    "start_time": "2024-03-12T14:02:05.629Z"
   },
   {
    "duration": 9,
    "start_time": "2024-03-12T14:02:05.637Z"
   },
   {
    "duration": 34,
    "start_time": "2024-03-12T14:02:05.647Z"
   },
   {
    "duration": 7,
    "start_time": "2024-03-12T14:02:05.682Z"
   },
   {
    "duration": 55,
    "start_time": "2024-03-12T17:13:12.879Z"
   },
   {
    "duration": 1518,
    "start_time": "2024-03-12T17:35:11.799Z"
   },
   {
    "duration": 213,
    "start_time": "2024-03-12T17:35:13.319Z"
   },
   {
    "duration": 37,
    "start_time": "2024-03-12T17:35:13.534Z"
   },
   {
    "duration": 26,
    "start_time": "2024-03-12T17:35:13.576Z"
   },
   {
    "duration": 15,
    "start_time": "2024-03-12T17:35:13.604Z"
   },
   {
    "duration": 29,
    "start_time": "2024-03-12T17:35:13.621Z"
   },
   {
    "duration": 13,
    "start_time": "2024-03-12T17:35:13.663Z"
   },
   {
    "duration": 7,
    "start_time": "2024-03-12T17:35:13.678Z"
   },
   {
    "duration": 11,
    "start_time": "2024-03-12T17:35:13.686Z"
   },
   {
    "duration": 10,
    "start_time": "2024-03-12T17:35:13.699Z"
   },
   {
    "duration": 14,
    "start_time": "2024-03-12T17:35:13.711Z"
   },
   {
    "duration": 1294,
    "start_time": "2024-03-12T17:35:37.278Z"
   },
   {
    "duration": 74,
    "start_time": "2024-03-12T17:35:38.574Z"
   },
   {
    "duration": 26,
    "start_time": "2024-03-12T17:35:38.650Z"
   },
   {
    "duration": 17,
    "start_time": "2024-03-12T17:35:38.679Z"
   },
   {
    "duration": 14,
    "start_time": "2024-03-12T17:35:38.698Z"
   },
   {
    "duration": 27,
    "start_time": "2024-03-12T17:35:38.735Z"
   },
   {
    "duration": 13,
    "start_time": "2024-03-12T17:35:38.763Z"
   },
   {
    "duration": 25,
    "start_time": "2024-03-12T17:35:38.777Z"
   },
   {
    "duration": 9,
    "start_time": "2024-03-12T17:35:38.804Z"
   },
   {
    "duration": 26,
    "start_time": "2024-03-12T17:35:38.816Z"
   },
   {
    "duration": 11,
    "start_time": "2024-03-12T17:35:38.858Z"
   },
   {
    "duration": 227,
    "start_time": "2024-03-12T17:35:38.870Z"
   },
   {
    "duration": 115,
    "start_time": "2024-03-12T17:35:39.098Z"
   },
   {
    "duration": 277,
    "start_time": "2024-03-12T17:35:39.215Z"
   },
   {
    "duration": 273,
    "start_time": "2024-03-12T17:35:39.494Z"
   },
   {
    "duration": 140,
    "start_time": "2024-03-12T17:35:39.769Z"
   },
   {
    "duration": 282,
    "start_time": "2024-03-12T17:35:39.910Z"
   },
   {
    "duration": 40,
    "start_time": "2024-03-12T17:35:40.194Z"
   },
   {
    "duration": 38,
    "start_time": "2024-03-12T17:35:40.236Z"
   },
   {
    "duration": 335,
    "start_time": "2024-03-12T17:35:40.275Z"
   },
   {
    "duration": 28,
    "start_time": "2024-03-12T17:35:40.611Z"
   },
   {
    "duration": 248,
    "start_time": "2024-03-12T17:35:40.640Z"
   },
   {
    "duration": 390,
    "start_time": "2024-03-12T17:35:40.890Z"
   },
   {
    "duration": 6,
    "start_time": "2024-03-12T17:35:41.282Z"
   },
   {
    "duration": 246,
    "start_time": "2024-03-12T17:35:41.289Z"
   },
   {
    "duration": 247,
    "start_time": "2024-03-12T17:35:41.537Z"
   },
   {
    "duration": 1088,
    "start_time": "2024-03-12T17:35:41.786Z"
   },
   {
    "duration": 968,
    "start_time": "2024-03-12T17:35:42.878Z"
   },
   {
    "duration": 143,
    "start_time": "2024-03-12T17:35:43.848Z"
   },
   {
    "duration": 46,
    "start_time": "2024-03-12T17:35:43.993Z"
   },
   {
    "duration": 14,
    "start_time": "2024-03-12T17:35:44.041Z"
   },
   {
    "duration": 19,
    "start_time": "2024-03-12T17:35:44.057Z"
   },
   {
    "duration": 16,
    "start_time": "2024-03-12T17:35:44.085Z"
   },
   {
    "duration": 6,
    "start_time": "2024-03-12T17:35:44.102Z"
   },
   {
    "duration": 249,
    "start_time": "2024-03-12T17:36:38.629Z"
   },
   {
    "duration": 48,
    "start_time": "2024-03-12T17:40:08.230Z"
   },
   {
    "duration": 6,
    "start_time": "2024-03-12T17:56:04.957Z"
   },
   {
    "duration": 7,
    "start_time": "2024-03-12T17:57:27.901Z"
   },
   {
    "duration": 7,
    "start_time": "2024-03-12T18:06:31.565Z"
   },
   {
    "duration": 7,
    "start_time": "2024-03-12T18:11:17.246Z"
   },
   {
    "duration": 4,
    "start_time": "2024-03-12T18:25:37.819Z"
   },
   {
    "duration": 117,
    "start_time": "2024-03-12T18:25:50.244Z"
   },
   {
    "duration": 6,
    "start_time": "2024-03-12T18:25:59.910Z"
   },
   {
    "duration": 6,
    "start_time": "2024-03-12T18:26:36.122Z"
   },
   {
    "duration": 20,
    "start_time": "2024-03-12T19:17:40.323Z"
   },
   {
    "duration": 26,
    "start_time": "2024-03-12T19:17:57.154Z"
   },
   {
    "duration": 31,
    "start_time": "2024-03-12T19:18:56.403Z"
   },
   {
    "duration": 33,
    "start_time": "2024-03-12T19:23:28.924Z"
   },
   {
    "duration": 918,
    "start_time": "2024-03-12T20:41:33.408Z"
   },
   {
    "duration": 182,
    "start_time": "2024-03-12T20:41:34.328Z"
   },
   {
    "duration": 16,
    "start_time": "2024-03-12T20:41:34.511Z"
   },
   {
    "duration": 13,
    "start_time": "2024-03-12T20:41:34.528Z"
   },
   {
    "duration": 10,
    "start_time": "2024-03-12T20:41:34.542Z"
   },
   {
    "duration": 8,
    "start_time": "2024-03-12T20:41:34.553Z"
   },
   {
    "duration": 9,
    "start_time": "2024-03-12T20:41:34.562Z"
   },
   {
    "duration": 3,
    "start_time": "2024-03-12T20:41:34.573Z"
   },
   {
    "duration": 5,
    "start_time": "2024-03-12T20:41:34.578Z"
   },
   {
    "duration": 7,
    "start_time": "2024-03-12T20:41:34.585Z"
   },
   {
    "duration": 7,
    "start_time": "2024-03-12T20:41:34.593Z"
   },
   {
    "duration": 181,
    "start_time": "2024-03-12T20:41:34.601Z"
   },
   {
    "duration": 75,
    "start_time": "2024-03-12T20:41:34.783Z"
   },
   {
    "duration": 168,
    "start_time": "2024-03-12T20:41:34.860Z"
   },
   {
    "duration": 174,
    "start_time": "2024-03-12T20:41:35.029Z"
   },
   {
    "duration": 103,
    "start_time": "2024-03-12T20:41:35.204Z"
   },
   {
    "duration": 174,
    "start_time": "2024-03-12T20:41:35.308Z"
   },
   {
    "duration": 28,
    "start_time": "2024-03-12T20:41:35.483Z"
   },
   {
    "duration": 21,
    "start_time": "2024-03-12T20:41:35.512Z"
   },
   {
    "duration": 215,
    "start_time": "2024-03-12T20:41:35.534Z"
   },
   {
    "duration": 8,
    "start_time": "2024-03-12T20:41:35.751Z"
   },
   {
    "duration": 142,
    "start_time": "2024-03-12T20:41:35.760Z"
   },
   {
    "duration": 191,
    "start_time": "2024-03-12T20:41:35.904Z"
   },
   {
    "duration": 5,
    "start_time": "2024-03-12T20:41:36.096Z"
   },
   {
    "duration": 149,
    "start_time": "2024-03-12T20:41:36.102Z"
   },
   {
    "duration": 165,
    "start_time": "2024-03-12T20:41:36.252Z"
   },
   {
    "duration": 856,
    "start_time": "2024-03-12T20:41:36.418Z"
   },
   {
    "duration": 774,
    "start_time": "2024-03-12T20:41:37.277Z"
   },
   {
    "duration": 105,
    "start_time": "2024-03-12T20:41:38.052Z"
   },
   {
    "duration": 23,
    "start_time": "2024-03-12T20:41:38.159Z"
   },
   {
    "duration": 4,
    "start_time": "2024-03-12T20:41:38.184Z"
   },
   {
    "duration": 5,
    "start_time": "2024-03-12T20:41:38.190Z"
   },
   {
    "duration": 21,
    "start_time": "2024-03-12T20:41:38.196Z"
   },
   {
    "duration": 7,
    "start_time": "2024-03-12T20:41:38.219Z"
   },
   {
    "duration": 977,
    "start_time": "2024-03-12T20:51:36.755Z"
   },
   {
    "duration": 63,
    "start_time": "2024-03-12T20:51:37.733Z"
   },
   {
    "duration": 17,
    "start_time": "2024-03-12T20:51:37.797Z"
   },
   {
    "duration": 23,
    "start_time": "2024-03-12T20:51:37.816Z"
   },
   {
    "duration": 11,
    "start_time": "2024-03-12T20:51:37.841Z"
   },
   {
    "duration": 8,
    "start_time": "2024-03-12T20:51:37.854Z"
   },
   {
    "duration": 10,
    "start_time": "2024-03-12T20:51:37.863Z"
   },
   {
    "duration": 5,
    "start_time": "2024-03-12T20:51:37.875Z"
   },
   {
    "duration": 5,
    "start_time": "2024-03-12T20:51:37.881Z"
   },
   {
    "duration": 13,
    "start_time": "2024-03-12T20:51:37.888Z"
   },
   {
    "duration": 6,
    "start_time": "2024-03-12T20:51:37.902Z"
   },
   {
    "duration": 183,
    "start_time": "2024-03-12T20:51:37.910Z"
   },
   {
    "duration": 75,
    "start_time": "2024-03-12T20:51:38.094Z"
   },
   {
    "duration": 155,
    "start_time": "2024-03-12T20:51:38.170Z"
   },
   {
    "duration": 165,
    "start_time": "2024-03-12T20:51:38.326Z"
   },
   {
    "duration": 102,
    "start_time": "2024-03-12T20:51:38.492Z"
   },
   {
    "duration": 173,
    "start_time": "2024-03-12T20:51:38.595Z"
   },
   {
    "duration": 28,
    "start_time": "2024-03-12T20:51:38.770Z"
   },
   {
    "duration": 21,
    "start_time": "2024-03-12T20:51:38.800Z"
   },
   {
    "duration": 216,
    "start_time": "2024-03-12T20:51:38.822Z"
   },
   {
    "duration": 5,
    "start_time": "2024-03-12T20:51:39.039Z"
   },
   {
    "duration": 136,
    "start_time": "2024-03-12T20:51:39.045Z"
   },
   {
    "duration": 197,
    "start_time": "2024-03-12T20:51:39.182Z"
   },
   {
    "duration": 5,
    "start_time": "2024-03-12T20:51:39.380Z"
   },
   {
    "duration": 148,
    "start_time": "2024-03-12T20:51:39.386Z"
   },
   {
    "duration": 156,
    "start_time": "2024-03-12T20:51:39.535Z"
   },
   {
    "duration": 819,
    "start_time": "2024-03-12T20:51:39.692Z"
   },
   {
    "duration": 807,
    "start_time": "2024-03-12T20:51:40.513Z"
   },
   {
    "duration": 93,
    "start_time": "2024-03-12T20:51:41.322Z"
   },
   {
    "duration": 23,
    "start_time": "2024-03-12T20:51:41.417Z"
   },
   {
    "duration": 18,
    "start_time": "2024-03-12T20:51:41.441Z"
   },
   {
    "duration": 10,
    "start_time": "2024-03-12T20:51:41.460Z"
   },
   {
    "duration": 13,
    "start_time": "2024-03-12T20:51:41.471Z"
   },
   {
    "duration": 4,
    "start_time": "2024-03-12T20:51:41.485Z"
   },
   {
    "duration": 47,
    "start_time": "2024-05-20T21:49:53.141Z"
   },
   {
    "duration": 1315,
    "start_time": "2024-05-20T21:49:57.683Z"
   },
   {
    "duration": 300,
    "start_time": "2024-05-20T21:49:59.000Z"
   },
   {
    "duration": 20,
    "start_time": "2024-05-20T21:49:59.302Z"
   },
   {
    "duration": 82,
    "start_time": "2024-05-20T21:49:59.323Z"
   },
   {
    "duration": 15,
    "start_time": "2024-05-20T21:49:59.408Z"
   },
   {
    "duration": 11,
    "start_time": "2024-05-20T21:49:59.425Z"
   },
   {
    "duration": 11,
    "start_time": "2024-05-20T21:49:59.438Z"
   },
   {
    "duration": 15,
    "start_time": "2024-05-20T21:49:59.451Z"
   },
   {
    "duration": 18,
    "start_time": "2024-05-20T21:49:59.468Z"
   },
   {
    "duration": 9,
    "start_time": "2024-05-20T21:49:59.488Z"
   },
   {
    "duration": 11,
    "start_time": "2024-05-20T21:49:59.498Z"
   },
   {
    "duration": 223,
    "start_time": "2024-05-20T21:49:59.510Z"
   },
   {
    "duration": 89,
    "start_time": "2024-05-20T21:49:59.735Z"
   },
   {
    "duration": 212,
    "start_time": "2024-05-20T21:49:59.826Z"
   },
   {
    "duration": 242,
    "start_time": "2024-05-20T21:50:00.040Z"
   },
   {
    "duration": 131,
    "start_time": "2024-05-20T21:50:00.284Z"
   },
   {
    "duration": 230,
    "start_time": "2024-05-20T21:50:00.416Z"
   },
   {
    "duration": 45,
    "start_time": "2024-05-20T21:50:00.648Z"
   },
   {
    "duration": 205,
    "start_time": "2024-05-20T21:50:00.695Z"
   },
   {
    "duration": 286,
    "start_time": "2024-05-20T21:50:00.902Z"
   },
   {
    "duration": 6,
    "start_time": "2024-05-20T21:50:01.190Z"
   },
   {
    "duration": 419,
    "start_time": "2024-05-20T21:50:01.198Z"
   },
   {
    "duration": 261,
    "start_time": "2024-05-20T21:50:01.619Z"
   },
   {
    "duration": 6,
    "start_time": "2024-05-20T21:50:01.882Z"
   },
   {
    "duration": 207,
    "start_time": "2024-05-20T21:50:01.890Z"
   },
   {
    "duration": 218,
    "start_time": "2024-05-20T21:50:02.100Z"
   },
   {
    "duration": 983,
    "start_time": "2024-05-20T21:50:02.320Z"
   },
   {
    "duration": 919,
    "start_time": "2024-05-20T21:50:03.305Z"
   },
   {
    "duration": 123,
    "start_time": "2024-05-20T21:50:04.225Z"
   },
   {
    "duration": 39,
    "start_time": "2024-05-20T21:50:04.349Z"
   },
   {
    "duration": 5,
    "start_time": "2024-05-20T21:50:04.390Z"
   },
   {
    "duration": 9,
    "start_time": "2024-05-20T21:50:04.397Z"
   },
   {
    "duration": 16,
    "start_time": "2024-05-20T21:50:04.407Z"
   },
   {
    "duration": 6,
    "start_time": "2024-05-20T21:50:07.401Z"
   }
  ],
  "kernelspec": {
   "display_name": "Python 3 (ipykernel)",
   "language": "python",
   "name": "python3"
  },
  "language_info": {
   "codemirror_mode": {
    "name": "ipython",
    "version": 3
   },
   "file_extension": ".py",
   "mimetype": "text/x-python",
   "name": "python",
   "nbconvert_exporter": "python",
   "pygments_lexer": "ipython3",
   "version": "3.11.7"
  },
  "toc": {
   "base_numbering": 1,
   "nav_menu": {},
   "number_sections": true,
   "sideBar": true,
   "skip_h1_title": true,
   "title_cell": "Table of Contents",
   "title_sidebar": "Contents",
   "toc_cell": false,
   "toc_position": {},
   "toc_section_display": true,
   "toc_window_display": false
  }
 },
 "nbformat": 4,
 "nbformat_minor": 5
}
