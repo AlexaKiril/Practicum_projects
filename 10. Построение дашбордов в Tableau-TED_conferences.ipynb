{
 "cells": [
  {
   "cell_type": "markdown",
   "id": "71d6e458",
   "metadata": {},
   "source": [
    "### Проект в Tableua на основе данных TED-конференции, 2009-2021."
   ]
  },
  {
   "cell_type": "markdown",
   "id": "d7b360a3",
   "metadata": {},
   "source": [
    "Ссылка на презентацию: \n",
    "<https://public.tableau.com/shared/8WZ6NMFBZ?:display_count=n&:origin=viz_share_link>"
   ]
  },
  {
   "cell_type": "markdown",
   "id": "775dc482-d5db-43d0-8145-9da77bdd8dbc",
   "metadata": {},
   "source": [
    "Описание проекта\n",
    "TED (от англ. technology, education, design — «технологии, образование, дизайн») — некоммерческий фонд, который проводит популярные конференции. На них выступают специалисты из разных областей и читают лекции на актуальные социальные, культурные и научные темы. \n",
    "\n",
    "Описание данных:\r\n",
    "•\ttableau_project_data_1.csv\r\n",
    "\r\n",
    "•\ttableau_project_data_2.csv\r\n",
    "\r\n",
    "•\ttableau_project_data_3.csv\r\n",
    "\r\n",
    "•\ttableau_project_event_dict.csv\r\n",
    "\r\n",
    "•\ttableau_project_speakers_dict.csv\r\n",
    "омощью специальной программы."
   ]
  },
  {
   "cell_type": "markdown",
   "id": "d3e708e0-6e15-4173-a32a-870a114f55b6",
   "metadata": {},
   "source": [
    "Файлы \r\n",
    "tableau_project_data_1.csv,\r\n",
    "tableau_project_data_2.csv, \r\n",
    "tableau_project_data_3.csv \r\n",
    "хранят данные выступлен\n",
    "\n",
    "ий. У них одинаковая структура:\r\n",
    "•\ttalk_id — идентификатор выступления;\r\n",
    "•\turl — ссылка на запись выступления;\r\n",
    "•\ttitle — название выступления;\r\n",
    "•\tdescription — краткое описание;\r\n",
    "•\tfilm_date — дата записи выступления;\r\n",
    "•\tduration — длительность в секундах;\r\n",
    "•\tviews — количество просмотров;\r\n",
    "•\tmain_tag — основная категория, к которой относится выступление;\r\n",
    "•\tspeaker_id — уникальный идентификатор автора выступления;\r\n",
    "•\tlaughter_count — количество раз, когда аудитория смеялась в ходе выступления;\r\n",
    "•\tapplause_count — количество раз, когда аудитория аплодировала в ходе выступления;\r\n",
    "•\tlanguage — язык, на котором велось выступление;\r\n",
    "•\tevent_id — уникальный идентификатор конференции.\r\n",
    "•\tФайл tableau_project_event_dict.csv — справочник конференций. Описание таблицы:\r\n",
    "•\tconf_id — уникальный идентификатор конференции;\r\n",
    "•\tevent — название конференции;\r\n",
    "•\tcountry — страна пр\n",
    "о#### ведения конференции.\r\n",
    "Файл tableau_project_speakers_dict.csv — справочник авторов выступле\n",
    "ния. Описание таблицы:\r\n",
    "•\tauthor_id — уникальный идентификатор автора выступления;\r\n",
    "•\tspeaker_name — имя автора;\r\n",
    "•\tspeaker_occupation — профессиональная область автора;\r\n",
    "•\tspeaker_description — описание профессиональной деятельности автора.\r\n",
    "Набор данных проекта мог вам напомнить известный датасет TED Talks, размещённый в библиотеке Kaggle. Он не является его копией: мы собрали данные на основе материалов сайта TED с помощью специальной программы.\r\n",
    "щью специальной программы.\r\n"
   ]
  }
 ],
 "metadata": {
  "ExecuteTimeLog": [
   {
    "duration": 64,
    "start_time": "2024-07-10T15:47:50.840Z"
   }
  ],
  "kernelspec": {
   "display_name": "Python 3 (ipykernel)",
   "language": "python",
   "name": "python3"
  },
  "language_info": {
   "codemirror_mode": {
    "name": "ipython",
    "version": 3
   },
   "file_extension": ".py",
   "mimetype": "text/x-python",
   "name": "python",
   "nbconvert_exporter": "python",
   "pygments_lexer": "ipython3",
   "version": "3.11.7"
  },
  "toc": {
   "base_numbering": 1,
   "nav_menu": {},
   "number_sections": true,
   "sideBar": true,
   "skip_h1_title": true,
   "title_cell": "Table of Contents",
   "title_sidebar": "Contents",
   "toc_cell": false,
   "toc_position": {},
   "toc_section_display": true,
   "toc_window_display": false
  }
 },
 "nbformat": 4,
 "nbformat_minor": 5
}
