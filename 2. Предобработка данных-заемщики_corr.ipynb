{
 "cells": [
  {
   "cell_type": "markdown",
   "id": "386f2ae7",
   "metadata": {
    "deletable": false,
    "editable": false,
    "id": "386f2ae7"
   },
   "source": [
    "# Исследование надежности заемщиков\n"
   ]
  },
  {
   "cell_type": "markdown",
   "id": "ffe86f65",
   "metadata": {
    "deletable": false,
    "editable": false,
    "id": "ffe86f65"
   },
   "source": [
    "Во второй части проекта вы выполните шаги 3 и 4. Их вручную проверит ревьюер.\n",
    "Чтобы вам не пришлось писать код заново для шагов 1 и 2, мы добавили авторские решения в ячейки с кодом. \n",
    "\n"
   ]
  },
  {
   "cell_type": "markdown",
   "id": "26613308",
   "metadata": {
    "deletable": false,
    "editable": false,
    "id": "26613308"
   },
   "source": [
    "## Откройте таблицу и изучите общую информацию о данных"
   ]
  },
  {
   "cell_type": "markdown",
   "id": "3c9f838e",
   "metadata": {
    "deletable": false,
    "editable": false,
    "id": "3c9f838e"
   },
   "source": [
    "**Задание 1. Импортируйте библиотеку pandas. Считайте данные из csv-файла в датафрейм и сохраните в переменную `data`. Путь к файлу:**\n",
    "\n",
    "`/datasets/data.csv`"
   ]
  },
  {
   "cell_type": "code",
   "execution_count": 91,
   "id": "77a68a90",
   "metadata": {
    "deletable": false,
    "id": "77a68a90"
   },
   "outputs": [],
   "source": [
    "import pandas as pd\n",
    "\n",
    "try:\n",
    "    data=pd.read_csv(\"C:\\\\Users\\Ahsas\\Documents\\ЯНДЕКС_ПРАКТИКУМ\\pdf_работы\\data\\data _2.csv\")\n",
    "except:\n",
    "    data=pd.read_csv('/datasets/data.csv')\n",
    "\n",
    "# прочитайте csv-файл"
   ]
  },
  {
   "cell_type": "markdown",
   "id": "45365635",
   "metadata": {
    "deletable": false,
    "editable": false,
    "id": "45365635"
   },
   "source": [
    "**Задание 2. Выведите первые 20 строчек датафрейма `data` на экран.**"
   ]
  },
  {
   "cell_type": "code",
   "execution_count": 92,
   "id": "b0451a9a",
   "metadata": {
    "deletable": false,
    "id": "b0451a9a",
    "outputId": "1a8f3ef2-d323-4ec2-ddf7-89670b5944c4"
   },
   "outputs": [
    {
     "data": {
      "text/html": [
       "<div>\n",
       "<style scoped>\n",
       "    .dataframe tbody tr th:only-of-type {\n",
       "        vertical-align: middle;\n",
       "    }\n",
       "\n",
       "    .dataframe tbody tr th {\n",
       "        vertical-align: top;\n",
       "    }\n",
       "\n",
       "    .dataframe thead th {\n",
       "        text-align: right;\n",
       "    }\n",
       "</style>\n",
       "<table border=\"1\" class=\"dataframe\">\n",
       "  <thead>\n",
       "    <tr style=\"text-align: right;\">\n",
       "      <th></th>\n",
       "      <th>children</th>\n",
       "      <th>days_employed</th>\n",
       "      <th>dob_years</th>\n",
       "      <th>education</th>\n",
       "      <th>education_id</th>\n",
       "      <th>family_status</th>\n",
       "      <th>family_status_id</th>\n",
       "      <th>gender</th>\n",
       "      <th>income_type</th>\n",
       "      <th>debt</th>\n",
       "      <th>total_income</th>\n",
       "      <th>purpose</th>\n",
       "    </tr>\n",
       "  </thead>\n",
       "  <tbody>\n",
       "    <tr>\n",
       "      <th>0</th>\n",
       "      <td>1</td>\n",
       "      <td>-8437.673028</td>\n",
       "      <td>42</td>\n",
       "      <td>высшее</td>\n",
       "      <td>0</td>\n",
       "      <td>женат / замужем</td>\n",
       "      <td>0</td>\n",
       "      <td>F</td>\n",
       "      <td>сотрудник</td>\n",
       "      <td>0</td>\n",
       "      <td>253875.639453</td>\n",
       "      <td>покупка жилья</td>\n",
       "    </tr>\n",
       "    <tr>\n",
       "      <th>1</th>\n",
       "      <td>1</td>\n",
       "      <td>-4024.803754</td>\n",
       "      <td>36</td>\n",
       "      <td>среднее</td>\n",
       "      <td>1</td>\n",
       "      <td>женат / замужем</td>\n",
       "      <td>0</td>\n",
       "      <td>F</td>\n",
       "      <td>сотрудник</td>\n",
       "      <td>0</td>\n",
       "      <td>112080.014102</td>\n",
       "      <td>приобретение автомобиля</td>\n",
       "    </tr>\n",
       "    <tr>\n",
       "      <th>2</th>\n",
       "      <td>0</td>\n",
       "      <td>-5623.422610</td>\n",
       "      <td>33</td>\n",
       "      <td>Среднее</td>\n",
       "      <td>1</td>\n",
       "      <td>женат / замужем</td>\n",
       "      <td>0</td>\n",
       "      <td>M</td>\n",
       "      <td>сотрудник</td>\n",
       "      <td>0</td>\n",
       "      <td>145885.952297</td>\n",
       "      <td>покупка жилья</td>\n",
       "    </tr>\n",
       "    <tr>\n",
       "      <th>3</th>\n",
       "      <td>3</td>\n",
       "      <td>-4124.747207</td>\n",
       "      <td>32</td>\n",
       "      <td>среднее</td>\n",
       "      <td>1</td>\n",
       "      <td>женат / замужем</td>\n",
       "      <td>0</td>\n",
       "      <td>M</td>\n",
       "      <td>сотрудник</td>\n",
       "      <td>0</td>\n",
       "      <td>267628.550329</td>\n",
       "      <td>дополнительное образование</td>\n",
       "    </tr>\n",
       "    <tr>\n",
       "      <th>4</th>\n",
       "      <td>0</td>\n",
       "      <td>340266.072047</td>\n",
       "      <td>53</td>\n",
       "      <td>среднее</td>\n",
       "      <td>1</td>\n",
       "      <td>гражданский брак</td>\n",
       "      <td>1</td>\n",
       "      <td>F</td>\n",
       "      <td>пенсионер</td>\n",
       "      <td>0</td>\n",
       "      <td>158616.077870</td>\n",
       "      <td>сыграть свадьбу</td>\n",
       "    </tr>\n",
       "    <tr>\n",
       "      <th>5</th>\n",
       "      <td>0</td>\n",
       "      <td>-926.185831</td>\n",
       "      <td>27</td>\n",
       "      <td>высшее</td>\n",
       "      <td>0</td>\n",
       "      <td>гражданский брак</td>\n",
       "      <td>1</td>\n",
       "      <td>M</td>\n",
       "      <td>компаньон</td>\n",
       "      <td>0</td>\n",
       "      <td>255763.565419</td>\n",
       "      <td>покупка жилья</td>\n",
       "    </tr>\n",
       "    <tr>\n",
       "      <th>6</th>\n",
       "      <td>0</td>\n",
       "      <td>-2879.202052</td>\n",
       "      <td>43</td>\n",
       "      <td>высшее</td>\n",
       "      <td>0</td>\n",
       "      <td>женат / замужем</td>\n",
       "      <td>0</td>\n",
       "      <td>F</td>\n",
       "      <td>компаньон</td>\n",
       "      <td>0</td>\n",
       "      <td>240525.971920</td>\n",
       "      <td>операции с жильем</td>\n",
       "    </tr>\n",
       "    <tr>\n",
       "      <th>7</th>\n",
       "      <td>0</td>\n",
       "      <td>-152.779569</td>\n",
       "      <td>50</td>\n",
       "      <td>СРЕДНЕЕ</td>\n",
       "      <td>1</td>\n",
       "      <td>женат / замужем</td>\n",
       "      <td>0</td>\n",
       "      <td>M</td>\n",
       "      <td>сотрудник</td>\n",
       "      <td>0</td>\n",
       "      <td>135823.934197</td>\n",
       "      <td>образование</td>\n",
       "    </tr>\n",
       "    <tr>\n",
       "      <th>8</th>\n",
       "      <td>2</td>\n",
       "      <td>-6929.865299</td>\n",
       "      <td>35</td>\n",
       "      <td>ВЫСШЕЕ</td>\n",
       "      <td>0</td>\n",
       "      <td>гражданский брак</td>\n",
       "      <td>1</td>\n",
       "      <td>F</td>\n",
       "      <td>сотрудник</td>\n",
       "      <td>0</td>\n",
       "      <td>95856.832424</td>\n",
       "      <td>на проведение свадьбы</td>\n",
       "    </tr>\n",
       "    <tr>\n",
       "      <th>9</th>\n",
       "      <td>0</td>\n",
       "      <td>-2188.756445</td>\n",
       "      <td>41</td>\n",
       "      <td>среднее</td>\n",
       "      <td>1</td>\n",
       "      <td>женат / замужем</td>\n",
       "      <td>0</td>\n",
       "      <td>M</td>\n",
       "      <td>сотрудник</td>\n",
       "      <td>0</td>\n",
       "      <td>144425.938277</td>\n",
       "      <td>покупка жилья для семьи</td>\n",
       "    </tr>\n",
       "    <tr>\n",
       "      <th>10</th>\n",
       "      <td>2</td>\n",
       "      <td>-4171.483647</td>\n",
       "      <td>36</td>\n",
       "      <td>высшее</td>\n",
       "      <td>0</td>\n",
       "      <td>женат / замужем</td>\n",
       "      <td>0</td>\n",
       "      <td>M</td>\n",
       "      <td>компаньон</td>\n",
       "      <td>0</td>\n",
       "      <td>113943.491460</td>\n",
       "      <td>покупка недвижимости</td>\n",
       "    </tr>\n",
       "    <tr>\n",
       "      <th>11</th>\n",
       "      <td>0</td>\n",
       "      <td>-792.701887</td>\n",
       "      <td>40</td>\n",
       "      <td>среднее</td>\n",
       "      <td>1</td>\n",
       "      <td>женат / замужем</td>\n",
       "      <td>0</td>\n",
       "      <td>F</td>\n",
       "      <td>сотрудник</td>\n",
       "      <td>0</td>\n",
       "      <td>77069.234271</td>\n",
       "      <td>покупка коммерческой недвижимости</td>\n",
       "    </tr>\n",
       "    <tr>\n",
       "      <th>12</th>\n",
       "      <td>0</td>\n",
       "      <td>NaN</td>\n",
       "      <td>65</td>\n",
       "      <td>среднее</td>\n",
       "      <td>1</td>\n",
       "      <td>гражданский брак</td>\n",
       "      <td>1</td>\n",
       "      <td>M</td>\n",
       "      <td>пенсионер</td>\n",
       "      <td>0</td>\n",
       "      <td>NaN</td>\n",
       "      <td>сыграть свадьбу</td>\n",
       "    </tr>\n",
       "    <tr>\n",
       "      <th>13</th>\n",
       "      <td>0</td>\n",
       "      <td>-1846.641941</td>\n",
       "      <td>54</td>\n",
       "      <td>неоконченное высшее</td>\n",
       "      <td>2</td>\n",
       "      <td>женат / замужем</td>\n",
       "      <td>0</td>\n",
       "      <td>F</td>\n",
       "      <td>сотрудник</td>\n",
       "      <td>0</td>\n",
       "      <td>130458.228857</td>\n",
       "      <td>приобретение автомобиля</td>\n",
       "    </tr>\n",
       "    <tr>\n",
       "      <th>14</th>\n",
       "      <td>0</td>\n",
       "      <td>-1844.956182</td>\n",
       "      <td>56</td>\n",
       "      <td>высшее</td>\n",
       "      <td>0</td>\n",
       "      <td>гражданский брак</td>\n",
       "      <td>1</td>\n",
       "      <td>F</td>\n",
       "      <td>компаньон</td>\n",
       "      <td>1</td>\n",
       "      <td>165127.911772</td>\n",
       "      <td>покупка жилой недвижимости</td>\n",
       "    </tr>\n",
       "    <tr>\n",
       "      <th>15</th>\n",
       "      <td>1</td>\n",
       "      <td>-972.364419</td>\n",
       "      <td>26</td>\n",
       "      <td>среднее</td>\n",
       "      <td>1</td>\n",
       "      <td>женат / замужем</td>\n",
       "      <td>0</td>\n",
       "      <td>F</td>\n",
       "      <td>сотрудник</td>\n",
       "      <td>0</td>\n",
       "      <td>116820.904450</td>\n",
       "      <td>строительство собственной недвижимости</td>\n",
       "    </tr>\n",
       "    <tr>\n",
       "      <th>16</th>\n",
       "      <td>0</td>\n",
       "      <td>-1719.934226</td>\n",
       "      <td>35</td>\n",
       "      <td>среднее</td>\n",
       "      <td>1</td>\n",
       "      <td>женат / замужем</td>\n",
       "      <td>0</td>\n",
       "      <td>F</td>\n",
       "      <td>сотрудник</td>\n",
       "      <td>0</td>\n",
       "      <td>289202.704229</td>\n",
       "      <td>недвижимость</td>\n",
       "    </tr>\n",
       "    <tr>\n",
       "      <th>17</th>\n",
       "      <td>0</td>\n",
       "      <td>-2369.999720</td>\n",
       "      <td>33</td>\n",
       "      <td>высшее</td>\n",
       "      <td>0</td>\n",
       "      <td>гражданский брак</td>\n",
       "      <td>1</td>\n",
       "      <td>M</td>\n",
       "      <td>сотрудник</td>\n",
       "      <td>0</td>\n",
       "      <td>90410.586745</td>\n",
       "      <td>строительство недвижимости</td>\n",
       "    </tr>\n",
       "    <tr>\n",
       "      <th>18</th>\n",
       "      <td>0</td>\n",
       "      <td>400281.136913</td>\n",
       "      <td>53</td>\n",
       "      <td>среднее</td>\n",
       "      <td>1</td>\n",
       "      <td>вдовец / вдова</td>\n",
       "      <td>2</td>\n",
       "      <td>F</td>\n",
       "      <td>пенсионер</td>\n",
       "      <td>0</td>\n",
       "      <td>56823.777243</td>\n",
       "      <td>на покупку подержанного автомобиля</td>\n",
       "    </tr>\n",
       "    <tr>\n",
       "      <th>19</th>\n",
       "      <td>0</td>\n",
       "      <td>-10038.818549</td>\n",
       "      <td>48</td>\n",
       "      <td>СРЕДНЕЕ</td>\n",
       "      <td>1</td>\n",
       "      <td>в разводе</td>\n",
       "      <td>3</td>\n",
       "      <td>F</td>\n",
       "      <td>сотрудник</td>\n",
       "      <td>0</td>\n",
       "      <td>242831.107982</td>\n",
       "      <td>на покупку своего автомобиля</td>\n",
       "    </tr>\n",
       "    <tr>\n",
       "      <th>20</th>\n",
       "      <td>1</td>\n",
       "      <td>-1311.604166</td>\n",
       "      <td>36</td>\n",
       "      <td>среднее</td>\n",
       "      <td>1</td>\n",
       "      <td>женат / замужем</td>\n",
       "      <td>0</td>\n",
       "      <td>M</td>\n",
       "      <td>сотрудник</td>\n",
       "      <td>0</td>\n",
       "      <td>209552.644578</td>\n",
       "      <td>недвижимость</td>\n",
       "    </tr>\n",
       "  </tbody>\n",
       "</table>\n",
       "</div>"
      ],
      "text/plain": [
       "    children  days_employed  dob_years            education  education_id  \\\n",
       "0          1   -8437.673028         42               высшее             0   \n",
       "1          1   -4024.803754         36              среднее             1   \n",
       "2          0   -5623.422610         33              Среднее             1   \n",
       "3          3   -4124.747207         32              среднее             1   \n",
       "4          0  340266.072047         53              среднее             1   \n",
       "5          0    -926.185831         27               высшее             0   \n",
       "6          0   -2879.202052         43               высшее             0   \n",
       "7          0    -152.779569         50              СРЕДНЕЕ             1   \n",
       "8          2   -6929.865299         35               ВЫСШЕЕ             0   \n",
       "9          0   -2188.756445         41              среднее             1   \n",
       "10         2   -4171.483647         36               высшее             0   \n",
       "11         0    -792.701887         40              среднее             1   \n",
       "12         0            NaN         65              среднее             1   \n",
       "13         0   -1846.641941         54  неоконченное высшее             2   \n",
       "14         0   -1844.956182         56               высшее             0   \n",
       "15         1    -972.364419         26              среднее             1   \n",
       "16         0   -1719.934226         35              среднее             1   \n",
       "17         0   -2369.999720         33               высшее             0   \n",
       "18         0  400281.136913         53              среднее             1   \n",
       "19         0  -10038.818549         48              СРЕДНЕЕ             1   \n",
       "20         1   -1311.604166         36              среднее             1   \n",
       "\n",
       "       family_status  family_status_id gender income_type  debt  \\\n",
       "0    женат / замужем                 0      F   сотрудник     0   \n",
       "1    женат / замужем                 0      F   сотрудник     0   \n",
       "2    женат / замужем                 0      M   сотрудник     0   \n",
       "3    женат / замужем                 0      M   сотрудник     0   \n",
       "4   гражданский брак                 1      F   пенсионер     0   \n",
       "5   гражданский брак                 1      M   компаньон     0   \n",
       "6    женат / замужем                 0      F   компаньон     0   \n",
       "7    женат / замужем                 0      M   сотрудник     0   \n",
       "8   гражданский брак                 1      F   сотрудник     0   \n",
       "9    женат / замужем                 0      M   сотрудник     0   \n",
       "10   женат / замужем                 0      M   компаньон     0   \n",
       "11   женат / замужем                 0      F   сотрудник     0   \n",
       "12  гражданский брак                 1      M   пенсионер     0   \n",
       "13   женат / замужем                 0      F   сотрудник     0   \n",
       "14  гражданский брак                 1      F   компаньон     1   \n",
       "15   женат / замужем                 0      F   сотрудник     0   \n",
       "16   женат / замужем                 0      F   сотрудник     0   \n",
       "17  гражданский брак                 1      M   сотрудник     0   \n",
       "18    вдовец / вдова                 2      F   пенсионер     0   \n",
       "19         в разводе                 3      F   сотрудник     0   \n",
       "20   женат / замужем                 0      M   сотрудник     0   \n",
       "\n",
       "     total_income                                 purpose  \n",
       "0   253875.639453                           покупка жилья  \n",
       "1   112080.014102                 приобретение автомобиля  \n",
       "2   145885.952297                           покупка жилья  \n",
       "3   267628.550329              дополнительное образование  \n",
       "4   158616.077870                         сыграть свадьбу  \n",
       "5   255763.565419                           покупка жилья  \n",
       "6   240525.971920                       операции с жильем  \n",
       "7   135823.934197                             образование  \n",
       "8    95856.832424                   на проведение свадьбы  \n",
       "9   144425.938277                 покупка жилья для семьи  \n",
       "10  113943.491460                    покупка недвижимости  \n",
       "11   77069.234271       покупка коммерческой недвижимости  \n",
       "12            NaN                         сыграть свадьбу  \n",
       "13  130458.228857                 приобретение автомобиля  \n",
       "14  165127.911772              покупка жилой недвижимости  \n",
       "15  116820.904450  строительство собственной недвижимости  \n",
       "16  289202.704229                            недвижимость  \n",
       "17   90410.586745              строительство недвижимости  \n",
       "18   56823.777243      на покупку подержанного автомобиля  \n",
       "19  242831.107982            на покупку своего автомобиля  \n",
       "20  209552.644578                            недвижимость  "
      ]
     },
     "execution_count": 92,
     "metadata": {},
     "output_type": "execute_result"
    }
   ],
   "source": [
    "data.head(21)"
   ]
  },
  {
   "cell_type": "markdown",
   "id": "0ed8f27f",
   "metadata": {
    "deletable": false,
    "editable": false,
    "id": "0ed8f27f"
   },
   "source": [
    "**Задание 3. Выведите основную информацию о датафрейме с помощью метода `info()`.**"
   ]
  },
  {
   "cell_type": "code",
   "execution_count": 93,
   "id": "ab3f863b",
   "metadata": {
    "deletable": false,
    "id": "ab3f863b",
    "outputId": "15376089-8dad-46c9-b520-c05248d43158"
   },
   "outputs": [
    {
     "name": "stdout",
     "output_type": "stream",
     "text": [
      "<class 'pandas.core.frame.DataFrame'>\n",
      "RangeIndex: 21525 entries, 0 to 21524\n",
      "Data columns (total 12 columns):\n",
      " #   Column            Non-Null Count  Dtype  \n",
      "---  ------            --------------  -----  \n",
      " 0   children          21525 non-null  int64  \n",
      " 1   days_employed     19351 non-null  float64\n",
      " 2   dob_years         21525 non-null  int64  \n",
      " 3   education         21525 non-null  object \n",
      " 4   education_id      21525 non-null  int64  \n",
      " 5   family_status     21525 non-null  object \n",
      " 6   family_status_id  21525 non-null  int64  \n",
      " 7   gender            21525 non-null  object \n",
      " 8   income_type       21525 non-null  object \n",
      " 9   debt              21525 non-null  int64  \n",
      " 10  total_income      19351 non-null  float64\n",
      " 11  purpose           21525 non-null  object \n",
      "dtypes: float64(2), int64(5), object(5)\n",
      "memory usage: 2.0+ MB\n"
     ]
    }
   ],
   "source": [
    "data.info()"
   ]
  },
  {
   "cell_type": "markdown",
   "id": "60e3e22d",
   "metadata": {
    "deletable": false,
    "editable": false,
    "id": "60e3e22d"
   },
   "source": [
    "## Предобработка данных"
   ]
  },
  {
   "cell_type": "markdown",
   "id": "03dc170c",
   "metadata": {
    "deletable": false,
    "editable": false,
    "id": "03dc170c"
   },
   "source": [
    "### Удаление пропусков"
   ]
  },
  {
   "cell_type": "markdown",
   "id": "a4f54eef",
   "metadata": {
    "deletable": false,
    "editable": false,
    "id": "a4f54eef"
   },
   "source": [
    "**Задание 4. Выведите количество пропущенных значений для каждого столбца. Используйте комбинацию двух методов.**"
   ]
  },
  {
   "cell_type": "code",
   "execution_count": 94,
   "id": "2dc372b2",
   "metadata": {
    "deletable": false,
    "id": "2dc372b2",
    "outputId": "81f4d817-781c-465c-ed15-91ce4446810d",
    "scrolled": true
   },
   "outputs": [
    {
     "data": {
      "text/plain": [
       "children               0\n",
       "days_employed       2174\n",
       "dob_years              0\n",
       "education              0\n",
       "education_id           0\n",
       "family_status          0\n",
       "family_status_id       0\n",
       "gender                 0\n",
       "income_type            0\n",
       "debt                   0\n",
       "total_income        2174\n",
       "purpose                0\n",
       "dtype: int64"
      ]
     },
     "execution_count": 94,
     "metadata": {},
     "output_type": "execute_result"
    }
   ],
   "source": [
    "data.isna().sum()"
   ]
  },
  {
   "cell_type": "markdown",
   "id": "14f011b1",
   "metadata": {
    "deletable": false,
    "editable": false,
    "id": "14f011b1"
   },
   "source": [
    "**Задание 5. В двух столбцах есть пропущенные значения. Один из них — `days_employed`. Пропуски в этом столбце вы обработаете на следующем этапе. Другой столбец с пропущенными значениями — `total_income` — хранит данные о доходах. На сумму дохода сильнее всего влияет тип занятости, поэтому заполнить пропуски в этом столбце нужно медианным значением по каждому типу из столбца `income_type`. Например, у человека с типом занятости `сотрудник` пропуск в столбце `total_income` должен быть заполнен медианным доходом среди всех записей с тем же типом.**"
   ]
  },
  {
   "cell_type": "code",
   "execution_count": 95,
   "id": "6c94a811-6d9e-4ec7-8000-56b35ca55cb7",
   "metadata": {},
   "outputs": [
    {
     "data": {
      "text/plain": [
       "income_type\n",
       "сотрудник          11119\n",
       "компаньон           5085\n",
       "пенсионер           3856\n",
       "госслужащий         1459\n",
       "безработный            2\n",
       "предприниматель        2\n",
       "студент                1\n",
       "в декрете              1\n",
       "Name: count, dtype: int64"
      ]
     },
     "execution_count": 95,
     "metadata": {},
     "output_type": "execute_result"
    }
   ],
   "source": [
    "data['income_type'].value_counts()"
   ]
  },
  {
   "cell_type": "markdown",
   "id": "5be34059",
   "metadata": {
    "deletable": false,
    "editable": false,
    "id": "5be34059"
   },
   "source": [
    "### Обработка аномальных значений"
   ]
  },
  {
   "cell_type": "markdown",
   "id": "a87606cb",
   "metadata": {
    "deletable": false,
    "editable": false,
    "id": "a87606cb"
   },
   "source": [
    "**Задание 6. В данных могут встречаться артефакты (аномалии) — значения, которые не отражают действительность и появились по какой-то ошибке. таким артефактом будет отрицательное количество дней трудового стажа в столбце `days_employed`. Для реальных данных это нормально. Обработайте значения в этом столбце: замените все отрицательные значения положительными с помощью метода `abs()`.**"
   ]
  },
  {
   "cell_type": "code",
   "execution_count": 96,
   "id": "020c46cc",
   "metadata": {
    "deletable": false,
    "id": "020c46cc"
   },
   "outputs": [],
   "source": [
    "data['days_employed'] = data['days_employed'].abs()"
   ]
  },
  {
   "cell_type": "markdown",
   "id": "45538a3a",
   "metadata": {
    "deletable": false,
    "editable": false,
    "id": "45538a3a"
   },
   "source": [
    "**Задание 7. Для каждого типа занятости выведите медианное значение трудового стажа `days_employed` в днях.**"
   ]
  },
  {
   "cell_type": "code",
   "execution_count": 97,
   "id": "bdabfb6e",
   "metadata": {
    "deletable": false,
    "id": "bdabfb6e"
   },
   "outputs": [],
   "source": [
    "for t in data['income_type'].unique():\n",
    "    data.loc[(data['income_type'] == t) & (data['total_income'].isna()), 'total_income'] = \\\n",
    "    data.loc[(data['income_type'] == t), 'total_income'].median()"
   ]
  },
  {
   "cell_type": "code",
   "execution_count": 98,
   "id": "cd3e6328",
   "metadata": {
    "deletable": false,
    "id": "cd3e6328",
    "outputId": "801ef80e-522b-4668-f34e-565af7432bcf"
   },
   "outputs": [
    {
     "data": {
      "text/plain": [
       "income_type\n",
       "безработный        366413.652744\n",
       "в декрете            3296.759962\n",
       "госслужащий          2689.368353\n",
       "компаньон            1547.382223\n",
       "пенсионер          365213.306266\n",
       "предприниматель       520.848083\n",
       "сотрудник            1574.202821\n",
       "студент               578.751554\n",
       "Name: days_employed, dtype: float64"
      ]
     },
     "execution_count": 98,
     "metadata": {},
     "output_type": "execute_result"
    }
   ],
   "source": [
    "data.groupby('income_type')['days_employed'].agg('median')"
   ]
  },
  {
   "cell_type": "markdown",
   "id": "90c5f058",
   "metadata": {
    "deletable": false,
    "editable": false,
    "id": "90c5f058"
   },
   "source": [
    "У двух типов (безработные и пенсионеры) получатся аномально большие значения. Исправить такие значения сложно, поэтому оставьте их как есть."
   ]
  },
  {
   "cell_type": "markdown",
   "id": "9652e50d",
   "metadata": {
    "deletable": false,
    "editable": false,
    "id": "9652e50d"
   },
   "source": [
    "**Задание 8. Выведите перечень уникальных значений столбца `children`.**"
   ]
  },
  {
   "cell_type": "code",
   "execution_count": 99,
   "id": "dbb37b8e",
   "metadata": {
    "deletable": false,
    "id": "dbb37b8e",
    "outputId": "6975b15c-7f95-4697-d16d-a0c79b657b03"
   },
   "outputs": [
    {
     "data": {
      "text/plain": [
       "array([ 1,  0,  3,  2, -1,  4, 20,  5], dtype=int64)"
      ]
     },
     "execution_count": 99,
     "metadata": {},
     "output_type": "execute_result"
    }
   ],
   "source": [
    "data['children'].unique()"
   ]
  },
  {
   "cell_type": "markdown",
   "id": "2b8b0715",
   "metadata": {
    "deletable": false,
    "editable": false,
    "id": "2b8b0715"
   },
   "source": [
    "**Задание 9. В столбце `children` есть два аномальных значения. Удалите строки, в которых встречаются такие аномальные значения из датафрейма `data`.**"
   ]
  },
  {
   "cell_type": "code",
   "execution_count": 100,
   "id": "20009df8",
   "metadata": {
    "deletable": false,
    "id": "20009df8"
   },
   "outputs": [],
   "source": [
    "data = data[(data['children'] != -1) & (data['children'] != 20)]"
   ]
  },
  {
   "cell_type": "markdown",
   "id": "8c6ac9f1",
   "metadata": {
    "deletable": false,
    "editable": false,
    "id": "8c6ac9f1"
   },
   "source": [
    "**Задание 10. Ещё раз выведите перечень уникальных значений столбца `children`, чтобы убедиться, что артефакты удалены.**"
   ]
  },
  {
   "cell_type": "code",
   "execution_count": 101,
   "id": "07337b81",
   "metadata": {
    "deletable": false,
    "id": "07337b81",
    "outputId": "b2097101-d49d-44d9-901b-32a65c9463d1"
   },
   "outputs": [
    {
     "data": {
      "text/plain": [
       "array([1, 0, 3, 2, 4, 5], dtype=int64)"
      ]
     },
     "execution_count": 101,
     "metadata": {},
     "output_type": "execute_result"
    }
   ],
   "source": [
    "data['children'].unique()"
   ]
  },
  {
   "cell_type": "markdown",
   "id": "ee3f52d4",
   "metadata": {
    "deletable": false,
    "editable": false,
    "id": "ee3f52d4"
   },
   "source": [
    "### Удаление пропусков (продолжение)"
   ]
  },
  {
   "cell_type": "markdown",
   "id": "a700b0e4",
   "metadata": {
    "deletable": false,
    "editable": false,
    "id": "a700b0e4"
   },
   "source": [
    "**Задание 11. Заполните пропуски в столбце `days_employed` медианными значениями по каждого типа занятости `income_type`.**"
   ]
  },
  {
   "cell_type": "code",
   "execution_count": 102,
   "id": "61946b83",
   "metadata": {
    "deletable": false,
    "id": "61946b83"
   },
   "outputs": [],
   "source": [
    "for t in data['income_type'].unique():\n",
    "    data.loc[(data['income_type'] == t) & (data['days_employed'].isna()), 'days_employed'] = \\\n",
    "    data.loc[(data['income_type'] == t), 'days_employed'].median()"
   ]
  },
  {
   "cell_type": "markdown",
   "id": "550dcd9b",
   "metadata": {
    "deletable": false,
    "editable": false,
    "id": "550dcd9b"
   },
   "source": [
    "**Задание 12. Убедитесь, что все пропуски заполнены. Проверьте себя и ещё раз выведите количество пропущенных значений для каждого столбца с помощью двух методов.**"
   ]
  },
  {
   "cell_type": "code",
   "execution_count": 103,
   "id": "937c7014",
   "metadata": {
    "deletable": false,
    "id": "937c7014",
    "outputId": "8da1e4e1-358e-4e87-98c9-f261bce0a7b2"
   },
   "outputs": [
    {
     "data": {
      "text/plain": [
       "children            0\n",
       "days_employed       0\n",
       "dob_years           0\n",
       "education           0\n",
       "education_id        0\n",
       "family_status       0\n",
       "family_status_id    0\n",
       "gender              0\n",
       "income_type         0\n",
       "debt                0\n",
       "total_income        0\n",
       "purpose             0\n",
       "dtype: int64"
      ]
     },
     "execution_count": 103,
     "metadata": {},
     "output_type": "execute_result"
    }
   ],
   "source": [
    "data.isna().sum()"
   ]
  },
  {
   "cell_type": "markdown",
   "id": "d522e295",
   "metadata": {
    "deletable": false,
    "editable": false,
    "id": "d522e295"
   },
   "source": [
    "### Изменение типов данных"
   ]
  },
  {
   "cell_type": "markdown",
   "id": "c229c581",
   "metadata": {
    "deletable": false,
    "editable": false,
    "id": "c229c581"
   },
   "source": [
    "**Задание 13. Замените вещественный тип данных в столбце `total_income` на целочисленный с помощью метода `astype()`.**"
   ]
  },
  {
   "cell_type": "code",
   "execution_count": 104,
   "id": "31036462",
   "metadata": {
    "deletable": false,
    "id": "31036462"
   },
   "outputs": [],
   "source": [
    "data['total_income'] = data['total_income'].astype(int)"
   ]
  },
  {
   "cell_type": "markdown",
   "id": "b8e3d1d9",
   "metadata": {
    "deletable": false,
    "editable": false,
    "id": "b8e3d1d9"
   },
   "source": [
    "### Обработка дубликатов"
   ]
  },
  {
   "cell_type": "markdown",
   "id": "9be53c49",
   "metadata": {
    "deletable": false,
    "editable": false,
    "id": "9be53c49"
   },
   "source": [
    "**Задание 14. Обработайте неявные дубликаты в столбце `education`. В этом столбце есть одни и те же значения, но записанные по-разному: с использованием заглавных и строчных букв. Приведите их к нижнему регистру.**"
   ]
  },
  {
   "cell_type": "code",
   "execution_count": 105,
   "id": "d89e73e1",
   "metadata": {
    "deletable": false,
    "id": "d89e73e1"
   },
   "outputs": [],
   "source": [
    "data['education'] = data['education'].str.lower()"
   ]
  },
  {
   "cell_type": "markdown",
   "id": "01d4500e",
   "metadata": {
    "deletable": false,
    "editable": false,
    "id": "01d4500e"
   },
   "source": [
    "**Задание 15. Выведите на экран количество строк-дубликатов в данных. Если такие строки присутствуют, удалите их.**"
   ]
  },
  {
   "cell_type": "code",
   "execution_count": 106,
   "id": "e10efb23",
   "metadata": {
    "deletable": false,
    "id": "e10efb23",
    "outputId": "9684deba-1934-42d1-99e1-cda61740f822"
   },
   "outputs": [
    {
     "data": {
      "text/plain": [
       "71"
      ]
     },
     "execution_count": 106,
     "metadata": {},
     "output_type": "execute_result"
    }
   ],
   "source": [
    "data.duplicated().sum()"
   ]
  },
  {
   "cell_type": "code",
   "execution_count": 107,
   "id": "df853f20",
   "metadata": {
    "deletable": false,
    "id": "df853f20"
   },
   "outputs": [],
   "source": [
    "data = data.drop_duplicates()"
   ]
  },
  {
   "cell_type": "markdown",
   "id": "627be38f",
   "metadata": {
    "deletable": false,
    "editable": false,
    "id": "627be38f"
   },
   "source": [
    "### Категоризация данных"
   ]
  },
  {
   "cell_type": "markdown",
   "id": "4684c3e0",
   "metadata": {
    "deletable": false,
    "editable": false,
    "id": "4684c3e0"
   },
   "source": [
    "**Задание 16. На основании диапазонов, указанных ниже, создайте в датафрейме `data` столбец `total_income_category` с категориями:**\n",
    "\n",
    "- 0–30000 — `'E'`;\n",
    "- 30001–50000 — `'D'`;\n",
    "- 50001–200000 — `'C'`;\n",
    "- 200001–1000000 — `'B'`;\n",
    "- 1000001 и выше — `'A'`.\n",
    "\n",
    "\n",
    "**Например, кредитополучателю с доходом 25000 нужно назначить категорию `'E'`, а клиенту, получающему 235000, — `'B'`. Используйте собственную функцию с именем `categorize_income()` и метод `apply()`.**"
   ]
  },
  {
   "cell_type": "code",
   "execution_count": 108,
   "id": "78965238",
   "metadata": {
    "deletable": false,
    "id": "78965238"
   },
   "outputs": [],
   "source": [
    "def categorize_income(income):\n",
    "    try:\n",
    "        if 0 <= income <= 30000:\n",
    "            return 'E'\n",
    "        elif 30001 <= income <= 50000:\n",
    "            return 'D'\n",
    "        elif 50001 <= income <= 200000:\n",
    "            return 'C'\n",
    "        elif 200001 <= income <= 1000000:\n",
    "            return 'B'\n",
    "        elif income >= 1000001:\n",
    "            return 'A'\n",
    "    except:\n",
    "        pass"
   ]
  },
  {
   "cell_type": "code",
   "execution_count": 109,
   "id": "0980ada1",
   "metadata": {
    "deletable": false,
    "id": "0980ada1"
   },
   "outputs": [],
   "source": [
    "data['total_income_category'] = data['total_income'].apply(categorize_income)"
   ]
  },
  {
   "cell_type": "markdown",
   "id": "9917bba0",
   "metadata": {
    "deletable": false,
    "editable": false,
    "id": "9917bba0"
   },
   "source": [
    "**Задание 17. Выведите на экран перечень уникальных целей взятия кредита из столбца `purpose`.**"
   ]
  },
  {
   "cell_type": "code",
   "execution_count": 110,
   "id": "ee07b65e",
   "metadata": {
    "deletable": false,
    "id": "ee07b65e",
    "outputId": "673c12d9-7d7e-4ae0-9812-c622c89dd244"
   },
   "outputs": [
    {
     "data": {
      "text/plain": [
       "array(['покупка жилья', 'приобретение автомобиля',\n",
       "       'дополнительное образование', 'сыграть свадьбу',\n",
       "       'операции с жильем', 'образование', 'на проведение свадьбы',\n",
       "       'покупка жилья для семьи', 'покупка недвижимости',\n",
       "       'покупка коммерческой недвижимости', 'покупка жилой недвижимости',\n",
       "       'строительство собственной недвижимости', 'недвижимость',\n",
       "       'строительство недвижимости', 'на покупку подержанного автомобиля',\n",
       "       'на покупку своего автомобиля',\n",
       "       'операции с коммерческой недвижимостью',\n",
       "       'строительство жилой недвижимости', 'жилье',\n",
       "       'операции со своей недвижимостью', 'автомобили',\n",
       "       'заняться образованием', 'сделка с подержанным автомобилем',\n",
       "       'получение образования', 'автомобиль', 'свадьба',\n",
       "       'получение дополнительного образования', 'покупка своего жилья',\n",
       "       'операции с недвижимостью', 'получение высшего образования',\n",
       "       'свой автомобиль', 'сделка с автомобилем',\n",
       "       'профильное образование', 'высшее образование',\n",
       "       'покупка жилья для сдачи', 'на покупку автомобиля', 'ремонт жилью',\n",
       "       'заняться высшим образованием'], dtype=object)"
      ]
     },
     "execution_count": 110,
     "metadata": {},
     "output_type": "execute_result"
    }
   ],
   "source": [
    "data['purpose'].unique()"
   ]
  },
  {
   "cell_type": "markdown",
   "id": "52b79d56",
   "metadata": {
    "deletable": false,
    "editable": false,
    "id": "52b79d56"
   },
   "source": [
    "**Задание 18. Создайте функцию, которая на основании данных из столбца `purpose` сформирует новый столбец `purpose_category`, в который войдут следующие категории:**\n",
    "\n",
    "- `'операции с автомобилем'`,\n",
    "- `'операции с недвижимостью'`,\n",
    "- `'проведение свадьбы'`,\n",
    "- `'получение образования'`.\n",
    "\n",
    "**Например, если в столбце `purpose` находится подстрока `'на покупку автомобиля'`, то в столбце `purpose_category` должна появиться строка `'операции с автомобилем'`.**\n",
    "\n",
    "**Используйте собственную функцию с именем `categorize_purpose()` и метод `apply()`. Изучите данные в столбце `purpose` и определите, какие подстроки помогут вам правильно определить категорию.**"
   ]
  },
  {
   "cell_type": "code",
   "execution_count": 111,
   "id": "be41da5d",
   "metadata": {
    "deletable": false,
    "id": "be41da5d"
   },
   "outputs": [],
   "source": [
    "def categorize_purpose(row):\n",
    "    try:\n",
    "        if 'автом' in row:\n",
    "            return 'операции с автомобилем'\n",
    "        elif 'жил' in row or 'недвиж' in row:\n",
    "            return 'операции с недвижимостью'\n",
    "        elif 'свад' in row:\n",
    "            return 'проведение свадьбы'\n",
    "        elif 'образов' in row:\n",
    "            return 'получение образования'\n",
    "    except:\n",
    "        return 'нет категории'"
   ]
  },
  {
   "cell_type": "code",
   "execution_count": 112,
   "id": "94c4a19a",
   "metadata": {
    "deletable": false,
    "id": "94c4a19a"
   },
   "outputs": [
    {
     "data": {
      "text/html": [
       "<div>\n",
       "<style scoped>\n",
       "    .dataframe tbody tr th:only-of-type {\n",
       "        vertical-align: middle;\n",
       "    }\n",
       "\n",
       "    .dataframe tbody tr th {\n",
       "        vertical-align: top;\n",
       "    }\n",
       "\n",
       "    .dataframe thead th {\n",
       "        text-align: right;\n",
       "    }\n",
       "</style>\n",
       "<table border=\"1\" class=\"dataframe\">\n",
       "  <thead>\n",
       "    <tr style=\"text-align: right;\">\n",
       "      <th></th>\n",
       "      <th>children</th>\n",
       "      <th>days_employed</th>\n",
       "      <th>dob_years</th>\n",
       "      <th>education</th>\n",
       "      <th>education_id</th>\n",
       "      <th>family_status</th>\n",
       "      <th>family_status_id</th>\n",
       "      <th>gender</th>\n",
       "      <th>income_type</th>\n",
       "      <th>debt</th>\n",
       "      <th>total_income</th>\n",
       "      <th>purpose</th>\n",
       "      <th>total_income_category</th>\n",
       "      <th>purpose_category</th>\n",
       "    </tr>\n",
       "  </thead>\n",
       "  <tbody>\n",
       "    <tr>\n",
       "      <th>0</th>\n",
       "      <td>1</td>\n",
       "      <td>8437.673028</td>\n",
       "      <td>42</td>\n",
       "      <td>высшее</td>\n",
       "      <td>0</td>\n",
       "      <td>женат / замужем</td>\n",
       "      <td>0</td>\n",
       "      <td>F</td>\n",
       "      <td>сотрудник</td>\n",
       "      <td>0</td>\n",
       "      <td>253875</td>\n",
       "      <td>покупка жилья</td>\n",
       "      <td>B</td>\n",
       "      <td>операции с недвижимостью</td>\n",
       "    </tr>\n",
       "    <tr>\n",
       "      <th>1</th>\n",
       "      <td>1</td>\n",
       "      <td>4024.803754</td>\n",
       "      <td>36</td>\n",
       "      <td>среднее</td>\n",
       "      <td>1</td>\n",
       "      <td>женат / замужем</td>\n",
       "      <td>0</td>\n",
       "      <td>F</td>\n",
       "      <td>сотрудник</td>\n",
       "      <td>0</td>\n",
       "      <td>112080</td>\n",
       "      <td>приобретение автомобиля</td>\n",
       "      <td>C</td>\n",
       "      <td>операции с автомобилем</td>\n",
       "    </tr>\n",
       "    <tr>\n",
       "      <th>2</th>\n",
       "      <td>0</td>\n",
       "      <td>5623.422610</td>\n",
       "      <td>33</td>\n",
       "      <td>среднее</td>\n",
       "      <td>1</td>\n",
       "      <td>женат / замужем</td>\n",
       "      <td>0</td>\n",
       "      <td>M</td>\n",
       "      <td>сотрудник</td>\n",
       "      <td>0</td>\n",
       "      <td>145885</td>\n",
       "      <td>покупка жилья</td>\n",
       "      <td>C</td>\n",
       "      <td>операции с недвижимостью</td>\n",
       "    </tr>\n",
       "    <tr>\n",
       "      <th>3</th>\n",
       "      <td>3</td>\n",
       "      <td>4124.747207</td>\n",
       "      <td>32</td>\n",
       "      <td>среднее</td>\n",
       "      <td>1</td>\n",
       "      <td>женат / замужем</td>\n",
       "      <td>0</td>\n",
       "      <td>M</td>\n",
       "      <td>сотрудник</td>\n",
       "      <td>0</td>\n",
       "      <td>267628</td>\n",
       "      <td>дополнительное образование</td>\n",
       "      <td>B</td>\n",
       "      <td>получение образования</td>\n",
       "    </tr>\n",
       "    <tr>\n",
       "      <th>4</th>\n",
       "      <td>0</td>\n",
       "      <td>340266.072047</td>\n",
       "      <td>53</td>\n",
       "      <td>среднее</td>\n",
       "      <td>1</td>\n",
       "      <td>гражданский брак</td>\n",
       "      <td>1</td>\n",
       "      <td>F</td>\n",
       "      <td>пенсионер</td>\n",
       "      <td>0</td>\n",
       "      <td>158616</td>\n",
       "      <td>сыграть свадьбу</td>\n",
       "      <td>C</td>\n",
       "      <td>проведение свадьбы</td>\n",
       "    </tr>\n",
       "  </tbody>\n",
       "</table>\n",
       "</div>"
      ],
      "text/plain": [
       "   children  days_employed  dob_years education  education_id  \\\n",
       "0         1    8437.673028         42    высшее             0   \n",
       "1         1    4024.803754         36   среднее             1   \n",
       "2         0    5623.422610         33   среднее             1   \n",
       "3         3    4124.747207         32   среднее             1   \n",
       "4         0  340266.072047         53   среднее             1   \n",
       "\n",
       "      family_status  family_status_id gender income_type  debt  total_income  \\\n",
       "0   женат / замужем                 0      F   сотрудник     0        253875   \n",
       "1   женат / замужем                 0      F   сотрудник     0        112080   \n",
       "2   женат / замужем                 0      M   сотрудник     0        145885   \n",
       "3   женат / замужем                 0      M   сотрудник     0        267628   \n",
       "4  гражданский брак                 1      F   пенсионер     0        158616   \n",
       "\n",
       "                      purpose total_income_category          purpose_category  \n",
       "0               покупка жилья                     B  операции с недвижимостью  \n",
       "1     приобретение автомобиля                     C    операции с автомобилем  \n",
       "2               покупка жилья                     C  операции с недвижимостью  \n",
       "3  дополнительное образование                     B     получение образования  \n",
       "4             сыграть свадьбу                     C        проведение свадьбы  "
      ]
     },
     "execution_count": 112,
     "metadata": {},
     "output_type": "execute_result"
    }
   ],
   "source": [
    "data['purpose_category'] = data['purpose'].apply(categorize_purpose)\n",
    "data.head()"
   ]
  },
  {
   "cell_type": "markdown",
   "id": "3d596c34",
   "metadata": {
    "deletable": false,
    "editable": false,
    "id": "3d596c34"
   },
   "source": [
    "### Шаг 3. Исследуйте данные и ответьте на вопросы"
   ]
  },
  {
   "cell_type": "markdown",
   "id": "648db036",
   "metadata": {
    "deletable": false,
    "editable": false,
    "id": "648db036"
   },
   "source": [
    "#### 3.1 Есть ли зависимость между количеством детей и возвратом кредита в срок?"
   ]
  },
  {
   "cell_type": "code",
   "execution_count": 113,
   "id": "0315dc14-9d09-4280-8423-b8bc4770bf85",
   "metadata": {},
   "outputs": [
    {
     "data": {
      "text/html": [
       "<div>\n",
       "<style scoped>\n",
       "    .dataframe tbody tr th:only-of-type {\n",
       "        vertical-align: middle;\n",
       "    }\n",
       "\n",
       "    .dataframe tbody tr th {\n",
       "        vertical-align: top;\n",
       "    }\n",
       "\n",
       "    .dataframe thead th {\n",
       "        text-align: right;\n",
       "    }\n",
       "</style>\n",
       "<table border=\"1\" class=\"dataframe\">\n",
       "  <thead>\n",
       "    <tr style=\"text-align: right;\">\n",
       "      <th></th>\n",
       "      <th>children</th>\n",
       "      <th>days_employed</th>\n",
       "      <th>dob_years</th>\n",
       "      <th>education</th>\n",
       "      <th>education_id</th>\n",
       "      <th>family_status</th>\n",
       "      <th>family_status_id</th>\n",
       "      <th>gender</th>\n",
       "      <th>income_type</th>\n",
       "      <th>debt</th>\n",
       "      <th>total_income</th>\n",
       "      <th>purpose</th>\n",
       "      <th>total_income_category</th>\n",
       "      <th>purpose_category</th>\n",
       "    </tr>\n",
       "  </thead>\n",
       "  <tbody>\n",
       "    <tr>\n",
       "      <th>0</th>\n",
       "      <td>1</td>\n",
       "      <td>8437.673028</td>\n",
       "      <td>42</td>\n",
       "      <td>высшее</td>\n",
       "      <td>0</td>\n",
       "      <td>женат / замужем</td>\n",
       "      <td>0</td>\n",
       "      <td>F</td>\n",
       "      <td>сотрудник</td>\n",
       "      <td>0</td>\n",
       "      <td>253875</td>\n",
       "      <td>покупка жилья</td>\n",
       "      <td>B</td>\n",
       "      <td>операции с недвижимостью</td>\n",
       "    </tr>\n",
       "    <tr>\n",
       "      <th>1</th>\n",
       "      <td>1</td>\n",
       "      <td>4024.803754</td>\n",
       "      <td>36</td>\n",
       "      <td>среднее</td>\n",
       "      <td>1</td>\n",
       "      <td>женат / замужем</td>\n",
       "      <td>0</td>\n",
       "      <td>F</td>\n",
       "      <td>сотрудник</td>\n",
       "      <td>0</td>\n",
       "      <td>112080</td>\n",
       "      <td>приобретение автомобиля</td>\n",
       "      <td>C</td>\n",
       "      <td>операции с автомобилем</td>\n",
       "    </tr>\n",
       "    <tr>\n",
       "      <th>2</th>\n",
       "      <td>0</td>\n",
       "      <td>5623.422610</td>\n",
       "      <td>33</td>\n",
       "      <td>среднее</td>\n",
       "      <td>1</td>\n",
       "      <td>женат / замужем</td>\n",
       "      <td>0</td>\n",
       "      <td>M</td>\n",
       "      <td>сотрудник</td>\n",
       "      <td>0</td>\n",
       "      <td>145885</td>\n",
       "      <td>покупка жилья</td>\n",
       "      <td>C</td>\n",
       "      <td>операции с недвижимостью</td>\n",
       "    </tr>\n",
       "    <tr>\n",
       "      <th>3</th>\n",
       "      <td>3</td>\n",
       "      <td>4124.747207</td>\n",
       "      <td>32</td>\n",
       "      <td>среднее</td>\n",
       "      <td>1</td>\n",
       "      <td>женат / замужем</td>\n",
       "      <td>0</td>\n",
       "      <td>M</td>\n",
       "      <td>сотрудник</td>\n",
       "      <td>0</td>\n",
       "      <td>267628</td>\n",
       "      <td>дополнительное образование</td>\n",
       "      <td>B</td>\n",
       "      <td>получение образования</td>\n",
       "    </tr>\n",
       "    <tr>\n",
       "      <th>4</th>\n",
       "      <td>0</td>\n",
       "      <td>340266.072047</td>\n",
       "      <td>53</td>\n",
       "      <td>среднее</td>\n",
       "      <td>1</td>\n",
       "      <td>гражданский брак</td>\n",
       "      <td>1</td>\n",
       "      <td>F</td>\n",
       "      <td>пенсионер</td>\n",
       "      <td>0</td>\n",
       "      <td>158616</td>\n",
       "      <td>сыграть свадьбу</td>\n",
       "      <td>C</td>\n",
       "      <td>проведение свадьбы</td>\n",
       "    </tr>\n",
       "  </tbody>\n",
       "</table>\n",
       "</div>"
      ],
      "text/plain": [
       "   children  days_employed  dob_years education  education_id  \\\n",
       "0         1    8437.673028         42    высшее             0   \n",
       "1         1    4024.803754         36   среднее             1   \n",
       "2         0    5623.422610         33   среднее             1   \n",
       "3         3    4124.747207         32   среднее             1   \n",
       "4         0  340266.072047         53   среднее             1   \n",
       "\n",
       "      family_status  family_status_id gender income_type  debt  total_income  \\\n",
       "0   женат / замужем                 0      F   сотрудник     0        253875   \n",
       "1   женат / замужем                 0      F   сотрудник     0        112080   \n",
       "2   женат / замужем                 0      M   сотрудник     0        145885   \n",
       "3   женат / замужем                 0      M   сотрудник     0        267628   \n",
       "4  гражданский брак                 1      F   пенсионер     0        158616   \n",
       "\n",
       "                      purpose total_income_category          purpose_category  \n",
       "0               покупка жилья                     B  операции с недвижимостью  \n",
       "1     приобретение автомобиля                     C    операции с автомобилем  \n",
       "2               покупка жилья                     C  операции с недвижимостью  \n",
       "3  дополнительное образование                     B     получение образования  \n",
       "4             сыграть свадьбу                     C        проведение свадьбы  "
      ]
     },
     "execution_count": 113,
     "metadata": {},
     "output_type": "execute_result"
    }
   ],
   "source": [
    "data.head()"
   ]
  },
  {
   "cell_type": "code",
   "execution_count": 114,
   "id": "7fcff25e",
   "metadata": {
    "deletable": false,
    "id": "7fcff25e"
   },
   "outputs": [
    {
     "data": {
      "text/html": [
       "<div>\n",
       "<style scoped>\n",
       "    .dataframe tbody tr th:only-of-type {\n",
       "        vertical-align: middle;\n",
       "    }\n",
       "\n",
       "    .dataframe tbody tr th {\n",
       "        vertical-align: top;\n",
       "    }\n",
       "\n",
       "    .dataframe thead th {\n",
       "        text-align: right;\n",
       "    }\n",
       "</style>\n",
       "<table border=\"1\" class=\"dataframe\">\n",
       "  <thead>\n",
       "    <tr style=\"text-align: right;\">\n",
       "      <th></th>\n",
       "      <th>no_debts</th>\n",
       "      <th>no_debt_overdue</th>\n",
       "      <th>share_overdue</th>\n",
       "      <th>%_of_total_debts</th>\n",
       "    </tr>\n",
       "    <tr>\n",
       "      <th>children</th>\n",
       "      <th></th>\n",
       "      <th></th>\n",
       "      <th></th>\n",
       "      <th></th>\n",
       "    </tr>\n",
       "  </thead>\n",
       "  <tbody>\n",
       "    <tr>\n",
       "      <th>4</th>\n",
       "      <td>41</td>\n",
       "      <td>4</td>\n",
       "      <td>9.8</td>\n",
       "      <td>0.19</td>\n",
       "    </tr>\n",
       "    <tr>\n",
       "      <th>2</th>\n",
       "      <td>2052</td>\n",
       "      <td>194</td>\n",
       "      <td>9.5</td>\n",
       "      <td>9.62</td>\n",
       "    </tr>\n",
       "    <tr>\n",
       "      <th>1</th>\n",
       "      <td>4808</td>\n",
       "      <td>444</td>\n",
       "      <td>9.2</td>\n",
       "      <td>22.54</td>\n",
       "    </tr>\n",
       "    <tr>\n",
       "      <th>3</th>\n",
       "      <td>330</td>\n",
       "      <td>27</td>\n",
       "      <td>8.2</td>\n",
       "      <td>1.55</td>\n",
       "    </tr>\n",
       "    <tr>\n",
       "      <th>0</th>\n",
       "      <td>14091</td>\n",
       "      <td>1063</td>\n",
       "      <td>7.5</td>\n",
       "      <td>66.06</td>\n",
       "    </tr>\n",
       "    <tr>\n",
       "      <th>5</th>\n",
       "      <td>9</td>\n",
       "      <td>0</td>\n",
       "      <td>0.0</td>\n",
       "      <td>0.04</td>\n",
       "    </tr>\n",
       "  </tbody>\n",
       "</table>\n",
       "</div>"
      ],
      "text/plain": [
       "          no_debts  no_debt_overdue  share_overdue  %_of_total_debts\n",
       "children                                                            \n",
       "4               41                4            9.8              0.19\n",
       "2             2052              194            9.5              9.62\n",
       "1             4808              444            9.2             22.54\n",
       "3              330               27            8.2              1.55\n",
       "0            14091             1063            7.5             66.06\n",
       "5                9                0            0.0              0.04"
      ]
     },
     "execution_count": 114,
     "metadata": {},
     "output_type": "execute_result"
    }
   ],
   "source": [
    "q_children = data.pivot_table(index = [ 'children'], values = 'debt', aggfunc = {'count','sum'})\n",
    "q_children = q_children.rename(columns={'count':'no_debts','sum':'no_debt_overdue'})\n",
    "#Здесь и далее переменные:\n",
    "#no_debts- число случаев задолженности по кредиту\n",
    "#share_overdue - % неплатежей\\задолженности по кредиту в категории\n",
    "#% - доля категории заемщика от общего числа\n",
    "\n",
    "q_children['share_overdue'] =100*round(q_children['no_debt_overdue']/q_children['no_debts'],3)\n",
    "q_children=q_children.sort_values(by='share_overdue', ascending=False)\n",
    "#расчет доли группы заемщиков от общего числа заемщиков\n",
    "q_children['%_of_total_debts']=100*round(q_children['no_debts']/q_children['no_debts'].sum(),4)\n",
    "q_children"
   ]
  },
  {
   "cell_type": "markdown",
   "id": "2eb9088e",
   "metadata": {
    "deletable": false,
    "id": "2eb9088e"
   },
   "source": [
    "**Вывод:** \n",
    "Выявлены незначительные девиации в уровне просрочки платежей по кредиту семей с разным числом детей. \n",
    "\n",
    "    - заемщики без детей - самая многочисленная группа и имеют самый низкий (7.5%) процент просрочки, за исключением семей с         пятью детьми (0%), число которых в выборке незначительное, лишь 0.04%.\n",
    "    - доля просрочек на 0.7% возрастает в сегменте заемщиков с двумя детьми, по сравнению с семьями с одним                           ребенком.\n",
    "    - в то время, как семьи с тремя детьми допускают просрочку несколько реже -8.2%, чем с двумя. Предположительно, достигая         большего уровня достатка ко времени рождения третьего ребенка.\n",
    "    - семьи с четырьмя детьми имеют наивысший уровень просрочки из всех сегментов выборки.\n",
    "   Таким образом, по мере роста числа детей в семье, риск просрочки возрастает, а доля просрочки выплат возрастает с шагом 0.7-    1%, на примере исследованных данных."
   ]
  },
  {
   "cell_type": "markdown",
   "id": "74c9b3a7",
   "metadata": {
    "deletable": false,
    "editable": false,
    "id": "74c9b3a7"
   },
   "source": [
    "#### 3.2 Есть ли зависимость между семейным положением и возвратом кредита в срок?"
   ]
  },
  {
   "cell_type": "code",
   "execution_count": 115,
   "id": "8098ab3b",
   "metadata": {
    "deletable": false,
    "id": "8098ab3b"
   },
   "outputs": [
    {
     "data": {
      "text/html": [
       "<div>\n",
       "<style scoped>\n",
       "    .dataframe tbody tr th:only-of-type {\n",
       "        vertical-align: middle;\n",
       "    }\n",
       "\n",
       "    .dataframe tbody tr th {\n",
       "        vertical-align: top;\n",
       "    }\n",
       "\n",
       "    .dataframe thead th {\n",
       "        text-align: right;\n",
       "    }\n",
       "</style>\n",
       "<table border=\"1\" class=\"dataframe\">\n",
       "  <thead>\n",
       "    <tr style=\"text-align: right;\">\n",
       "      <th></th>\n",
       "      <th>no_debts</th>\n",
       "      <th>no_debt_overdue</th>\n",
       "      <th>share_overdue</th>\n",
       "      <th>%</th>\n",
       "    </tr>\n",
       "    <tr>\n",
       "      <th>family_status</th>\n",
       "      <th></th>\n",
       "      <th></th>\n",
       "      <th></th>\n",
       "      <th></th>\n",
       "    </tr>\n",
       "  </thead>\n",
       "  <tbody>\n",
       "    <tr>\n",
       "      <th>Не женат / не замужем</th>\n",
       "      <td>2796</td>\n",
       "      <td>273</td>\n",
       "      <td>9.8</td>\n",
       "      <td>13.11</td>\n",
       "    </tr>\n",
       "    <tr>\n",
       "      <th>гражданский брак</th>\n",
       "      <td>4134</td>\n",
       "      <td>385</td>\n",
       "      <td>9.3</td>\n",
       "      <td>19.38</td>\n",
       "    </tr>\n",
       "    <tr>\n",
       "      <th>женат / замужем</th>\n",
       "      <td>12261</td>\n",
       "      <td>927</td>\n",
       "      <td>7.6</td>\n",
       "      <td>57.48</td>\n",
       "    </tr>\n",
       "    <tr>\n",
       "      <th>в разводе</th>\n",
       "      <td>1189</td>\n",
       "      <td>84</td>\n",
       "      <td>7.1</td>\n",
       "      <td>5.57</td>\n",
       "    </tr>\n",
       "    <tr>\n",
       "      <th>вдовец / вдова</th>\n",
       "      <td>951</td>\n",
       "      <td>63</td>\n",
       "      <td>6.6</td>\n",
       "      <td>4.46</td>\n",
       "    </tr>\n",
       "  </tbody>\n",
       "</table>\n",
       "</div>"
      ],
      "text/plain": [
       "                       no_debts  no_debt_overdue  share_overdue      %\n",
       "family_status                                                         \n",
       "Не женат / не замужем      2796              273            9.8  13.11\n",
       "гражданский брак           4134              385            9.3  19.38\n",
       "женат / замужем           12261              927            7.6  57.48\n",
       "в разводе                  1189               84            7.1   5.57\n",
       "вдовец / вдова              951               63            6.6   4.46"
      ]
     },
     "execution_count": 115,
     "metadata": {},
     "output_type": "execute_result"
    }
   ],
   "source": [
    "q_family_st = data.pivot_table(index = [ 'family_status'], values = 'debt', aggfunc = {'count','sum'})\n",
    "q_family_st = q_family_st.rename(columns={'count':'no_debts','sum':'no_debt_overdue'})\n",
    "q_family_st['share_overdue'] =100*round(q_family_st['no_debt_overdue']/q_family_st['no_debts'],3)\n",
    "q_family_st=q_family_st.sort_values(by='share_overdue', ascending=False)\n",
    "\n",
    "#расчет доли группы заемщиков от общего числа заемщиков\n",
    "q_family_st['%']=100*round(q_family_st['no_debts']/q_family_st['no_debts'].sum(),4)\n",
    "\n",
    "q_family_st"
   ]
  },
  {
   "cell_type": "markdown",
   "id": "c389ca63",
   "metadata": {
    "deletable": false,
    "id": "c389ca63"
   },
   "source": [
    "**Вывод:**\n",
    "    ** Заемщики, не состоявшие в браке, имеют наибольший процент просрочки - 0.098%. Сраввнимые по уровню - группа заемщиков,          состоящих в гражданском браке. Предположительно, и те и другие - самая молодая страта в выборке, обладают меньшим              уровнем финансовой стабильности.\n",
    "    ** заемщики, состоящие в браке или в разводе незначительно лучше по уровню просрочки - 0.076% и 0.071% соответственно.\n",
    "    ** вдовцы демонстрируют самый низкий процент просрочки. Вероятно, в силу педантичности и стабильного достатка                      представителей       старшего поколения.\n"
   ]
  },
  {
   "cell_type": "markdown",
   "id": "9529de68",
   "metadata": {
    "deletable": false,
    "editable": false,
    "id": "9529de68"
   },
   "source": [
    "#### 3.3 Есть ли зависимость между уровнем дохода и возвратом кредита в срок?"
   ]
  },
  {
   "cell_type": "code",
   "execution_count": 116,
   "id": "8787f44a",
   "metadata": {
    "deletable": false,
    "id": "8787f44a"
   },
   "outputs": [
    {
     "data": {
      "text/html": [
       "<div>\n",
       "<style scoped>\n",
       "    .dataframe tbody tr th:only-of-type {\n",
       "        vertical-align: middle;\n",
       "    }\n",
       "\n",
       "    .dataframe tbody tr th {\n",
       "        vertical-align: top;\n",
       "    }\n",
       "\n",
       "    .dataframe thead th {\n",
       "        text-align: right;\n",
       "    }\n",
       "</style>\n",
       "<table border=\"1\" class=\"dataframe\">\n",
       "  <thead>\n",
       "    <tr style=\"text-align: right;\">\n",
       "      <th></th>\n",
       "      <th>no_debts</th>\n",
       "      <th>no_debt_overdue</th>\n",
       "      <th>share_overdue</th>\n",
       "      <th>%</th>\n",
       "    </tr>\n",
       "    <tr>\n",
       "      <th>total_income_category</th>\n",
       "      <th></th>\n",
       "      <th></th>\n",
       "      <th></th>\n",
       "      <th></th>\n",
       "    </tr>\n",
       "  </thead>\n",
       "  <tbody>\n",
       "    <tr>\n",
       "      <th>E</th>\n",
       "      <td>22</td>\n",
       "      <td>2</td>\n",
       "      <td>9.1</td>\n",
       "      <td>0.10</td>\n",
       "    </tr>\n",
       "    <tr>\n",
       "      <th>C</th>\n",
       "      <td>15921</td>\n",
       "      <td>1353</td>\n",
       "      <td>8.5</td>\n",
       "      <td>74.64</td>\n",
       "    </tr>\n",
       "    <tr>\n",
       "      <th>A</th>\n",
       "      <td>25</td>\n",
       "      <td>2</td>\n",
       "      <td>8.0</td>\n",
       "      <td>0.12</td>\n",
       "    </tr>\n",
       "    <tr>\n",
       "      <th>B</th>\n",
       "      <td>5014</td>\n",
       "      <td>354</td>\n",
       "      <td>7.1</td>\n",
       "      <td>23.51</td>\n",
       "    </tr>\n",
       "    <tr>\n",
       "      <th>D</th>\n",
       "      <td>349</td>\n",
       "      <td>21</td>\n",
       "      <td>6.0</td>\n",
       "      <td>1.64</td>\n",
       "    </tr>\n",
       "  </tbody>\n",
       "</table>\n",
       "</div>"
      ],
      "text/plain": [
       "                       no_debts  no_debt_overdue  share_overdue      %\n",
       "total_income_category                                                 \n",
       "E                            22                2            9.1   0.10\n",
       "C                         15921             1353            8.5  74.64\n",
       "A                            25                2            8.0   0.12\n",
       "B                          5014              354            7.1  23.51\n",
       "D                           349               21            6.0   1.64"
      ]
     },
     "execution_count": 116,
     "metadata": {},
     "output_type": "execute_result"
    }
   ],
   "source": [
    "q_income_level = data.pivot_table(index = [ 'total_income_category'], values = 'debt', aggfunc = {'count','sum'})\n",
    "q_income_level = q_income_level.rename(columns={'count':'no_debts','sum':'no_debt_overdue'})\n",
    "q_income_level['share_overdue'] =100*round(q_income_level['no_debt_overdue']/q_income_level['no_debts'],3)\n",
    "#расчет доли группы заемщиков от общего числа заемщиков\n",
    "q_income_level['%']=100*round(q_income_level['no_debts']/q_income_level['no_debts'].sum(),4)\n",
    "\n",
    "q_income_level=q_income_level.sort_values(by='share_overdue', ascending=False)\n",
    "q_income_level"
   ]
  },
  {
   "cell_type": "markdown",
   "id": "6dd14b57",
   "metadata": {
    "deletable": false,
    "id": "6dd14b57"
   },
   "source": [
    "**Вывод:** \n",
    "Наибольший уровень просрочки в распределении по уровню дохода демонстрирует самая многочисленная группа по уровню достатка - группа С- 8.5% (кроме группы E, числом которых можно пренебречь, т.к. доля таких заемщиков составляет только 0.1%).\n",
    "Группа В - более обеспеченных заемщиков допускает просрочку на 1.4% случаев реже, доля кредитов заемщиков категории B ниже в 3 раза по сравнению с группой С.\n",
    "Самые малообеспеченные -D, опуская группу Е, занимают самую низкую доллю (6%) просроченной задолженности.\n",
    "Самые богатые не отличаются дисциплиной со своими 8% просрочки...\n",
    "\n"
   ]
  },
  {
   "cell_type": "markdown",
   "id": "2db9ce79",
   "metadata": {},
   "source": [
    "Извините, я не понимаю, что вы имеете в виду под \"несблансированностью выборок\". Мне казалось я в выводе как раз сделала акцент на две самые многочисленные группы. Нет?\n",
    "Изменила порядок сортировки выборки. Теперь по убыванию по параметру доли просрочки.\n",
    "Или код подправить, чтобы самые малочисленные в группу Other,например, были объеденены? Поясните, спасибо."
   ]
  },
  {
   "cell_type": "markdown",
   "id": "1dcc9b12",
   "metadata": {
    "deletable": false,
    "editable": false,
    "id": "1dcc9b12"
   },
   "source": [
    "#### 3.4 Как разные цели кредита влияют на его возврат в срок?"
   ]
  },
  {
   "cell_type": "code",
   "execution_count": 117,
   "id": "c602bc8b",
   "metadata": {
    "deletable": false,
    "id": "c602bc8b"
   },
   "outputs": [
    {
     "data": {
      "text/html": [
       "<div>\n",
       "<style scoped>\n",
       "    .dataframe tbody tr th:only-of-type {\n",
       "        vertical-align: middle;\n",
       "    }\n",
       "\n",
       "    .dataframe tbody tr th {\n",
       "        vertical-align: top;\n",
       "    }\n",
       "\n",
       "    .dataframe thead th {\n",
       "        text-align: right;\n",
       "    }\n",
       "</style>\n",
       "<table border=\"1\" class=\"dataframe\">\n",
       "  <thead>\n",
       "    <tr style=\"text-align: right;\">\n",
       "      <th></th>\n",
       "      <th>no_debts</th>\n",
       "      <th>no_debt_overdue</th>\n",
       "      <th>share_overdue</th>\n",
       "      <th>%</th>\n",
       "    </tr>\n",
       "    <tr>\n",
       "      <th>purpose_category</th>\n",
       "      <th></th>\n",
       "      <th></th>\n",
       "      <th></th>\n",
       "      <th></th>\n",
       "    </tr>\n",
       "  </thead>\n",
       "  <tbody>\n",
       "    <tr>\n",
       "      <th>операции с автомобилем</th>\n",
       "      <td>4279</td>\n",
       "      <td>400</td>\n",
       "      <td>9.3</td>\n",
       "      <td>20.06</td>\n",
       "    </tr>\n",
       "    <tr>\n",
       "      <th>операции с недвижимостью</th>\n",
       "      <td>10751</td>\n",
       "      <td>780</td>\n",
       "      <td>7.3</td>\n",
       "      <td>50.40</td>\n",
       "    </tr>\n",
       "    <tr>\n",
       "      <th>получение образования</th>\n",
       "      <td>3988</td>\n",
       "      <td>369</td>\n",
       "      <td>9.3</td>\n",
       "      <td>18.70</td>\n",
       "    </tr>\n",
       "    <tr>\n",
       "      <th>проведение свадьбы</th>\n",
       "      <td>2313</td>\n",
       "      <td>183</td>\n",
       "      <td>7.9</td>\n",
       "      <td>10.84</td>\n",
       "    </tr>\n",
       "  </tbody>\n",
       "</table>\n",
       "</div>"
      ],
      "text/plain": [
       "                          no_debts  no_debt_overdue  share_overdue      %\n",
       "purpose_category                                                         \n",
       "операции с автомобилем        4279              400            9.3  20.06\n",
       "операции с недвижимостью     10751              780            7.3  50.40\n",
       "получение образования         3988              369            9.3  18.70\n",
       "проведение свадьбы            2313              183            7.9  10.84"
      ]
     },
     "execution_count": 117,
     "metadata": {},
     "output_type": "execute_result"
    }
   ],
   "source": [
    "q_purpose = data.pivot_table(index = ['purpose_category'], values = 'debt', aggfunc = {'count','sum'})\n",
    "q_purpose = q_purpose.rename(columns={'count':'no_debts','sum':'no_debt_overdue'})\n",
    "q_purpose['share_overdue']=100*round(q_purpose['no_debt_overdue']/q_purpose['no_debts'],3)\n",
    "#расчет доли группы заемщиков от общего числа заемщиков\n",
    "q_purpose['%']=100*round(q_purpose['no_debts']/q_purpose['no_debts'].sum(),4)\n",
    "\n",
    "q_purpose=q_purpose.sort_values(by='purpose_category', ascending=True)\n",
    "q_purpose\n",
    "\n"
   ]
  },
  {
   "cell_type": "markdown",
   "id": "cf05ed63",
   "metadata": {
    "deletable": false,
    "id": "cf05ed63"
   },
   "source": [
    "**Вывод:** \n",
    "заемщики для целей оплаты образования и покупки автомобиля имеют одинаково высокую долю просрочки - 9.3%.\n",
    "Две прочие группы - операции с недвижимостью и проведение свадьбы - значительно ниже - 7.3% и 7.9% соответственно."
   ]
  },
  {
   "cell_type": "markdown",
   "id": "46c1f10b",
   "metadata": {
    "deletable": false,
    "editable": false,
    "id": "46c1f10b"
   },
   "source": [
    "#### 3.5 Приведите возможные причины появления пропусков в исходных данных."
   ]
  },
  {
   "cell_type": "markdown",
   "id": "3697d2a9",
   "metadata": {
    "deletable": false,
    "id": "3697d2a9"
   },
   "source": [
    "*Ответ:* Т.к. число пропущенных значений в двух параметрах - общий трудовой стаж и ежемесячный доход - одинаковое, возможно 2174 кредита оформили клиенты, не являющиеся \"зарплатными\" (банк-кредитор не предоставляет услуги РКО организации-работодателя потенциального заемщика) для кредитора. Т.о. кредитор не получает актуальной информации об уровне дохода и стаже заемщика."
   ]
  },
  {
   "cell_type": "markdown",
   "id": "b878d477",
   "metadata": {},
   "source": [
    "не понимаете, что значит \"зарплатный клиент\"? это как? m\n",
    "Никаких зависимостей здесь я не вижу. Наверное можно было не заполнять эти данные, поэтому не внесли."
   ]
  },
  {
   "cell_type": "markdown",
   "id": "af45c5a2",
   "metadata": {},
   "source": [
    "Евгения, прошу, не тратье мое время настолько непродуктивно...\n",
    "я выдвинула вполне валидную теорию,почему данные не заполнены. настолько же валидную как и то, что вы предлагаете - человек не заполнил, пр..\n"
   ]
  },
  {
   "cell_type": "markdown",
   "id": "3137d257",
   "metadata": {
    "deletable": false,
    "editable": false,
    "id": "3137d257"
   },
   "source": [
    "#### 3.6 Объясните, почему заполнить пропуски медианным значением — лучшее решение для количественных переменных."
   ]
  },
  {
   "cell_type": "markdown",
   "id": "cf40012a",
   "metadata": {
    "deletable": false,
    "id": "cf40012a"
   },
   "source": [
    "*Ответ:* чтобы не исключать данные из последующего расчета искомого в рамках исследования, удаляя строки. лучше использовать медианное значение группы по критерию, определяюему гомогенную группу, в данном случае, для определения медианного уровня среднего дохода, можно использовать медианное значение типа занятости.\n",
    "Медианое значение предпочтительней среднеарифметического, т.к. оно менее чувствительно к экстремальным выбросам в данных. "
   ]
  },
  {
   "cell_type": "markdown",
   "id": "b281667c",
   "metadata": {},
   "source": [
    "Дополнила ответ."
   ]
  },
  {
   "cell_type": "markdown",
   "id": "57bc304e",
   "metadata": {
    "deletable": false,
    "editable": false,
    "id": "57bc304e"
   },
   "source": [
    "### Шаг 4: общий вывод."
   ]
  },
  {
   "cell_type": "code",
   "execution_count": 118,
   "id": "f8bd5a2f",
   "metadata": {
    "id": "c602bc8b",
    "scrolled": true
   },
   "outputs": [
    {
     "data": {
      "text/html": [
       "<div>\n",
       "<style scoped>\n",
       "    .dataframe tbody tr th:only-of-type {\n",
       "        vertical-align: middle;\n",
       "    }\n",
       "\n",
       "    .dataframe tbody tr th {\n",
       "        vertical-align: top;\n",
       "    }\n",
       "\n",
       "    .dataframe thead th {\n",
       "        text-align: right;\n",
       "    }\n",
       "</style>\n",
       "<table border=\"1\" class=\"dataframe\">\n",
       "  <thead>\n",
       "    <tr style=\"text-align: right;\">\n",
       "      <th></th>\n",
       "      <th></th>\n",
       "      <th></th>\n",
       "      <th></th>\n",
       "      <th>no_debts</th>\n",
       "      <th>no_debt_overdue</th>\n",
       "      <th>share_overdue</th>\n",
       "      <th>%</th>\n",
       "    </tr>\n",
       "    <tr>\n",
       "      <th>family_status</th>\n",
       "      <th>children</th>\n",
       "      <th>total_income_category</th>\n",
       "      <th>purpose_category</th>\n",
       "      <th></th>\n",
       "      <th></th>\n",
       "      <th></th>\n",
       "      <th></th>\n",
       "    </tr>\n",
       "  </thead>\n",
       "  <tbody>\n",
       "    <tr>\n",
       "      <th rowspan=\"2\" valign=\"top\">гражданский брак</th>\n",
       "      <th rowspan=\"2\" valign=\"top\">1</th>\n",
       "      <th rowspan=\"2\" valign=\"top\">C</th>\n",
       "      <th>получение образования</th>\n",
       "      <td>73</td>\n",
       "      <td>14</td>\n",
       "      <td>19.18</td>\n",
       "      <td>0.34</td>\n",
       "    </tr>\n",
       "    <tr>\n",
       "      <th>операции с автомобилем</th>\n",
       "      <td>76</td>\n",
       "      <td>13</td>\n",
       "      <td>17.11</td>\n",
       "      <td>0.36</td>\n",
       "    </tr>\n",
       "    <tr>\n",
       "      <th>Не женат / не замужем</th>\n",
       "      <th>1</th>\n",
       "      <th>C</th>\n",
       "      <th>операции с автомобилем</th>\n",
       "      <td>73</td>\n",
       "      <td>12</td>\n",
       "      <td>16.44</td>\n",
       "      <td>0.34</td>\n",
       "    </tr>\n",
       "    <tr>\n",
       "      <th rowspan=\"2\" valign=\"top\">гражданский брак</th>\n",
       "      <th>0</th>\n",
       "      <th>C</th>\n",
       "      <th>получение образования</th>\n",
       "      <td>195</td>\n",
       "      <td>29</td>\n",
       "      <td>14.87</td>\n",
       "      <td>0.91</td>\n",
       "    </tr>\n",
       "    <tr>\n",
       "      <th>1</th>\n",
       "      <th>C</th>\n",
       "      <th>операции с недвижимостью</th>\n",
       "      <td>192</td>\n",
       "      <td>26</td>\n",
       "      <td>13.54</td>\n",
       "      <td>0.90</td>\n",
       "    </tr>\n",
       "    <tr>\n",
       "      <th>женат / замужем</th>\n",
       "      <th>2</th>\n",
       "      <th>B</th>\n",
       "      <th>получение образования</th>\n",
       "      <td>71</td>\n",
       "      <td>9</td>\n",
       "      <td>12.68</td>\n",
       "      <td>0.33</td>\n",
       "    </tr>\n",
       "    <tr>\n",
       "      <th rowspan=\"3\" valign=\"top\">Не женат / не замужем</th>\n",
       "      <th>0</th>\n",
       "      <th>C</th>\n",
       "      <th>операции с автомобилем</th>\n",
       "      <td>396</td>\n",
       "      <td>49</td>\n",
       "      <td>12.37</td>\n",
       "      <td>1.86</td>\n",
       "    </tr>\n",
       "    <tr>\n",
       "      <th>1</th>\n",
       "      <th>B</th>\n",
       "      <th>операции с недвижимостью</th>\n",
       "      <td>66</td>\n",
       "      <td>8</td>\n",
       "      <td>12.12</td>\n",
       "      <td>0.31</td>\n",
       "    </tr>\n",
       "    <tr>\n",
       "      <th>0</th>\n",
       "      <th>B</th>\n",
       "      <th>операции с автомобилем</th>\n",
       "      <td>119</td>\n",
       "      <td>14</td>\n",
       "      <td>11.76</td>\n",
       "      <td>0.56</td>\n",
       "    </tr>\n",
       "    <tr>\n",
       "      <th>женат / замужем</th>\n",
       "      <th>2</th>\n",
       "      <th>B</th>\n",
       "      <th>операции с автомобилем</th>\n",
       "      <td>85</td>\n",
       "      <td>10</td>\n",
       "      <td>11.76</td>\n",
       "      <td>0.40</td>\n",
       "    </tr>\n",
       "  </tbody>\n",
       "</table>\n",
       "</div>"
      ],
      "text/plain": [
       "                                                                               no_debts  \\\n",
       "family_status         children total_income_category purpose_category                     \n",
       "гражданский брак      1        C                     получение образования           73   \n",
       "                                                     операции с автомобилем          76   \n",
       "Не женат / не замужем 1        C                     операции с автомобилем          73   \n",
       "гражданский брак      0        C                     получение образования          195   \n",
       "                      1        C                     операции с недвижимостью       192   \n",
       "женат / замужем       2        B                     получение образования           71   \n",
       "Не женат / не замужем 0        C                     операции с автомобилем         396   \n",
       "                      1        B                     операции с недвижимостью        66   \n",
       "                      0        B                     операции с автомобилем         119   \n",
       "женат / замужем       2        B                     операции с автомобилем          85   \n",
       "\n",
       "                                                                               no_debt_overdue  \\\n",
       "family_status         children total_income_category purpose_category                            \n",
       "гражданский брак      1        C                     получение образования                  14   \n",
       "                                                     операции с автомобилем                 13   \n",
       "Не женат / не замужем 1        C                     операции с автомобилем                 12   \n",
       "гражданский брак      0        C                     получение образования                  29   \n",
       "                      1        C                     операции с недвижимостью               26   \n",
       "женат / замужем       2        B                     получение образования                   9   \n",
       "Не женат / не замужем 0        C                     операции с автомобилем                 49   \n",
       "                      1        B                     операции с недвижимостью                8   \n",
       "                      0        B                     операции с автомобилем                 14   \n",
       "женат / замужем       2        B                     операции с автомобилем                 10   \n",
       "\n",
       "                                                                               share_overdue  \\\n",
       "family_status         children total_income_category purpose_category                          \n",
       "гражданский брак      1        C                     получение образования             19.18   \n",
       "                                                     операции с автомобилем            17.11   \n",
       "Не женат / не замужем 1        C                     операции с автомобилем            16.44   \n",
       "гражданский брак      0        C                     получение образования             14.87   \n",
       "                      1        C                     операции с недвижимостью          13.54   \n",
       "женат / замужем       2        B                     получение образования             12.68   \n",
       "Не женат / не замужем 0        C                     операции с автомобилем            12.37   \n",
       "                      1        B                     операции с недвижимостью          12.12   \n",
       "                      0        B                     операции с автомобилем            11.76   \n",
       "женат / замужем       2        B                     операции с автомобилем            11.76   \n",
       "\n",
       "                                                                                  %  \n",
       "family_status         children total_income_category purpose_category                \n",
       "гражданский брак      1        C                     получение образования     0.34  \n",
       "                                                     операции с автомобилем    0.36  \n",
       "Не женат / не замужем 1        C                     операции с автомобилем    0.34  \n",
       "гражданский брак      0        C                     получение образования     0.91  \n",
       "                      1        C                     операции с недвижимостью  0.90  \n",
       "женат / замужем       2        B                     получение образования     0.33  \n",
       "Не женат / не замужем 0        C                     операции с автомобилем    1.86  \n",
       "                      1        B                     операции с недвижимостью  0.31  \n",
       "                      0        B                     операции с автомобилем    0.56  \n",
       "женат / замужем       2        B                     операции с автомобилем    0.40  "
      ]
     },
     "execution_count": 118,
     "metadata": {},
     "output_type": "execute_result"
    }
   ],
   "source": [
    "#дополнение:\n",
    "all_factors = data.pivot_table(index = ['family_status','children','total_income_category','purpose_category'], values = 'debt', aggfunc = {'count','sum'})\n",
    "all_factors = all_factors.rename(columns={'count':'no_debts','sum':'no_debt_overdue'})\n",
    "all_factors['share_overdue']=100*round(all_factors['no_debt_overdue']/all_factors['no_debts'],4)\n",
    "#расчет доли группы заемщиков от общего числа заемщиков\n",
    "all_factors['%']=100*round(all_factors['no_debts']/q_purpose['no_debts'].sum(),4)\n",
    "#отбираю не менее 50 случаев проосрочки в срезе, чтобы избежать экстремальных значений с небольшой частотой.\n",
    "all_factors=all_factors[all_factors['no_debts']>=50].sort_values(by=['share_overdue','%'], ascending=[False,False])\n",
    "all_factors.head(10)\n"
   ]
  },
  {
   "cell_type": "markdown",
   "id": "1ab75d1c",
   "metadata": {
    "deletable": false,
    "id": "1ab75d1c"
   },
   "source": [
    "\n",
    "Входные данные — статистика банка о платёжеспособности клиентов на основании 21.5 тыс. выданных ранее кредитов.\n",
    "\n",
    "Основная задача исследования:влияет ли семейное положение и количество детей клиента на факт погашения кредита в срок. \n",
    "\n",
    "Доступные параметры:\n",
    "*  children — количество детей в семье\n",
    "*  days_employed — общий трудовой стаж в днях\n",
    "*  dob_years — возраст клиента в годах\n",
    "*  education — уровень образования клиента\n",
    "*  education_id — идентификатор уровня образования\n",
    "*  family_status — семейное положение\n",
    "*  family_status_id — идентификатор семейного положения\n",
    "*  gender — пол клиента\n",
    "*  income_type — тип занятости\n",
    "*  debt — имел ли задолженность по возврату кредитов\n",
    "*  total_income — ежемесячный доход\n",
    "*  purpose — цель получения кредита\n",
    "\n",
    "Вывод: \n",
    "1. Выявлена корреляция между уровнем просрочки и количеством детей в семье:\n",
    "\n",
    "*  заемщики без детей имеют самый низкий (7.5%) процент просрочки.\n",
    "*  доля просрочек возрастает по мере роста числа детей: 1- 9.2%б 2- 9.7%.\n",
    "*  тем не менее, семьи с 3 детьми допускают просрочку несколько реже -8.2%, чем с двумя. Предположительно, достигая                большего уровня достатка ко времени рождения третьего ребенка.\n",
    "*  семьи с 4 детьми имеют наивысший уровень просрочки из всех сегментов выборки.\n",
    "\n",
    "Число - Доля\n",
    "детей   просрочек, %\n",
    "\n",
    "4     - 9.9%\n",
    "\n",
    "2     - 9.5%\n",
    "\n",
    "1\t  - 9.2%\t\n",
    "\n",
    "3\t  - 8.2%\n",
    "\n",
    "0\t  - 7.5%\n",
    "\n",
    "\n",
    "2. Выявлена, зависимость уровня просрочки от семейного положения заемщика:\n",
    "\n",
    "*  Заемщики, не состоявшие в браке, имеют наибольший процент просрочки - 0.098%. Сраввнимые по уровню - группа заемщиков,          состоящих в гражданском браке. Предположительно, и те и другие - самая молодая страта в выборке, обладают меньшим уровнем      финансовой стабильности. \n",
    "*  Заемщики, состоящие в браке или в разводе незначительно лучше по уровню просрочки - 0.076% и 0.071% соответственно. \n",
    "*  Вдовцы демонстрируют самый низкий процент просрочки. Вероятно, в силу педантичности и стабильного достатка представителей      старшего поколения.\n",
    "\n",
    "Также,исходя из исследования: наиболее вероятный профиль неблагонадежного заемщика - молодые люди (предположительно) со средним достатком от 50 до 200 т./мес. и ниже, неженатые или состоящие в гражданском браке, имеющие 1 или 2х детей, с целью кредита - покупка автомобиля или оплата образования. Сочетание всех перечисленных факторов в совокупности подробно не изучалось. Но каждый из перечисленных в отдельности, или в сочетании с другим, характеризует клиентов с повышенным риском просрочки.\n",
    "\n",
    "Кредитором допущен довольно высокий уроверь просрочки платежей.\n",
    "Предположительно, следует отдельно изучить уровень просрочки клиентов, не предоставивших данные о ежемесячном доходе и типе занятости. \n",
    "Организовать сбор данных (или восстановить при выгрузке) о доходе и стаже для таких заемщиков.\n"
   ]
  }
 ],
 "metadata": {
  "ExecuteTimeLog": [
   {
    "duration": 49,
    "start_time": "2024-02-07T01:02:32.416Z"
   },
   {
    "duration": 503,
    "start_time": "2024-02-07T01:02:53.412Z"
   },
   {
    "duration": 22,
    "start_time": "2024-02-07T01:02:53.917Z"
   },
   {
    "duration": 28,
    "start_time": "2024-02-07T01:02:53.940Z"
   },
   {
    "duration": 21,
    "start_time": "2024-02-07T01:02:53.970Z"
   },
   {
    "duration": 43,
    "start_time": "2024-02-07T01:02:53.993Z"
   },
   {
    "duration": 4,
    "start_time": "2024-02-07T01:02:54.038Z"
   },
   {
    "duration": 51,
    "start_time": "2024-02-07T01:02:54.043Z"
   },
   {
    "duration": 5,
    "start_time": "2024-02-07T01:02:54.096Z"
   },
   {
    "duration": 45,
    "start_time": "2024-02-07T01:02:54.102Z"
   },
   {
    "duration": 38,
    "start_time": "2024-02-07T01:02:54.149Z"
   },
   {
    "duration": 38,
    "start_time": "2024-02-07T01:02:54.188Z"
   },
   {
    "duration": 11,
    "start_time": "2024-02-07T01:02:54.227Z"
   },
   {
    "duration": 5,
    "start_time": "2024-02-07T01:02:54.240Z"
   },
   {
    "duration": 27,
    "start_time": "2024-02-07T01:02:54.246Z"
   },
   {
    "duration": 36,
    "start_time": "2024-02-07T01:02:54.276Z"
   },
   {
    "duration": 16,
    "start_time": "2024-02-07T01:02:54.313Z"
   },
   {
    "duration": 3,
    "start_time": "2024-02-07T01:02:54.330Z"
   },
   {
    "duration": 16,
    "start_time": "2024-02-07T01:02:54.335Z"
   },
   {
    "duration": 5,
    "start_time": "2024-02-07T01:02:54.353Z"
   },
   {
    "duration": 19,
    "start_time": "2024-02-07T01:02:54.359Z"
   },
   {
    "duration": 26,
    "start_time": "2024-02-07T01:02:54.379Z"
   },
   {
    "duration": 81,
    "start_time": "2024-02-07T01:02:54.406Z"
   },
   {
    "duration": 0,
    "start_time": "2024-02-07T01:02:54.489Z"
   },
   {
    "duration": 0,
    "start_time": "2024-02-07T01:02:54.490Z"
   },
   {
    "duration": 0,
    "start_time": "2024-02-07T01:02:54.491Z"
   },
   {
    "duration": 50,
    "start_time": "2024-02-08T18:39:25.874Z"
   },
   {
    "duration": 580,
    "start_time": "2024-02-08T18:39:40.171Z"
   },
   {
    "duration": 24,
    "start_time": "2024-02-08T18:39:40.753Z"
   },
   {
    "duration": 45,
    "start_time": "2024-02-08T18:39:40.779Z"
   },
   {
    "duration": 44,
    "start_time": "2024-02-08T18:39:40.827Z"
   },
   {
    "duration": 51,
    "start_time": "2024-02-08T18:39:40.873Z"
   },
   {
    "duration": 4,
    "start_time": "2024-02-08T18:39:40.925Z"
   },
   {
    "duration": 22,
    "start_time": "2024-02-08T18:39:40.931Z"
   },
   {
    "duration": 7,
    "start_time": "2024-02-08T18:39:40.955Z"
   },
   {
    "duration": 8,
    "start_time": "2024-02-08T18:39:40.964Z"
   },
   {
    "duration": 7,
    "start_time": "2024-02-08T18:39:40.975Z"
   },
   {
    "duration": 45,
    "start_time": "2024-02-08T18:39:40.983Z"
   },
   {
    "duration": 12,
    "start_time": "2024-02-08T18:39:41.029Z"
   },
   {
    "duration": 17,
    "start_time": "2024-02-08T18:39:41.043Z"
   },
   {
    "duration": 14,
    "start_time": "2024-02-08T18:39:41.062Z"
   },
   {
    "duration": 30,
    "start_time": "2024-02-08T18:39:41.078Z"
   },
   {
    "duration": 18,
    "start_time": "2024-02-08T18:39:41.110Z"
   },
   {
    "duration": 4,
    "start_time": "2024-02-08T18:39:41.130Z"
   },
   {
    "duration": 15,
    "start_time": "2024-02-08T18:39:41.135Z"
   },
   {
    "duration": 10,
    "start_time": "2024-02-08T18:39:41.152Z"
   },
   {
    "duration": 4,
    "start_time": "2024-02-08T18:39:41.192Z"
   },
   {
    "duration": 17,
    "start_time": "2024-02-08T18:39:41.197Z"
   },
   {
    "duration": 22,
    "start_time": "2024-02-08T18:39:41.216Z"
   },
   {
    "duration": 3,
    "start_time": "2024-02-08T18:39:41.240Z"
   },
   {
    "duration": 7,
    "start_time": "2024-02-08T18:39:41.246Z"
   },
   {
    "duration": 3,
    "start_time": "2024-02-08T18:39:41.255Z"
   },
   {
    "duration": 9,
    "start_time": "2024-02-08T18:39:51.919Z"
   },
   {
    "duration": 9,
    "start_time": "2024-02-08T18:39:54.415Z"
   },
   {
    "duration": 28,
    "start_time": "2024-02-08T18:39:57.226Z"
   },
   {
    "duration": 21,
    "start_time": "2024-02-08T18:40:12.119Z"
   },
   {
    "duration": 19,
    "start_time": "2024-02-08T18:40:16.749Z"
   },
   {
    "duration": 21,
    "start_time": "2024-02-08T19:09:21.811Z"
   },
   {
    "duration": 20,
    "start_time": "2024-02-08T19:10:36.679Z"
   },
   {
    "duration": 19,
    "start_time": "2024-02-08T19:10:55.339Z"
   },
   {
    "duration": 20,
    "start_time": "2024-02-08T19:14:26.729Z"
   },
   {
    "duration": 87,
    "start_time": "2024-02-08T19:15:30.584Z"
   },
   {
    "duration": 21,
    "start_time": "2024-02-08T19:16:53.599Z"
   },
   {
    "duration": 21,
    "start_time": "2024-02-08T19:17:10.951Z"
   },
   {
    "duration": 23,
    "start_time": "2024-02-08T19:17:16.839Z"
   },
   {
    "duration": 18,
    "start_time": "2024-02-08T19:17:56.590Z"
   },
   {
    "duration": 24,
    "start_time": "2024-02-08T19:18:01.423Z"
   },
   {
    "duration": 27,
    "start_time": "2024-02-08T19:18:11.079Z"
   },
   {
    "duration": 25,
    "start_time": "2024-02-08T19:21:29.006Z"
   },
   {
    "duration": 84,
    "start_time": "2024-02-08T19:22:15.878Z"
   },
   {
    "duration": 23,
    "start_time": "2024-02-08T19:22:30.039Z"
   },
   {
    "duration": 23,
    "start_time": "2024-02-08T19:23:04.350Z"
   },
   {
    "duration": 530,
    "start_time": "2024-02-08T19:32:07.556Z"
   },
   {
    "duration": 23,
    "start_time": "2024-02-08T19:32:08.088Z"
   },
   {
    "duration": 16,
    "start_time": "2024-02-08T19:32:08.113Z"
   },
   {
    "duration": 17,
    "start_time": "2024-02-08T19:32:08.130Z"
   },
   {
    "duration": 46,
    "start_time": "2024-02-08T19:32:08.149Z"
   },
   {
    "duration": 4,
    "start_time": "2024-02-08T19:32:08.197Z"
   },
   {
    "duration": 10,
    "start_time": "2024-02-08T19:32:08.203Z"
   },
   {
    "duration": 5,
    "start_time": "2024-02-08T19:32:08.215Z"
   },
   {
    "duration": 9,
    "start_time": "2024-02-08T19:32:08.221Z"
   },
   {
    "duration": 4,
    "start_time": "2024-02-08T19:32:08.232Z"
   },
   {
    "duration": 75,
    "start_time": "2024-02-08T19:32:08.238Z"
   },
   {
    "duration": 10,
    "start_time": "2024-02-08T19:32:08.315Z"
   },
   {
    "duration": 13,
    "start_time": "2024-02-08T19:32:08.327Z"
   },
   {
    "duration": 17,
    "start_time": "2024-02-08T19:32:08.343Z"
   },
   {
    "duration": 42,
    "start_time": "2024-02-08T19:32:08.361Z"
   },
   {
    "duration": 19,
    "start_time": "2024-02-08T19:32:08.404Z"
   },
   {
    "duration": 4,
    "start_time": "2024-02-08T19:32:08.424Z"
   },
   {
    "duration": 25,
    "start_time": "2024-02-08T19:32:08.430Z"
   },
   {
    "duration": 6,
    "start_time": "2024-02-08T19:32:08.457Z"
   },
   {
    "duration": 10,
    "start_time": "2024-02-08T19:32:08.464Z"
   },
   {
    "duration": 37,
    "start_time": "2024-02-08T19:32:08.476Z"
   },
   {
    "duration": 23,
    "start_time": "2024-02-08T19:32:08.515Z"
   },
   {
    "duration": 21,
    "start_time": "2024-02-08T19:32:08.539Z"
   },
   {
    "duration": 3,
    "start_time": "2024-02-08T19:32:08.561Z"
   },
   {
    "duration": 26,
    "start_time": "2024-02-08T19:32:08.565Z"
   },
   {
    "duration": 19,
    "start_time": "2024-02-08T19:39:44.243Z"
   },
   {
    "duration": 29,
    "start_time": "2024-02-08T19:40:51.963Z"
   },
   {
    "duration": 83,
    "start_time": "2024-02-08T19:42:50.060Z"
   },
   {
    "duration": 22,
    "start_time": "2024-02-08T19:43:03.170Z"
   },
   {
    "duration": 22,
    "start_time": "2024-02-08T19:43:08.566Z"
   },
   {
    "duration": 25,
    "start_time": "2024-02-08T19:43:31.743Z"
   },
   {
    "duration": 27,
    "start_time": "2024-02-08T19:43:41.420Z"
   },
   {
    "duration": 21,
    "start_time": "2024-02-08T19:44:00.907Z"
   },
   {
    "duration": 23,
    "start_time": "2024-02-08T19:44:19.410Z"
   },
   {
    "duration": 21,
    "start_time": "2024-02-08T19:44:36.158Z"
   },
   {
    "duration": 23,
    "start_time": "2024-02-08T19:58:15.225Z"
   },
   {
    "duration": 22,
    "start_time": "2024-02-08T19:59:08.464Z"
   },
   {
    "duration": 21,
    "start_time": "2024-02-08T19:59:43.570Z"
   },
   {
    "duration": 942,
    "start_time": "2024-02-08T20:04:14.592Z"
   },
   {
    "duration": 25,
    "start_time": "2024-02-08T20:04:46.957Z"
   },
   {
    "duration": 26,
    "start_time": "2024-02-08T20:05:27.304Z"
   },
   {
    "duration": 24,
    "start_time": "2024-02-08T20:05:57.217Z"
   },
   {
    "duration": 94,
    "start_time": "2024-02-08T20:06:30.513Z"
   },
   {
    "duration": 25,
    "start_time": "2024-02-08T20:06:38.769Z"
   },
   {
    "duration": 85,
    "start_time": "2024-02-08T20:08:08.352Z"
   },
   {
    "duration": 24,
    "start_time": "2024-02-08T20:08:17.627Z"
   },
   {
    "duration": 27,
    "start_time": "2024-02-08T20:09:50.583Z"
   },
   {
    "duration": 23,
    "start_time": "2024-02-08T20:10:15.023Z"
   },
   {
    "duration": 28,
    "start_time": "2024-02-08T20:10:22.132Z"
   },
   {
    "duration": 22,
    "start_time": "2024-02-08T20:11:23.153Z"
   },
   {
    "duration": 28,
    "start_time": "2024-02-08T20:11:50.062Z"
   },
   {
    "duration": 25,
    "start_time": "2024-02-08T20:14:08.001Z"
   },
   {
    "duration": 26,
    "start_time": "2024-02-08T20:14:13.679Z"
   },
   {
    "duration": 25,
    "start_time": "2024-02-08T20:15:14.612Z"
   },
   {
    "duration": 976,
    "start_time": "2024-02-08T20:18:43.437Z"
   },
   {
    "duration": 87,
    "start_time": "2024-02-08T20:19:05.225Z"
   },
   {
    "duration": 870,
    "start_time": "2024-02-08T20:19:47.002Z"
   },
   {
    "duration": 863,
    "start_time": "2024-02-08T20:19:57.642Z"
   },
   {
    "duration": 886,
    "start_time": "2024-02-08T20:20:58.767Z"
   },
   {
    "duration": 29,
    "start_time": "2024-02-08T20:24:31.359Z"
   },
   {
    "duration": 23,
    "start_time": "2024-02-08T20:25:24.435Z"
   },
   {
    "duration": 23,
    "start_time": "2024-02-08T20:25:32.373Z"
   },
   {
    "duration": 22,
    "start_time": "2024-02-08T20:26:10.720Z"
   },
   {
    "duration": 4,
    "start_time": "2024-02-08T20:28:31.045Z"
   },
   {
    "duration": 25,
    "start_time": "2024-02-08T20:28:37.647Z"
   },
   {
    "duration": 34,
    "start_time": "2024-02-08T20:28:58.205Z"
   },
   {
    "duration": 24,
    "start_time": "2024-02-08T20:29:32.300Z"
   },
   {
    "duration": 23,
    "start_time": "2024-02-08T20:30:46.953Z"
   },
   {
    "duration": 22,
    "start_time": "2024-02-08T20:31:04.064Z"
   },
   {
    "duration": 21,
    "start_time": "2024-02-08T20:31:15.904Z"
   },
   {
    "duration": 21,
    "start_time": "2024-02-08T20:35:10.960Z"
   },
   {
    "duration": 20,
    "start_time": "2024-02-08T20:36:33.121Z"
   },
   {
    "duration": 22,
    "start_time": "2024-02-08T20:36:55.499Z"
   },
   {
    "duration": 21,
    "start_time": "2024-02-08T20:37:26.969Z"
   },
   {
    "duration": 19,
    "start_time": "2024-02-08T20:37:36.127Z"
   },
   {
    "duration": 22,
    "start_time": "2024-02-08T20:37:48.926Z"
   },
   {
    "duration": 24,
    "start_time": "2024-02-08T20:39:29.564Z"
   },
   {
    "duration": 21,
    "start_time": "2024-02-08T20:39:42.384Z"
   },
   {
    "duration": 20,
    "start_time": "2024-02-08T20:39:57.407Z"
   },
   {
    "duration": 20,
    "start_time": "2024-02-08T20:40:23.246Z"
   },
   {
    "duration": 24,
    "start_time": "2024-02-08T20:42:46.244Z"
   },
   {
    "duration": 22,
    "start_time": "2024-02-08T20:45:32.157Z"
   },
   {
    "duration": 24,
    "start_time": "2024-02-08T20:46:03.884Z"
   },
   {
    "duration": 24,
    "start_time": "2024-02-08T20:46:07.635Z"
   },
   {
    "duration": 30,
    "start_time": "2024-02-08T20:46:10.347Z"
   },
   {
    "duration": 23,
    "start_time": "2024-02-08T20:46:42.813Z"
   },
   {
    "duration": 87,
    "start_time": "2024-02-08T20:47:01.325Z"
   },
   {
    "duration": 87,
    "start_time": "2024-02-08T20:47:07.723Z"
   },
   {
    "duration": 21,
    "start_time": "2024-02-08T20:47:16.404Z"
   },
   {
    "duration": 22,
    "start_time": "2024-02-08T20:47:51.316Z"
   },
   {
    "duration": 90,
    "start_time": "2024-02-08T20:48:10.389Z"
   },
   {
    "duration": 91,
    "start_time": "2024-02-08T20:48:28.117Z"
   },
   {
    "duration": 23,
    "start_time": "2024-02-08T20:48:41.339Z"
   },
   {
    "duration": 24,
    "start_time": "2024-02-08T20:48:57.643Z"
   },
   {
    "duration": 25,
    "start_time": "2024-02-08T20:49:19.355Z"
   },
   {
    "duration": 24,
    "start_time": "2024-02-08T20:59:34.144Z"
   },
   {
    "duration": 26,
    "start_time": "2024-02-08T21:00:41.736Z"
   },
   {
    "duration": 31,
    "start_time": "2024-02-08T21:02:44.198Z"
   },
   {
    "duration": 25,
    "start_time": "2024-02-08T21:03:09.638Z"
   },
   {
    "duration": 26,
    "start_time": "2024-02-08T21:05:42.373Z"
   },
   {
    "duration": 29,
    "start_time": "2024-02-08T21:07:03.875Z"
   },
   {
    "duration": 24,
    "start_time": "2024-02-08T21:07:56.371Z"
   },
   {
    "duration": 33,
    "start_time": "2024-02-08T21:45:05.873Z"
   },
   {
    "duration": 31,
    "start_time": "2024-02-08T21:46:26.801Z"
   },
   {
    "duration": 40,
    "start_time": "2024-02-08T21:46:47.921Z"
   },
   {
    "duration": 39,
    "start_time": "2024-02-08T21:47:09.393Z"
   },
   {
    "duration": 92,
    "start_time": "2024-02-08T21:48:24.549Z"
   },
   {
    "duration": 29,
    "start_time": "2024-02-08T21:48:51.402Z"
   },
   {
    "duration": 36,
    "start_time": "2024-02-08T21:49:17.453Z"
   },
   {
    "duration": 39,
    "start_time": "2024-02-08T21:50:46.329Z"
   },
   {
    "duration": 1116,
    "start_time": "2024-02-08T21:52:11.953Z"
   },
   {
    "duration": 981,
    "start_time": "2024-02-08T21:53:13.920Z"
   },
   {
    "duration": 36,
    "start_time": "2024-02-08T21:53:58.013Z"
   },
   {
    "duration": 39,
    "start_time": "2024-02-08T21:57:10.442Z"
   },
   {
    "duration": 43,
    "start_time": "2024-02-08T21:57:26.482Z"
   },
   {
    "duration": 42,
    "start_time": "2024-02-08T21:59:32.187Z"
   },
   {
    "duration": 40,
    "start_time": "2024-02-08T21:59:52.974Z"
   },
   {
    "duration": 39,
    "start_time": "2024-02-08T22:00:10.724Z"
   },
   {
    "duration": 39,
    "start_time": "2024-02-08T22:00:32.555Z"
   },
   {
    "duration": 39,
    "start_time": "2024-02-08T22:00:59.708Z"
   },
   {
    "duration": 44,
    "start_time": "2024-02-08T22:01:24.057Z"
   },
   {
    "duration": 31,
    "start_time": "2024-02-08T22:02:00.544Z"
   },
   {
    "duration": 39,
    "start_time": "2024-02-08T22:02:29.275Z"
   },
   {
    "duration": 41,
    "start_time": "2024-02-08T22:03:36.308Z"
   },
   {
    "duration": 43,
    "start_time": "2024-02-08T22:05:03.364Z"
   },
   {
    "duration": 41,
    "start_time": "2024-02-08T22:07:05.070Z"
   },
   {
    "duration": 465,
    "start_time": "2024-02-08T22:16:35.648Z"
   },
   {
    "duration": 22,
    "start_time": "2024-02-08T22:16:36.115Z"
   },
   {
    "duration": 30,
    "start_time": "2024-02-08T22:16:36.139Z"
   },
   {
    "duration": 11,
    "start_time": "2024-02-08T22:16:36.170Z"
   },
   {
    "duration": 68,
    "start_time": "2024-02-08T22:16:36.183Z"
   },
   {
    "duration": 3,
    "start_time": "2024-02-08T22:16:36.253Z"
   },
   {
    "duration": 10,
    "start_time": "2024-02-08T22:16:36.257Z"
   },
   {
    "duration": 4,
    "start_time": "2024-02-08T22:16:36.269Z"
   },
   {
    "duration": 16,
    "start_time": "2024-02-08T22:16:36.274Z"
   },
   {
    "duration": 13,
    "start_time": "2024-02-08T22:16:36.291Z"
   },
   {
    "duration": 43,
    "start_time": "2024-02-08T22:16:36.305Z"
   },
   {
    "duration": 10,
    "start_time": "2024-02-08T22:16:36.350Z"
   },
   {
    "duration": 4,
    "start_time": "2024-02-08T22:16:36.361Z"
   },
   {
    "duration": 20,
    "start_time": "2024-02-08T22:16:36.367Z"
   },
   {
    "duration": 19,
    "start_time": "2024-02-08T22:16:36.391Z"
   },
   {
    "duration": 17,
    "start_time": "2024-02-08T22:16:36.411Z"
   },
   {
    "duration": 4,
    "start_time": "2024-02-08T22:16:36.429Z"
   },
   {
    "duration": 19,
    "start_time": "2024-02-08T22:16:36.434Z"
   },
   {
    "duration": 5,
    "start_time": "2024-02-08T22:16:36.455Z"
   },
   {
    "duration": 9,
    "start_time": "2024-02-08T22:16:36.461Z"
   },
   {
    "duration": 47,
    "start_time": "2024-02-08T22:16:36.471Z"
   },
   {
    "duration": 29,
    "start_time": "2024-02-08T22:16:36.520Z"
   },
   {
    "duration": 40,
    "start_time": "2024-02-08T22:16:36.551Z"
   },
   {
    "duration": 24,
    "start_time": "2024-02-08T22:16:36.593Z"
   },
   {
    "duration": 24,
    "start_time": "2024-02-08T22:16:36.618Z"
   },
   {
    "duration": 62,
    "start_time": "2024-02-08T22:16:36.643Z"
   },
   {
    "duration": 93,
    "start_time": "2024-02-08T22:18:25.449Z"
   },
   {
    "duration": 43,
    "start_time": "2024-02-08T22:19:48.696Z"
   },
   {
    "duration": 44,
    "start_time": "2024-02-08T22:20:24.447Z"
   },
   {
    "duration": 36,
    "start_time": "2024-02-08T22:22:20.363Z"
   },
   {
    "duration": 42,
    "start_time": "2024-02-08T22:22:26.697Z"
   },
   {
    "duration": 91,
    "start_time": "2024-02-08T22:24:20.067Z"
   },
   {
    "duration": 119,
    "start_time": "2024-02-08T22:27:20.780Z"
   },
   {
    "duration": 42,
    "start_time": "2024-02-08T22:28:19.501Z"
   },
   {
    "duration": 46,
    "start_time": "2024-02-08T22:32:39.997Z"
   },
   {
    "duration": 502,
    "start_time": "2024-02-08T22:34:03.807Z"
   },
   {
    "duration": 24,
    "start_time": "2024-02-08T22:34:04.312Z"
   },
   {
    "duration": 16,
    "start_time": "2024-02-08T22:34:04.338Z"
   },
   {
    "duration": 10,
    "start_time": "2024-02-08T22:34:04.356Z"
   },
   {
    "duration": 57,
    "start_time": "2024-02-08T22:34:04.369Z"
   },
   {
    "duration": 3,
    "start_time": "2024-02-08T22:34:04.428Z"
   },
   {
    "duration": 9,
    "start_time": "2024-02-08T22:34:04.433Z"
   },
   {
    "duration": 4,
    "start_time": "2024-02-08T22:34:04.443Z"
   },
   {
    "duration": 8,
    "start_time": "2024-02-08T22:34:04.449Z"
   },
   {
    "duration": 4,
    "start_time": "2024-02-08T22:34:04.458Z"
   },
   {
    "duration": 36,
    "start_time": "2024-02-08T22:34:04.492Z"
   },
   {
    "duration": 11,
    "start_time": "2024-02-08T22:34:04.530Z"
   },
   {
    "duration": 3,
    "start_time": "2024-02-08T22:34:04.542Z"
   },
   {
    "duration": 12,
    "start_time": "2024-02-08T22:34:04.548Z"
   },
   {
    "duration": 48,
    "start_time": "2024-02-08T22:34:04.562Z"
   },
   {
    "duration": 28,
    "start_time": "2024-02-08T22:34:04.612Z"
   },
   {
    "duration": 5,
    "start_time": "2024-02-08T22:34:04.642Z"
   },
   {
    "duration": 29,
    "start_time": "2024-02-08T22:34:04.649Z"
   },
   {
    "duration": 12,
    "start_time": "2024-02-08T22:34:04.680Z"
   },
   {
    "duration": 13,
    "start_time": "2024-02-08T22:34:04.694Z"
   },
   {
    "duration": 40,
    "start_time": "2024-02-08T22:34:04.709Z"
   },
   {
    "duration": 27,
    "start_time": "2024-02-08T22:34:04.751Z"
   },
   {
    "duration": 38,
    "start_time": "2024-02-08T22:34:04.780Z"
   },
   {
    "duration": 23,
    "start_time": "2024-02-08T22:34:04.820Z"
   },
   {
    "duration": 24,
    "start_time": "2024-02-08T22:34:04.844Z"
   },
   {
    "duration": 64,
    "start_time": "2024-02-08T22:34:04.869Z"
   },
   {
    "duration": 38,
    "start_time": "2024-02-08T22:34:53.044Z"
   },
   {
    "duration": 482,
    "start_time": "2024-02-08T22:35:32.126Z"
   },
   {
    "duration": 25,
    "start_time": "2024-02-08T22:35:32.611Z"
   },
   {
    "duration": 35,
    "start_time": "2024-02-08T22:35:32.637Z"
   },
   {
    "duration": 11,
    "start_time": "2024-02-08T22:35:32.674Z"
   },
   {
    "duration": 58,
    "start_time": "2024-02-08T22:35:32.688Z"
   },
   {
    "duration": 4,
    "start_time": "2024-02-08T22:35:32.747Z"
   },
   {
    "duration": 11,
    "start_time": "2024-02-08T22:35:32.752Z"
   },
   {
    "duration": 4,
    "start_time": "2024-02-08T22:35:32.764Z"
   },
   {
    "duration": 11,
    "start_time": "2024-02-08T22:35:32.770Z"
   },
   {
    "duration": 4,
    "start_time": "2024-02-08T22:35:32.782Z"
   },
   {
    "duration": 37,
    "start_time": "2024-02-08T22:35:32.790Z"
   },
   {
    "duration": 10,
    "start_time": "2024-02-08T22:35:32.829Z"
   },
   {
    "duration": 3,
    "start_time": "2024-02-08T22:35:32.841Z"
   },
   {
    "duration": 12,
    "start_time": "2024-02-08T22:35:32.847Z"
   },
   {
    "duration": 45,
    "start_time": "2024-02-08T22:35:32.861Z"
   },
   {
    "duration": 17,
    "start_time": "2024-02-08T22:35:32.908Z"
   },
   {
    "duration": 3,
    "start_time": "2024-02-08T22:35:32.927Z"
   },
   {
    "duration": 17,
    "start_time": "2024-02-08T22:35:32.932Z"
   },
   {
    "duration": 6,
    "start_time": "2024-02-08T22:35:32.951Z"
   },
   {
    "duration": 3,
    "start_time": "2024-02-08T22:35:32.959Z"
   },
   {
    "duration": 50,
    "start_time": "2024-02-08T22:35:32.963Z"
   },
   {
    "duration": 26,
    "start_time": "2024-02-08T22:35:33.015Z"
   },
   {
    "duration": 23,
    "start_time": "2024-02-08T22:35:33.043Z"
   },
   {
    "duration": 43,
    "start_time": "2024-02-08T22:35:33.068Z"
   },
   {
    "duration": 24,
    "start_time": "2024-02-08T22:35:33.113Z"
   },
   {
    "duration": 58,
    "start_time": "2024-02-08T22:35:33.138Z"
   },
   {
    "duration": 45,
    "start_time": "2024-02-09T10:36:49.349Z"
   },
   {
    "duration": 552,
    "start_time": "2024-02-09T10:37:05.660Z"
   },
   {
    "duration": 24,
    "start_time": "2024-02-09T10:37:06.215Z"
   },
   {
    "duration": 35,
    "start_time": "2024-02-09T10:37:06.240Z"
   },
   {
    "duration": 12,
    "start_time": "2024-02-09T10:37:06.277Z"
   },
   {
    "duration": 34,
    "start_time": "2024-02-09T10:37:06.291Z"
   },
   {
    "duration": 4,
    "start_time": "2024-02-09T10:37:06.327Z"
   },
   {
    "duration": 14,
    "start_time": "2024-02-09T10:37:06.332Z"
   },
   {
    "duration": 5,
    "start_time": "2024-02-09T10:37:06.347Z"
   },
   {
    "duration": 15,
    "start_time": "2024-02-09T10:37:06.353Z"
   },
   {
    "duration": 30,
    "start_time": "2024-02-09T10:37:06.369Z"
   },
   {
    "duration": 62,
    "start_time": "2024-02-09T10:37:06.401Z"
   },
   {
    "duration": 10,
    "start_time": "2024-02-09T10:37:06.465Z"
   },
   {
    "duration": 4,
    "start_time": "2024-02-09T10:37:06.477Z"
   },
   {
    "duration": 15,
    "start_time": "2024-02-09T10:37:06.484Z"
   },
   {
    "duration": 40,
    "start_time": "2024-02-09T10:37:06.502Z"
   },
   {
    "duration": 21,
    "start_time": "2024-02-09T10:37:06.544Z"
   },
   {
    "duration": 4,
    "start_time": "2024-02-09T10:37:06.567Z"
   },
   {
    "duration": 25,
    "start_time": "2024-02-09T10:37:06.572Z"
   },
   {
    "duration": 7,
    "start_time": "2024-02-09T10:37:06.599Z"
   },
   {
    "duration": 28,
    "start_time": "2024-02-09T10:37:06.607Z"
   },
   {
    "duration": 35,
    "start_time": "2024-02-09T10:37:06.636Z"
   },
   {
    "duration": 29,
    "start_time": "2024-02-09T10:37:06.673Z"
   },
   {
    "duration": 21,
    "start_time": "2024-02-09T10:37:06.703Z"
   },
   {
    "duration": 20,
    "start_time": "2024-02-09T10:37:06.725Z"
   },
   {
    "duration": 89,
    "start_time": "2024-02-09T10:37:06.746Z"
   },
   {
    "duration": 0,
    "start_time": "2024-02-09T10:37:06.837Z"
   },
   {
    "duration": 0,
    "start_time": "2024-02-09T10:37:06.838Z"
   },
   {
    "duration": 24,
    "start_time": "2024-02-09T10:37:24.001Z"
   },
   {
    "duration": 22,
    "start_time": "2024-02-09T10:38:36.576Z"
   },
   {
    "duration": 23,
    "start_time": "2024-02-09T10:38:48.440Z"
   },
   {
    "duration": 20,
    "start_time": "2024-02-09T10:39:23.686Z"
   },
   {
    "duration": 17,
    "start_time": "2024-02-09T11:02:21.714Z"
   },
   {
    "duration": 22,
    "start_time": "2024-02-09T11:02:42.957Z"
   },
   {
    "duration": 1020,
    "start_time": "2024-02-09T11:03:21.961Z"
   },
   {
    "duration": 6,
    "start_time": "2024-02-09T11:03:49.348Z"
   },
   {
    "duration": 17,
    "start_time": "2024-02-09T11:04:09.973Z"
   },
   {
    "duration": 26,
    "start_time": "2024-02-09T11:04:31.925Z"
   },
   {
    "duration": 24,
    "start_time": "2024-02-09T11:04:58.753Z"
   },
   {
    "duration": 25,
    "start_time": "2024-02-09T11:05:06.297Z"
   },
   {
    "duration": 6,
    "start_time": "2024-02-09T11:05:10.293Z"
   },
   {
    "duration": 25,
    "start_time": "2024-02-09T11:05:17.816Z"
   },
   {
    "duration": 27,
    "start_time": "2024-02-09T11:05:23.397Z"
   },
   {
    "duration": 32,
    "start_time": "2024-02-09T11:05:45.433Z"
   },
   {
    "duration": 6,
    "start_time": "2024-02-09T11:09:43.133Z"
   },
   {
    "duration": 11,
    "start_time": "2024-02-09T11:10:40.105Z"
   },
   {
    "duration": 6,
    "start_time": "2024-02-09T11:10:58.117Z"
   },
   {
    "duration": 5,
    "start_time": "2024-02-09T11:11:30.135Z"
   },
   {
    "duration": 2,
    "start_time": "2024-02-09T11:11:48.350Z"
   },
   {
    "duration": 450,
    "start_time": "2024-02-09T11:11:54.025Z"
   },
   {
    "duration": 21,
    "start_time": "2024-02-09T11:11:54.477Z"
   },
   {
    "duration": 36,
    "start_time": "2024-02-09T11:11:54.500Z"
   },
   {
    "duration": 12,
    "start_time": "2024-02-09T11:11:54.538Z"
   },
   {
    "duration": 23,
    "start_time": "2024-02-09T11:11:54.551Z"
   },
   {
    "duration": 25,
    "start_time": "2024-02-09T11:11:54.575Z"
   },
   {
    "duration": 13,
    "start_time": "2024-02-09T11:11:54.602Z"
   },
   {
    "duration": 29,
    "start_time": "2024-02-09T11:11:54.616Z"
   },
   {
    "duration": 18,
    "start_time": "2024-02-09T11:11:54.647Z"
   },
   {
    "duration": 21,
    "start_time": "2024-02-09T11:11:54.667Z"
   },
   {
    "duration": 7,
    "start_time": "2024-02-09T11:11:54.690Z"
   },
   {
    "duration": 42,
    "start_time": "2024-02-09T11:11:54.698Z"
   },
   {
    "duration": 9,
    "start_time": "2024-02-09T11:11:54.742Z"
   },
   {
    "duration": 97,
    "start_time": "2024-02-09T11:11:54.753Z"
   },
   {
    "duration": 0,
    "start_time": "2024-02-09T11:11:54.852Z"
   },
   {
    "duration": 0,
    "start_time": "2024-02-09T11:11:54.853Z"
   },
   {
    "duration": 0,
    "start_time": "2024-02-09T11:11:54.854Z"
   },
   {
    "duration": 0,
    "start_time": "2024-02-09T11:11:54.855Z"
   },
   {
    "duration": 0,
    "start_time": "2024-02-09T11:11:54.856Z"
   },
   {
    "duration": 0,
    "start_time": "2024-02-09T11:11:54.856Z"
   },
   {
    "duration": 0,
    "start_time": "2024-02-09T11:11:54.858Z"
   },
   {
    "duration": 0,
    "start_time": "2024-02-09T11:11:54.859Z"
   },
   {
    "duration": 0,
    "start_time": "2024-02-09T11:11:54.859Z"
   },
   {
    "duration": 0,
    "start_time": "2024-02-09T11:11:54.860Z"
   },
   {
    "duration": 0,
    "start_time": "2024-02-09T11:11:54.861Z"
   },
   {
    "duration": 0,
    "start_time": "2024-02-09T11:11:54.862Z"
   },
   {
    "duration": 0,
    "start_time": "2024-02-09T11:11:54.863Z"
   },
   {
    "duration": 26,
    "start_time": "2024-02-09T11:13:17.213Z"
   },
   {
    "duration": 6,
    "start_time": "2024-02-09T11:13:30.734Z"
   },
   {
    "duration": 7,
    "start_time": "2024-02-09T11:13:49.541Z"
   },
   {
    "duration": 472,
    "start_time": "2024-02-09T11:14:04.997Z"
   },
   {
    "duration": 21,
    "start_time": "2024-02-09T11:14:05.471Z"
   },
   {
    "duration": 32,
    "start_time": "2024-02-09T11:14:05.493Z"
   },
   {
    "duration": 40,
    "start_time": "2024-02-09T11:14:05.527Z"
   },
   {
    "duration": 43,
    "start_time": "2024-02-09T11:14:05.568Z"
   },
   {
    "duration": 29,
    "start_time": "2024-02-09T11:14:05.613Z"
   },
   {
    "duration": 24,
    "start_time": "2024-02-09T11:14:05.644Z"
   },
   {
    "duration": 52,
    "start_time": "2024-02-09T11:14:05.670Z"
   },
   {
    "duration": 36,
    "start_time": "2024-02-09T11:14:05.723Z"
   },
   {
    "duration": 42,
    "start_time": "2024-02-09T11:14:05.761Z"
   },
   {
    "duration": 35,
    "start_time": "2024-02-09T11:14:05.804Z"
   },
   {
    "duration": 83,
    "start_time": "2024-02-09T11:14:05.841Z"
   },
   {
    "duration": 15,
    "start_time": "2024-02-09T11:14:05.925Z"
   },
   {
    "duration": 103,
    "start_time": "2024-02-09T11:14:05.942Z"
   },
   {
    "duration": 0,
    "start_time": "2024-02-09T11:14:06.047Z"
   },
   {
    "duration": 0,
    "start_time": "2024-02-09T11:14:06.048Z"
   },
   {
    "duration": 0,
    "start_time": "2024-02-09T11:14:06.049Z"
   },
   {
    "duration": 0,
    "start_time": "2024-02-09T11:14:06.051Z"
   },
   {
    "duration": 0,
    "start_time": "2024-02-09T11:14:06.053Z"
   },
   {
    "duration": 0,
    "start_time": "2024-02-09T11:14:06.054Z"
   },
   {
    "duration": 0,
    "start_time": "2024-02-09T11:14:06.055Z"
   },
   {
    "duration": 0,
    "start_time": "2024-02-09T11:14:06.057Z"
   },
   {
    "duration": 0,
    "start_time": "2024-02-09T11:14:06.058Z"
   },
   {
    "duration": 0,
    "start_time": "2024-02-09T11:14:06.060Z"
   },
   {
    "duration": 0,
    "start_time": "2024-02-09T11:14:06.061Z"
   },
   {
    "duration": 0,
    "start_time": "2024-02-09T11:14:06.062Z"
   },
   {
    "duration": 0,
    "start_time": "2024-02-09T11:14:06.064Z"
   },
   {
    "duration": 2,
    "start_time": "2024-02-09T11:16:01.095Z"
   },
   {
    "duration": 13,
    "start_time": "2024-02-09T11:16:09.975Z"
   },
   {
    "duration": 15,
    "start_time": "2024-02-09T11:16:43.570Z"
   },
   {
    "duration": 10,
    "start_time": "2024-02-09T11:17:08.652Z"
   },
   {
    "duration": 416,
    "start_time": "2024-02-09T11:17:54.251Z"
   },
   {
    "duration": 21,
    "start_time": "2024-02-09T11:17:54.669Z"
   },
   {
    "duration": 31,
    "start_time": "2024-02-09T11:17:54.691Z"
   },
   {
    "duration": 10,
    "start_time": "2024-02-09T11:17:54.723Z"
   },
   {
    "duration": 37,
    "start_time": "2024-02-09T11:17:54.735Z"
   },
   {
    "duration": 32,
    "start_time": "2024-02-09T11:17:54.774Z"
   },
   {
    "duration": 6,
    "start_time": "2024-02-09T11:17:54.808Z"
   },
   {
    "duration": 51,
    "start_time": "2024-02-09T11:17:54.815Z"
   },
   {
    "duration": 25,
    "start_time": "2024-02-09T11:17:54.867Z"
   },
   {
    "duration": 12,
    "start_time": "2024-02-09T11:17:54.894Z"
   },
   {
    "duration": 11,
    "start_time": "2024-02-09T11:17:54.908Z"
   },
   {
    "duration": 45,
    "start_time": "2024-02-09T11:17:54.921Z"
   },
   {
    "duration": 15,
    "start_time": "2024-02-09T11:17:54.968Z"
   },
   {
    "duration": 8,
    "start_time": "2024-02-09T11:17:54.987Z"
   },
   {
    "duration": 28,
    "start_time": "2024-02-09T11:17:54.996Z"
   },
   {
    "duration": 20,
    "start_time": "2024-02-09T11:17:55.026Z"
   },
   {
    "duration": 15,
    "start_time": "2024-02-09T11:17:55.047Z"
   },
   {
    "duration": 3,
    "start_time": "2024-02-09T11:17:55.064Z"
   },
   {
    "duration": 25,
    "start_time": "2024-02-09T11:17:55.068Z"
   },
   {
    "duration": 32,
    "start_time": "2024-02-09T11:17:55.095Z"
   },
   {
    "duration": 18,
    "start_time": "2024-02-09T11:17:55.128Z"
   },
   {
    "duration": 37,
    "start_time": "2024-02-09T11:17:55.147Z"
   },
   {
    "duration": 25,
    "start_time": "2024-02-09T11:17:55.185Z"
   },
   {
    "duration": 23,
    "start_time": "2024-02-09T11:17:55.211Z"
   },
   {
    "duration": 21,
    "start_time": "2024-02-09T11:17:55.235Z"
   },
   {
    "duration": 37,
    "start_time": "2024-02-09T11:17:55.258Z"
   },
   {
    "duration": 34,
    "start_time": "2024-02-09T11:17:55.296Z"
   },
   {
    "duration": 3,
    "start_time": "2024-02-09T11:20:24.561Z"
   },
   {
    "duration": 8,
    "start_time": "2024-02-09T11:20:37.481Z"
   },
   {
    "duration": 67,
    "start_time": "2024-02-09T11:27:22.708Z"
   },
   {
    "duration": 10,
    "start_time": "2024-02-09T11:27:37.333Z"
   },
   {
    "duration": 12,
    "start_time": "2024-02-09T11:27:41.344Z"
   },
   {
    "duration": 14,
    "start_time": "2024-02-09T11:51:27.462Z"
   },
   {
    "duration": 8,
    "start_time": "2024-02-09T11:52:26.019Z"
   },
   {
    "duration": 12,
    "start_time": "2024-02-09T11:53:04.556Z"
   },
   {
    "duration": 15,
    "start_time": "2024-02-09T11:53:43.452Z"
   },
   {
    "duration": 14,
    "start_time": "2024-02-09T11:57:53.541Z"
   },
   {
    "duration": 18,
    "start_time": "2024-02-09T11:58:21.748Z"
   },
   {
    "duration": 22,
    "start_time": "2024-02-09T11:58:43.073Z"
   },
   {
    "duration": 91,
    "start_time": "2024-02-09T12:00:46.529Z"
   },
   {
    "duration": 97,
    "start_time": "2024-02-09T12:01:08.980Z"
   },
   {
    "duration": 82,
    "start_time": "2024-02-09T12:01:22.793Z"
   },
   {
    "duration": 82,
    "start_time": "2024-02-09T12:01:26.939Z"
   },
   {
    "duration": 509,
    "start_time": "2024-02-09T12:06:18.594Z"
   },
   {
    "duration": 22,
    "start_time": "2024-02-09T12:06:19.105Z"
   },
   {
    "duration": 15,
    "start_time": "2024-02-09T12:06:19.129Z"
   },
   {
    "duration": 14,
    "start_time": "2024-02-09T12:06:19.146Z"
   },
   {
    "duration": 33,
    "start_time": "2024-02-09T12:06:19.162Z"
   },
   {
    "duration": 35,
    "start_time": "2024-02-09T12:06:19.196Z"
   },
   {
    "duration": 3,
    "start_time": "2024-02-09T12:06:19.232Z"
   },
   {
    "duration": 10,
    "start_time": "2024-02-09T12:06:19.237Z"
   },
   {
    "duration": 15,
    "start_time": "2024-02-09T12:06:19.249Z"
   },
   {
    "duration": 19,
    "start_time": "2024-02-09T12:06:19.265Z"
   },
   {
    "duration": 11,
    "start_time": "2024-02-09T12:06:19.286Z"
   },
   {
    "duration": 57,
    "start_time": "2024-02-09T12:06:19.298Z"
   },
   {
    "duration": 11,
    "start_time": "2024-02-09T12:06:19.356Z"
   },
   {
    "duration": 11,
    "start_time": "2024-02-09T12:06:19.369Z"
   },
   {
    "duration": 28,
    "start_time": "2024-02-09T12:06:19.382Z"
   },
   {
    "duration": 32,
    "start_time": "2024-02-09T12:06:19.413Z"
   },
   {
    "duration": 26,
    "start_time": "2024-02-09T12:06:19.446Z"
   },
   {
    "duration": 4,
    "start_time": "2024-02-09T12:06:19.473Z"
   },
   {
    "duration": 19,
    "start_time": "2024-02-09T12:06:19.478Z"
   },
   {
    "duration": 8,
    "start_time": "2024-02-09T12:06:19.499Z"
   },
   {
    "duration": 9,
    "start_time": "2024-02-09T12:06:19.509Z"
   },
   {
    "duration": 36,
    "start_time": "2024-02-09T12:06:19.520Z"
   },
   {
    "duration": 24,
    "start_time": "2024-02-09T12:06:19.558Z"
   },
   {
    "duration": 29,
    "start_time": "2024-02-09T12:06:19.584Z"
   },
   {
    "duration": 22,
    "start_time": "2024-02-09T12:06:19.615Z"
   },
   {
    "duration": 21,
    "start_time": "2024-02-09T12:06:19.638Z"
   },
   {
    "duration": 58,
    "start_time": "2024-02-09T12:06:19.660Z"
   },
   {
    "duration": 414,
    "start_time": "2024-02-09T13:06:50.653Z"
   },
   {
    "duration": 19,
    "start_time": "2024-02-09T13:06:51.069Z"
   },
   {
    "duration": 36,
    "start_time": "2024-02-09T13:06:51.090Z"
   },
   {
    "duration": 56,
    "start_time": "2024-02-09T13:06:51.128Z"
   },
   {
    "duration": 56,
    "start_time": "2024-02-09T13:06:51.186Z"
   },
   {
    "duration": 72,
    "start_time": "2024-02-09T13:06:51.244Z"
   },
   {
    "duration": 3,
    "start_time": "2024-02-09T13:06:51.318Z"
   },
   {
    "duration": 17,
    "start_time": "2024-02-09T13:06:51.323Z"
   },
   {
    "duration": 10,
    "start_time": "2024-02-09T13:06:51.341Z"
   },
   {
    "duration": 28,
    "start_time": "2024-02-09T13:06:51.352Z"
   },
   {
    "duration": 47,
    "start_time": "2024-02-09T13:06:51.381Z"
   },
   {
    "duration": 39,
    "start_time": "2024-02-09T13:06:51.430Z"
   },
   {
    "duration": 11,
    "start_time": "2024-02-09T13:06:51.470Z"
   },
   {
    "duration": 25,
    "start_time": "2024-02-09T13:06:51.484Z"
   },
   {
    "duration": 43,
    "start_time": "2024-02-09T13:06:51.511Z"
   },
   {
    "duration": 47,
    "start_time": "2024-02-09T13:06:51.556Z"
   },
   {
    "duration": 37,
    "start_time": "2024-02-09T13:06:51.605Z"
   },
   {
    "duration": 25,
    "start_time": "2024-02-09T13:06:51.643Z"
   },
   {
    "duration": 41,
    "start_time": "2024-02-09T13:06:51.669Z"
   },
   {
    "duration": 16,
    "start_time": "2024-02-09T13:06:51.711Z"
   },
   {
    "duration": 5,
    "start_time": "2024-02-09T13:06:51.728Z"
   },
   {
    "duration": 24,
    "start_time": "2024-02-09T13:06:51.734Z"
   },
   {
    "duration": 22,
    "start_time": "2024-02-09T13:06:51.759Z"
   },
   {
    "duration": 24,
    "start_time": "2024-02-09T13:06:51.782Z"
   },
   {
    "duration": 19,
    "start_time": "2024-02-09T13:06:51.808Z"
   },
   {
    "duration": 21,
    "start_time": "2024-02-09T13:06:51.829Z"
   },
   {
    "duration": 78,
    "start_time": "2024-02-09T13:06:51.851Z"
   },
   {
    "duration": 0,
    "start_time": "2024-02-09T13:06:51.931Z"
   },
   {
    "duration": 0,
    "start_time": "2024-02-09T13:06:51.932Z"
   },
   {
    "duration": 477,
    "start_time": "2024-02-09T13:15:54.175Z"
   },
   {
    "duration": 20,
    "start_time": "2024-02-09T13:15:54.654Z"
   },
   {
    "duration": 14,
    "start_time": "2024-02-09T13:15:54.675Z"
   },
   {
    "duration": 11,
    "start_time": "2024-02-09T13:15:54.690Z"
   },
   {
    "duration": 24,
    "start_time": "2024-02-09T13:15:54.702Z"
   },
   {
    "duration": 61,
    "start_time": "2024-02-09T13:15:54.727Z"
   },
   {
    "duration": 3,
    "start_time": "2024-02-09T13:15:54.789Z"
   },
   {
    "duration": 9,
    "start_time": "2024-02-09T13:15:54.794Z"
   },
   {
    "duration": 24,
    "start_time": "2024-02-09T13:15:54.804Z"
   },
   {
    "duration": 16,
    "start_time": "2024-02-09T13:15:54.830Z"
   },
   {
    "duration": 9,
    "start_time": "2024-02-09T13:15:54.847Z"
   },
   {
    "duration": 42,
    "start_time": "2024-02-09T13:15:54.858Z"
   },
   {
    "duration": 9,
    "start_time": "2024-02-09T13:15:54.901Z"
   },
   {
    "duration": 4,
    "start_time": "2024-02-09T13:15:54.914Z"
   },
   {
    "duration": 16,
    "start_time": "2024-02-09T13:15:54.919Z"
   },
   {
    "duration": 27,
    "start_time": "2024-02-09T13:15:54.937Z"
   },
   {
    "duration": 33,
    "start_time": "2024-02-09T13:15:54.966Z"
   },
   {
    "duration": 4,
    "start_time": "2024-02-09T13:15:55.001Z"
   },
   {
    "duration": 20,
    "start_time": "2024-02-09T13:15:55.007Z"
   },
   {
    "duration": 50,
    "start_time": "2024-02-09T13:15:55.029Z"
   },
   {
    "duration": 16,
    "start_time": "2024-02-09T13:15:55.080Z"
   },
   {
    "duration": 33,
    "start_time": "2024-02-09T13:15:55.097Z"
   },
   {
    "duration": 22,
    "start_time": "2024-02-09T13:15:55.132Z"
   },
   {
    "duration": 42,
    "start_time": "2024-02-09T13:15:55.155Z"
   },
   {
    "duration": 30,
    "start_time": "2024-02-09T13:15:55.199Z"
   },
   {
    "duration": 35,
    "start_time": "2024-02-09T13:15:55.231Z"
   },
   {
    "duration": 91,
    "start_time": "2024-02-09T13:15:55.268Z"
   },
   {
    "duration": 0,
    "start_time": "2024-02-09T13:15:55.360Z"
   },
   {
    "duration": 0,
    "start_time": "2024-02-09T13:15:55.361Z"
   },
   {
    "duration": 0,
    "start_time": "2024-02-09T13:15:55.362Z"
   },
   {
    "duration": 725,
    "start_time": "2024-02-09T18:06:19.309Z"
   },
   {
    "duration": 21,
    "start_time": "2024-02-09T18:06:20.036Z"
   },
   {
    "duration": 15,
    "start_time": "2024-02-09T18:06:20.059Z"
   },
   {
    "duration": 10,
    "start_time": "2024-02-09T18:06:20.076Z"
   },
   {
    "duration": 44,
    "start_time": "2024-02-09T18:06:20.087Z"
   },
   {
    "duration": 4,
    "start_time": "2024-02-09T18:06:20.133Z"
   },
   {
    "duration": 9,
    "start_time": "2024-02-09T18:06:20.138Z"
   },
   {
    "duration": 3,
    "start_time": "2024-02-09T18:06:20.149Z"
   },
   {
    "duration": 9,
    "start_time": "2024-02-09T18:06:20.154Z"
   },
   {
    "duration": 5,
    "start_time": "2024-02-09T18:06:20.168Z"
   },
   {
    "duration": 81,
    "start_time": "2024-02-09T18:06:20.174Z"
   },
   {
    "duration": 12,
    "start_time": "2024-02-09T18:06:20.256Z"
   },
   {
    "duration": 6,
    "start_time": "2024-02-09T18:06:20.269Z"
   },
   {
    "duration": 11,
    "start_time": "2024-02-09T18:06:20.276Z"
   },
   {
    "duration": 35,
    "start_time": "2024-02-09T18:06:20.289Z"
   },
   {
    "duration": 17,
    "start_time": "2024-02-09T18:06:20.326Z"
   },
   {
    "duration": 5,
    "start_time": "2024-02-09T18:06:20.344Z"
   },
   {
    "duration": 13,
    "start_time": "2024-02-09T18:06:20.350Z"
   },
   {
    "duration": 8,
    "start_time": "2024-02-09T18:06:20.365Z"
   },
   {
    "duration": 8,
    "start_time": "2024-02-09T18:06:20.375Z"
   },
   {
    "duration": 55,
    "start_time": "2024-02-09T18:06:20.385Z"
   },
   {
    "duration": 34,
    "start_time": "2024-02-09T18:06:20.442Z"
   },
   {
    "duration": 44,
    "start_time": "2024-02-09T18:06:20.477Z"
   },
   {
    "duration": 22,
    "start_time": "2024-02-09T18:06:20.523Z"
   },
   {
    "duration": 27,
    "start_time": "2024-02-09T18:06:20.547Z"
   },
   {
    "duration": 106,
    "start_time": "2024-02-09T18:06:20.575Z"
   },
   {
    "duration": 0,
    "start_time": "2024-02-09T18:06:20.683Z"
   },
   {
    "duration": 0,
    "start_time": "2024-02-09T18:06:20.685Z"
   },
   {
    "duration": 495,
    "start_time": "2024-02-09T18:07:52.793Z"
   },
   {
    "duration": 30,
    "start_time": "2024-02-09T18:07:53.290Z"
   },
   {
    "duration": 19,
    "start_time": "2024-02-09T18:07:53.322Z"
   },
   {
    "duration": 15,
    "start_time": "2024-02-09T18:07:53.344Z"
   },
   {
    "duration": 76,
    "start_time": "2024-02-09T18:07:53.362Z"
   },
   {
    "duration": 4,
    "start_time": "2024-02-09T18:07:53.440Z"
   },
   {
    "duration": 9,
    "start_time": "2024-02-09T18:07:53.446Z"
   },
   {
    "duration": 4,
    "start_time": "2024-02-09T18:07:53.457Z"
   },
   {
    "duration": 8,
    "start_time": "2024-02-09T18:07:53.462Z"
   },
   {
    "duration": 4,
    "start_time": "2024-02-09T18:07:53.472Z"
   },
   {
    "duration": 78,
    "start_time": "2024-02-09T18:07:53.478Z"
   },
   {
    "duration": 11,
    "start_time": "2024-02-09T18:07:53.558Z"
   },
   {
    "duration": 4,
    "start_time": "2024-02-09T18:07:53.571Z"
   },
   {
    "duration": 13,
    "start_time": "2024-02-09T18:07:53.576Z"
   },
   {
    "duration": 36,
    "start_time": "2024-02-09T18:07:53.591Z"
   },
   {
    "duration": 17,
    "start_time": "2024-02-09T18:07:53.629Z"
   },
   {
    "duration": 4,
    "start_time": "2024-02-09T18:07:53.647Z"
   },
   {
    "duration": 12,
    "start_time": "2024-02-09T18:07:53.652Z"
   },
   {
    "duration": 5,
    "start_time": "2024-02-09T18:07:53.666Z"
   },
   {
    "duration": 3,
    "start_time": "2024-02-09T18:07:53.673Z"
   },
   {
    "duration": 73,
    "start_time": "2024-02-09T18:07:53.678Z"
   },
   {
    "duration": 25,
    "start_time": "2024-02-09T18:07:53.752Z"
   },
   {
    "duration": 48,
    "start_time": "2024-02-09T18:07:53.778Z"
   },
   {
    "duration": 21,
    "start_time": "2024-02-09T18:07:53.828Z"
   },
   {
    "duration": 22,
    "start_time": "2024-02-09T18:07:53.851Z"
   },
   {
    "duration": 58,
    "start_time": "2024-02-09T18:07:53.874Z"
   },
   {
    "duration": 69,
    "start_time": "2024-02-09T18:07:53.934Z"
   },
   {
    "duration": 36,
    "start_time": "2024-02-09T18:08:47.224Z"
   }
  ],
  "colab": {
   "provenance": []
  },
  "kernelspec": {
   "display_name": "Python 3 (ipykernel)",
   "language": "python",
   "name": "python3"
  },
  "language_info": {
   "codemirror_mode": {
    "name": "ipython",
    "version": 3
   },
   "file_extension": ".py",
   "mimetype": "text/x-python",
   "name": "python",
   "nbconvert_exporter": "python",
   "pygments_lexer": "ipython3",
   "version": "3.11.7"
  },
  "toc": {
   "base_numbering": 1,
   "nav_menu": {},
   "number_sections": true,
   "sideBar": true,
   "skip_h1_title": true,
   "title_cell": "Table of Contents",
   "title_sidebar": "Contents",
   "toc_cell": false,
   "toc_position": {},
   "toc_section_display": true,
   "toc_window_display": false
  }
 },
 "nbformat": 4,
 "nbformat_minor": 5
}
